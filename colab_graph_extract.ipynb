{
  "cells": [
    {
      "cell_type": "markdown",
      "metadata": {
        "id": "oGy7tLIDHjKg"
      },
      "source": [
        "### Get all the cities that have an airport and create airport_city_dict"
      ]
    },
    {
      "cell_type": "code",
      "execution_count": 1,
      "metadata": {
        "colab": {
          "base_uri": "https://localhost:8080/"
        },
        "id": "JI4hMyg9HjKj",
        "outputId": "c742d765-263b-4bb7-fddb-972488107458"
      },
      "outputs": [
        {
          "output_type": "stream",
          "name": "stdout",
          "text": [
            "6956\n",
            "6073\n"
          ]
        }
      ],
      "source": [
        "import pandas as pd\n",
        "\n",
        "# Replace 'your_file.csv' with the path to your CSV file\n",
        "file_path = 'airports.csv'\n",
        "data = pd.read_csv(file_path)\n",
        "\n",
        "# Display the first few rows of the data\n",
        "cities = set(data['City'])\n",
        "print(len(cities))\n",
        "\n",
        "# Create dictionary with IATA as key and City as value\n",
        "airport_city_dict = data.set_index('IATA')['City'].to_dict()\n",
        "\n",
        "# Display the dictionary\n",
        "print(len(airport_city_dict.keys()))"
      ]
    },
    {
      "cell_type": "markdown",
      "metadata": {
        "id": "xtXh_zgZHjKm"
      },
      "source": [
        "### Get all the connections, and create a graph"
      ]
    },
    {
      "cell_type": "code",
      "execution_count": 2,
      "metadata": {
        "colab": {
          "base_uri": "https://localhost:8080/"
        },
        "id": "H-oD7a2tHjKm",
        "outputId": "b98b87e6-7bd7-4334-c986-ec0e950dfb53"
      },
      "outputs": [
        {
          "output_type": "stream",
          "name": "stdout",
          "text": [
            "3255\n",
            "{'NAN', 'MVT', 'KGD', 'BRC', 'EYK', 'KWA', 'AOK', 'WIC', 'BNI', 'MAJ', 'RPR', 'CIH', 'CLL', 'TSR', 'DOY', 'LLB', 'AJU', 'NPL', 'ANC', 'DAL', 'OAK', 'LSE', 'STC', 'KVX', 'TDD', 'SMF', 'AAX', 'ZGU', 'ODO', 'YKL', 'PFO', 'PEI', 'YWB', 'FUE', 'TME', 'ANM', 'SDK', 'HVR', 'LSI', 'CRD', 'NGS', 'FAY', 'YCG', 'OAG', 'SVG', 'MSJ', 'ABJ', 'MDL', 'SBA', 'ERM', 'GET', 'KLV', 'LAR', 'SSR', 'TMI', 'ILG', 'KLU', 'DLZ', 'AOG', 'PDG', 'ZEM', 'HEH', 'LGK', 'FUN', 'STN', 'JIJ', 'GXF', 'GZP', 'PIE', 'MCZ', 'JNX', 'USU', 'MUB', 'YAX', 'QOW', 'LRM', 'ESB', 'INL', 'LUQ', 'CLJ', 'MMJ', 'PDT', 'YDF', 'CTL', 'HRG', 'FMO', 'YKS', 'GGW', 'TEB', 'OKA', 'HER', 'DSN', 'OND', 'HRO', 'RRS', 'ACH', 'LKO', 'HUY', 'MKM', 'BEW', 'MJZ', 'HDG', 'LYA', 'TEE', 'DNK', 'MZH', 'FNJ', 'LPB', 'PIT', 'AZI', 'BGA', 'ROR', 'DCY', 'JIQ', 'ISB', 'POG', 'SJL', 'KHI', 'GRU', 'IXM', 'OGL', 'TUP', 'HLA', 'HMI', 'PBJ', 'FSD', 'RMA', 'ALH', 'LOD', 'MIS', 'ZRH', 'SUG', 'BQS', 'EMA', 'KRT', 'BOS', 'EQS', 'PJG', 'FUO', 'MIA', 'QSF', 'SVU', 'WRE', 'ONQ', 'BRD', 'LBV', 'SPU', 'RMI', 'UUA', 'TNC', 'URJ', 'HGH', 'ILO', 'OSM', 'PNH', 'KUV', 'YMT', 'MYA', 'LFT', 'INN', 'VCE', 'BCD', 'GIB', 'NST', 'MTS', 'SVI', 'SVJ', 'HMO', 'YTZ', 'EUX', 'VFA', 'REN', 'JIU', 'BME', 'RGN', 'FTA', 'IEV', 'ORV', 'PBD', 'MZG', 'HLN', 'LBU', 'LJG', 'IMP', 'KSO', 'AGT', 'BNA', 'BPS', 'LLW', 'PLS', 'IKA', 'SFT', 'DNH', 'UYU', 'ROP', 'GBB', 'OVS', 'PUU', 'DWD', 'JAI', 'GDV', 'ELH', 'ELD', 'KOS', 'YFC', 'YQR', 'MSP', 'YVQ', 'YHD', 'ORN', 'HMV', 'MAF', 'ILI', 'BYO', 'PZH', 'STG', 'KMI', 'RIW', 'TOL', 'AGF', 'PNA', 'AYT', 'UDJ', 'CFB', 'AUA', 'YGP', 'SIT', 'MUK', 'PVK', 'KSH', 'BHQ', 'HAM', 'AOO', 'YWP', 'BCN', 'BPT', 'DAY', 'SUR', 'MLG', 'TYR', 'HUS', 'PBO', 'PKE', 'BVE', 'AQP', 'MLW', 'CKB', 'GOU', 'FAE', 'ONT', 'LPL', 'YVM', 'NGB', 'LYI', 'HBA', 'KCH', 'KGC', 'BGI', 'VCA', 'NUL', 'MMX', 'TBU', 'YYB', 'MQF', 'RHD', 'DLI', 'KLX', 'YGK', 'PVA', 'ZFN', 'PAH', 'LDU', 'CMU', 'THU', 'BVG', 'TUL', 'PIB', 'EBU', 'SHP', 'RFP', 'AXM', 'CXR', 'QRW', 'YES', 'LLK', 'SDU', 'JJU', 'SSG', 'BRO', 'MQN', 'ZIH', 'LRH', 'CLO', 'EDI', 'MMK', 'ERC', 'ADA', 'KIR', 'KNS', 'KVA', 'ALA', 'SLW', 'JCK', 'FUK', 'DOL', 'CHX', 'RIX', 'PPW', 'SSJ', 'RHO', 'KZN', 'NVA', 'BTS', 'KTA', 'PUW', 'KTG', 'KIM', 'CUC', 'MAU', 'TJM', 'CLT', 'HSG', 'STS', 'GPI', 'DCN', 'LBF', 'NYT', 'KCM', 'BNX', 'BLQ', 'CBB', 'PPT', 'EWN', 'MUN', 'OLA', 'UYN', 'BUS', 'CHC', 'BKS', 'HOT', 'FDF', 'IJK', 'KOJ', 'BKM', 'NOS', 'BNE', 'AMA', 'BKK', 'PNQ', 'SDP', 'CGI', 'GOT', 'GAF', 'MIR', 'CJA', 'GEL', 'ORH', 'JZH', 'AKY', 'YGJ', 'ANF', 'MYT', 'GWD', 'NLD', 'TRS', 'YEG', 'HRE', 'HIJ', 'NER', 'IBR', 'TEN', 'HJJ', 'DBO', 'DMB', 'JHG', 'RNS', 'NAH', 'SPD', 'KEP', 'YYG', 'ALB', 'LWN', 'JPA', 'GPT', 'MYG', 'CEG', 'CBO', 'MGB', 'KIN', 'BPX', 'LED', 'BRU', 'DOH', 'UTH', 'LIG', 'TSA', 'VDH', 'KIJ', 'OGX', 'UNG', 'DLC', 'RDU', 'MEX', 'MBA', 'JSU', 'KOK', 'GST', 'CWB', 'BGY', 'MLU', 'YGW', 'MSY', 'VIG', 'YIF', 'RCB', 'TGG', 'JMU', 'MVY', 'ENY', 'ADF', 'FWA', 'MAN', 'MRE', 'WUH', 'LGI', 'SHJ', 'DQA', 'RLK', 'WNP', 'YCB', 'EKO', 'TWB', 'KYU', 'GZT', 'LGB', 'FCA', 'RKS', 'ARI', 'PZO', 'MOF', 'CRM', 'TMC', 'ABB', 'ANV', 'CIU', 'OMS', 'LGW', 'SSY', 'YER', 'OOL', 'BOH', 'ZUH', 'TSF', 'KSF', 'OLF', 'MAO', 'TBW', 'OZZ', 'AHN', 'MPL', 'XRY', 'MOZ', 'CYZ', 'ADB', 'RXS', 'CFE', 'IOM', 'CYS', 'WRO', 'MZW', 'PVG', 'GOI', 'MAA', 'AEY', 'TWF', 'EBH', 'TGM', 'LZO', 'PEW', 'BNB', 'KUK', 'DMM', 'SVX', 'PPS', 'VAK', 'RJK', 'PXM', 'GWL', 'BUQ', 'ALW', 'KKH', 'KRF', 'MUC', 'NCU', 'MNL', 'NEV', 'RZR', 'VPE', 'HPH', 'GYE', 'PKY', 'MJN', 'MXV', 'YHI', 'DEE', 'AFA', 'BMI', 'ZYI', 'CGY', 'KRN', 'MOU', 'BAH', 'ELG', 'HNH', 'NYO', 'DJJ', 'PPQ', 'BSB', 'VKT', 'BIS', 'TSH', 'CRI', 'ACX', 'WNR', 'VLD', 'ICN', 'YPR', 'BHI', 'TAE', 'CPH', 'GFF', 'TUB', 'ESD', 'MLN', 'CAL', 'IDR', 'ZOS', 'EIS', 'USH', 'RGK', 'TUO', 'GCH', 'TOG', 'VAW', 'LCH', 'BTV', 'KER', 'VDE', 'CAW', 'WBM', 'KRO', 'ELF', 'ASE', 'ISC', 'ORX', 'JOI', 'PRC', 'AKV', 'BVI', 'YOW', 'LRT', 'GJT', 'SHD', 'PUY', 'BZN', 'AIA', 'OSD', 'GRJ', 'CLE', 'MQT', 'BTJ', 'SRG', 'SOM', 'NSK', 'KGI', 'ARH', 'SXR', 'TPQ', 'ZNZ', 'CMA', 'YUM', 'JOG', 'KTT', 'MUX', 'EDL', 'DPS', 'ETR', 'AGS', 'CEB', 'EPR', 'THX', 'JLR', 'PGU', 'WAG', 'LIN', 'OSI', 'ORD', 'MOD', 'MDG', 'LEX', 'YQB', 'USM', 'BKO', 'WAW', 'BHX', 'EYP', 'PSR', 'MPA', 'WLS', 'FDH', 'YWG', 'CAG', 'JED', 'HDF', 'AVL', 'HOU', 'AUR', 'IRZ', 'BAQ', 'ZTB', 'NAT', 'MHT', 'LAE', 'QUO', 'VOL', 'CAE', 'VNX', 'MSS', 'YBC', 'GES', 'PLU', 'BJI', 'IPT', 'KEJ', 'PRH', 'LWO', 'SKD', 'YBG', 'ADU', 'ACI', 'VIE', 'YGR', 'TJU', 'PEG', 'NTQ', 'BSC', 'GGT', 'KKJ', 'HZH', 'MTR', 'VAR', 'IPH', 'KAJ', 'NKM', 'LZC', 'XBJ', 'PES', 'EZS', 'BVC', 'SNA', 'CHO', 'TGP', 'PTU', 'NKC', 'SJC', 'EAE', 'IWK', 'MNA', 'AAN', 'RTA', 'EVG', 'AEB', 'LYP', 'PKB', 'HVB', 'CGD', 'PFB', 'ABL', 'HPN', 'DYG', 'DEC', 'RAI', 'RVT', 'FOR', 'MBI', 'PPB', 'IKT', 'MFE', 'FRS', 'YHP', 'NMA', 'ABM', 'LNJ', 'JDH', 'LBB', 'CJU', 'PKR', 'IAA', 'HIR', 'LFR', 'JJN', 'ESM', 'RNB', 'RMF', 'FIH', 'MPN', 'GRR', 'GMP', 'HOM', 'TAH', 'RJL', 'PEU', 'TRC', 'YRA', 'AEX', 'MFM', 'AAY', 'TTE', 'MOQ', 'AMQ', 'ATH', 'TPA', 'KWK', 'IAO', 'ABV', 'KSQ', 'SYY', 'BGF', 'YUT', 'GTF', 'SHX', 'VSA', 'NIB', 'JDO', 'YKQ', 'NYM', 'TLA', 'NBS', 'AGH', 'UII', 'KWM', 'ZNE', 'ATY', 'TMJ', 'MNS', 'TEQ', 'AHE', 'MEM', 'BUR', 'KAA', 'CKY', 'TIA', 'DIB', 'PEN', 'NTN', 'TOF', 'FAT', 'NUS', 'ISP', 'ULG', 'SHR', 'TIH', 'OAL', 'IMT', 'ABX', 'ALF', 'RUH', 'LVI', 'USN', 'MDQ', 'WMN', 'ORB', 'KUF', 'KIV', 'TUR', 'DAU', 'SHH', 'UTS', 'ILR', 'NZH', 'DIN', 'CKS', 'JQA', 'DLY', 'GMZ', 'LDB', 'SCC', 'URC', 'PIA', 'LAS', 'KBL', 'PDX', 'LCE', 'CNP', 'YGL', 'NDR', 'REU', 'IAG', 'PCR', 'DLG', 'TPE', 'NVK', 'GRZ', 'NYU', 'LYS', 'SRA', 'BUD', 'YOJ', 'RRG', 'ZVK', 'LIR', 'ABE', 'SVZ', 'RUT', 'PKN', 'AMH', 'TXN', 'PHE', 'VAN', 'GDZ', 'LUH', 'MQM', 'YYE', 'BTU', 'KAN', 'JOS', 'WUA', 'RJH', 'CCC', 'OGG', 'HNS', 'DEN', 'DND', 'YSM', 'LST', 'LZH', 'MYU', 'CXB', 'RYK', 'ITB', 'UAH', 'ELV', 'RSH', 'KNU', 'JXA', 'DZA', 'DED', 'DJE', 'BUX', 'VCT', 'RGS', 'PUG', 'ITM', 'ALC', 'PDL', 'HJR', 'GZO', 'LCG', 'MKY', 'BUL', 'GRB', 'YMN', 'ZLT', 'MGS', 'CIJ', 'HHN', 'YYR', 'OMA', 'GLA', 'BKC', 'GCC', 'AJL', 'AVP', 'TOE', 'MJV', 'YPC', 'IPL', 'MED', 'MDC', 'OOK', 'CLM', 'BJL', 'FOE', 'HTS', 'CIT', 'AAL', 'AUH', 'DLA', 'SOJ', 'ZCO', 'SBN', 'IAS', 'COO', 'CMH', 'HGU', 'JOL', 'DOB', 'TSV', 'JIC', 'EAU', 'ASJ', 'LMT', 'DLU', 'TSE', 'LUX', 'APL', 'YXU', 'ZSJ', 'MAB', 'CZL', 'FAV', 'STL', 'WUZ', 'AXR', 'ROO', 'UMD', 'CNS', 'ELI', 'CAK', 'CCU', 'TGI', 'AQA', 'BGM', 'MRX', 'OAJ', 'MAG', 'XSC', 'RAS', 'YQD', 'KUA', 'ELU', 'PNZ', 'RAO', 'TIR', 'DYU', 'RMQ', 'LPI', 'UKX', 'BJV', 'PSM', 'BSA', 'TLE', 'FEZ', 'JBQ', 'PBM', 'VTE', 'PGV', 'KOI', 'NLT', 'NLA', 'HAQ', 'JNZ', 'BMU', 'MFR', 'MSU', 'RKD', 'YPM', 'CEI', 'YVP', 'DBA', 'HKK', 'YTE', 'SFA', 'IAM', 'ZKG', 'PBU', 'RZE', 'HFE', 'RKV', 'KSU', 'ELQ', 'OLB', 'IXJ', 'KOV', 'ANX', 'ACC', 'YNZ', 'VER', 'FRU', 'SWA', 'IXR', 'MUE', 'GDE', 'ONJ', 'HPB', 'THS', 'MWA', 'TID', 'RVK', 'SIP', 'UUD', 'SDY', 'WNZ', 'JTC', 'YHK', 'MVR', 'YUL', 'OAX', 'VST', 'KSE', 'GYN', 'SCN', 'NNT', 'MCY', 'KBV', 'ULO', 'FTU', 'FLW', 'RNO', 'PDV', 'LET', 'TSJ', 'WJU', 'DRG', 'KDO', 'PWE', 'IFJ', 'SJE', 'TRW', 'MEU', 'HTI', 'UBA', 'BWI', 'HTA', 'SWJ', 'TER', 'JKL', 'BFN', 'YSG', 'POA', 'LGA', 'SML', 'DRW', 'LEJ', 'AOR', 'TNG', 'UET', 'LQM', 'VNO', 'HND', 'OMO', 'MPH', 'TCQ', 'HAS', 'YSO', 'LAN', 'MRZ', 'PMV', 'SBH', 'BIM', 'ZCL', 'RVN', 'SJI', 'YQY', 'WBQ', 'CZE', 'XCH', 'JAX', 'ISA', 'ABR', 'BJM', 'BRN', 'PED', 'GPS', 'NJC', 'MLO', 'KHN', 'KSJ', 'MDK', 'YXX', 'PXO', 'NDB', 'PNL', 'SPP', 'VKG', 'BEL', 'ICI', 'SLM', 'HBX', 'KWN', 'YTH', 'IXL', 'WJR', 'JKG', 'NAS', 'ACZ', 'KYP', 'NOB', 'PVH', 'ORY', 'PIN', 'WRG', 'JAV', 'BBA', 'PPK', 'ERS', 'ILP', 'MUW', 'MSO', 'SCW', 'KDH', 'BLI', 'OLL', 'HAJ', 'RGI', 'OWB', 'FYU', 'SXO', 'KEM', 'CRP', 'BFL', 'YXN', 'PIK', 'CJB', 'PSO', 'GLH', 'MMY', 'HYA', 'SAN', 'BHE', 'TWU', 'KGA', 'BAY', 'IXZ', 'KGL', 'PHS', 'BUZ', 'SPR', 'WUX', 'BHJ', 'YQM', 'LPQ', 'ATK', 'MGM', 'YFH', 'TOB', 'LKH', 'ODS', 'IQN', 'ROK', 'LSY', 'CDC', 'SKE', 'SNN', 'DIE', 'PQI', 'CAN', 'FLL', 'OIM', 'YUS', 'HID', 'YKF', 'GAO', 'PMO', 'AXU', 'IQQ', 'ADD', 'RUS', 'RAB', 'SJK', 'CRA', 'SBZ', 'ABS', 'EGE', 'ZAM', 'CME', 'HOG', 'LEH', 'KCO', 'LKG', 'OBO', 'MKE', 'MHG', 'LTX', 'YXH', 'GLF', 'OXB', 'HIA', 'BAX', 'CCS', 'BHO', 'GOA', 'MBL', 'GCN', 'CPD', 'HGR', 'ARU', 'VKO', 'SCM', 'SVL', 'ENU', 'YFA', 'JCB', 'TMT', 'SYX', 'MCN', 'HAA', 'HOF', 'DCA', 'KGS', 'YCD', 'BGW', 'JEG', 'BWT', 'CRK', 'SHM', 'LPY', 'OER', 'NSH', 'TGJ', 'OKC', 'SKB', 'CZS', 'PTY', 'CXI', 'ASV', 'ALG', 'CGQ', 'BRS', 'YPN', 'ARW', 'BRW', 'VPS', 'MMB', 'YNP', 'IXG', 'MFU', 'YIN', 'JSI', 'PAV', 'GSE', 'LBC', 'BKW', 'BVA', 'ACR', 'PBH', 'GTR', 'AKF', 'LOS', 'HME', 'ALS', 'MDW', 'BMW', 'KFS', 'PSJ', 'TUA', 'YNT', 'HHH', 'JER', 'YNO', 'KKR', 'RBA', 'GRI', 'AGN', 'YWJ', 'TUN', 'KHG', 'LEB', 'AKB', 'EOI', 'CFU', 'CUM', 'FTE', 'IGA', 'HMB', 'PLM', 'BRE', 'MCI', 'YGV', 'EZE', 'KOE', 'BSO', 'TRD', 'KAZ', 'TUG', 'YLL', 'MKL', 'XKH', 'ZHA', 'CWL', 'BEN', 'JUZ', 'NAY', 'EGN', 'XMH', 'KLR', 'ATW', 'KVL', 'CIY', 'AZO', 'YVO', 'KAO', 'BOO', 'PMR', 'DIK', 'WKJ', 'IXB', 'YLC', 'SGU', 'POS', 'PTP', 'EGO', 'ULH', 'SAL', 'OCC', 'YTS', 'TVY', 'DOK', 'LUZ', 'AGR', 'HVN', 'SOG', 'UDR', 'SPC', 'BEG', 'KWT', 'SLQ', 'GEV', 'MSA', 'URG', 'COS', 'SLP', 'RTM', 'GAL', 'TSN', 'ULV', 'MSZ', 'BXB', 'ASR', 'ULN', 'SFL', 'IKO', 'MSL', 'PUE', 'EMK', 'CLQ', 'WSN', 'CZM', 'CVM', 'KVG', 'OST', 'TIV', 'PLW', 'SMA', 'MTJ', 'PUB', 'JNB', 'SFO', 'MQJ', 'SJO', 'UKS', 'YIE', 'LDH', 'BSD', 'YPH', 'LUN', 'CUZ', 'LAP', 'HRM', 'HUX', 'YEV', 'CPE', 'UEL', 'LPP', 'YBR', 'KUN', 'LAI', 'ADZ', 'MWX', 'PKZ', 'AVN', 'BAZ', 'DRO', 'TLH', 'LTO', 'LAU', 'PAG', 'GPA', 'XMS', 'YGH', 'BFI', 'AKU', 'BEJ', 'FLO', 'JIB', 'MKW', 'BHV', 'RFD', 'RDZ', 'SUX', 'YPL', 'PZI', 'NBX', 'POR', 'YYT', 'KRK', 'YAK', 'YKU', 'HUI', 'KMQ', 'YMO', 'HFT', 'CUL', 'BOI', 'SNP', 'YQT', 'ARK', 'MYJ', 'NSI', 'KCT', 'SRQ', 'WMO', 'WAE', 'YAC', 'RUA', 'KYA', 'SAW', 'KGE', 'YXS', 'PQC', 'HLH', 'IFO', 'KND', 'SRE', 'PPN', 'OME', 'INU', 'LMA', 'BLA', 'PDS', 'MCP', 'SKP', 'GNY', 'SDJ', 'DHI', 'RSW', 'MLE', 'MVP', 'KEF', 'YQQ', 'LTD', 'YAG', 'EVN', 'TIU', 'OSR', 'YZS', 'KFP', 'TYN', 'LCY', 'KKA', 'JAL', 'KSN', 'KZI', 'ULP', 'FAI', 'BMA', 'XNN', 'BDL', 'GOH', 'SDF', 'TBT', 'HOV', 'RDM', 'TBG', 'BOB', 'CHQ', 'SUK', 'BBO', 'TBZ', 'YZT', 'COK', 'DZN', 'SLX', 'FCO', 'NGE', 'BHS', 'ZAZ', 'RSD', 'HBE', 'VXC', 'SJJ', 'NNB', 'GDX', 'LAW', 'XBE', 'MAS', 'KCK', 'GOJ', 'KWJ', 'KUH', 'RVV', 'YDP', 'TRO', 'HKD', 'YAB', 'MEL', 'AHO', 'BIL', 'CDJ', 'TNA', 'HFS', 'LNZ', 'STV', 'FKI', 'IPC', 'KRS', 'HUU', 'MUA', 'DDC', 'JKR', 'GCM', 'BDS', 'ERI', 'PAD', 'JLN', 'NVI', 'MOL', 'BNN', 'CXJ', 'TCB', 'PSG', 'KWL', 'MKQ', 'VLS', 'PQQ', 'RES', 'ILM', 'TUC', 'PHW', 'AJI', 'YXE', 'DIR', 'RAH', 'YAA', 'VBV', 'LPA', 'YNA', 'AXK', 'BOY', 'KAD', 'BHK', 'SHA', 'BTH', 'FLS', 'ABD', 'ESL', 'VIS', 'RNN', 'AUX', 'PNS', 'OVB', 'LEC', 'BAL', 'AOE', 'PHL', 'CNX', 'BQL', 'OSY', 'YPO', 'GUM', 'AXD', 'CCM', 'IGG', 'CBH', 'CUU', 'RLG', 'SOW', 'MEA', 'CAB', 'PCL', 'PEZ', 'VCS', 'SLY', 'BHU', 'HOR', 'JGA', 'BBK', 'GOQ', 'YLH', 'EFL', 'DSM', 'KTE', 'CCV', 'YHU', 'YTL', 'WHK', 'TNJ', 'FUJ', 'SFN', 'DAR', 'PBG', 'MSR', 'RMT', 'YBX', 'CGM', 'PRI', 'THL', 'LXS', 'MCX', 'EGC', 'PGF', 'EBJ', 'MAQ', 'BLL', 'ZSE', 'APF', 'SKX', 'SJP', 'MAH', 'GEO', 'SKK', 'GHA', 'FPO', 'YYD', 'LYH', 'SID', 'TAI', 'FNI', 'YUX', 'HEK', 'SMS', 'NBO', 'UAQ', 'TBS', 'LMP', 'YPY', 'LAX', 'BKQ', 'ULK', 'HGA', 'VVO', 'LSC', 'JSY', 'BNK', 'HON', 'TLN', 'CAP', 'YHR', 'YVB', 'DUD', 'YNS', 'DVO', 'YUY', 'CJJ', 'GLV', 'YLW', 'SYD', 'DDG', 'TUF', 'LXA', 'PSE', 'ASO', 'YYF', 'NYI', 'BDO', 'WVB', 'GLO', 'EXT', 'GND', 'YSB', 'PFQ', 'LMN', 'MWF', 'YNJ', 'PNP', 'APO', 'SNO', 'JFR', 'YSJ', 'OKJ', 'NIM', 'GEG', 'KAL', 'RBR', 'BYN', 'HKT', 'SRP', 'VAI', 'YZV', 'MAZ', 'RST', 'DNZ', 'HDY', 'BLK', 'ZGS', 'USK', 'TOH', 'PWQ', 'PMZ', 'GRO', 'EOH', 'VVI', 'TIM', 'GBT', 'CDB', 'GSO', 'HAH', 'LBS', 'MAM', 'SFJ', 'MID', 'SOY', 'STW', 'BLJ', 'CUE', 'COU', 'STR', 'JNN', 'DIL', 'DJG', 'GOP', 'MEI', 'SVQ', 'CCP', 'YQF', 'ZHY', 'BEU', 'TIF', 'DRV', 'SGD', 'ILD', 'PKU', 'UDI', 'AKK', 'TLJ', 'ETH', 'HMA', 'SZZ', 'FRA', 'SVP', 'WAA', 'IZA', 'DRS', 'DAD', 'SGC', 'FNA', 'ATM', 'RVD', 'BZO', 'AZS', 'YAT', 'MDE', 'BWK', 'PLQ', 'GUR', 'PSS', 'PIU', 'SNV', 'LHW', 'BGG', 'RIC', 'BND', 'KTL', 'LBE', 'TAO', 'KYZ', 'GWT', 'BTK', 'FLR', 'PRN', 'PIH', 'PNK', 'CZU', 'TOS', 'FNC', 'PXU', 'LXR', 'TIJ', 'IPI', 'NAJ', 'DAC', 'ETZ', 'TAB', 'LXG', 'LOE', 'GYS', 'STD', 'AGB', 'COR', 'TOY', 'MLY', 'DIG', 'PGX', 'SKU', 'MRY', 'OSL', 'BFD', 'URY', 'ULZ', 'RCH', 'JHW', 'KEW', 'LFW', 'TLS', 'HAN', 'DUT', 'AIN', 'UTN', 'CVG', 'TTQ', 'ERZ', 'PUF', 'UKB', 'SRZ', 'XFN', 'SCE', 'REP', 'YXY', 'FKQ', 'HTY', 'LAO', 'RBV', 'HAC', 'MPM', 'JSR', 'KTM', 'SZA', 'LIF', 'BHH', 'GFK', 'LNY', 'NRL', 'PQM', 'GGG', 'ECP', 'MLB', 'IOA', 'TOU', 'RNA', 'DAB', 'ATL', 'MAD', 'SCT', 'DBV', 'OBY', 'HCR', 'GUC', 'TVF', 'DFW', 'PUQ', 'KZR', 'TFN', 'ASM', 'OPO', 'FUT', 'ROA', 'BJA', 'EAM', 'IIL', 'BTM', 'UME', 'HET', 'THN', 'ASP', 'UKK', 'SFB', 'LDY', 'HEA', 'LUD', 'CIX', 'LIS', 'HIB', 'TGZ', 'CMP', 'YGZ', 'CFS', 'KGP', 'RGL', 'ARM', 'TKS', 'KIF', 'OGZ', 'SVO', 'ERF', 'LCX', 'UCT', 'TAM', 'POI', 'POZ', 'DMU', 'CHA', 'HNA', 'MJD', 'YTY', 'APN', 'MTM', 'KZS', 'TJA', 'CNY', 'SWF', 'YRL', 'UEO', 'MGT', 'MST', 'YVR', 'ROI', 'IXC', 'SLN', 'WMX', 'KKC', 'LUK', 'YAM', 'ABZ', 'BKY', 'MQX', 'EVV', 'LYG', 'KGT', 'NSN', 'EVE', 'IVC', 'FLG', 'CYO', 'IPA', 'TMU', 'YFJ', 'NDU', 'BOD', 'BTR', 'CUF', 'YBL', 'JUV', 'ABA', 'MZR', 'PKA', 'ELM', 'AUQ', 'CYB', 'BWN', 'YUB', 'TQL', 'LOH', 'SOF', 'PWM', 'TUU', 'BON', 'BFF', 'GDQ', 'IWJ', 'DME', 'ZBF', 'XCR', 'SJZ', 'CUR', 'AOI', 'SLK', 'KDI', 'FLA', 'CPR', 'MDT', 'THE', 'NOP', 'RIY', 'BLE', 'BTC', 'TNR', 'KLG', 'KCZ', 'KLN', 'ZPB', 'MCE', 'TBB', 'ICT', 'GDN', 'AKJ', 'ZYL', 'BTI', 'KLW', 'CMN', 'VIL', 'OUZ', 'BKI', 'AAE', 'SMR', 'QRO', 'YWK', 'CYF', 'RIB', 'NRA', 'UIO', 'PHF', 'SYR', 'YRB', 'RUN', 'SJD', 'SNE', 'SPI', 'VGZ', 'TUK', 'ZUM', 'SDE', 'KTS', 'YZR', 'YXJ', 'HVD', 'RTB', 'BIR', 'PSP', 'SCY', 'IRK', 'YVZ', 'VDC', 'OUD', 'JAN', 'MLL', 'KNQ', 'ANS', 'ROT', 'DTM', 'MCV', 'YCL', 'YCS', 'SDG', 'PBC', 'CUQ', 'ESU', 'CIZ', 'LYB', 'OTP', 'LPM', 'ASU', 'FRE', 'OTH', 'KCA', 'NPE', 'CPV', 'MLI', 'RSA', 'TCO', 'HGN', 'BJR', 'CBQ', 'DIY', 'SOC', 'ACY', 'AKN', 'NRN', 'RAR', 'ZQW', 'MYQ', 'HAV', 'YQK', 'GLT', 'OMH', 'MRD', 'IRG', 'KHD', 'NUX', 'KPV', 'VOZ', 'ADL', 'SLL', 'OUL', 'EGS', 'TYS', 'XIL', 'MGH', 'BFV', 'CEK', 'FKB', 'CHU', 'KMS', 'LGG', 'NJF', 'AJA', 'GRQ', 'VLY', 'OKL', 'PIZ', 'NAW', 'NNM', 'KNH', 'PIR', 'PEM', 'ZMT', 'FNT', 'CSK', 'URA', 'UTT', 'ZSA', 'LAQ', 'VAS', 'PYJ', 'CEZ', 'LKL', 'CSY', 'RAE', 'RCM', 'YSK', 'DRK', 'LIT', 'VIJ', 'SGF', 'JAC', 'BMV', 'NTL', 'TZX', 'GMO', 'ABT', 'DBQ', 'KNG', 'UIB', 'DHN', 'KET', 'BHM', 'GVR', 'HLD', 'AJF', 'TLV', 'KUT', 'LGL', 'NHV', 'PMI', 'KPN', 'EMD', 'FMA', 'OZC', 'TRZ', 'BTT', 'PBI', 'CSH', 'MEH', 'ILY', 'MXX', 'VLN', 'XKS', 'PHB', 'GYA', 'AUS', 'IRA', 'VLV', 'DSK', 'OBU', 'OTZ', 'IFN', 'YEK', 'VTZ', 'KOO', 'MHQ', 'CTM', 'BES', 'HSV', 'NRK', 'UFA', 'ITH', 'HSL', 'OIA', 'TRG', 'MEE', 'CRW', 'RBY', 'KLO', 'YIH', 'MRV', 'CGB', 'YMM', 'OSS', 'EAS', 'IKI', 'KKE', 'HRL', 'SLA', 'CGO', 'MGW', 'RJA', 'KTN', 'LKB', 'SXM', 'NOZ', 'AET', 'SDD', 'YFB', 'PBZ', 'VBY', 'SHL', 'SYM', 'XIC', 'WEI', 'YKG', 'FAO', 'YYQ', 'SDL', 'ADE', 'NTE', 'KRL', 'CEM', 'XFW', 'GOV', 'PGA', 'MKG', 'PMF', 'REG', 'UBP', 'SAH', 'XTG', 'SUB', 'KMG', 'TTA', 'MMU', 'OGS', 'JUL', 'MSQ', 'AUU', 'OSW', 'LPD', 'VXE', 'IAH', 'TAS', 'ZQZ', 'ROB', 'YBK', 'EWR', 'TAP', 'EUN', 'UUS', 'ACV', 'GIG', 'SJT', 'TRI', 'LUW', 'YRG', 'ZLO', 'ACE', 'LKN', 'VII', 'MVD', 'NAQ', 'INH', 'WDH', 'XQP', 'TUS', 'JNG', 'KMJ', 'PBL', 'KBR', 'YDQ', 'BRQ', 'TCG', 'SHG', 'YWH', 'AUC', 'AYP', 'RHI', 'HDM', 'LEI', 'IBZ', 'VIX', 'LMM', 'RSU', 'MGA', 'SXI', 'CMX', 'CGN', 'PEK', 'LYC', 'LUO', 'CID', 'CIK', 'GHT', 'PRG', 'KSY', 'UNN', 'GIL', 'SBP', 'CGR', 'HOB', 'FMI', 'NLG', 'KHS', 'ZAH', 'SEN', 'KGF', 'IND', 'FBM', 'AXT', 'TFF', 'WLK', 'AKP', 'NGK', 'JQE', 'FSM', 'CKH', 'KUL', 'KIS', 'BDB', 'BDA', 'MLX', 'VGO', 'PGK', 'PEE', 'YHO', 'YJT', 'ROV', 'MDZ', 'HAD', 'EUG', 'DEF', 'CGP', 'CEE', 'BIO', 'JMK', 'ATQ', 'YCU', 'CJS', 'CMB', 'VEE', 'BLR', 'AQJ', 'CXH', 'EJH', 'HAK', 'VXO', 'EAT', 'TGO', 'CHY', 'MBJ', 'AUY', 'TVC', 'SIN', 'GNV', 'SCQ', 'GKK', 'YXC', 'KBP', 'YQZ', 'MEB', 'STI', 'TGD', 'CIF', 'BCI', 'YZG', 'YYH', 'CTG', 'MSN', 'ARC', 'LPS', 'TFS', 'SMI', 'LLF', 'AIU', 'LBL', 'YCO', 'LUV', 'YIK', 'NME', 'HOE', 'ZAD', 'HFA', 'JIM', 'SNU', 'DGO', 'SBW', 'TPP', 'RAK', 'AHB', 'CKG', 'FUG', 'BFJ', 'BRR', 'WMI', 'ATC', 'EBB', 'HNM', 'SMK', 'GBE', 'PKC', 'IGU', 'BFS', 'YYC', 'OMD', 'IAN', 'YAP', 'YQU', 'GMR', 'ABI', 'SCL', 'KVD', 'SYQ', 'UGC', 'YNG', 'JRO', 'PDA', 'IMF', 'RNL', 'SAP', 'BBN', 'TET', 'URS', 'IXA', 'NOV', 'YZZ', 'YKM', 'KQT', 'LRR', 'SPN', 'JBR', 'TKK', 'KHZ', 'ZKE', 'MXP', 'CCF', 'JOE', 'FSP', 'KID', 'SHE', 'YNC', 'RTW', 'KWE', 'PSC', 'YKA', 'YBP', 'CJM', 'KVK', 'MKK', 'LBD', 'LWS', 'JNS', 'UAP', 'DXB', 'ELP', 'TRF', 'KUO', 'DIJ', 'NOJ', 'PVC', 'JUB', 'BUN', 'BIA', 'MTY', 'PJA', 'TTJ', 'MXZ', 'IGR', 'HYG', 'CAY', 'IKS', 'IAR', 'VLI', 'AIT', 'BHR', 'BOJ', 'AXP', 'IPN', 'AAR', 'ALO', 'ERN', 'PHX', 'RAJ', 'KIX', 'AKX', 'TKJ', 'GTE', 'IRP', 'ABY', 'KDU', 'FEG', 'ELC', 'GXH', 'DCM', 'YLE', 'COD', 'VUS', 'EGM', 'FSC', 'TKD', 'UIN', 'TAC', 'DHM', 'TBP', 'CDV', 'SSA', 'RYG', 'EJA', 'MEC', 'GAM', 'OPS', 'TLM', 'KNX', 'PAT', 'HSN', 'MTT', 'BSG', 'SRY', 'WWK', 'TMS', 'MOB', 'SHV', 'SUF', 'SOU', 'ASF', 'AZD', 'XIY', 'SBY', 'WXN', 'JUJ', 'HYD', 'BXU', 'HAU', 'GDL', 'TRR', 'PSA', 'AMS', 'ULB', 'SCO', 'UYL', 'KJA', 'GKA', 'IOS', 'CHG', 'EYW', 'EDO', 'YOP', 'LRS', 'BHY', 'TVU', 'CRL', 'BSR', 'GDT', 'AUK', 'VIN', 'EBA', 'DLM', 'DMK', 'UIH', 'VPY', 'DOM', 'AAQ', 'YXP', 'CLY', 'NGO', 'MBE', 'TDX', 'BGO', 'BGR', 'NDJ', 'HTN', 'CYP', 'YFS', 'COQ', 'CAI', 'DSA', 'KWI', 'MHC', 'WSZ', 'ASB', 'YXL', 'YYJ', 'PLN', 'RET', 'KOA', 'ISN', 'TMR', 'BPL', 'VLL', 'YPJ', 'SCK', 'SGY', 'KRY', 'IDA', 'TST', 'HIN', 'TAY', 'BNS', 'JGD', 'JST', 'AUG', 'SFG', 'LLI', 'JSH', 'AVA', 'ODY', 'YYY', 'FRW', 'TKG', 'OGD', 'OVD', 'RIA', 'PIS', 'IBA', 'AQG', 'BRI', 'ISU', 'ATA', 'BEB', 'TBI', 'PYH', 'OUA', 'CPX', 'MGQ', 'YIO', 'VOG', 'CHS', 'ANR', 'CEN', 'BXR', 'LHR', 'WIN', 'PVR', 'YWL', 'VVC', 'AFZ', 'ADQ', 'AMM', 'BBI', 'DUS', 'APW', 'AEP', 'RUR', 'MII', 'BDJ', 'CMG', 'TNW', 'KOP', 'MJF', 'MLM', 'MXH', 'SGN', 'CTC', 'GIZ', 'TZL', 'SOQ', 'AWD', 'ROW', 'HRK', 'FKS', 'SKG', 'BDH', 'KYK', 'URE', 'BJX', 'PGD', 'GRX', 'LAZ', 'CTS', 'DUR', 'TCZ', 'TKX', 'BYC', 'YOL', 'VDB', 'ENA', 'LNK', 'SSH', 'MOV', 'GUA', 'LRD', 'FEN', 'CEC', 'JUH', 'REX', 'YQL', 'CJL', 'LEN', 'GFN', 'TNN', 'MQL', 'ART', 'ACA', 'DEB', 'DNR', 'EEK', 'STT', 'MBS', 'TTN', 'ENE', 'TML', 'LLU', 'TRV', 'DAT', 'LFM', 'DUB', 'HYN', 'YZF', 'NVT', 'JTY', 'THR', 'TKU', 'MCO', 'ECN', 'IXE', 'LNB', 'KHV', 'MLA', 'SEA', 'NAV', 'LOK', 'WRL', 'OLC', 'BIK', 'YZP', 'SNW', 'HEL', 'KTW', 'MCK', 'MOT', 'CIA', 'YHZ', 'NDY', 'LNE', 'VQS', 'DOU', 'BDQ', 'BIQ', 'OIT', 'YUD', 'JKH', 'LJU', 'ANU', 'CJC', 'PPP', 'LIL', 'TIZ', 'SMX', 'BSL', 'EIN', 'IZO', 'AQI', 'BZL', 'SVB', 'LSP', 'IQT', 'BVS', 'SAT', 'MQH', 'TRN', 'JHM', 'NUI', 'TLC', 'LDS', 'RCY', 'YFO', 'GRP', 'DWC', 'NNY', 'VDZ', 'TGR', 'PLZ', 'MQP', 'BJZ', 'MCG', 'GVA', 'PIP', 'NAO', 'GIU', 'ITO', 'GCK', 'MZL', 'INZ', 'NNG', 'PMW', 'UAK', 'NBC', 'REL', 'GAN', 'GJA', 'MHK', 'PTH', 'YOG', 'GAU', 'BZV', 'IRC', 'SHB', 'BZG', 'HKN', 'SKZ', 'REC', 'BRM', 'BDU', 'NBE', 'YPX', 'HUH', 'BLZ', 'EBL', 'MEG', 'NDG', 'EGX', 'GNM', 'RBQ', 'CDG', 'GIS', 'IST', 'XSB', 'CFK', 'AZR', 'DPO', 'ELS', 'LWY', 'IXU', 'PYY', 'BEY', 'AHU', 'MRU', 'AYQ', 'SJW', 'GMA', 'LOP', 'NOC', 'MMH', 'CBT', 'MJT', 'IGD', 'NAG', 'BUW', 'BHB', 'AGU', 'SLC', 'YRT', 'PRA', 'CDR', 'ZAG', 'GRK', 'LCK', 'ONG', 'ATD', 'MBT', 'CTU', 'CLD', 'GEA', 'GAE', 'AKL', 'XUZ', 'TXK', 'GTO', 'NGQ', 'VDM', 'URT', 'KHH', 'CNJ', 'YQG', 'SAB', 'AOJ', 'PUS', 'TMM', 'PPG', 'ZRJ', 'LYR', 'JGN', 'YPW', 'INV', 'ASW', 'IAD', 'ACT', 'VUP', 'QBC', 'UVE', 'CAH', 'LAM', 'CCJ', 'XGR', 'MKP', 'WTK', 'KPO', 'BRL', 'WEF', 'OMR', 'GRW', 'CGK', 'MZV', 'ESC', 'YAY', 'YHY', 'KSC', 'CIC', 'MWZ', 'KME', 'MUR', 'VGA', 'HDN', 'UVF', 'TAK', 'NAP', 'HRB', 'VHC', 'YIC', 'AJR', 'AER', 'AMD', 'SZG', 'OZH', 'KUD', 'NQU', 'FRD', 'GUW', 'CVU', 'TYF', 'MZT', 'KZO', 'TRU', 'LUM', 'FON', 'KRP', 'ORK', 'DMD', 'PZB', 'NQY', 'BVH', 'PHC', 'GPB', 'JHB', 'KOW', 'VEL', 'BOC', 'LBA', 'SLH', 'IXD', 'TMW', 'ZQN', 'YNB', 'KQA', 'CMI', 'LUR', 'JDZ', 'PNI', 'PDP', 'SYZ', 'DLE', 'FAR', 'NRT', 'KUU', 'PIX', 'CLV', 'NQN', 'GYD', 'IBE', 'UAS', 'KSA', 'SZB', 'UTP', 'UPN', 'VAA', 'RVE', 'NCL', 'ERL', 'SXB', 'GAJ', 'ZFM', 'ZAT', 'HOD', 'CAC', 'IRJ', 'YZY', 'WGP', 'CIP', 'TXL', 'LIH', 'POJ', 'LWB', 'BUA', 'NYK', 'ZAL', 'PVD', 'JYV', 'VRC', 'MHD', 'DJB', 'ROS', 'TGH', 'SKN', 'AGA', 'BDP', 'ZBR', 'NUE', 'PLO', 'DYR', 'FRO', 'JIK', 'CNM', 'BAV', 'ENH', 'LUG', 'RDC', 'PMC', 'WNA', 'PVU', 'RDN', 'BZR', 'EWB', 'TAG', 'ISE', 'SYO', 'MNG', 'CFR', 'BOG', 'BUC', 'BZE', 'KOT', 'TTU', 'CPC', 'AWZ', 'VNS', 'MYD', 'DKR', 'LPT', 'MIM', 'LCA', 'KSD', 'AAT', 'PAP', 'NCE', 'TLL', 'SPS', 'SDR', 'HKG', 'HVG', 'FLN', 'SEZ', 'TPS', 'NOU', 'AXA', 'NWI', 'EKS', 'TRK', 'BHD', 'DAV', 'ODN', 'PLX', 'ADK', 'MCT', 'ISG', 'AZN', 'TKP', 'NLK', 'HRI', 'MGZ', 'DUJ', 'SZX', 'KRR', 'KKN', 'FMN', 'CND', 'SON', 'KIT', 'OLP', 'SGO', 'PER', 'YSY', 'ANI', 'GSP', 'AZA', 'SUV', 'YNY', 'YGX', 'TIP', 'DGT', 'LLA', 'VCP', 'LEQ', 'MAR', 'LDE', 'AGX', 'HDS', 'MHH', 'VRN', 'UPG', 'PAC', 'QFG', 'AVV', 'MRS', 'JGS', 'JNU', 'GOM', 'CSX', 'YYU', 'NYA', 'NKG', 'LZY', 'XMN', 'SLZ', 'MYW', 'SRX', 'CED', 'SPB', 'SVA', 'MXL', 'VHM', 'DEL', 'YGT', 'ZTH', 'SXF', 'UIP', 'SXK', 'SAV', 'MDU', 'MIG', 'PZU', 'CPO', 'WIL', 'BPN', 'BUF', 'SVD', 'PTG', 'YXT', 'CWA', 'UKA', 'ORF', 'BWA', 'BET', 'HUN', 'MJM', 'LTN', 'PNR', 'BKZ', 'MMO', 'RDD', 'LTI', 'DIU', 'IXS', 'ARN', 'CFC', 'PJM', 'BRA', 'BJB', 'BKG', 'KAT', 'HOI', 'WNN', 'JPR', 'VLC', 'AGP', 'WUS', 'LIM', 'YQC', 'DPL', 'XAP', 'TMP', 'WAT', 'LBJ', 'YHM', 'BQN', 'UNK', 'SDV', 'MGF', 'AFL', 'MTV', 'GCI', 'CKZ', 'RGA', 'YYZ', 'MYY', 'YIW', 'SLU', 'BLV', 'BQK', 'WMR', 'ZIG', 'WGA', 'ANG', 'GLK', 'KDM', 'WLG', 'DLH', 'TTT', 'VRA', 'AES', 'TBN', 'MOC', 'PAZ', 'KSM', 'AKI', 'CSG', 'KHY', 'KIH', 'SJU', 'PUJ', 'POP', 'SCU', 'SDN', 'JHS', 'WYA', 'SAF', 'TUI', 'FKL', 'UST', 'CNF', 'LEA', 'CYX', 'EDR', 'IVL', 'KOC', 'BSK', 'CTA', 'CAJ', 'LRE', 'KAW', 'ATZ', 'TGU', 'TGK', 'CUN', 'MOI', 'GHB', 'FOC', 'GMB', 'CBR', 'TJQ', 'BQB', 'ABQ', 'TRE', 'PMY', 'SHW', 'LAD', 'CFN', 'SCZ', 'VDS', 'CZX', 'POM', 'CMW', 'FJR', 'JTR', 'STM', 'SDQ', 'STX', 'HLZ', 'KDV', 'FMM', 'YCY', 'BJF', 'HNL', 'YQX', 'OHE', 'DAX', 'PET', 'NTX', 'BVB', 'SKO', 'ACK', 'CPT', 'LHE', 'LNS', 'DTW', 'WRY', 'ORU', 'LGP', 'CCK', 'POL', 'MYR', 'BNC', 'WLH', 'DEA', 'PAS', 'CGH', 'KVC', 'ROC', 'BMY', 'RAP', 'BOM', 'YTQ', 'UBJ', 'SUJ', 'JAU', 'SKT', 'VAO', 'MME', 'XNA', 'JFK', 'VCL'}\n"
          ]
        }
      ],
      "source": [
        "# Replace 'your_file.csv' with the path to your CSV file\n",
        "file_path = 'routes.csv'\n",
        "routes = pd.read_csv(file_path)\n",
        "\n",
        "# Filter rows where stops == 0\n",
        "direct_flights = routes[routes['Stops'] == 0]\n",
        "\n",
        "# just making sure that we are extracting the right data\n",
        "source_airports_set = set(direct_flights['Source Airport'])\n",
        "dest_airports_set = set(direct_flights['Destination Airport'])\n",
        "airports_set = set(airport_city_dict.keys())\n",
        "combined_airports = dest_airports_set.intersection(airports_set)\n",
        "print(len(combined_airports))\n",
        "print(combined_airports)"
      ]
    },
    {
      "cell_type": "code",
      "execution_count": 3,
      "metadata": {
        "id": "kyCX4eeQHjKp"
      },
      "outputs": [],
      "source": [
        "# create a graph with attributes such as airline id and airline\n",
        "import networkx as nx\n",
        "\n",
        "G = nx.DiGraph()\n",
        "\n",
        "for index, row in direct_flights.iterrows():\n",
        "   # get airport code\n",
        "   source_airport = row['Source Airport']\n",
        "   destination_airport = row['Destination Airport']\n",
        "   airline = row['Airline']\n",
        "   airline_id = row['Airline ID']\n",
        "\n",
        "   # Check if the airport codes exist in the dictionary\n",
        "   if source_airport in airport_city_dict and destination_airport in airport_city_dict:\n",
        "      # Get city names based on airport codes\n",
        "      source_city = airport_city_dict[source_airport]\n",
        "      destination_city = airport_city_dict[destination_airport]\n",
        "\n",
        "      # Add an edge from Source City to Destination City with airline as an attribute\n",
        "      G.add_edge(source_city, destination_city, Airline=airline, Airline_ID=airline_id)"
      ]
    },
    {
      "cell_type": "markdown",
      "metadata": {
        "id": "-hvfIBTEHjKp"
      },
      "source": [
        "### Saving and loading to pickle to make sure that is is ok"
      ]
    },
    {
      "cell_type": "code",
      "execution_count": 4,
      "metadata": {
        "id": "CgCrDx-SHjKq"
      },
      "outputs": [],
      "source": [
        "# save to pickle\n",
        "import pickle\n",
        "\n",
        "# Save the graph to a file using pickle\n",
        "with open('flight_network_graph.pickle', 'wb') as f:\n",
        "   pickle.dump(G, f)"
      ]
    },
    {
      "cell_type": "code",
      "execution_count": 5,
      "metadata": {
        "colab": {
          "base_uri": "https://localhost:8080/"
        },
        "id": "H2lDnEeMHjKq",
        "outputId": "4506a10f-edc6-4656-e986-6554f0c9ec6c"
      },
      "outputs": [
        {
          "output_type": "stream",
          "name": "stdout",
          "text": [
            "34614\n"
          ]
        }
      ],
      "source": [
        "# Load the graph from the pickle file\n",
        "with open('flight_network_graph.pickle', 'rb') as f:\n",
        "   G_loaded = pickle.load(f)\n",
        "print(len(G_loaded.edges()))"
      ]
    },
    {
      "cell_type": "markdown",
      "metadata": {
        "id": "2G6x0l8MHjKr"
      },
      "source": [
        "### Scrape the info on cities"
      ]
    },
    {
      "cell_type": "code",
      "execution_count": 6,
      "metadata": {
        "colab": {
          "base_uri": "https://localhost:8080/"
        },
        "id": "2pX9CfbyHjKr",
        "outputId": "3a989bae-8c89-46a1-dc36-acffae380196"
      },
      "outputs": [
        {
          "output_type": "stream",
          "name": "stdout",
          "text": [
            "['Sochi', 'Kazan', 'Astrakhan', 'Mineralnye Vody', 'Chelyabinsk', 'Novosibirsk', 'Moscow', 'Nizhnekamsk', 'Taganrog', 'Bugulma', 'Belgorod', 'Kaliningrad', 'Baku', 'St. Petersburg', 'Yekaterinburg', 'Nizhnevartovsk', 'Novy Urengoy', 'Bratsk', 'Irkutsk', 'Chita', 'Kirensk', 'Bodaibo', 'Ust-Kut', 'Lensk', 'Yakutsk', 'Mirnyj', 'Ayacucho', 'Lima', 'Cuzco', 'Puerto Maldonado', 'Huánuco', 'Iquitos', 'Pucallpa', 'Tarapoto', 'Abidjan', 'Bobo-dioulasso', 'Ouagadougou', 'Accra', 'Bamako', 'Dakar', 'Cotonou', 'Lome', 'Niamey', 'Bogota', 'Guayaquil', 'Quito', 'Cali', 'San Cristóbal', 'Coca', 'Brindisi', 'Zurich', 'Bordeaux', 'Bristol', 'Geneva', 'Gran Canaria', 'Larnaca', 'Marsa Alam', 'Tenerife', 'Arvidsjaur', 'Lycksele', 'Stockholm', 'Gallivare', 'Halmstad', 'Joenkoeping', 'Kramfors', 'Karlstad', 'Mariehamn', 'Ornskoldsvik', 'Pori', 'Sandefjord', 'Visby', 'Vilhelmina', 'Vaxjo', 'Hemavan', 'Kruunupyy', 'Turku', 'Oslo', 'Kodiak', 'Larsen Bay', 'Karluk', 'Basco', 'Manila', 'Butuan', 'Cotabato', 'Cagayan de Oro City', 'Catarman', 'Dumaguete', 'Dubai', 'Romblon', 'Kalibo', 'Legazpi', 'Caticlan', 'Ozamis', 'Puerto Princesa', 'Roxas City', 'Sangley Point', 'Tuguegarao', 'Zamboanga', 'Araguaina', 'Palmas', 'Barreiras', 'Brasilia', 'Salvador', 'Sinop', 'Ribeirao Preto', 'Cascavel', 'Sao Paulo', 'Cuiaba', 'Goiania', 'Campo Grande', 'Dourados', 'Rio De Janeiro', 'Uberaba', 'Uberlandia', 'Vitória Da Conquista', 'Belo Horizonte', 'Sao Jose Do Rio Preto', 'Burlington', 'Chicago', 'St. Louis', 'Decatur', 'Jonesboro', 'Ketchikan', 'Metakatla', 'Lagos', 'Monrovia', 'Barcelona', 'Banjul', 'Freetown', 'Conakry', 'Bissau', 'Douala', 'London', 'Akulivik', 'Ivujivik', 'Puvirnituq', 'Kangiqsualujjuaq', 'Quujjuaq', 'La Grande Riviere', 'Kuujjuarapik', 'Montreal', 'Inukjuak', 'Sanikiluaq', 'Umiujaq', 'Rouyn', 'Salluit', 'Kangirsuk', 'Aupaluk', 'Quaqtaq', 'Schefferville', 'Quebec', 'Wabush', 'Sept-iles', 'Tasiujaq', 'Kangiqsujuaq', 'Djibouti', 'Jeddah', 'Mogadishu', 'Nairobi', 'Bangkok', 'Singapore', 'Darwin', 'Haikou', 'Hangzhou', 'Hong Kong', 'Phuket', 'Osaka', 'Taipei', 'Kuala Lumpur', 'Penang', 'Perth', 'Phnom-penh', 'Siem-reap', 'Yangon', 'Ho Chi Minh City', 'Shantou', 'Altenrhein', 'Marina Di Campo', 'Dresden', 'Duesseldorf', 'Friedrichshafen', 'Munich', 'Hamburg', 'Olbia', 'Berlin', 'Zadar', 'Memmingen', 'Naples', 'Graz', 'Salzburg', 'Atlanta', 'Lewisburg', 'Macon', 'Meridian', 'Muscle Shoals', 'Hattiesburg/Laurel', 'Tupelo', 'Alice Town', 'Fort Lauderdale', 'North Eleuthera', 'West Palm Beach', 'Key West', 'Fort Myers', 'Tampa', 'Freeport', 'Great Exuma', \"Governor's Harbor\", 'Orlando', 'Marsh Harbor', 'Treasure Cay', 'Greenville', 'Gainesville', 'Jacksonville', 'Pensacola', 'Tallahassee', 'Amsterdam', 'El Aroui', 'Tanger', 'Casablanca', 'Bergamo', 'Bologna', 'Brussels', 'Cologne', 'Cuneo', 'Lyon', 'Montpellier', 'Istanbul', 'Toulouse', 'Treviso', 'Fes', 'Palma de Mallorca', 'Oranjestad', 'Paraguana', 'Maracaibo', 'Kralendijk', 'Willemstad', 'Bukhara', 'Fergana', 'Khanabad', 'Namangan', 'Navoi', 'Samarkand', 'Tivat', 'Antigua', 'Pointe-a-pitre', 'Cayenne', 'Fort-de-france', 'Santo Domingo', 'Dominica', 'Philipsburg', 'Castries', 'Gustavia', 'St. Martin', 'Beihai', \"Xi'an\", 'Guangzhou', 'Chongqing', 'Chengdu', 'Saipan', 'Zhengzhou', 'Changchun', 'Harbin', 'Kunming', 'Urumqi', 'Nanjing', 'Jinan', 'Tianjin', 'Changcha', 'Changzhou', 'Dalian', 'Dayong', 'Nanchang', 'Lanzhou', 'Lijiang', 'Lhasa', 'Ninbo', 'Nanning', 'Beijing', 'Shanghai', 'Panzhihua', 'Sydney', 'Sanya', 'Shenzhen', 'Taiyuan', 'Wuhan', 'Wuxi', 'Xining', 'Yichang', 'Zhanjiang', 'Fuzhou', 'Shenyang', 'Wenzhou', 'Xiamen', 'Daocheng', 'Dongsheng', 'Handan', 'Hohhot', 'Hefei', 'Seoul', 'Jinghonggasa', 'Qianjiang', 'Jiuzhaigou', 'Ganzhou', 'Guiyang', 'Luxi', 'Nyingchi', 'Melbourne', 'Shijiazhuang', 'Qingdao', 'Wanxian', 'Xichang', 'Xuzhou', 'Yangzhou', 'Zhuhai', 'Datong', 'Dunhuang', 'Xiahe city', 'Manzhouli', 'Jiayuguan', 'Quanzhou', 'Kashi', 'Guilin', 'Mianyang', 'Linyi', 'Zhongwei', 'Vancouver', 'Yibin', 'Yulin', 'Las Vegas', 'Los Angeles', 'Cairo', 'Tel-aviv', 'Mcgrath', 'Nikolai', 'Tatalina', 'Beloyarsky', 'Nukus', 'Tyumen', 'Ufa', 'Nadym', 'Sovetskiy', 'Ukhta', 'Dhaka', 'Barisal', 'Kolkata', 'Chittagong', 'Muscat', \"Cox's Bazar\", 'Jessore', 'Kathmandu', 'Saidpur', 'Sylhet Osmani', 'Rajshahi', 'Grise Fiord', 'Resolute', 'Dallas-Fort Worth', 'Buenos Aires', 'New York', 'Miami', 'Punta Cana', 'Edmonton', 'Whitehorse', 'Kelowna', 'Ottawa', 'Yellowknife', 'Calgary', 'Acapulco', 'Mexico City', 'Toluca', 'Aguascalientes', 'Ciudad Obregon', 'Ciudad Juarez', 'Ciudad Del Carmen', 'Campeche', 'Chetumal', 'Culiacan', 'Cancun', 'Monterrey', 'Chihuahua', 'Cozumel', 'Guadalajara', 'San Antonio', 'San Jose Del Cabo', 'Santa Ana', 'Tijuana', 'Guatemala City', 'Havana', 'Hermosillo', 'Huatulco', 'La Paz', 'Merida', 'Minatitlan', 'Mazatlan', 'Oaxaca', 'Palenque', 'Puerto Vallarta', 'Reynosa', 'San Jose', 'Tampico', 'Tuxtla Gutierrez', 'Torreon', 'Vera Cruz', 'Villahermosa', 'Zacatecas', 'Zihuatanejo', 'Manzanillo', 'Delhi', 'Herat', 'Kabul', 'Islamabad', 'Mazar-i-sharif', 'Antalya', 'Mulhouse', 'Hurghada', 'Pristina', 'Skopje', 'Malaga', 'Stuttgart', 'Algier', 'Ancona', 'Athens', 'Hannover', 'Belgrade', 'Bergen', 'Birmingham', 'Bastia', 'Bilbao', 'Bremen', 'Bari', 'Budapest', 'Cagliari', 'Paris', 'Kerkyra/corfu', 'Calvi', 'Catania', 'Dubrovnik', 'Dublin', 'Edinburgh', 'Faro', 'Rome', 'Heringsdorf', 'Heraklion', 'Ibiza', 'Mykonos', 'Thira', 'Kos', 'Klagenfurt', 'Kavala', 'Leipzig', 'Lisbon', 'Manchester', 'Milano', 'Nice', 'Palermo', 'Prague', 'Pisa', 'Pula', 'Marrakech', 'Rhodos', 'Rijeka', 'Laage', 'Sarajevo', 'Thessaloniki', 'Split', 'Lamezia', 'Tunis', 'Venice', 'Vienna', 'Villafranca', 'Warsaw', 'Jerez', 'Zagreb', 'Cardiff', 'Dortmund', 'Katowice', 'Madrid', 'Newquai', 'Nuernberg', 'Poznan', 'Torino', 'Wroclaw', 'Karlsruhe/Baden-Baden', 'Frankfurt', 'Helsinki', 'Krakow', 'Milan', 'Anaktuvuk Pass', 'Fairbanks', 'Bettles', 'Central', 'Circle', 'Chalkyitsik', 'Fort Yukon', 'Manley Hot Springs', 'Beaver', 'Bethel', 'Eek', 'Kipnuk', 'Quinhagak', 'Kwethluk', 'Marshall', 'Nightmute', 'Napakiak', 'Chefornak', 'Kongiganak', 'Kwigillingok', 'Toksook Bay', 'Napaskiak', 'Port Moller', 'Bocas Del Toro', 'Puntarenas', 'La Fortuna/San Carlos', 'Quepos', 'Golfito', 'Puerto Jimenez', 'Liberia', 'Managua', 'Nosara Beach', 'Nicoya', 'Palmar Sur', 'Roxana', 'Kumasi', 'Eldoret', 'Lodwar', 'Juba', 'Kisumu', 'Lamu', 'Malindi', 'Mombasa', 'Zanzibar', 'Bacolod', 'Cebu', 'Davao', 'Kota Kinabalu', 'Bandar Seri Begawan', 'Camiguin', 'Angeles City', 'Dipolog', 'Siargao', 'Iloilo', 'Pagadian', 'Busan', 'Tacloban', 'Busuanga', 'Jakarta', 'Macau', 'Cauayan', 'Denpasar', 'Hanoi', 'Laoag', 'Nagoya', 'Tokyo', 'Tagbilaran', 'Virac', 'Naga', 'Charlestown', 'Arkhangelsk', 'Solovetsky Islands', 'Murmansk', 'Naryan-Mar', 'Usinsk', 'Syktyvkar', 'Tromso', 'Antofagasta', 'Iquique', 'Concepcion', 'Santiago', 'Montevideo', 'Punta del Este', 'Asuncion', 'Curitiba', 'Porto Alegre', 'Baker Lake', 'Chesterfield Inlet', 'Whale Cove', 'Cambridge Bay', 'Coppermine', 'Spence Bay', 'Rankin Inlet', 'Clyde River', 'Iqaluit', 'Pond Inlet', 'Eskimo Point', 'Churchill', 'Inuvik', 'Norman Wells', 'Igloolik', 'Cape Dorset', 'Hall Beach', 'Pangnirtung', 'Gjoa Haven', 'Repulse Bay', 'Coral Harbour', 'Thompson', 'Broughton Island', 'Winnipeg', 'Belize City', 'Flores', 'San Pedro Sula', 'Tegucigalpa', 'Roatan', 'Cape Town', 'Plettenberg Bay', 'Johannesburg', 'Margate', 'Ahmedabad', 'Bangalore', 'Mumbai', 'Goa', 'Hyderabad', 'Jaipur', 'Madras', 'Pune', 'Bhubaneswar', 'Vishakhapatnam', 'Baroda', 'Kochi', 'Guwahati', 'Lucknow', 'Nagpur', 'Trivandrum', 'Coimbatore', 'Indore', 'Chandigarh', 'Jammu', 'Patina', 'Srinagar', 'Mohanbari', 'Imphal', 'Agartala', 'Baghdogra', 'Ranchi', 'Raipur', 'Varanasi', 'Elat', 'Tbilisi', 'Copenhagen', 'Soenderborg', 'Holman Island', 'Paulatuk', 'Sachs Harbour', 'Tuktoyaktuk', 'Fort Mcpherson', 'Krasnodar', 'Yakutia', 'Krasnoyarsk', 'Sittwe', 'Thandwe', 'Heho', 'Mandalay', 'Kawthoung', 'Myeik', 'Bagan', 'Tachilek', 'Dawei', 'Saratov', 'Yerevan', 'Riga', 'Chongju', 'Cheju', 'Fukuoka', 'Agana', 'Westerland', 'Arctic Bay', 'Kimmirut', 'Fort Simpson', 'Hay River', 'Kitakyushu', 'Ambler', 'Kotzebue', 'Shungnak', 'Anchorage', 'Wainwright', 'Atqasuk', 'Barrow', 'Aniak', 'Cordova', 'Kenai', 'Homer', \"St Mary's\", 'Unalakleet', 'Valdez', 'Chuathbaluk', 'Holy Cross', 'Kalskag', 'Russian Mission', 'Shageluk', 'Anvik', 'Alakanuk', 'Emmonak', 'Hooper Bay', 'Kasigluk', 'Chevak', 'Buckland', 'Deering', 'Nuiqsut', 'Point Lay', 'Barter Island', 'Deadhorse', 'Elim', 'Koyuk', 'Nome', 'Kotlik', 'Galena', 'Ruby', 'Huslia', 'Kaltag', 'Nulato', 'Gambell', 'Savoonga', 'Golovin', 'White Mountain', 'Scammon Bay', 'Koyukuk', 'Kiana', 'Noorvik', 'Shaktoolik', 'Mountain Village', 'Brevig Mission', 'Teller', 'Wales', 'Kivalina', 'Togiak Village', 'Mekoryuk', 'Kobuk', 'Shishmaref', 'Selawik', 'Noatak', 'Sleetmute', 'St. Michael', 'Caracas', 'La Romana', 'Valencia', 'Barquisimeto', 'Charlotte', 'Kingston', 'Rio Negro', 'Zandery', 'Port-of-spain', 'Port-au-prince', 'Dushanbe', 'Alma-ata', 'Khudzhand', 'Bishkek', 'Tehran', 'Surgut', 'Sharjah', 'Panama', 'Changuinola', 'David', 'Jaqué', 'Puerto Obaldia', 'Aktyubinsk', 'Cheboksary', 'Elista', 'Izhevsk', 'Makhachkala', 'Petrozavodsk', 'Penza', 'Saransk', 'Ulyanovsk', 'Vorkuta', 'Voronezh', 'Samara', 'Rostov', 'Volgograd', 'Yaroslavl', 'Kurgan', 'Kirov', 'Magnetiogorsk', 'Uraj', 'Chiang Mai', 'Akhiok', 'Cape Lisburne', 'Tin City', 'Baotou', 'Tengchong', 'Shangri-La', 'Dali', 'Simao', 'Yichun', 'Bella Coola', 'Anahim Lake', 'Campbell River', 'Comox', 'Cranbrook', 'Powell River', 'Williams Lake', 'Victoria', 'Port Hardy', 'Trail', 'Masset', 'Adana', 'Izmir', 'Bodrum', 'Diyabakir', 'Dalaman', 'Nicosia', 'Erzurum', 'Elazig', 'Sanliurfa', 'Alanya', 'Gaziantep', 'Malatya', 'Odessa', 'Trabzon', 'Mar Del Plata', 'Parana', 'Rosario', 'Santa Fe', 'Bahia Blanca', 'Trelew', 'San Carlos De Bariloche', 'Comodoro Rivadavia', 'Esquel', 'Cordoba', 'Mendoza', 'Neuquen', 'Rio Gallegos', 'Rio Grande', 'Ushuaia', 'Wekweeti', 'Whatì', 'Gamètì', \"Lutselk'e\", 'Kufra', 'Benghazi', 'Amman', 'Tripoli', 'Alexandria', 'Sfax', 'Tobruk', 'Allakaket', 'Hughes', 'Arctic Village', 'Venetie', 'Lake Minchumina', 'Changde', 'Luoyang', 'Huai An', 'Saga', 'Ibaraki', 'Kaohsiung', 'Zunyi', 'Takamatsu', \"N'djamena\", 'Kalamazoo', 'Chattanooga', 'Cedar Rapids', 'Charleston', 'Cincinnati', 'Evansville', 'Fort Wayne', 'Greensboro', 'Lansing', 'Lexington KY', 'Saginaw', 'Minneapolis', 'Roanoke VA', 'Syracuse', 'Knoxville', 'Bentonville', 'Detroit', 'New Orleans', 'Grand Forks', 'Thief River Falls', 'Harrisburg', 'Memphis', 'Nantucket', 'Boston', 'New Bedford', 'Barnstable', 'Vineyard Haven MA', 'Albany', 'Massena', 'Ogdensburg', 'Augusta', 'The Valley', 'San Juan', 'Bar Harbor', 'Billings', 'Glendive', 'Glasgow', 'Havre', 'Wolf Point', 'Sidney', 'Lebanon', 'Provincetown', 'Rockland', 'Rutland', 'Saranac Lake', 'Cape Girardeau', 'Culebra Island', 'Tortola', 'St. Thomas', 'White Plains', 'Kirksville', 'Mayaguez', 'Marion', 'Owensboro', 'St. Croix Island', 'Spanish Town', 'Vieques Island', 'Fort Leonardwood', 'Quincy', 'Dawson Creek', 'Fort Nelson', 'High Level', 'Rainbow Lake', 'Fort Saint John', 'Kamloops', 'Prince George', 'Lloydminster', 'Quesnel', 'Terrace', 'Smithers', 'San Pedro', 'Cockburn Town', 'Providenciales', 'Salt Cay', 'Araracuara', 'San Vincente De Caguan', 'San Andres Island', 'Providencia', 'Carepa', 'Medellin', 'Arauca', 'Buenaventura', 'Corozal', 'Florencia', 'Ipiales', 'Mitu', 'Puerto Carreno', 'Puerto Inírida', 'Pasto', 'Puerto Asis', 'Saravena', 'San Jose Del Guaviare', 'Tame', 'Quibdo', 'Villa Garzon', 'Villavicencio', 'Bahia Solano', 'Guapi', 'Nuquí', 'Leticia', 'La Pedrera', 'Puerto Leguízamo', 'Chisinau', 'Beauvais', 'Kiev', 'Bucharest', 'Porlamar', 'Panama City', 'Guayana', 'Barinas', 'Valera', 'Aizwal', 'Abu Dhabi', 'Amritsar', 'Calicut', 'Dammam', 'Kuwait', 'Bahrain', 'Bhuj', 'Bhopal', 'Bhaunagar', 'Mangalore', 'Colombo', 'Diu', 'Doha', 'Aurangabad', 'Jodhpur', 'Rajkot', 'Riyadh', 'Udaipur', 'Newark', 'Toronto', 'Silchar', 'Port Blair', 'Dehra Dun', 'Gorakhpur', 'Leh', 'Porbandar', 'Rajahmundry', 'Madurai', 'Tiruchirappalli', 'Sitia', 'Chios', 'Kalamata', 'Samos', 'Karpathos', 'Kasos', 'Alexandroupolis', 'Chania', 'Keffallinia', 'Ioannina', 'Ikaria', 'Kalymnos', 'Cyclades Islands', 'Skiathos', 'Syros Island', 'Astypalaia', 'Kithira', 'Leros', 'Limnos', 'Mytilini', 'Milos', 'Marseille', 'Nantes', 'Paros', 'Philadelphia', 'Skiros', 'Sofia', 'Tirana', 'Zakynthos', 'Porto', 'Kastelorizo', 'Yacuiba', 'Santa Cruz', 'Tarija', 'Cochabamba', 'Trinidad', 'Cobija', 'Guayaramerín', 'Potosi', 'Oruro', 'Riberalta', 'Agen', 'Castres', 'Ajaccio', 'Brive', 'Poitiers', 'Clermont-Ferrand', 'Strasbourg', 'Aurillac', 'Brest', 'Lille', 'Biarritz-bayonne', 'Caen', 'Metz', 'Florence', 'Figari', 'Gothenborg', 'Lannion', 'Tarbes', 'La Rochelle', 'Lorient', 'Pau', 'Rennes', 'Perpignan', 'Rodez', 'Quimper', 'Entebbe', 'Kasese', 'Batumi', 'Kutaisi', 'Allentown', 'Abilene', 'Albuquerque', 'Phoenix', 'Aberdeen', 'Waco', 'Adelaide', 'Brisbane', 'Bush Field', 'Washington', 'Auckland', 'Papeete', 'Waterloo', 'Amarillo', 'Arequipa', 'Watertown', 'Alice Springs', 'Lahore', 'Austin', 'Asheville', 'Scranton', 'Bermuda', 'Windsor Locks', 'Pittsburgh', 'Bakersfield', 'Bridgetown', 'Binghamton', 'Bangor', 'Belfast', 'Del Bajio', 'Bloomington', 'Nashville', 'Canberra', 'Cairns', 'Townsville', 'Boise', 'Buffalo', 'Portland', 'Richmond', 'Rochester', 'San Diego', 'Seattle', 'Beaumont', 'Brownsville', 'Baton Rouge', 'Burbank', 'Baltimore', 'Columbia', 'Akron', 'Christchurch', 'Charlottesville VA', 'Cleveland', 'College Station', 'Columbus', 'Daytona Beach', 'Dayton', 'Denver', 'Des Moines', 'New Bern', 'Fayetteville', 'Georgetown', 'Gulfport', 'Hilton Head Island', 'Huntsville', 'Huntington', 'Houston', 'Wilmington', 'Indianapolis', 'Jackson', 'Little Rock', 'Lynchburg', 'Montego Bay', 'Kansas City', 'MONTGOMERY', 'Manchester NH', 'Milwaukee', 'Mobile', 'Myrtle Beach', 'Nassau', 'Jacksonville NC', 'Omaha', 'Norfolk', 'Newport News', 'Providence', 'Raleigh-durham', 'Savannah', 'Salisbury', 'Louisville', 'San Francisco', 'Salt Lake City', 'Sacramento', 'Sarasota', 'BRISTOL', 'Hewandorra', 'Valparaiso', 'Champaign', 'Colorado Springs', 'Corpus Christi', 'Sapporo', 'Wassau', 'Dubuque IA', 'Islip', 'Halifax', 'Durango', 'El Paso', 'Fargo', 'Fresno', 'Sioux Falls', 'Fort Smith', 'Garden City', 'Longview', 'Grand Junction', 'Grand Island', 'Killeen', 'Grand Rapids', 'Honolulu', 'Wichita', 'Joplin', 'Lawton', 'Lubbock', 'Lake Charles', 'Lafayette', 'Laredo', 'Midland', 'Mcallen', 'Manhattan', 'Moline', 'Morelia', 'Monroe', 'Madison', 'Kahului', 'Oklahoma City', 'Ontario', 'Puebla', 'Peoria', 'Palm Springs', 'Queretaro', 'Rapid City', 'Reno', 'Roswell', 'San Salvador', 'Springfield', 'Shreveport', 'San Angelo', 'San Luis Potosi', 'Wichita Falls', 'Tulsa', 'Tucson', 'Texarkana', 'Tyler', 'Elmira', 'Erie', 'Eugene', 'Flagstaff', 'Flint', 'Spokane', 'Gibraltar', 'Point Salines', 'Green Bay', 'Oakland', 'New Haven', 'Williamsport', 'Ithaca', 'Juneau', 'Juliaca', 'Kona', 'Langkawi', 'Lihue', 'Medford', 'Mammoth Lakes', 'Monterey', 'Nandi', 'Redmond-Bend', 'Santa Rosa', 'Leeds', 'Long Beach', 'Luxemburg', 'Newcastle', 'Rotterdam', 'Stavanger', 'La Crosse', 'Manaus', 'Puerto Plata', 'Recife', 'Basse Terre', 'Gwinn', 'Sioux City', 'Toledo', 'Traverse City', 'State College Pennsylvania', 'Newburgh', 'Santa Barbara', 'San Luis Obispo', 'Yuma', 'Puerto Montt', 'Punta Arenas', 'Arrecife', 'Fuerteventura', 'Alicante', 'Munster', 'Paderborn', 'Menorca', 'Enfidha', 'Djerba', 'Funchal', 'Guernsey', 'Jersey', 'Ponta Delgada', 'Preveza', 'Santa Cruz De La Palma', 'Varadero', 'Gdansk', 'Linz', 'Innsbruck', 'Almeria', 'Malta', 'Saarbruecken', 'Sevilla', 'Nea Anghialos', 'Guanambi', 'Bom Jesus Da Lapa', 'Addis Ababa', 'Samana', 'Bujumbura', 'Kigali', 'Luanda', 'Cunagua', 'Vilnius', 'Fort Mcmurray', 'Regina', 'Saskatoon', 'Kinshasa', 'Holguin', \"St. John's\", 'Santa Clara', 'Trondheim', 'Sault Sainte Marie', 'Baie Comeau', 'Mont Joli', 'Bagotville', 'Nanaimo', 'Castlegar', 'Deer Lake', 'Goose Bay', 'Grande Prairie', 'Fredericton', 'Gaspe', 'Iles De La Madeleine', 'Moncton', 'Gander', 'St. John', 'Charlottetown', 'Prince Pupert', 'Red Deer Industrial', 'Windsor', 'Lethbridge', 'Thunder Bay', 'Sudbury', 'Timmins', \"Val D'or\", 'Bathurst', 'Penticton', 'Sandspit', 'Medicine Hat', 'North Bay', 'Sarnia', 'Araxa', 'Patos de Minas', 'Alta Floresta', 'Aracaju', 'Maceio', 'Campinas', 'Aracatuba', 'Altamira', 'Belem', 'Santarem', 'Maraba', 'Barcelos', 'Parauapebas', 'Fortaleza', 'Imperatriz', 'Macapa', 'Porto Seguro', 'Boa Vista', 'Vilhena', 'Bointo', 'Campos', 'Criciuma', 'Cabo Frio', 'Ji-Paraná', 'Londrina', 'Maringa', 'Cacoal', 'Porto Velho', 'Rondonopolis', 'Corumba', 'Coari', 'Caldas Novas', 'Campina Grande', 'Ipatinga', 'Juiz de Fora', 'Montes Claros', 'Sao Luis', 'Vitoria', 'Petrolina', 'Caxias Do Sul', 'Foz Do Iguacu', 'Eirunepe', 'Tefe', 'Fernando Do Noronha', 'Natal', 'Florianopolis', 'Joao Pessoa', 'Parnaiba', 'Teresina', 'Ilheus', 'Navegantes', 'Governador Valadares', 'Santa Isabel do Rio Negro', 'Itaituba', 'Juazeiro Do Norte', 'Joinville', 'Bauru', 'Marília', 'Lençóis', 'Tucurui', 'Parintins', 'Tabatinga', 'Macaé', 'Sao Paulo de Olivenca', 'Paulo Alfonso', 'Pelotas', 'Passo Fundo', 'Sao Jose Dos Campos', 'Santa Maria', 'Chapeco', 'President Prudente', 'Rio Branco', 'Rio Verde', 'Sao Gabriel', 'Oriximina', 'Taichung', 'Hualien', 'Kinmen', 'Meixian', 'Makung', 'Okinawa', 'Yancheng', 'Fengnin', 'Abuja', 'Port Hartcourt', 'Liege', 'Harare', 'Kilimanjaro', 'Antwerp', 'Appleton', 'Brunswick', 'Dallas', 'Dothan', 'Columbus Mississippi', 'South Bend', 'Valdosta', 'Southampton', 'Beirut', 'Bangui', 'Yaounde', 'St-Etienne', 'Krabi', 'Luang Prabang', 'Billund', 'Brazzaville', 'Exeter', 'Genoa', 'Libreville', 'Ljubljana', 'Plaisance', 'Nouakschott', 'Pointe-noire', 'Rabat', 'Antananarivo', 'Vigo', 'Dar Es Salaam', 'Malabo', 'Deauville', 'Dzaoudzi', 'Moroni', 'Bergerac', 'Enshi', 'Lusaka', 'Ivalo', 'Kittila', 'Limoges', 'Lilongwe', 'Livingstone', 'St.-denis', 'St.-pierre', 'Baishan', 'Hyeres', 'Babelthuap', 'Annaba', 'Oran', 'Adrar', 'Bejaja', 'Batna', 'Biskra', 'Constantine', 'Djanet', 'El Bayadh', 'Guemar', 'Ghardaia', 'Hassi Messaoud', 'Tilrempt', 'In Salah', 'Ghriss', 'Mecheria', 'Ouargla', 'Setif', 'Tebessa', 'Touggourt', 'Tiaret', 'Tlemcen', 'Bordj Badji Mokhtar', 'Béchar', 'Ech-cheliff', 'Tamanrasset', 'El Golea', 'Zarzaitine', 'Agra', 'Khajuraho', 'Agatti Island', 'Gwalior', 'Allahabad', 'Jamnagar', 'Dimapur', 'Shillong', 'Kangra', 'Jabalpur', 'Kanpur', 'Kulu', 'Ludhiaha', 'Surat', 'Tirupeti', 'Vijayawada', 'Male', 'Alor Setar', 'Bandung', 'Johor Bahru', 'Kota Bahru', 'Kuching', 'Miri', 'Sandakan', 'Tawau', 'Balikpapan', 'Banda Aceh', 'Bintulu', 'Hat Yai', 'Sibu', 'Yogyakarta', 'Labuan', 'Praya', 'Padang', 'Pekanbaru', 'Palembang', 'Solo City', 'Semarang', 'Surabaya', 'Kuala Terengganu', 'Ujung Pandang', 'Surat Thani', 'Vientiane', 'Colima', 'Ciudad Victoria', 'Tapachula', 'Los Mochis', 'Mexicali', 'Jalapa', 'Lazard Cardenas', 'Matamoros', 'Nuevo Laredo', 'Poza Rico', 'Piedras Negras', 'Puerto Escondido', 'Saltillo', 'Tepic', 'San Rafael', 'San Martin Des Andes', 'Catamarca', 'Formosa', 'El Calafate', 'Iguazu Falls', 'La Rioja', 'Jujuy', 'San Luis', 'Posadas', 'Resistencia', 'Rio Hondo', 'Santiago Del Estero', 'Salta', 'Tucuman', 'Viedma', 'Adak Island', 'King Salmon', 'Walla Walla', 'Cold Bay', 'Dillingham', 'Sand Point', 'St. Paul Island', 'Point Barrow', 'Bellingham', 'Lewiston', 'Plattsburgh', 'Presque Isle', 'Bozeman', 'Yakutat', 'Wenatchee', 'Kalispell', 'Great Falls', 'Helena', 'Petersburg', 'Sitka', 'Wrangell', 'Loreto', 'Pullman', 'Missoula', 'Pasco', 'Yakima', 'Agadir', 'El Aaiún', 'Dakhla', 'Al Hociema', 'Praia, Santiago Island', 'Oujda', 'Ouarzazate', 'Tetouan', 'Essadouira', 'Tan Tan', 'Armenia', 'Barranquilla', 'Bucaramanga', 'Cartagena', 'Cucuta', 'Barrancabermeja', 'Yopal', 'Ibague', 'Monteria', 'Manizales', 'Neiva', 'Pereira', 'Popayan', 'Rio Hacha', 'Santa Marta', 'Valledupar', 'Tumaco', 'Tamale', 'Malmoe', 'Umea', 'Joensuu', 'Jyvaskyla', 'Kajaani', 'Kuusamo', 'Keflavik', 'Kemi', 'Kuopio', 'Minsk 2', 'Norrkoeping', 'Oulu', 'Rovaniemi', 'Savonlinna', 'Tartu', 'Tallinn-ulemiste International', 'Tampere', 'Vaasa', 'Aalborg', 'Pamplona', 'Alesund', 'Alghero', 'Humberside', 'Kristiansand', 'Teesside', 'Norwich', 'Karachi', 'Khartoum', 'Mahe', 'Baia Mare', 'Iasi', 'Bolzano', 'Comiso', 'Cluj-napoca', 'Reggio Calabria', 'Podgorica', 'Ronchi De Legionari', 'La Coruna', 'Pescara', 'Oradea', 'Satu Mare', 'Timisoara', 'Tashkent', 'Tirgu Mures', 'Ashkhabad', 'Tselinograd', 'Amboseli National Park', 'Hargeisa', 'Wajir', 'Kitale', 'Lokichoggio', 'Masai Mara', 'Ukunda', 'Aguadilla', 'Worcester', 'Ponce', 'Abadan', 'Mashhad', 'Teheran', 'Ahwaz', 'Esfahan', 'Kish Island', 'Dasht-e-naz', 'Shiraz', 'Yazd', 'Bandar Abbas', 'Bakhtaran', 'Rasht', 'Tabriz', 'Zahedan', 'Aarhus', 'Scarborough', 'Durban', 'Port Elizabeth', 'Granada', 'Isle Of Man', 'Victoria Falls', 'Windhoek', 'Paphos', 'Sendai', 'Kobe', 'Miho', 'Kagoshima', 'Ishigaki', 'Miyako', 'Nagasaki', 'Kirkwall', 'Sumburgh', 'East Midlands', 'Inverness', 'Benbecula', 'Stornoway', 'Connaught', 'Waterford', 'Barra', 'Campbeltown', 'Dongloe', 'Dundee', 'Doncaster, Sheffield', 'Wick', 'Islay', 'Tiree', 'Liverpool', 'Groote Eylandt', 'Mulu', 'Monastir', 'Zhijiang', 'Yongzhou', 'Tongren', 'Yantai', 'Heihe', 'Mohe County', 'Jiagedaqi District', 'Jiamusi', 'Jixi', 'Buonmethuot', 'Vinh', 'Nha Trang', 'Danang', 'Haiphong', 'Phuquoc', 'Esbjerg', 'Kristiansund', 'Harstad/Narvik', 'Kasane', 'Gaberone', 'Maun', 'Francistown', 'Asahikawa', 'Hakodate', 'Kanazawa', 'Okayama', 'Huangshan', 'Palanga', 'Bukavu/kavumu', 'Kindu', 'Kongolo', 'Boende', 'Mbandaka', 'Beni', 'Bunia', 'Goma', 'Isiro', 'Lubumashi', 'Kananga', 'Mbuji-mayi', 'Kisangani', 'Tshikapa', 'Gemena', 'Kalemie', 'Lodja', 'Cayo Largo del Sur', 'Santiago De Cuba', 'Bata', 'Aksu', 'Bangda', 'Dazhou', 'Guangyuan', 'Huangyan', 'Jingdezhen', 'Luzhou', 'Wuyishan', 'Yuncheng', 'Chaoyang', 'Chifeng', 'Changzhi', 'Korla', 'Yining', 'Yiwu', 'Dandong', 'Hiroshima', 'Daqing', 'Pyongyang', 'Fuyang', 'Hailar', 'Ulanhot', 'Hami', 'Zhoushan', 'Hotan', 'Yanji', 'Jian', 'Jiujiang', 'Jinzhou', 'Quzhou', 'Liuzhou', 'Mudanjiang', 'Muan', 'Qiqihar', 'Bayannur', 'Taegu', 'Tongliao', 'Ulan Bator', 'Wuhai', 'Xiangfan', 'Xilinhot', 'Puerto Lempira', 'Avignon', 'Port Moresby', 'Buka Island', 'Tokua', 'Daru', 'Nadzab', 'Kiunga', 'Goroka', 'Mount Hagen', 'Madang', 'Gurney', 'Misima Island', 'Girua', 'Moro', 'Tabubil', 'Tari', 'Wewak', 'Hoskins', 'Kavieng', 'Momote', 'Bulolo', 'Tainan', 'Miyazaki', 'Toyama', 'Camaguey', 'Guantanamo', 'Khabarovsk', 'Ko Samui', 'Vladivostok', 'Altay', 'Xingyi', 'Anshan', 'Anqing', 'Anshun', 'Bijie', 'Baoshan', 'Liping', 'Jining', 'Chizhou', 'Libo', 'Lianyungang', 'Nanchong', 'Nanyang', 'Niigata', 'Yinchun', 'Kuqa', 'Lincang', 'Zhaotong', 'Karamay', 'Xinyuan', 'Osh', 'Tacheng', \"Yan'an\", 'Cherepovets', 'Veliky Ustyug', 'Apatity', 'Ndola', 'Coolangatta', 'Ängelholm', 'Kalkmar', 'Ronneby', 'Sundsvall', 'Trollhattan', 'Buri Ram', 'Chiang Rai', 'Chumphon', 'Udon Thani', 'Nakhon Phanom', 'Loei', 'Tak', 'Nan', 'Nakhon Si Thammarat', 'Phitsanulok', 'Phrae', 'Roi Et', 'Sakon Nakhon', 'Trang', 'Ubon Ratchathani', 'Ranong', 'Alpena', 'Bismarck', 'Bemidji', 'Brainerd', 'International Falls', 'Butte', 'Bratislava', 'Cedar City', 'Sault Ste Marie', 'Moab', 'Cody', 'Casper', 'Dickinson', 'Duluth', 'Escanaba', 'Pellston', 'Elko', 'Gillette', 'Rock Springs', 'Hibbing', 'Idaho Falls', 'Iron Mountain', 'Rhinelander', 'Williston', 'Jacksn Hole', 'Kosice', 'Lincoln', 'Minot', 'Pocatello', 'Saint George', 'Twin Falls', 'Vernal', 'Cap Skiring', 'Ziguinchor', 'Cabinda', 'Soyo', 'Catumbela', 'Ondjiva', 'Luena', 'Malanje', 'Mocamedes', 'Huambo', 'Lubango', 'Menongue', 'Kuito', 'Sao Tome', 'Saurimo', 'Aktau', 'Chimkent', 'Dzhambul', 'Zhezkazgan', 'Karaganda', 'Kokshetau', 'Kostanay', 'Semiplatinsk', 'Petropavlosk', 'Ust Kamenogorsk', 'Atyrau', 'Kzyl-Orda', 'Uralsk', 'Ronne', 'Molde', 'Stord', 'Rygge', 'Alta', 'Kiruna', 'Lulea', 'Bardufoss', 'Bourgas', 'Bodo', 'Karup', 'Haugesund', 'Kirkenes', 'Svalbard', 'Murcia', 'Szczecin', 'Port Gentil', 'Choibalsan', 'Muren', 'Olgii', 'Ulaangom', 'Kurgan Tyube', 'Kulyab', 'Orenburg', 'Cork', 'Shannon', 'Blackpool', 'Bournemouth', 'Kerry', 'Southend', 'Baghdad', 'Blackall', 'Longreach', 'Rockhampton', 'Basrah', 'Gove', 'Erbil', 'Madinah', 'Peshawar', 'Sanaa', 'Sialkot', 'Wellington', 'Queenstown International', 'Donetsk', 'Gassim', 'Taif', 'Tabuk', 'Yenbo', 'Zabol', 'Ardabil', 'Sabzevar', 'Khalije Fars', 'Bandar Lengeh', 'Bojnourd', 'Bushehr', 'Bam', 'Dezful', 'Lamerd', 'Lar', 'Chah Bahar', 'Gorgan', 'Gachsaran', 'Hamadan', 'Ilam', 'Sulaymaniyah', 'Kandahar', 'Kerman', 'Khoy', 'Noshahr', 'Ramsar', 'Uromiyeh', 'Parsabad', 'Sanandaj', 'Yasuj', 'Esmeraldas', 'Cuenca', 'Galapagos', 'La Toma (Catamayo)', 'Latacunga', 'Manta', 'Tena', 'Tulcan', 'Macas', 'Arba Minch', 'Asosa', 'Axum', 'Bahar Dar', 'Dire Dawa', 'Enugu', 'Gondar', 'Gambella', 'Jijiga', 'Jimma', 'Maputo', 'Makale', 'Lalibella', 'Blantyre', 'Gode', 'Mattala', 'Porto Santo', 'Nanyuki', 'Samburu South', \"M'banza-congo\", 'Lampedusa', 'Lugano', 'Pantelleria', 'Trapani', 'Alliance', 'Chadron', 'Alamosa', 'Farmington', 'Trenton', 'Pierre', 'Branson', 'Cheyenne', 'Worland', 'Dodge City', 'Liberal', 'Show Low', 'Huron', 'Page', 'St. Augustine Airport', 'Varna', 'Khon Kaen', 'Narathiwat', 'Ankara', 'Sanford', 'Faleolo', 'Kiritimati', 'Funafuti', 'Nausori', 'Honiara', 'Port-vila', 'Cicia', 'Vunisea', 'Lambasa', 'Lakeba Island', 'Rotuma', 'Savusavu', 'Tongatapu', 'Tarawa', 'Matei', 'Vanua Balavu', 'Harlingen', 'Qinhuangdao', 'Al Ghaidah Intl', 'Aden', 'Abha', 'Sayun Intl', 'Mukalla', 'Ataq', 'Taiz', 'Hodeidah', 'Socotra', 'Charleroi', 'Eindhoven', 'Hahn', 'Weeze', 'Prestwick', 'Santander', 'Zaragoza', 'Vasteras', 'Gerona', 'Parma', 'Kaunas', 'Maastricht', 'Valladolid', 'Luebeck', 'Lappeenranta', 'Bydgoszcz', 'Londonderry', 'Reus', 'Carcassonne', 'Beziers', 'Brno', 'Rzeszow', 'Perugia', 'Nimes', 'Dole', 'Dinard', 'Tours', 'Patras', 'Groningen', 'Skelleftea', 'Plovdiv', 'Lublin', 'Chalons', 'Osijek', 'Ostrava', 'Fukushima', 'Oita', 'Batam', 'Ipoh', 'Kerteh', 'Kuantan', 'Hail', 'Kharkov', 'Multan', 'Najaf', 'Port Sudan', 'Salalah', 'Cruzeiro do Sul', 'Punta Gorda', 'Mesa', 'Ogden', 'Provo', 'Rockford', 'Saint Cloud', 'Belleville', 'Clarksburg', 'Hagerstown', 'Niagara Falls', 'Stockton', 'Youngstown', 'Portsmouth', 'Baise', 'Dongying', 'Wuzhou', 'Asyut', 'Sohag', 'Al-ahsa', 'Ambon', 'Banjarmasin', 'Tanjung Redep-Borneo Island', 'Biak', 'Jayapura', 'Bengkulu', 'Bima', 'Manado', 'Taraken', 'Bandar Lampung-Sumatra Island', 'Jambi', 'Malang', 'Pangkal Pinang', 'Palangkaraya', 'Palu', 'Pontianak', 'Tanjung Pandan', 'Tanjung Pinang', 'Ternate', 'Merauke', 'Manokwari', 'Timika', 'Kupang', 'Labuhan Bajo', 'Waikabubak-Sumba Island', 'Ende', 'Gorontalo', 'Kendari', 'Sorong', 'Kushiro', 'Matsuyama', 'Neerlerit Inaat', 'Ittoqqortoormiit', 'Sondrestrom', 'Godthaab', 'Ilulissat', 'Paamiut', 'Sisimiut', 'Maniitsoq', 'Narssarssuaq', 'Aasiaat', 'Uummannaq', 'Upernavik', 'Qaqortoq', 'Nanortalik', 'Narsaq', 'Alluitsup Paa', 'Eqalugaarsuit', 'Qaanaaq', 'Thule', 'Kastoria', 'Kozani', 'Alderney', 'Bole', 'Erenhot', 'Qingyang', 'Jinchuan', 'Zhangye', 'Atka', 'Unalaska', 'Pilot Point', 'South Naknek', 'False Pass', 'King Cove', 'Nelson Lagoon', 'Nikolski', 'Akutan', 'Egegik', 'Igiugig', 'Perryville', 'Port Heiden', 'Aitutaki', 'Atiu Island', 'Avarua', 'Mangaia Island', 'Mitiaro Island', 'Mauke Island', 'Calama', 'La Serena', 'Arica', 'Balmaceda', 'Valdivia', 'Temuco', 'Copiapo', 'Arua', 'Hilo', 'Lanai', 'Molokai', 'Pago Pago', 'Memanbetsu', 'Obihiro', 'Praslin', 'Longyan', 'Sokcho / Gangneung', 'Ostend', 'Borlange', 'Orebro', 'Östersund', 'Weifang', 'Amilcar Cabral', 'Fort Good Hope', 'Tulita', 'Deline', 'Andizhan', 'Urgench', 'Termez', 'Yuzhno-sakhalinsk', 'Yuzhno-Kurilsk', 'Shakhtyorsk', 'Klawock', 'Bahawalpur', 'Quetta', 'Faisalabad', 'Melilla', 'Aviles', 'San Sebastian', 'Leon', 'Burgos', 'Salamanca', 'Lleida', 'Logroño-Agoncillo', 'Atoifi', 'Choiseul Bay', 'Gizo', 'Sege', 'Ramata', 'Suavanao', 'Fera Island', 'Munda', 'Kirakira', 'Kagau Island', 'Ulawa', 'Rennell Island', 'Marau', 'Santa Cruz/Graciosa Bay/Luova', 'Mostar', 'Sharm El Sheikh', 'Saumlaki', 'Pangkalan Bun', 'Oksibil', 'Wamena', 'Dobo', 'Langgur-Kei Islands', 'Ketapang', 'Abakan', 'Blagoveschensk', 'Omsk', \"ST MARY\\\\'S\", 'Magadan', 'Kyzyl', 'Ulan-ude', \"Land's End\", 'Salekhard', 'Khorram Abad', 'Birjand', 'Al Ain', 'Asmara', 'Haifa', 'Ganja', 'Fort Chipewyan', 'Geneina', 'El Fasher', 'Nyala', 'Elfin Cove', 'Gustavus', 'Hoonah', 'Haines', 'Skagway', 'Angoon', 'Redang', 'Luxor', 'Banja Luka', 'Arxan', 'Bloemfontein', 'George', 'Aomori', 'Matsumoto', 'Yamagata', 'Hanamaki', 'Kumamoto', 'Ciudad del Este', 'Amami', 'Akita', 'Izumo', 'Misawa', 'Nanki-shirahama', 'Tokushima', 'Yamaguchi', 'Dunedin', 'Avalon', 'Uluru', 'Hobart', 'Hamilton Island', 'Launceston', 'Mackay', 'Prosserpine', 'Ballina Byron Bay', 'Maroochydore', 'Fak Fak', 'Nabire', 'Ranai-Natuna Besar Island', 'Bau-Bau', 'Babo', 'Maumere', 'Waingapu', 'Kaimana', 'Kao', 'Luwuk', 'Melonguane', 'Naha', 'Poso', 'Berbera', 'Bosaso', 'Galcaio', 'Fort Frances', 'Kenora', 'Flin Flon', 'The Pas', 'Dryden', 'Red Lake', 'Sioux Lookout', 'Kapuskasing', 'Cap Haitien', 'South Caicos', 'Hydaburg', 'Imperial', 'El Dorado', 'Hot Springs', 'Harrison', 'Salina', 'North Bend', 'Pendleton', 'Sihanoukville', 'Mae Hong Son', 'Pai', 'Thimphu', 'Pavlodar', 'Sacheon', 'Kunsan', 'Kwangju', 'Yeosu', 'Ulsan', 'Wonju', 'Pohang', 'Linkoeping', 'Foshan', 'Iliamna', 'Nampula', 'Pemba', 'Mwanza', 'Cayman Brac', 'Little Cayman', 'La Ceiba', 'Zouerat', 'Nouadhibou', 'Chiclayo', 'Cajamarca', 'Easter Island', 'Piura', 'Tumbes', 'Tacna', 'Trujillo', 'Castro', 'Mount Pleasant', 'Osorno', 'Oyo', 'Angouleme', 'Nizhniy Novgorod', 'Lvov', 'Sibiu', 'Kingstown', 'Eday', 'Sanday', 'North Ronaldsay', 'Papa Westray', 'Stronsay', 'Westray', 'Ghat', \"Al Bayda'\", 'Ghadames', 'Sirt', 'Carlsbad', 'Los Alamos', 'Lancaster', 'Orland', 'Fagernes', 'Aswan', 'Port Angeles', 'Eastsound', 'Friday Harbor', 'Breves', 'Almeirim', 'Zaporozhye', 'Uzhgorod', 'Antalaha', 'Toamasina', 'Maroantsetra', 'Antsiranana', 'Nosy-be', 'Sambava', 'Mahajanga', 'Tolagnaro', 'Toliara', 'Morondava', 'Sainte Marie', 'Mananara', 'Kano', 'Bario', 'Marudi', 'Kudat', 'Lahad Datu', 'Lawas', 'Bakalalan', 'Mukah', 'Long Datih', 'Long Akah', 'Limbang', 'Long Seridan', 'Dili', 'Rodriguez Island', 'East London', 'Gillam', 'Bayankhongor', 'Altai', 'Khovd', 'Dalanzadgad', 'Uliastai', 'Abu Simbel', 'Kangding', 'Golmud', 'Shiquanhe', 'Naypyidaw', 'Zhangjiakou', 'Yushu', 'Lahania-kapalua', 'Hana', 'Kamuela', 'La Isabela', 'Anelghowhat', 'Tanna', 'Aniwa', 'Futuna Island', 'Santo', 'Craig Cove', 'Lamen Bay', 'Norsup', 'Ambryn Island', \"Dillon's Bay\", 'Ipota', 'Sangafa', 'Lonorore', 'Longana', 'Lamap', 'Ablow', 'Sola', 'Loh/Linua', 'Gaua Island', 'Maewo Island', 'Noumea', 'Malekula Island', 'Paama Island', 'Pentecost Island', 'Walaha', 'Tongoa Island', 'Valesdir', 'Nakashibetsu', 'Wakkanai', 'Fukue', 'Tsushima', 'Hachijojima', 'Iwami', 'Iwakuni', 'Monbetsu', 'Wajima', 'Oshima', 'Odate Noshiro', 'Shonai', 'Tottori', 'Iki', 'Cacador', 'Joacaba', 'Guarapuava', 'Erechim', 'Santo Angelo', 'Uruguaiana', 'Atlantic City', 'Latrobe', 'Sukkur', 'La Gomera', 'Hierro', 'Kumejima', 'Akureyri', 'Reykjavik', 'Egilsstadir', 'Isafjordur', 'Woodbourne', 'Gisborne', 'Hamilton', 'Kaitaia', 'Kerikeri', 'NAPIER', 'New Plymouth', 'Nelson', 'Palmerston North', 'Paraparaumu', 'Rotorua', 'Tauranga', 'Taupo', 'Wanganui', 'Whakatane', 'Whangarei', 'Cloncurry', 'Norfolk Island', 'Brusselton', 'Hokitika', 'Invercargill', 'Derby', 'Esperance', 'Geraldton', 'Alofi', 'Kalgoorlie', 'Kununurra', 'Learmonth', 'Paraburdoo', 'Ravensthorpe', 'Port Macquarie', 'Timaru', 'Westport', 'Sunyani', 'Takoradi', 'Sucre', 'Karlovy Vary', 'Perm', 'Nauru', 'Majuro', 'Dnepropetrovsk', 'Brac', 'Puerto Madryn', 'Chipata', 'Kasama', 'Mfuwe', 'Mansa', 'Morristown', 'Manistee', 'Guanaja', 'Utila', 'Bonaventure', 'Havre-Saint-Pierre', 'St. Anthony', 'Lourdes-De-Blanc-Sablon', 'Charlo', 'Nain', 'Natuashish', 'Hopedale', 'Makkovik', 'Stephenville', 'Postville', 'Churchill Falls', 'Van', 'Kayseri', 'Hatay', 'Mardin', 'Sivas', 'Konya', 'Batman', 'Denizli', 'Balikesir Korfez', 'Erzincan', 'Kahramanmaras', 'Mus', 'Merzifon', 'Nevsehir', 'Lampang', 'Trat', 'Sukhothai', 'Pattaya', 'Chokurdah', 'Cherskiy', 'Tiksi', 'Honuu', 'Neryungri', 'Batagay-Alyta', 'Rahim Yar Khan', 'Chitral', 'Dalbandin', 'Dera Ghazi Khan', 'Dera Ismael Khan', 'Zhob', 'Gilgit', 'Gwadar', 'Turbat', 'Skardu', 'Moenjodaro', 'Panjgur', \"Arthur's Town\", \"Dead Man's Cay\", 'Port Nelson', 'Rock Sound', 'Stella Maris', 'Cat Island', 'Calbayog City', 'Jolo', 'Masbate', 'Ivano-Frankivsk', 'Arusha', 'Bukoba', 'Mbeya', 'Mtwara', 'Kundiawa', 'Vanimo', 'Mendi', 'Wapenamanda', 'Gan Island', 'DHARAVANDHOO', 'Haa Dhaalu Atoll', 'Kaadedhdhoo', 'Kooddoo', 'Laamu Atoll', 'Amberley', 'Aurukun', 'Coen', 'Bedourie', 'Boulia', 'Birdsville', 'Roma', 'Toowoomba', 'Mount Isa', 'Burketown', 'Doomadgee', 'Mornington Island', 'Windorah', 'Cunnamulla', 'St George', 'Thargomindah', 'Pormpuraaw', 'Lockhart River', 'Kowanyama', 'Normanton', 'Weipa', 'Charlieville', 'Quilpie', 'Port Menier', 'St-Augustin', 'La Romaine', 'Natashquan', 'Siri Island', 'Garoua', 'Maroua', \"N'gaoundere\", 'Albury', 'Olympic Dam', 'Port Lincoln', 'Armidale', 'Barcaldine', 'Bundaberg', 'Broome', 'Karratha', 'Emerald', 'Gladstone', 'Hervey Bay', 'Lord Howe Island', 'Moranbah', 'Port Hedland', \"Coff's Harbour\", 'Horn Island', 'Dubbo', 'Devonport', 'Mildura', 'Moree', 'Newman', 'Tamworth', 'Wagga Wagga', 'El Vigía', 'Savannakhet', 'Huay Xai', 'Pakse', 'Luang Namtha', 'Muang Xay', 'Phon Savan', 'Orsk', 'Anadyr', 'Nogliki', 'Rimini', 'Pevek', 'Maturin', 'Vagar', 'Fujeirah', 'Sir Bani Yas Island', 'Aqaba', 'Mosul', 'Horta', 'Pico', 'Santa Maria (island)', 'Lajes (terceira Island)', 'Conceicao Do Araguaia', 'Santana do Araguaia', 'Gurupi', 'Minacu', 'Ourilandia do Norte', 'Redencao', 'Santa Terezinha', 'Sao Felix do Araguaia', 'Sao Felix do Xingu', 'Anapa', 'Barnaul', 'Kemorovo', 'Novokuznetsk', 'Norilsk', 'Beslan', 'Gorno-Altaysk', 'Simferopol', 'Stavropol', 'Tomsk', 'Petropavlovsk', 'Beira', 'Bulawayo', 'Hoedspruit', 'Kimberley', 'Mpumalanga', 'Upington', 'Walvis Bay', 'Maseru', 'Manzini', 'Phalaborwa', 'Potgietersrus', 'Pietermaritzburg', \"Richard's Bay\", 'Tete', 'Umtata', 'Vilankulu', 'Wallis', 'Hubli', 'Belgaum', 'Mysore', 'Argyle', 'Burnie', 'King Island', 'Flinders Island', 'Corvo', 'Graciosa Island', 'Sao Jorge Island', 'Augsburg', 'Erfurt', 'Kassel', 'Hawarden', 'Zonguldak', 'Gelendzhik', 'El-baha', 'Al-Jawf', 'Hafr Al-batin', 'Bisha', 'Nejran', 'Gizan', nan, 'Wejh', 'Arar', 'Sharurah', 'Guriat', 'Wadi-al-dawasir', 'Al-Ula', 'Rafha', 'Turaif', 'Mpacha', 'Rundu', 'Ondangwa', 'Luderitz', 'Oranjemund', 'Bern', 'Khanty-Mansiysk', 'Dijon', 'Perigueux', 'Le Havre', 'Ovda', 'Teterboro', 'Adiyaman', 'Agri', 'Eskissehir', 'Bingol', 'Canakkale', 'Constanta', 'Igdir', 'Topel', 'Kars', 'Çorlu', 'Isparta', 'Kastamonu', 'Kutahya', 'Nakhchivan', 'McArthur River Mine', 'Maningrida', 'Elcho Island', 'Milingimbi', 'Lichinga', 'Quelimane', 'Inhambane', 'Chimoio', 'Sao Vicente Island', 'Tozeur', 'Waala', 'Koumac', 'Île des Pins', 'Kone', 'Lifou', 'Mare', 'Tiga', 'Touho', 'Ouvea', 'Qabala', 'Lankaran', 'Gyumri', 'Arcata CA', 'Crescent City', 'Altoona', 'Johnstown', 'Aspen', 'Bradford', 'Jamestown', 'Beckley', 'Weyers Cave', 'Chico', 'Morgantown', 'Du Bois', 'Franklin', 'PARKERSBURG', 'Hancock', 'Vail', 'Gunnison', 'Hayden', 'Laramie', 'Montrose CO', 'Pueblo', 'Eau Claire', 'Topeka', 'Rota', 'Chuuk', 'Yap', 'Hobbs', 'Kosrae', 'Kwajalein', 'Pohnpei', 'Klamath Falls', 'Muskegon', 'Modesto', 'PADUCAH', 'Redding', 'Le Puy', 'Massawa', 'Gabes', 'Gafsa', 'Batticaloa', 'Sigiriya', 'Koggala', 'Trinciomalee', 'Pardubice', 'Spring Point', 'Colonel Hill', 'Matthew Town', 'Mayaguana', 'Nyagan', 'Ust-Tsylma', 'Tambow', 'Kursk', 'Badajoz', 'Canaima', 'Cumana', 'Coro', 'La Fria', 'Puerto Ayacucho', 'San Tome', 'Puerto Cabello', 'Santa Ana De Uairen', 'Angelsey', 'Golouchestershire', 'Cocos Keeling Island', 'Christmas Island', 'Dalat', 'Hue', 'Phucat', 'Ca Mau', 'Pleiku', 'Dienbienphu', 'Tuy Hoa', 'Can Tho', 'Chu Lai', 'Dong Hoi', 'Conson', 'Rach Gia', 'Maio', 'Sao Filipe, Fogo Island', 'Sao Nocolau Island', 'Ahe', 'Manihi', 'Hiva-oa', 'Nuku Hiva', 'Ua Huka', 'Ua Pou', 'Arutua', 'Kaukura Atoll', 'Bora Bora', 'Huahine Island', 'Maupiti', 'Moorea', 'Raiatea Island', 'Rangiroa', 'Tikehau', 'Fakarava', 'Totegegie', 'Hao Island', 'Makemo', 'Mataiva', 'Rimatara', 'Rurutu', 'Raivavae', 'Takaroa', 'Tubuai', 'Takapoto', 'Sveg', 'Hagfors', 'Kristianstad', 'Mora', 'Torsby', 'Pajala', 'Mannheim', 'Kuressaare', 'Vinnitsa', 'Asaba', 'Benin', 'Calabar', 'Gombe', 'Ibadan', 'Ilorin', 'Imo', 'Osubi', 'Sokoto', 'Yola', 'Jos', 'Kaduna', 'Uyo', 'Andahuaylas', 'Anta', 'Jauja', 'Tingo Maria', 'Arad', 'Craiova', 'Debrecen', 'Null', 'Kengtung', 'Kyaukpyu', 'Myitkyina', 'Putao', 'Kamembe', 'Hammerfest', 'Lakselv', 'Sorkjosen', 'Vadsø', 'Andoya', 'Bronnoysund', 'Floro', 'Orsta-Volda', 'Skien', 'Sogndal', 'Batsfjord', 'Berlevag', 'Mehamn', 'Vardø', 'Mo i Rana', 'Sandnessjoen', 'Leknes', 'Mosjoen', 'Narvik', 'Røst', 'Stokmarknes', 'Svolvær', 'Hasvik', 'Honningsvag', 'Namsos', 'Rørvik', 'Roros', 'Sandane', 'Chevery', 'Tête-à-la-Baleine', 'La Tabatière', 'Rigolet', 'Kegaska', 'Saba', 'Brandon', 'Abbotsford', 'Keewaywin', 'Kingfisher Lake', 'Wunnumin Lake', 'Muskrat Dam', 'Bearskin Lake', 'Sachigo Lake', 'Round Lake', 'Summer Beaver', 'Angling Lake', 'Big Trout Lake', 'Kasabonika', 'Cat Lake', 'Fort Severn', 'Fort Hope', 'Lansdowne House', 'Ogoki Post', 'Poplar Hill', 'North Spirit Lake', 'Webequie', 'Pickle Lake', 'Pikangikum', 'Sandy Lake', 'Khasab', 'Zweibruecken', 'Uruapan', 'Igarka', 'Bor', 'Turukhansk', 'Bandar Mahshahr', 'Noyabrsk', 'Kogalym', 'Tarko-Sale', 'Attawapiskat', 'Peawanuck', 'Kashechewan', 'Fort Albany', 'Moosonee', 'Chisasibi', 'Waskaganish', 'Chibougamau', 'Nemiscau', 'Eastmain River', 'Wemindji', 'Grand Canyon', 'Chandragarhi', 'Bharatpur', 'Biratnagar', 'Bhairawa', 'Dhangarhi', 'Janakpur', 'Nepalgunj', 'Pokhara', 'Tumling Tar', 'Sevastopol', 'Rerrenabaque', 'Uyuni', 'Scottsbluff', 'Cortez', 'North Platte', 'McCook', 'Riverton WY', 'Sheridan', 'Merced', 'Prescott', 'Visalia', 'Broken Hill', 'Ceduna', 'Coober Pedy', 'Kingscote', 'Mount Gambier', 'Whyalla', 'Parkes', 'Griffith', 'Narrandera', 'Grafton', 'Taree', 'Julia Creek', 'Winton', 'Lismore', 'Merimbula', 'Moruya', 'Orange']\n"
          ]
        }
      ],
      "source": [
        "print(G.nodes())"
      ]
    },
    {
      "cell_type": "code",
      "execution_count": 7,
      "metadata": {
        "id": "WgOWsO2PHjKs"
      },
      "outputs": [],
      "source": [
        "import urllib\n",
        "import json\n",
        "\n",
        "def get_wikivoyage_page(name):\n",
        "\n",
        "   baseurl = \"https://en.wikipedia.org/w/api.php?\"\n",
        "   action = \"action=query\"\n",
        "   urltitle = f\"titles={name}\"\n",
        "   content = \"prop=revisions&rvprop=content&rvslots=main\"\n",
        "   dataformat =\"format=json\"\n",
        "\n",
        "   query = f\"{baseurl}{action}&{urltitle}&{content}&{dataformat}\"\n",
        "\n",
        "   wikiresponse = urllib.request.urlopen(query)\n",
        "   wikidata = wikiresponse.read()\n",
        "   wikitext = wikidata.decode('utf-8')\n",
        "   data = json.loads(wikitext)\n",
        "   return data\n",
        "\n",
        "def get_wikitext_content(data):\n",
        "   if isinstance(data, dict):\n",
        "      for key, value in data.items():\n",
        "         if key == '*':\n",
        "               return value\n",
        "         result = get_wikitext_content(value)\n",
        "         if result:\n",
        "               return result\n",
        "   elif isinstance(data, list):\n",
        "      for item in data:\n",
        "         result = get_wikitext_content(item)\n",
        "         if result:\n",
        "               return result\n",
        "   return None"
      ]
    },
    {
      "cell_type": "code",
      "execution_count": 8,
      "metadata": {
        "colab": {
          "base_uri": "https://localhost:8080/"
        },
        "id": "WeMgs5euHjKs",
        "outputId": "15391af4-f6d9-4200-a37d-97193352805f"
      },
      "outputs": [
        {
          "output_type": "stream",
          "name": "stdout",
          "text": [
            "<class 'str'>\n"
          ]
        }
      ],
      "source": [
        "data = get_wikivoyage_page(\"ana\")\n",
        "content = get_wikitext_content(data)\n",
        "print(type(content))"
      ]
    },
    {
      "cell_type": "markdown",
      "metadata": {
        "id": "UEI-cSAUHjKs"
      },
      "source": [
        "### Populate the context of the city in the graph"
      ]
    },
    {
      "cell_type": "code",
      "execution_count": 14,
      "metadata": {
        "colab": {
          "base_uri": "https://localhost:8080/"
        },
        "id": "tX58yg2KHjKs",
        "outputId": "9ac97356-84c4-47c8-eeef-90da627dde35"
      },
      "outputs": [
        {
          "output_type": "stream",
          "name": "stderr",
          "text": [
            "Processing nodes: 100%|██████████| 3136/3136 [14:58<00:00,  3.49node/s]\n"
          ]
        }
      ],
      "source": [
        "from tqdm import tqdm  # Import tqdm\n",
        "import re\n",
        "\n",
        "nodes_to_remove = []\n",
        "possible_problems = []\n",
        "for_sure_problem = []\n",
        "\n",
        "# Iterate through the nodes with a progress bar\n",
        "for node in tqdm(G.nodes(), desc=\"Processing nodes\", unit=\"node\"):\n",
        "    city = str(node).replace(\" \", \"_\")\n",
        "\n",
        "    try:\n",
        "        # Try to fetch the Wikivoyage page and get the content\n",
        "        city = urllib.parse.quote(city)\n",
        "        data = get_wikivoyage_page(city)\n",
        "        content = get_wikitext_content(data)\n",
        "\n",
        "        if content is not None and \"#REDIRECT\" in content.upper():\n",
        "          matches = re.findall(r'\\[\\[(.*?)\\]\\]', content)\n",
        "          redirect_name = matches[0]\n",
        "\n",
        "          redirect_name = str(redirect_name).replace(\" \", \"_\")\n",
        "          redirect_name = urllib.parse.quote(redirect_name)\n",
        "\n",
        "          data = get_wikivoyage_page(redirect_name)\n",
        "          content = get_wikitext_content(data)\n",
        "\n",
        "        if content is None:\n",
        "            nodes_to_remove.append(node)\n",
        "        else:\n",
        "            G.nodes[node]['Content'] = content\n",
        "            if len(content) < 6000:\n",
        "                #print(\"Possible problem\", node)\n",
        "                possible_problems.append(node)\n",
        "            if len(content) < 100:\n",
        "                print(\"For sure problem\", node)\n",
        "                for_sure_problem.append(node)\n",
        "    except Exception as e:\n",
        "        nodes_to_remove.append(node)\n",
        "        # If an error occurs, print the error message and the node\n",
        "        print(f\"Failed to get content for node {node}: {e}\")\n",
        "        continue  # Continue to the next node if there's an error\n"
      ]
    },
    {
      "cell_type": "code",
      "source": [
        "print(len(nodes_to_remove))\n",
        "print(len(possible_problems))\n",
        "print(for_sure_problem)"
      ],
      "metadata": {
        "colab": {
          "base_uri": "https://localhost:8080/"
        },
        "id": "H0llh6kjOpk-",
        "outputId": "d90355d0-81a4-4e36-bbdd-b4d5f9276fe2"
      },
      "execution_count": 15,
      "outputs": [
        {
          "output_type": "stream",
          "name": "stdout",
          "text": [
            "189\n",
            "695\n",
            "[]\n"
          ]
        }
      ]
    },
    {
      "cell_type": "code",
      "source": [
        "G.remove_nodes_from(nodes_to_remove)"
      ],
      "metadata": {
        "id": "w_mfybe8oyU-"
      },
      "execution_count": 16,
      "outputs": []
    },
    {
      "cell_type": "code",
      "source": [
        "print(len(G.nodes()))\n",
        "print(len(G.edges()))"
      ],
      "metadata": {
        "colab": {
          "base_uri": "https://localhost:8080/"
        },
        "id": "OLumYfUvo4Oa",
        "outputId": "5de027ed-8569-49fa-ceb0-3c6a10a87d97"
      },
      "execution_count": 18,
      "outputs": [
        {
          "output_type": "stream",
          "name": "stdout",
          "text": [
            "2947\n",
            "32935\n"
          ]
        }
      ]
    },
    {
      "cell_type": "code",
      "source": [
        "# save to pickle\n",
        "import pickle\n",
        "\n",
        "# Save the graph to a file using pickle\n",
        "with open('flight_with_content_could_be_better.pickle', 'wb') as f:\n",
        "   pickle.dump(G, f)"
      ],
      "metadata": {
        "id": "ht90s9VOOwrq"
      },
      "execution_count": 19,
      "outputs": []
    },
    {
      "cell_type": "code",
      "source": [
        "count_less_than_1000 = 0\n",
        "may_refer_to = []\n",
        "not_a_problem = []\n",
        "cities = []\n",
        "no_city = []\n",
        "mached_city = []\n",
        "for node in tqdm(possible_problems, desc=\"Processing nodes\", unit=\"node\"):\n",
        "  content = G.nodes[node]['Content']\n",
        "\n",
        "  # check if it refers to something else\n",
        "  if \"may refer to\" in content.lower() or \"refers to\" in content.lower():\n",
        "    may_refer_to.append(node)\n",
        "    if \"city\" in content.lower():\n",
        "      cities.append(node)\n",
        "\n",
        "      # find the city it refers to by looking at the link that is right before the name city\n",
        "      matches = re.findall(r'\\[\\[(.*?)\\]\\](?=.*city)', content)\n",
        "      last_match_before_city = matches[-1] if matches else None\n",
        "      if last_match_before_city is not None:\n",
        "        city = str(node).replace(\" \", \"_\")\n",
        "        city = urllib.parse.quote(city)\n",
        "        data = get_wikivoyage_page(city)\n",
        "        content = get_wikitext_content(data)\n",
        "        if content is not None:\n",
        "          G.nodes[node]['Content'] = content\n",
        "          mached_city.append(node)\n",
        "\n",
        "    else:\n",
        "      no_city.append(node)\n",
        "  else:\n",
        "      not_a_problem.append(node)\n",
        "print(len(may_refer_to))\n",
        "print(may_refer_to)\n",
        "\n",
        "print(len(cities))\n",
        "print(cities)\n"
      ],
      "metadata": {
        "colab": {
          "base_uri": "https://localhost:8080/"
        },
        "id": "2Y96jeJgpDTt",
        "outputId": "06e8240d-e460-45fa-84bd-6180e89339bc"
      },
      "execution_count": 33,
      "outputs": [
        {
          "output_type": "stream",
          "name": "stderr",
          "text": [
            "Processing nodes: 100%|██████████| 695/695 [00:50<00:00, 13.80node/s]"
          ]
        },
        {
          "output_type": "stream",
          "name": "stdout",
          "text": [
            "520\n",
            "['Chita', 'Mirnyj', 'San Cristóbal', 'Kodiak', 'Karluk', 'Basco', 'Legazpi', 'Zamboanga', 'Palmas', 'Salvador', 'Burlington', 'Decatur', 'Darwin', 'Macon', 'Tupelo', 'Freeport', 'Orlando', 'Oranjestad', 'Khanabad', 'Philipsburg', 'Gustavia', 'Qianjiang', 'Luxi', 'Jiayuguan', 'Kashi', 'Yulin', 'Nikolai', 'Beloyarsky', 'Saidpur', 'Resolute', 'New York', 'Chihuahua', 'Santa Ana', 'Merida', 'Manzanillo', 'Calvi', 'Faro', 'Split', 'Villafranca', 'Bettles', 'Eek', 'Marshall', 'Davao', 'Virac', 'Naga', 'Charlestown', 'Baker Lake', 'Clyde River', 'Thompson', 'Broughton Island', 'Myeik', 'Westerland', 'Hay River', 'Ambler', 'Wainwright', 'Barrow', 'Aniak', 'Cordova', \"St Mary's\", 'Valdez', 'Holy Cross', 'Kalskag', 'Buckland', 'Deering', 'Elim', 'Koyuk', 'Nome', 'Golovin', 'White Mountain', 'Koyukuk', 'Kiana', 'Mountain Village', 'Teller', 'Kobuk', 'Selawik', 'Noatak', 'La Romana', 'Charlotte', 'Kingston', 'Rio Negro', 'Kirov', 'Dali', 'Simao', 'Yichun', 'Campbell River', 'Comox', 'Cranbrook', 'Powell River', 'Santa Fe', 'Mendoza', 'Tripoli', 'Hughes', 'Arctic Village', 'Ibaraki', 'Charleston', 'Syracuse', 'Bentonville', 'Memphis', 'Barnstable', 'Albany', 'Ogdensburg', 'Augusta', 'The Valley', 'Havre', 'Sidney', 'Rockland', 'Saranac Lake', 'White Plains', 'Marion', 'St. Croix Island', 'Quincy', 'Fort Nelson', 'Rainbow Lake', 'Prince George', 'Quesnel', 'Terrace', 'San Pedro', 'Araracuara', 'Providencia', 'Buenaventura', 'Corozal', 'Florencia', 'Tame', 'Guapi', 'Leticia', 'La Pedrera', 'Barinas', 'Diu', 'Newark', 'Potosi', 'Brest', 'Pau', 'Allentown', 'Abilene', 'Bush Field', 'Waterloo', 'Amarillo', 'Watertown', 'Austin', 'Bangor', 'Bloomington', 'Rochester', 'Beaumont', 'Brownsville', 'Burbank', 'College Station', 'Columbus', 'Fayetteville', 'Georgetown', 'Gulfport', 'Huntington', 'Wilmington', 'Jackson', 'Lynchburg', 'Mobile', 'Providence', 'Corpus Christi', 'Islip', 'Halifax', 'Fargo', 'Garden City', 'Longview', 'Grand Junction', 'Grand Island', 'Killeen', 'Wichita', 'Joplin', 'Lawton', 'Lake Charles', 'Lafayette', 'Laredo', 'Midland', 'Moline', 'Monroe', 'Madison', 'Peoria', 'Roswell', 'Tyler', 'Elmira', 'Eugene', 'Flagstaff', 'Green Bay', 'Williamsport', 'Ithaca', 'Kona', 'Medford', 'Nandi', 'Puerto Plata', 'Basse Terre', 'Toledo', 'Newburgh', 'Santa Barbara', 'Regina', 'Santa Clara', 'Bagotville', 'Castlegar', 'Goose Bay', 'Gander', 'Windsor', 'Sudbury', 'Bathurst', 'Sandspit', 'North Bay', 'Altamira', 'Santarem', 'Maraba', 'Barcelos', 'Boa Vista', 'Campos', 'Maringa', 'Sao Luis', 'Vitoria', 'Natal', 'Rio Branco', 'Rio Verde', 'Sao Gabriel', 'Hualien', 'Meixian', 'Okinawa', 'Appleton', 'Dothan', 'Billund', 'Plaisance', 'Moroni', 'Bergerac', 'Enshi', 'Livingstone', 'Batna', 'Constantine', 'Kangra', 'Kulu', 'Matamoros', 'Piedras Negras', 'Puerto Escondido', 'San Rafael', 'Catamarca', 'San Luis', 'Posadas', 'Resistencia', 'Rio Hondo', 'King Salmon', 'Sand Point', 'Bellingham', 'Lewiston', 'Presque Isle', 'Yakutat', 'Great Falls', 'Helena', 'Petersburg', 'Loreto', 'Pullman', 'Pasco', 'Dakhla', 'Tan Tan', 'Cartagena', 'Pereira', 'Mahe', 'Worcester', 'Ponce', 'Scarborough', 'Ishigaki', 'Miyako', 'Wick', 'Mulu', 'Monastir', 'Zhijiang', 'Maun', 'Kongolo', 'Bata', 'Aksu', 'Chaoyang', 'Moro', 'Tari', 'Miyazaki', 'Toyama', 'Xingyi', 'Baoshan', 'Liping', 'Libo', 'Nanyang', 'Niigata', 'Tak', 'Trang', 'Alpena', 'Bismarck', 'Brainerd', 'Cody', 'Casper', 'Dickinson', 'Elko', 'Rock Springs', 'Iron Mountain', 'Williston', 'Vernal', 'Cabinda', 'Luena', 'Alta', 'Bodo', 'Choibalsan', 'Muren', 'Cork', 'Shannon', 'Kerry', 'Gassim', 'Tabuk', 'Bam', 'Ilam', 'Ramsar', 'Esmeraldas', 'Cuenca', 'Manta', 'Tena', 'Macas', 'Chadron', 'Farmington', 'Trenton', 'Branson', 'Worland', 'Liberal', 'Huron', 'Page', 'Varna', 'Sanford', 'Hahn', 'Santander', 'Gerona', 'Dole', 'Fukushima', 'Oita', 'Cruzeiro do Sul', 'Punta Gorda', 'Ogden', 'Provo', 'Rockford', 'Saint Cloud', 'Belleville', 'Clarksburg', 'Stockton', 'Ambon', 'Ende', 'Sondrestrom', 'Bole', 'Qingyang', 'Jinchuan', 'Atka', 'Pilot Point', 'Nikolski', 'Akutan', 'Perryville', 'Calama', 'La Serena', 'Balmaceda', 'Gizo', 'Ramata', 'Munda', 'Kirakira', 'Dobo', 'Gustavus', 'Haines', 'George', 'Matsumoto', 'Yamagata', 'Akita', 'Izumo', 'Misawa', 'Yamaguchi', 'Hamilton Island', 'Launceston', 'Mackay', 'Babo', 'Kao', 'Red Lake', 'Hot Springs', 'Harrison', 'Salina', 'North Bend', 'Pendleton', 'Pai', 'Pemba', 'Tumbes', 'Trujillo', 'Castro', 'Osorno', 'Sanday', \"Al Bayda'\", 'Carlsbad', 'Los Alamos', 'Lancaster', 'Friday Harbor', 'Sainte Marie', 'Mananara', 'Kano', 'Gillam', 'Altai', 'Yushu', 'Hana', 'Tanna', 'Aniwa', 'Futuna Island', 'Santo', 'Sola', 'Tsushima', 'Iwami', 'Wajima', 'Oshima', 'Iki', 'Latrobe', 'Woodbourne', 'Gisborne', 'Esperance', 'Learmonth', 'Ravensthorpe', 'Perm', 'Brac', 'Kasama', 'Mansa', 'Morristown', 'Manistee', 'St. Anthony', 'Nain', 'Stephenville', 'Mus', 'Sukhothai', 'Cherskiy', 'Port Nelson', 'Stella Maris', 'Cat Island', 'Amberley', 'Coen', 'Lockhart River', 'La Romaine', 'Olympic Dam', 'Barcaldine', 'Broome', 'Horn Island', 'Devonport', 'Moree', 'Tamworth', 'Anadyr', 'Maturin', 'Horta', 'Pico', 'Redencao', 'Santa Terezinha', 'Petropavlovsk', 'Kimberley', 'Tete', 'Wallis', 'Argyle', 'King Island', 'Corvo', 'Al-Jawf', 'Arar', 'Ovda', 'Agri', 'Topel', 'Nakhchivan', 'McArthur River Mine', 'Sao Vicente Island', 'Tiga', 'Crescent City', 'Altoona', 'Johnstown', 'Jamestown', 'Beckley', 'Chico', 'Du Bois', 'Franklin', 'Hancock', 'Gunnison', 'Hayden', 'Rota', 'Chuuk', 'Hobbs', 'Redding', 'Le Puy', 'Canaima', 'Coro', 'San Tome', 'Dalat', 'Conson', 'Mora', 'Gombe', 'Imo', 'Yola', 'Anta', 'Arad', 'Null', 'Putao', 'Kamembe', 'Vadsø', 'Floro', 'Batsfjord', 'Berlevag', 'Vardø', 'Røst', 'Hasvik', 'Saba', 'Brandon', 'Bearskin Lake', 'Round Lake', 'Cat Lake', 'Poplar Hill', 'Sandy Lake', 'Bor', 'Attawapiskat', 'Fort Albany', 'Bharatpur', 'Cortez', 'McCook', 'Sheridan', 'Prescott', 'Ceduna', 'Kingscote', 'Parkes', 'Griffith', 'Grafton', 'Julia Creek', 'Winton', 'Lismore']\n",
            "296\n",
            "['Chita', 'San Cristóbal', 'Kodiak', 'Legazpi', 'Zamboanga', 'Palmas', 'Salvador', 'Burlington', 'Decatur', 'Darwin', 'Macon', 'Tupelo', 'Freeport', 'Orlando', 'Oranjestad', 'Khanabad', 'Qianjiang', 'Luxi', 'Jiayuguan', 'Kashi', 'Yulin', 'Nikolai', 'Saidpur', 'New York', 'Chihuahua', 'Santa Ana', 'Merida', 'Manzanillo', 'Calvi', 'Faro', 'Split', 'Marshall', 'Davao', 'Naga', 'Charlestown', 'Myeik', 'Ambler', 'Aniak', 'Cordova', \"St Mary's\", 'Buckland', 'Deering', 'Elim', 'Golovin', 'Mountain Village', 'Teller', 'La Romana', 'Charlotte', 'Kingston', 'Rio Negro', 'Kirov', 'Dali', 'Simao', 'Yichun', 'Campbell River', 'Cranbrook', 'Powell River', 'Santa Fe', 'Mendoza', 'Tripoli', 'Ibaraki', 'Charleston', 'Bentonville', 'Memphis', 'Albany', 'Augusta', 'The Valley', 'Havre', 'Rockland', 'Marion', 'Prince George', 'Quesnel', 'San Pedro', 'Corozal', 'Florencia', 'Leticia', 'Barinas', 'Diu', 'Newark', 'Potosi', 'Pau', 'Allentown', 'Waterloo', 'Amarillo', 'Watertown', 'Austin', 'Bangor', 'Rochester', 'Beaumont', 'Burbank', 'College Station', 'Columbus', 'Fayetteville', 'Georgetown', 'Jackson', 'Lynchburg', 'Mobile', 'Providence', 'Corpus Christi', 'Halifax', 'Garden City', 'Longview', 'Grand Island', 'Killeen', 'Wichita', 'Lawton', 'Lake Charles', 'Lafayette', 'Midland', 'Moline', 'Monroe', 'Madison', 'Peoria', 'Roswell', 'Tyler', 'Eugene', 'Ithaca', 'Kona', 'Medford', 'Puerto Plata', 'Basse Terre', 'Toledo', 'Newburgh', 'Santa Barbara', 'Regina', 'Santa Clara', 'Castlegar', 'Bathurst', 'North Bay', 'Altamira', 'Boa Vista', 'Maringa', 'Vitoria', 'Natal', 'Rio Branco', 'Hualien', 'Okinawa', 'Appleton', 'Dothan', 'Enshi', 'Livingstone', 'Batna', 'Constantine', 'Kangra', 'Matamoros', 'Piedras Negras', 'San Rafael', 'San Luis', 'Posadas', 'Resistencia', 'Rio Hondo', 'Sand Point', 'Bellingham', 'Presque Isle', 'Yakutat', 'Great Falls', 'Pullman', 'Pasco', 'Tan Tan', 'Cartagena', 'Pereira', 'Worcester', 'Ponce', 'Scarborough', 'Ishigaki', 'Miyako', 'Wick', 'Zhijiang', 'Bata', 'Aksu', 'Chaoyang', 'Moro', 'Miyazaki', 'Toyama', 'Xingyi', 'Baoshan', 'Nanyang', 'Niigata', 'Tak', 'Trang', 'Alpena', 'Bismarck', 'Brainerd', 'Cody', 'Casper', 'Rock Springs', 'Iron Mountain', 'Williston', 'Vernal', 'Cabinda', 'Alta', 'Bodo', 'Choibalsan', 'Muren', 'Cork', 'Shannon', 'Tabuk', 'Bam', 'Ilam', 'Ramsar', 'Esmeraldas', 'Manta', 'Macas', 'Trenton', 'Branson', 'Worland', 'Huron', 'Page', 'Varna', 'Sanford', 'Santander', 'Gerona', 'Fukushima', 'Oita', 'Ogden', 'Provo', 'Rockford', 'Belleville', 'Stockton', 'Ambon', 'Bole', 'Qingyang', 'Atka', 'Nikolski', 'Calama', 'Gizo', 'Dobo', 'Haines', 'Matsumoto', 'Yamagata', 'Akita', 'Izumo', 'Misawa', 'Yamaguchi', 'Launceston', 'Mackay', 'Harrison', 'Pai', 'Trujillo', 'Castro', 'Osorno', 'Lancaster', 'Mananara', 'Kano', 'Altai', 'Yushu', 'Hana', 'Tanna', 'Sola', 'Tsushima', 'Wajima', 'Oshima', 'Iki', 'Latrobe', 'Woodbourne', 'Gisborne', 'Perm', 'Morristown', 'St. Anthony', 'Nain', 'Mus', 'Sukhothai', 'Broome', 'Devonport', 'Maturin', 'Horta', 'Pico', 'Petropavlovsk', 'Kimberley', 'Tete', 'Wallis', 'King Island', 'Al-Jawf', 'Agri', 'Nakhchivan', 'Crescent City', 'Johnstown', 'Jamestown', 'Chico', 'Hayden', 'Rota', 'Redding', 'Coro', 'San Tome', 'Mora', 'Anta', 'Arad', 'Saba', 'Round Lake', 'Bharatpur', 'Cortez', 'Parkes', 'Griffith', 'Grafton', 'Winton', 'Lismore']\n"
          ]
        },
        {
          "output_type": "stream",
          "name": "stderr",
          "text": [
            "\n"
          ]
        }
      ]
    },
    {
      "cell_type": "code",
      "source": [
        "print(len(mached_city))\n",
        "print(mached_city)\n"
      ],
      "metadata": {
        "colab": {
          "base_uri": "https://localhost:8080/"
        },
        "id": "rJlfGv1iu2Fw",
        "outputId": "6d6c0edd-de10-46c8-92e6-99d20fcb82e4"
      },
      "execution_count": 38,
      "outputs": [
        {
          "output_type": "stream",
          "name": "stdout",
          "text": [
            "256\n",
            "['Chita', 'San Cristóbal', 'Kodiak', 'Legazpi', 'Zamboanga', 'Palmas', 'Salvador', 'Burlington', 'Decatur', 'Darwin', 'Macon', 'Tupelo', 'Orlando', 'Khanabad', 'Qianjiang', 'Jiayuguan', 'Kashi', 'Yulin', 'Nikolai', 'Saidpur', 'New York', 'Chihuahua', 'Merida', 'Manzanillo', 'Calvi', 'Faro', 'Split', 'Marshall', 'Davao', 'Naga', 'Charlestown', 'Myeik', 'Ambler', 'Aniak', 'Cordova', 'Buckland', 'Deering', 'Elim', 'Golovin', 'Mountain Village', 'La Romana', 'Charlotte', 'Rio Negro', 'Kirov', 'Dali', 'Yichun', 'Campbell River', 'Cranbrook', 'Powell River', 'Mendoza', 'Tripoli', 'Ibaraki', 'Charleston', 'Memphis', 'Albany', 'Augusta', 'Rockland', 'Marion', 'Prince George', 'Quesnel', 'San Pedro', 'Corozal', 'Florencia', 'Leticia', 'Barinas', 'Diu', 'Newark', 'Potosi', 'Pau', 'Allentown', 'Waterloo', 'Amarillo', 'Watertown', 'Austin', 'Beaumont', 'Burbank', 'Columbus', 'Fayetteville', 'Georgetown', 'Jackson', 'Lynchburg', 'Mobile', 'Providence', 'Halifax', 'Garden City', 'Longview', 'Grand Island', 'Killeen', 'Wichita', 'Lake Charles', 'Lafayette', 'Moline', 'Monroe', 'Madison', 'Peoria', 'Roswell', 'Tyler', 'Eugene', 'Ithaca', 'Kona', 'Medford', 'Puerto Plata', 'Basse Terre', 'Toledo', 'Newburgh', 'Santa Barbara', 'Regina', 'Santa Clara', 'Castlegar', 'Bathurst', 'North Bay', 'Altamira', 'Boa Vista', 'Maringa', 'Vitoria', 'Natal', 'Rio Branco', 'Hualien', 'Okinawa', 'Dothan', 'Livingstone', 'Constantine', 'Kangra', 'Matamoros', 'Piedras Negras', 'San Luis', 'Posadas', 'Resistencia', 'Rio Hondo', 'Sand Point', 'Bellingham', 'Presque Isle', 'Yakutat', 'Great Falls', 'Pullman', 'Pasco', 'Tan Tan', 'Cartagena', 'Pereira', 'Worcester', 'Ponce', 'Scarborough', 'Ishigaki', 'Miyako', 'Wick', 'Zhijiang', 'Bata', 'Aksu', 'Chaoyang', 'Moro', 'Miyazaki', 'Toyama', 'Xingyi', 'Baoshan', 'Nanyang', 'Niigata', 'Trang', 'Alpena', 'Brainerd', 'Cody', 'Casper', 'Iron Mountain', 'Williston', 'Vernal', 'Alta', 'Bodo', 'Choibalsan', 'Shannon', 'Tabuk', 'Bam', 'Ilam', 'Ramsar', 'Esmeraldas', 'Manta', 'Macas', 'Trenton', 'Worland', 'Huron', 'Page', 'Varna', 'Sanford', 'Santander', 'Gerona', 'Fukushima', 'Oita', 'Ogden', 'Provo', 'Rockford', 'Belleville', 'Stockton', 'Ambon', 'Qingyang', 'Atka', 'Calama', 'Gizo', 'Haines', 'Matsumoto', 'Yamagata', 'Akita', 'Izumo', 'Misawa', 'Launceston', 'Mackay', 'Trujillo', 'Castro', 'Osorno', 'Lancaster', 'Mananara', 'Kano', 'Altai', 'Yushu', 'Hana', 'Tanna', 'Sola', 'Tsushima', 'Wajima', 'Oshima', 'Iki', 'Latrobe', 'Woodbourne', 'Gisborne', 'Perm', 'St. Anthony', 'Nain', 'Mus', 'Sukhothai', 'Devonport', 'Maturin', 'Horta', 'Pico', 'Petropavlovsk', 'Kimberley', 'Tete', 'Wallis', 'King Island', 'Al-Jawf', 'Agri', 'Nakhchivan', 'Johnstown', 'Jamestown', 'Chico', 'Rota', 'Redding', 'Coro', 'San Tome', 'Mora', 'Anta', 'Arad', 'Saba', 'Round Lake', 'Bharatpur', 'Cortez', 'Griffith', 'Grafton', 'Winton', 'Lismore']\n"
          ]
        }
      ]
    },
    {
      "cell_type": "code",
      "source": [
        "# save to pickle\n",
        "import pickle\n",
        "\n",
        "# Save the graph to a file using pickle\n",
        "with open('flight_with_content_pretty_good.pickle', 'wb') as f:\n",
        "   pickle.dump(G, f)\n"
      ],
      "metadata": {
        "id": "ikNrY2FfvNij"
      },
      "execution_count": 40,
      "outputs": []
    }
  ],
  "metadata": {
    "kernelspec": {
      "display_name": "sgai_new",
      "language": "python",
      "name": "python3"
    },
    "language_info": {
      "codemirror_mode": {
        "name": "ipython",
        "version": 3
      },
      "file_extension": ".py",
      "mimetype": "text/x-python",
      "name": "python",
      "nbconvert_exporter": "python",
      "pygments_lexer": "ipython3",
      "version": "3.10.15"
    },
    "colab": {
      "provenance": []
    }
  },
  "nbformat": 4,
  "nbformat_minor": 0
}