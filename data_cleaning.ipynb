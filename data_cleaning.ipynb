{
 "cells": [
  {
   "cell_type": "markdown",
   "metadata": {},
   "source": [
    "### Read the scrapped files from wikipedia and extract history"
   ]
  },
  {
   "cell_type": "code",
   "execution_count": 17,
   "metadata": {},
   "outputs": [],
   "source": [
    "import re\n",
    "\n",
    "def find_history(wiki_content):\n",
    "   match = re.search(r'==\\s*History\\s*==([\\s\\S]*?)(?=\\n==[^=]+==)', wiki_content)\n",
    "   if match:\n",
    "      history_text = match.group(1).strip()  # Extract the matched text and strip leading/trailing whitespace\n",
    "      return history_text\n",
    "   else:\n",
    "      return None\n",
    "   "
   ]
  },
  {
   "cell_type": "code",
   "execution_count": 98,
   "metadata": {},
   "outputs": [],
   "source": [
    "def remove_nested_braces(text):\n",
    "    # Stack to track opening braces and a list for the result\n",
    "    stack = []\n",
    "    result = []\n",
    "    i = 0\n",
    "\n",
    "    while i < len(text):\n",
    "        # Check for opening {{, push to stack when found\n",
    "        if text[i:i+2] == \"{{\":\n",
    "            if len(stack) == 0:  # Only start removing when we find the outermost {{\n",
    "                result.append('')  # Start ignoring text within the outer block\n",
    "            stack.append(\"{{\")  # Push opening '{{' to stack\n",
    "            i += 2  # Skip past the opening '{{'\n",
    "        \n",
    "        # Check for closing }}, pop from stack when found\n",
    "        elif text[i:i+2] == \"}}\":\n",
    "            if stack:\n",
    "                stack.pop()  # Pop from the stack when closing '}}' is found\n",
    "            if len(stack) == 0:  # When we reach the outermost closing '}}'\n",
    "                result.append('')  # Add empty string to remove content\n",
    "            i += 2  # Skip past the closing '}}'\n",
    "        \n",
    "        # If we are outside any {{}} block, add the character to the result\n",
    "        else:\n",
    "            if not stack:\n",
    "                result.append(text[i])  # Only add text if not inside a {{}} block\n",
    "            i += 1  # Move to the next character\n",
    "\n",
    "    return ''.join(result)"
   ]
  },
  {
   "cell_type": "code",
   "execution_count": 109,
   "metadata": {},
   "outputs": [],
   "source": [
    "def clean_history(history):\n",
    "   text = history\n",
    "   \n",
    "   # with regex\n",
    "   # Regular expression to remove the [[File: ... ]] pattern, including all inner content\n",
    "   text = re.sub(r'\\[\\[File:[^\\[\\]]*(?:\\[\\[[^\\[\\]]*\\]\\][^\\[\\]]*)*\\]\\]', '', text) # file remove, nested\n",
    "   text = re.sub(r'\\[\\[(.*?)\\]\\]', r'\\1', text)  # changes text inside [[...]]\n",
    "   text = remove_nested_braces(text)\n",
    "   text = re.sub(r'{{(.*?)}}', '', text, flags=re.DOTALL)\n",
    "   text = re.sub(r'<ref.*?>.*?</ref>', '', text, flags=re.DOTALL)\n",
    "   text = re.sub(r'<gallery.*?>.*?</gallery>', '', text, flags=re.DOTALL)\n",
    "   \n",
    "   return text.strip()\n",
    "\n",
    "with open(\"history/Miami.txt\", 'r', encoding='utf-8') as file:\n",
    "   file_content = file.read()\n",
    "   cleaned = clean_history(file_content)\n",
    "   with open(\"ana.txt\", \"w\", encoding=\"utf-8\") as file_out:\n",
    "      file_out.write(cleaned)"
   ]
  },
  {
   "cell_type": "code",
   "execution_count": null,
   "metadata": {},
   "outputs": [
    {
     "name": "stdout",
     "output_type": "stream",
     "text": [
      "File transfer complete!\n",
      "Successfully extracted history: 1957\n"
     ]
    }
   ],
   "source": [
    "import os\n",
    "\n",
    "# Specify source and destination directories\n",
    "source_dir = 'new_cities/'\n",
    "destination_dir = 'history/'\n",
    "\n",
    "# Create the destination directory if it doesn't exist\n",
    "os.makedirs(destination_dir, exist_ok=True)\n",
    "\n",
    "# Iterate over the files in the source directory\n",
    "count = 0\n",
    "for filename in os.listdir(source_dir):\n",
    "   source_path = os.path.join(source_dir, filename)\n",
    "   destination_path = os.path.join(destination_dir, filename)\n",
    "   \n",
    "   # Check if it's a file (not a directory)\n",
    "   if os.path.isfile(source_path):\n",
    "      # Open the file in read mode and read its content\n",
    "      with open(source_path, 'r', encoding='utf-8') as file:\n",
    "         file_content = file.read()\n",
    "      \n",
    "      history = find_history(file_content)\n",
    "      if history is not None:\n",
    "         count += 1\n",
    "         with open(destination_path, \"w\", encoding=\"utf-8\") as file:\n",
    "            file.write(history)\n",
    "\n",
    "   else:\n",
    "      print(f\"Skipped (not a file): {source_path}\")\n",
    "\n",
    "print(\"File transfer complete!\")\n",
    "print(\"Successfully extracted history:\", count)\n"
   ]
  },
  {
   "cell_type": "markdown",
   "metadata": {},
   "source": [
    "### Clean the history text"
   ]
  },
  {
   "cell_type": "code",
   "execution_count": 113,
   "metadata": {},
   "outputs": [
    {
     "name": "stdout",
     "output_type": "stream",
     "text": [
      "File transfer complete!\n",
      "Successfully extracted history: 1957\n"
     ]
    }
   ],
   "source": [
    "history_dir = 'history/'\n",
    "\n",
    "# Create the destination directory if it doesn't exist\n",
    "os.makedirs(history_dir, exist_ok=True)\n",
    "\n",
    "# Iterate over the files in the source directory\n",
    "count = 0\n",
    "for filename in os.listdir(history_dir):\n",
    "   file_path = os.path.join(history_dir, filename)\n",
    "   \n",
    "   # Check if it's a file (not a directory)\n",
    "   if os.path.isfile(file_path):\n",
    "      # Open the file in read mode and read its content\n",
    "      with open(file_path, 'r', encoding='utf-8') as file:\n",
    "         file_content = file.read()\n",
    "      history = clean_history(file_content)\n",
    "      with open(file_path, \"w\", encoding=\"utf-8\") as file:\n",
    "         file.write(history)\n",
    "         count += 1\n",
    "\n",
    "   else:\n",
    "      print(f\"Skipped (not a file): {source_path}\")\n",
    "\n",
    "print(\"File transfer complete!\")\n",
    "print(\"Successfully extracted history:\", count)\n"
   ]
  }
 ],
 "metadata": {
  "kernelspec": {
   "display_name": "sgai_new",
   "language": "python",
   "name": "python3"
  },
  "language_info": {
   "codemirror_mode": {
    "name": "ipython",
    "version": 3
   },
   "file_extension": ".py",
   "mimetype": "text/x-python",
   "name": "python",
   "nbconvert_exporter": "python",
   "pygments_lexer": "ipython3",
   "version": "3.10.15"
  }
 },
 "nbformat": 4,
 "nbformat_minor": 2
}
