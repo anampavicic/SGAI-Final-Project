{
  "cells": [
    {
      "cell_type": "markdown",
      "metadata": {
        "id": "oGy7tLIDHjKg"
      },
      "source": [
        "### Get all the cities that have an airport and create airport_city_dict"
      ]
    },
    {
      "cell_type": "code",
      "execution_count": 26,
      "metadata": {
        "colab": {
          "base_uri": "https://localhost:8080/"
        },
        "id": "JI4hMyg9HjKj",
        "outputId": "3cf84b99-d26d-4173-8fb0-8eacb2e3430e"
      },
      "outputs": [
        {
          "output_type": "stream",
          "name": "stdout",
          "text": [
            "6956\n",
            "6073\n"
          ]
        }
      ],
      "source": [
        "import pandas as pd\n",
        "\n",
        "# Replace 'your_file.csv' with the path to your CSV file\n",
        "file_path = 'airports.csv'\n",
        "data = pd.read_csv(file_path)\n",
        "\n",
        "# Display the first few rows of the data\n",
        "cities = set(data['City'])\n",
        "print(len(cities))\n",
        "\n",
        "# Create dictionary with IATA as key and City as value\n",
        "airport_city_dict = data.set_index('IATA')['City'].to_dict()\n",
        "\n",
        "# Display the dictionary\n",
        "print(len(airport_city_dict.keys()))"
      ]
    },
    {
      "cell_type": "markdown",
      "metadata": {
        "id": "xtXh_zgZHjKm"
      },
      "source": [
        "### Get all the connections, and create a graph"
      ]
    },
    {
      "cell_type": "code",
      "execution_count": null,
      "metadata": {
        "id": "H-oD7a2tHjKm",
        "colab": {
          "base_uri": "https://localhost:8080/"
        },
        "outputId": "c8260737-06e6-40e5-ede4-c1acd6232ee9"
      },
      "outputs": [
        {
          "output_type": "stream",
          "name": "stdout",
          "text": [
            "3255\n",
            "{'PKB', 'TEQ', 'XMS', 'JNX', 'MOZ', 'SDN', 'PTH', 'YIO', 'SHJ', 'BIR', 'KZR', 'PHF', 'TSF', 'OBY', 'YUY', 'DSM', 'UKB', 'BFJ', 'OND', 'BLL', 'STX', 'VRA', 'CAE', 'RBV', 'CJL', 'ADL', 'SDP', 'ADZ', 'BVH', 'JNS', 'KWI', 'GST', 'ODN', 'IOS', 'MYU', 'XQP', 'YKL', 'AZN', 'WUA', 'TTU', 'BUR', 'KOW', 'OME', 'KOC', 'MMO', 'ZYI', 'BTJ', 'MZL', 'HRO', 'BCI', 'MEX', 'LMT', 'LUH', 'LHE', 'VGA', 'DPO', 'CNF', 'DKR', 'AMD', 'APL', 'DAT', 'SCC', 'NGB', 'MBI', 'PNS', 'ELC', 'YIC', 'ARH', 'SLH', 'MTJ', 'NBO', 'ZEM', 'COS', 'HUY', 'FRW', 'LAZ', 'NAS', 'YNG', 'SVU', 'POR', 'TYF', 'CME', 'LKG', 'CAC', 'AUR', 'CMA', 'ZAG', 'ORV', 'TXK', 'PHB', 'PPP', 'CMW', 'MEU', 'CIZ', 'MDU', 'ABT', 'PLQ', 'KCM', 'ANS', 'BJX', 'CDR', 'UBA', 'XGR', 'QBC', 'FPO', 'CYP', 'AYP', 'RMT', 'NRL', 'SHD', 'RET', 'TLJ', 'HDM', 'SEZ', 'XSC', 'PCL', 'TNG', 'JHG', 'DLH', 'JIB', 'PQQ', 'GYD', 'BRS', 'GBE', 'KWL', 'SKB', 'YYD', 'MZT', 'ARW', 'KGP', 'KHV', 'ULO', 'SDE', 'NQU', 'MHD', 'LXS', 'DAY', 'YZY', 'YXT', 'EPR', 'MAU', 'XMN', 'ILY', 'YXC', 'UNN', 'FKS', 'TAS', 'BOG', 'NGO', 'CZM', 'GOJ', 'UUA', 'RNL', 'MBE', 'YTY', 'FRA', 'AQI', 'ONT', 'NTE', 'NYU', 'TID', 'TAH', 'ULB', 'FMM', 'BMI', 'PHW', 'EVN', 'ELU', 'LGB', 'KZO', 'SKP', 'AJU', 'HEH', 'TBS', 'RDU', 'BSB', 'CAJ', 'SNW', 'YWJ', 'TUI', 'OZH', 'HPH', 'KKC', 'CWB', 'AVP', 'CXJ', 'PHC', 'YZP', 'UYN', 'SSA', 'MXZ', 'SHG', 'VPY', 'MNS', 'TET', 'YZT', 'ASW', 'HKD', 'VAK', 'DFW', 'VNO', 'MUW', 'YZS', 'SSR', 'AUA', 'CPV', 'ALS', 'DRK', 'ILP', 'DAB', 'PEZ', 'FRD', 'ITO', 'AJI', 'MKY', 'UII', 'MOD', 'DOK', 'EGS', 'KBP', 'BHQ', 'GMR', 'RUN', 'CIA', 'HKN', 'IDR', 'STI', 'LYP', 'GLV', 'LIT', 'GLK', 'HVB', 'IXD', 'GAJ', 'PSJ', 'NVA', 'BOC', 'YIW', 'HSL', 'PSG', 'KPN', 'STW', 'JJU', 'BJZ', 'QOW', 'OSL', 'PRH', 'DRV', 'ELM', 'WUH', 'TNN', 'THN', 'BTH', 'PIA', 'ENY', 'HDG', 'RGK', 'KRN', 'ECP', 'GIG', 'NOB', 'SLZ', 'BOY', 'UIO', 'BOM', 'YGL', 'SGD', 'NCU', 'LBJ', 'BVS', 'ZKG', 'JCK', 'VER', 'FJR', 'ROP', 'STV', 'TAY', 'LDS', 'SFJ', 'DIE', 'YNT', 'JSH', 'IVC', 'WWK', 'PLX', 'LYR', 'COR', 'TJA', 'HVR', 'NBE', 'PSS', 'SBZ', 'SKG', 'HTI', 'KSY', 'TNJ', 'YAA', 'PAS', 'ACE', 'ORU', 'ANI', 'WRE', 'CLT', 'OVS', 'SJW', 'MGS', 'BWN', 'ISC', 'BTV', 'PSR', 'KPO', 'FSP', 'YDF', 'KRP', 'SRP', 'UTP', 'PGX', 'NGQ', 'NME', 'VAN', 'YOG', 'ELI', 'JYV', 'RKS', 'AGT', 'SYO', 'GTR', 'BDS', 'CAP', 'PUU', 'YAC', 'TIP', 'GGW', 'UET', 'CTU', 'VFA', 'OBO', 'YNP', 'SVI', 'REP', 'RUA', 'IAA', 'UEO', 'QRW', 'NDR', 'CFN', 'HIA', 'NYT', 'PSE', 'IXG', 'AUG', 'CMG', 'CSK', 'FYU', 'CJJ', 'BGI', 'HPN', 'VKT', 'KTE', 'ANF', 'RAB', 'LIM', 'KLG', 'YYY', 'IXS', 'SRQ', 'ABQ', 'SVG', 'PTG', 'DND', 'SUV', 'MCX', 'TRR', 'HHH', 'VIL', 'CXB', 'LRM', 'ORF', 'LUK', 'AXA', 'IPA', 'JNB', 'DGT', 'WRL', 'MUN', 'AJF', 'TIH', 'UMD', 'PES', 'CFC', 'BBA', 'SYZ', 'EAS', 'MBL', 'KUT', 'CGQ', 'CMX', 'MUR', 'WNP', 'ASU', 'CCS', 'PBM', 'HRI', 'BFI', 'AHN', 'CTG', 'NAG', 'XCR', 'NPL', 'YPO', 'YBC', 'WUZ', 'YGZ', 'CIF', 'YPC', 'IRZ', 'PNH', 'POS', 'JEG', 'BAZ', 'NGE', 'PQI', 'MNA', 'GKK', 'CRP', 'SWF', 'IXZ', 'KND', 'EZS', 'ROR', 'AGP', 'CRD', 'LIG', 'BNI', 'REL', 'HAA', 'URS', 'CRA', 'MSR', 'DZN', 'JAI', 'NAQ', 'MNG', 'PTU', 'RHO', 'PZO', 'JGD', 'YBG', 'AMQ', 'DIN', 'YKG', 'PLU', 'VRN', 'PUQ', 'YZR', 'LFM', 'YYC', 'MXH', 'FNC', 'HUN', 'IRJ', 'ELF', 'KDM', 'WUS', 'PIX', 'TMW', 'PLM', 'SPS', 'LNY', 'NOP', 'URY', 'VEL', 'MKW', 'LAN', 'KUN', 'YUX', 'GVA', 'UTN', 'TUN', 'MMB', 'REX', 'EWN', 'HBX', 'ANX', 'HND', 'KAT', 'SCM', 'LOE', 'DHI', 'BRA', 'MVD', 'PQM', 'PAD', 'EBU', 'PMZ', 'OSI', 'GRU', 'ORY', 'JUJ', 'RCH', 'MEA', 'NLK', 'YES', 'CDC', 'CAI', 'KKE', 'SRA', 'AGA', 'HER', 'YXU', 'VCP', 'MSQ', 'GUR', 'POI', 'YRG', 'FNT', 'HUH', 'PXM', 'ONQ', 'CMI', 'TDD', 'PRN', 'PRA', 'IXM', 'GPS', 'SJT', 'RDN', 'GAE', 'MKK', 'BDL', 'DZA', 'AUC', 'BCN', 'IGG', 'MEM', 'NJC', 'TOB', 'YNA', 'ZBR', 'PSC', 'KUK', 'PPK', 'SHW', 'LYI', 'KZS', 'CAK', 'XUZ', 'OUZ', 'CCV', 'BET', 'AUU', 'FAO', 'RJA', 'MWF', 'CKS', 'HVN', 'ASO', 'UKS', 'FON', 'KYP', 'TAO', 'LDY', 'RBY', 'TBB', 'ESD', 'CBQ', 'PNK', 'ACX', 'FKL', 'VBV', 'ERF', 'LTO', 'LWS', 'KNQ', 'MUX', 'KSO', 'CXH', 'LPA', 'VAR', 'TOS', 'CNY', 'ERS', 'NRT', 'NSN', 'LFR', 'NOJ', 'PBD', 'PZB', 'HET', 'ZFM', 'FUJ', 'SYY', 'DPL', 'TOL', 'KGL', 'BBO', 'YCY', 'AKK', 'CBH', 'WAW', 'BUZ', 'IJK', 'CCP', 'ABS', 'EGE', 'SVZ', 'PJA', 'JTC', 'YXY', 'YCD', 'KMS', 'OSD', 'URT', 'AWD', 'TIZ', 'SGU', 'EFL', 'KSQ', 'KTM', 'LNE', 'GKA', 'ATC', 'GAL', 'PEN', 'KGI', 'VAI', 'THR', 'CMU', 'GDL', 'EUN', 'NKG', 'YSK', 'VVI', 'OMR', 'KKJ', 'AIT', 'SLC', 'TFF', 'AKN', 'YER', 'KAJ', 'SVD', 'ULN', 'CAL', 'EGX', 'IBA', 'MLU', 'SLL', 'BJV', 'PUF', 'BHH', 'SJL', 'PBC', 'WKJ', 'ERM', 'YOL', 'SEN', 'DUD', 'BPT', 'JLR', 'RIX', 'HMB', 'JAC', 'GYA', 'GFK', 'UYL', 'UVE', 'DMB', 'YBK', 'CZE', 'EAU', 'KRT', 'IEV', 'DBO', 'DRS', 'SUR', 'BQS', 'SLN', 'MWA', 'QSF', 'ESU', 'TWU', 'KSN', 'YXP', 'SBP', 'HFE', 'PKY', 'TOF', 'ICN', 'YSB', 'KHY', 'PDT', 'ZAM', 'SVL', 'RNS', 'YKS', 'STS', 'PER', 'RMQ', 'LYA', 'MGW', 'AUY', 'SCW', 'LQM', 'LUD', 'SBH', 'RTA', 'HIN', 'AUQ', 'CGN', 'YQQ', 'MHT', 'YNS', 'ATA', 'ZSA', 'TNR', 'YGJ', 'VST', 'KTA', 'RUS', 'BZE', 'EKS', 'AVV', 'RBA', 'BKC', 'GBB', 'MFU', 'KOA', 'NOS', 'TBT', 'INN', 'ILR', 'DJJ', 'SAT', 'MSU', 'KUU', 'MJF', 'AXR', 'CEI', 'BYC', 'MCZ', 'ZHA', 'FSM', 'TEE', 'PHS', 'ESB', 'SWA', 'GYE', 'AAR', 'BOJ', 'SZG', 'SLQ', 'CHS', 'HBA', 'NUX', 'LMM', 'CNJ', 'TLS', 'CKY', 'CAB', 'LGG', 'FTU', 'MYW', 'AGB', 'URE', 'KNU', 'LEQ', 'PBJ', 'UIN', 'HDN', 'LAD', 'BRQ', 'EEK', 'LYG', 'BQB', 'YPW', 'GPT', 'ACV', 'PCR', 'EOI', 'KEW', 'JSR', 'ODO', 'POA', 'REG', 'TIU', 'TAP', 'HYN', 'BDP', 'SHV', 'ADE', 'AAT', 'MGQ', 'LZH', 'AAQ', 'KDI', 'CWA', 'HDY', 'HGA', 'TSJ', 'KWA', 'JTR', 'YVO', 'AYT', 'ZUH', 'ULH', 'SID', 'HYA', 'HZH', 'CIH', 'BKO', 'WRO', 'VLS', 'CEM', 'FTE', 'JOI', 'JNZ', 'KLN', 'CHU', 'TNA', 'VHM', 'BDA', 'KGA', 'LCE', 'YZZ', 'CGY', 'LMA', 'VCS', 'YWK', 'SPN', 'ESM', 'CLJ', 'MJN', 'CKB', 'KWK', 'MOT', 'MPM', 'SKE', 'EBL', 'ACI', 'TGD', 'DED', 'CIU', 'BYN', 'TLA', 'MVR', 'QUO', 'MYR', 'CFU', 'KHD', 'JHM', 'MFM', 'GTE', 'KLR', 'RVV', 'NLT', 'FLR', 'BTS', 'LDH', 'AKP', 'OMS', 'BLE', 'YNO', 'QFG', 'YHY', 'HSV', 'HUU', 'OHE', 'YAX', 'LDE', 'ESL', 'TRE', 'XIL', 'RZE', 'HGH', 'CKH', 'LLA', 'TGR', 'TKX', 'AGS', 'XCH', 'BWA', 'PJM', 'CSY', 'POM', 'HFT', 'NGS', 'OAG', 'BES', 'AKI', 'SNE', 'ITB', 'TPA', 'IFO', 'VOL', 'AQJ', 'OMA', 'VLY', 'UVF', 'YWH', 'IPN', 'HIB', 'ZAZ', 'FAY', 'YQK', 'MDZ', 'IMT', 'BGG', 'BMW', 'MTR', 'GNY', 'YLL', 'HOT', 'BQL', 'TVY', 'HRG', 'YEK', 'LLW', 'BSK', 'NRN', 'ELP', 'DNK', 'XKH', 'PMW', 'PIU', 'SHX', 'SJU', 'BLV', 'MHH', 'KIJ', 'YIK', 'YAT', 'BIM', 'ENH', 'BNC', 'NBS', 'MSY', 'CTS', 'JKG', 'ELG', 'HUX', 'CPX', 'LRD', 'VAS', 'EBA', 'UEL', 'SKN', 'AQG', 'OAJ', 'GLF', 'PHX', 'BPX', 'GOU', 'FAT', 'CEG', 'PHL', 'BDJ', 'MJD', 'DLC', 'DLA', 'OLA', 'AKF', 'BGM', 'DMU', 'PDS', 'BFL', 'BLZ', 'OXB', 'ATK', 'YVP', 'MQN', 'ACC', 'ZPB', 'HUI', 'JED', 'PPT', 'DJG', 'HRM', 'CSX', 'ZSE', 'ELS', 'HOE', 'GFF', 'MUK', 'RJH', 'BAV', 'PNA', 'LIR', 'OCC', 'KHI', 'KHN', 'WMN', 'MTV', 'CND', 'HNL', 'MWZ', 'YMN', 'MHC', 'IBZ', 'PTP', 'YKM', 'PNL', 'OVB', 'ANC', 'SXF', 'MAG', 'BRE', 'VKO', 'TTT', 'IPT', 'DSN', 'LIN', 'MRY', 'LUX', 'CTM', 'NLA', 'KUL', 'SJK', 'BEJ', 'GGG', 'TMU', 'XNN', 'KNS', 'DIK', 'ROB', 'PPS', 'MOV', 'GOH', 'YXL', 'CUM', 'VLL', 'SKZ', 'KBV', 'KCO', 'ZUM', 'TTE', 'MLI', 'BSL', 'ODS', 'ALC', 'LCG', 'ZLO', 'ASB', 'AAL', 'MIM', 'ROS', 'EGO', 'CLY', 'LUM', 'SSG', 'THS', 'KHZ', 'BLA', 'IQT', 'KIV', 'FOC', 'CKZ', 'ABB', 'BQK', 'NAY', 'MMX', 'WNA', 'DIY', 'DJB', 'LPS', 'AEY', 'RNA', 'ZKE', 'JZH', 'ASP', 'PGF', 'CHG', 'CGH', 'BXR', 'VOZ', 'YUS', 'JIC', 'WAG', 'YQU', 'YQF', 'PYY', 'IXU', 'TAB', 'MCY', 'VGO', 'BFV', 'KOJ', 'CPE', 'PEG', 'UNK', 'BIQ', 'CCK', 'DOY', 'MBJ', 'LAU', 'GXF', 'FBM', 'ZLT', 'KGD', 'MMY', 'UKK', 'VIJ', 'PBO', 'EAT', 'YZF', 'YLC', 'NLD', 'AOR', 'LPT', 'KSA', 'FUK', 'WJU', 'YYG', 'SVP', 'MSL', 'USK', 'CHY', 'PDL', 'FUT', 'CNS', 'FKB', 'BIL', 'OAL', 'TJU', 'JIU', 'MOC', 'HMV', 'HVD', 'TCQ', 'MEI', 'IZA', 'DLG', 'DIL', 'SCN', 'BXB', 'PAG', 'PYH', 'WEI', 'TZL', 'KPV', 'CPC', 'LOS', 'SLA', 'GIZ', 'HAJ', 'WRY', 'PGV', 'OIM', 'YPM', 'YWB', 'KMJ', 'SML', 'KYK', 'RSU', 'SZX', 'ZTH', 'LNZ', 'MEH', 'EWB', 'SLK', 'MSP', 'JDH', 'KEF', 'EVV', 'PEI', 'ROI', 'SDJ', 'GTO', 'YNZ', 'APF', 'HBE', 'IAN', 'YWP', 'ABE', 'LFW', 'MAQ', 'YRB', 'TMP', 'LKB', 'MAO', 'AOJ', 'YGV', 'CAW', 'PFQ', 'SDG', 'HGU', 'PGK', 'PSP', 'LEJ', 'LUN', 'CLQ', 'TTQ', 'URA', 'KAA', 'OIA', 'GIS', 'PKU', 'BNS', 'TIM', 'RYK', 'KZI', 'PVA', 'CCJ', 'MCP', 'PPN', 'ADD', 'SAF', 'GVR', 'SVJ', 'PBU', 'LKL', 'NNY', 'GHT', 'HMA', 'MDW', 'ETH', 'MGH', 'YZG', 'DRO', 'GRP', 'CZX', 'DAC', 'TIA', 'AGH', 'ABJ', 'OSR', 'VLI', 'SRE', 'CUU', 'AHE', 'GUC', 'BLI', 'MZW', 'HLN', 'SKO', 'SMA', 'IKT', 'PEW', 'BZN', 'UBJ', 'VCL', 'DLY', 'MGB', 'CJS', 'HRE', 'SLY', 'KHH', 'KWJ', 'WMR', 'DLM', 'RAR', 'GAN', 'KUA', 'KOS', 'BMU', 'YQL', 'KKH', 'PVD', 'PDA', 'ORK', 'TXL', 'SAP', 'DWC', 'ABI', 'JAL', 'YGW', 'GSP', 'NDB', 'MQL', 'YVZ', 'BEW', 'GLO', 'IXL', 'DEF', 'PZU', 'BLJ', 'ODY', 'JBQ', 'MKP', 'EXT', 'TJM', 'GCH', 'PUY', 'PIS', 'AIA', 'JFK', 'TNW', 'MQM', 'SCT', 'BFD', 'LNS', 'JAU', 'SFO', 'LRE', 'CIX', 'DCA', 'GFN', 'OZC', 'HID', 'TMI', 'KIM', 'LEB', 'MLA', 'TUR', 'MGZ', 'MQT', 'AHU', 'PIT', 'CKG', 'NOC', 'JGS', 'STC', 'ADK', 'RNB', 'AWZ', 'JKH', 'IRP', 'KGE', 'CCF', 'BJB', 'MKL', 'FMN', 'MYT', 'HEK', 'IGR', 'TBP', 'SAB', 'ECN', 'LET', 'BSO', 'ZGS', 'PMV', 'HAQ', 'BSC', 'PBG', 'TLN', 'BKK', 'IXR', 'MAH', 'GRX', 'AUS', 'SSJ', 'TVF', 'XBE', 'YAB', 'ZHY', 'PUJ', 'HGR', 'GRJ', 'YQY', 'FRS', 'CCU', 'CDJ', 'MII', 'RAO', 'GCM', 'MLE', 'AJA', 'CNX', 'HRB', 'TRS', 'BSA', 'YQT', 'STD', 'BOO', 'TAI', 'TAC', 'ORB', 'KWN', 'HAV', 'ZNZ', 'PDV', 'OST', 'RGS', 'KAD', 'BVA', 'LTD', 'VBY', 'SOF', 'YTL', 'DOM', 'HFA', 'IFN', 'NQN', 'KQA', 'RVK', 'NAO', 'BAL', 'GMZ', 'NUE', 'DOB', 'VEE', 'ESC', 'GRO', 'GCK', 'AIN', 'BHE', 'YTE', 'EZE', 'SAN', 'BGA', 'KVK', 'VTE', 'CRM', 'BON', 'BZO', 'BZL', 'MIR', 'XRY', 'KAZ', 'MOL', 'CYF', 'ERZ', 'AUH', 'ZBF', 'HNS', 'BHM', 'JAV', 'GEA', 'JSY', 'KBL', 'RXS', 'WBM', 'ALW', 'BHO', 'UFA', 'YFS', 'LUO', 'LLB', 'MMJ', 'CGD', 'NLG', 'YUM', 'JPR', 'LGW', 'SLP', 'TTN', 'FSD', 'BJM', 'TSE', 'LXR', 'HTA', 'BEN', 'DIR', 'CWL', 'MLL', 'YRA', 'BIK', 'HYG', 'SMF', 'SNP', 'YUB', 'ALG', 'WSZ', 'GOA', 'CDG', 'RTB', 'FNI', 'GEV', 'YPH', 'RRS', 'AUX', 'JJN', 'CHC', 'LAI', 'SAV', 'UUD', 'LPP', 'PBI', 'LIL', 'GDV', 'MPL', 'PET', 'VIS', 'KSD', 'DOU', 'MLY', 'AGF', 'LWY', 'UDI', 'BMV', 'GGT', 'HUS', 'HAU', 'NJF', 'AZS', 'IMF', 'KJA', 'EVE', 'SHP', 'CGK', 'GET', 'WIL', 'YMM', 'HOG', 'ULV', 'NUL', 'IGD', 'TCB', 'TBZ', 'PGA', 'BFF', 'ZIH', 'TPE', 'XIY', 'ABL', 'YKA', 'DRG', 'WNR', 'YCO', 'OER', 'SSH', 'VXO', 'SPR', 'STR', 'SDV', 'JIK', 'HIJ', 'NDU', 'KVD', 'DDC', 'GDX', 'MJZ', 'UST', 'KIN', 'PPW', 'FSC', 'TPP', 'YYJ', 'UPN', 'REC', 'SCU', 'TRG', 'IND', 'SHH', 'CBT', 'CRI', 'MXX', 'OAX', 'PYJ', 'WXN', 'KOE', 'STL', 'NAH', 'DUB', 'SGF', 'GNV', 'HFS', 'YNC', 'KWT', 'TUF', 'TRW', 'MUA', 'BEL', 'NTQ', 'BDH', 'LUG', 'LXG', 'MXP', 'JSI', 'EBJ', 'LRR', 'GDQ', 'BNB', 'TML', 'KRL', 'DBA', 'ORN', 'KVG', 'AZD', 'TVU', 'RJK', 'LMP', 'PRC', 'TTA', 'NUI', 'WAE', 'JUB', 'UAP', 'REN', 'YRL', 'BTU', 'AAE', 'YBX', 'NWI', 'APW', 'GRI', 'PKZ', 'CAY', 'LYH', 'LKH', 'BIO', 'PIN', 'BXU', 'BUS', 'PPG', 'YCB', 'JSU', 'RSH', 'AFA', 'AFZ', 'DAV', 'AGN', 'UCT', 'AXU', 'HTN', 'KFS', 'BTC', 'LCK', 'WIN', 'SSY', 'KUO', 'LTN', 'RCB', 'SUJ', 'LGI', 'BOB', 'MCN', 'MWX', 'GRR', 'ZFN', 'BHV', 'HNM', 'BTM', 'TGU', 'AQA', 'YAP', 'PNI', 'JKL', 'TUG', 'XBJ', 'SKK', 'YQB', 'YQD', 'AXD', 'ISA', 'MLW', 'BRO', 'ERC', 'HEA', 'IOM', 'PEE', 'BHK', 'JIJ', 'MVP', 'AET', 'PBZ', 'PEM', 'VDS', 'SON', 'RGL', 'RLG', 'TLC', 'VDZ', 'PSO', 'KUH', 'MGM', 'ROK', 'PNQ', 'FEN', 'VAA', 'FMI', 'WAA', 'YMT', 'LIF', 'GTF', 'HOD', 'IAM', 'VCA', 'SFL', 'GEG', 'CGM', 'EMK', 'MEG', 'VDC', 'TKS', 'DLZ', 'YLW', 'MJT', 'KSH', 'DME', 'NEV', 'FLG', 'YFA', 'CIK', 'BGR', 'HJJ', 'THU', 'CEE', 'AAN', 'OKC', 'CJB', 'HGN', 'YQX', 'PGD', 'HAC', 'KNX', 'YXX', 'NCL', 'RUR', 'GZP', 'MOF', 'MJM', 'CPR', 'ARM', 'NGK', 'PIR', 'LEX', 'PEK', 'VNS', 'ZAT', 'BME', 'THX', 'APN', 'AMM', 'BKM', 'GZT', 'SJO', 'KRS', 'BHJ', 'OUL', 'HOR', 'BWT', 'HAM', 'IQN', 'NAN', 'TAM', 'CEZ', 'SXK', 'TGJ', 'HIR', 'LCH', 'TPQ', 'BWI', 'TBU', 'YPY', 'YLH', 'HKT', 'RGN', 'GXH', 'CUQ', 'LZY', 'CGR', 'JDZ', 'FLW', 'RVD', 'AMH', 'MRZ', 'KCA', 'LAE', 'CEK', 'MNL', 'KTS', 'CLD', 'NVK', 'CGP', 'MCG', 'BPN', 'COO', 'GAM', 'YSO', 'YGK', 'OIT', 'GDN', 'HAD', 'YHP', 'PLN', 'BTI', 'AEP', 'YQM', 'LZO', 'JUV', 'SUG', 'NYO', 'DIB', 'YRT', 'PKA', 'LFT', 'ROA', 'RBR', 'BUD', 'YAK', 'ADU', 'RES', 'MGT', 'ELH', 'LST', 'MAA', 'BAH', 'EGC', 'ASV', 'MPA', 'STN', 'YXN', 'KAN', 'AGX', 'DEC', 'LEC', 'THE', 'UAS', 'ZTB', 'PNR', 'RIB', 'JIQ', 'YYB', 'BYO', 'GWT', 'SNO', 'AES', 'KIH', 'EYW', 'DMK', 'YQR', 'ISN', 'FUN', 'WUX', 'YPN', 'IRK', 'GOP', 'BUF', 'ACA', 'BKY', 'KIR', 'PMF', 'TGZ', 'HAN', 'LWN', 'ERL', 'CUF', 'LVI', 'BJL', 'TRV', 'MEL', 'BGY', 'MYA', 'ERI', 'OMO', 'GLA', 'BTT', 'YFB', 'AHB', 'LBU', 'MDG', 'RIC', 'KBR', 'BJR', 'GND', 'CSG', 'GIU', 'KZN', 'YOP', 'TMS', 'HLH', 'FCA', 'MAM', 'KLV', 'DNR', 'OKJ', 'EMD', 'XMH', 'WJR', 'MED', 'TTJ', 'LPY', 'MCO', 'IQQ', 'TRN', 'SUX', 'MQF', 'DLE', 'UAH', 'HKG', 'WEF', 'FUG', 'AMS', 'SMS', 'GYS', 'CNP', 'YOW', 'POP', 'RAP', 'SKX', 'LBD', 'MUE', 'VLD', 'MSN', 'BRM', 'NVT', 'SAL', 'SIT', 'JPA', 'WLS', 'VRC', 'BMY', 'MAS', 'LEH', 'LPD', 'ALA', 'AKL', 'MZG', 'CTC', 'RUH', 'ASE', 'TUO', 'IRG', 'LEN', 'LBE', 'BHD', 'SCY', 'TME', 'GMB', 'TUC', 'IBR', 'SWJ', 'CUL', 'ISU', 'KKN', 'SPP', 'FCO', 'PUB', 'NSI', 'HAH', 'TIJ', 'ZQZ', 'HTY', 'YBR', 'TRC', 'BUX', 'MMU', 'DIU', 'SMX', 'RMF', 'IXC', 'CZS', 'LPI', 'ETR', 'BFN', 'KIT', 'AVN', 'KUD', 'XTG', 'ITM', 'KMG', 'TRO', 'NDG', 'PNZ', 'SCO', 'GNM', 'OSS', 'ISE', 'MRE', 'GJA', 'IOA', 'FAI', 'TAK', 'RKD', 'BOH', 'YYZ', 'FLA', 'DLU', 'ICT', 'JOS', 'BJI', 'AKY', 'DVO', 'YXJ', 'CPD', 'YFH', 'ILO', 'MMK', 'RAS', 'PZI', 'HYD', 'SYR', 'EKO', 'VDH', 'RCM', 'VCE', 'NST', 'YFJ', 'LTX', 'CXI', 'LSC', 'OTH', 'LDB', 'SDQ', 'NSK', 'TLL', 'MQP', 'DIJ', 'NBX', 'LOH', 'YYQ', 'YMO', 'TXN', 'ACZ', 'MJV', 'LXA', 'TKK', 'BNX', 'KCK', 'KSJ', 'MQH', 'TCZ', 'MTM', 'BND', 'OBU', 'LRT', 'CLM', 'PPB', 'GAU', 'CUR', 'ZQN', 'PMO', 'CHA', 'PMC', 'EYK', 'IXJ', 'FRU', 'OLL', 'YYF', 'BWK', 'SYX', 'BRI', 'BSD', 'SHA', 'GLH', 'BQN', 'RBQ', 'INL', 'KSU', 'JMU', 'ATW', 'EJA', 'DEB', 'MEC', 'UIB', 'RDZ', 'CUN', 'SJE', 'USM', 'DDG', 'LSY', 'GAO', 'YVB', 'YTQ', 'GDT', 'OGD', 'YSM', 'SPU', 'SJP', 'SDY', 'TMT', 'KOO', 'JXA', 'KGS', 'VUP', 'ORD', 'SLW', 'KRF', 'IAO', 'NAP', 'MAN', 'KRR', 'DUS', 'CUC', 'LMN', 'AXT', 'AXK', 'HOV', 'AKU', 'ENU', 'KAL', 'KYZ', 'TVC', 'CBB', 'SHM', 'SKU', 'OLB', 'BIA', 'BBI', 'BKG', 'RIY', 'DNZ', 'NYK', 'AOI', 'EDL', 'BSG', 'TRI', 'YXE', 'ZVK', 'BKI', 'CBO', 'RDD', 'GUA', 'YYU', 'MFE', 'ILD', 'VSA', 'OLP', 'YHM', 'GBT', 'GRB', 'EDO', 'LLF', 'SZA', 'EWR', 'DHN', 'BVI', 'PKE', 'IAH', 'BSR', 'MYG', 'SFN', 'ENA', 'BNE', 'TUL', 'KIS', 'TUS', 'RMA', 'ROV', 'KSF', 'HON', 'HLZ', 'SUK', 'TQL', 'NKM', 'CEN', 'MID', 'VTZ', 'RGA', 'LED', 'DCN', 'NHV', 'VHC', 'GRQ', 'GCC', 'DAL', 'RVE', 'YVQ', 'FLS', 'LHR', 'GEL', 'YBP', 'TWF', 'NIM', 'NNB', 'WMX', 'ROT', 'LIS', 'BRC', 'YTS', 'MEE', 'SUB', 'MOI', 'HCR', 'CIY', 'NTL', 'GDE', 'VCT', 'CDV', 'LKO', 'AER', 'LJU', 'IST', 'SJI', 'TDX', 'ATD', 'DXB', 'BEG', 'WGP', 'TKD', 'TOU', 'VAO', 'LSE', 'YQG', 'TGO', 'TJQ', 'BHR', 'BVC', 'AMA', 'CRL', 'TRZ', 'POG', 'TMJ', 'LAW', 'UDJ', 'GPA', 'CTA', 'IPL', 'SXR', 'FDH', 'IMP', 'PKC', 'TER', 'KTL', 'AKX', 'SPI', 'BJA', 'TFS', 'YCG', 'HHN', 'RJL', 'CVU', 'CAG', 'CMN', 'DEL', 'YHI', 'MKM', 'JFR', 'KNG', 'BRU', 'ZMT', 'FLL', 'NZH', 'DBQ', 'HOI', 'SRG', 'RAE', 'NDY', 'KCH', 'KUV', 'PVK', 'KGT', 'UGC', 'DSK', 'YGT', 'XNA', 'MAB', 'CUE', 'CJU', 'MKE', 'KME', 'AFL', 'DOH', 'RFP', 'RIA', 'DEN', 'ALB', 'MOQ', 'IPH', 'VOG', 'VII', 'IKA', 'BNK', 'FTA', 'YXS', 'BDO', 'DAD', 'JQA', 'YVR', 'PIB', 'KIF', 'MZR', 'AGR', 'GAF', 'YDP', 'ALF', 'WGA', 'MEB', 'YCS', 'IFJ', 'PTY', 'FEZ', 'BTR', 'HDF', 'TBI', 'PFB', 'OGZ', 'SAH', 'GZO', 'FOE', 'MCI', 'SPD', 'BHU', 'BUA', 'EBB', 'OVD', 'CBR', 'SOG', 'IAR', 'CRW', 'ABV', 'MYY', 'MME', 'OKA', 'EUG', 'INV', 'BPL', 'EAM', 'TIF', 'SXB', 'YAM', 'WSN', 'UUS', 'LNJ', 'VIG', 'LCX', 'MKG', 'GMP', 'UYU', 'KMI', 'CLV', 'ZCO', 'BMA', 'CEB', 'OAK', 'CYX', 'SLU', 'EOH', 'PXU', 'YSJ', 'LYB', 'VXC', 'SRZ', 'KGF', 'VDE', 'NAJ', 'MST', 'PSM', 'MDT', 'AHO', 'KEP', 'JUL', 'WIC', 'PVC', 'JBR', 'ROW', 'PVH', 'IRC', 'DEA', 'ALH', 'FDF', 'HMO', 'YHR', 'COQ', 'SOW', 'TAG', 'GUW', 'EDR', 'HPB', 'OUD', 'TFN', 'TBN', 'ORX', 'RIW', 'MIS', 'RNO', 'ULZ', 'STG', 'MOU', 'JHS', 'NYA', 'SOC', 'PDX', 'AEX', 'OGL', 'SYQ', 'ABD', 'FOR', 'JAN', 'JOL', 'LWO', 'EAE', 'MSO', 'KSC', 'PLO', 'LUZ', 'PUS', 'ADB', 'ACT', 'KKA', 'BAQ', 'JAX', 'SVO', 'CMH', 'MAZ', 'SOM', 'OOL', 'CID', 'SPC', 'EIS', 'SDL', 'RHI', 'YAY', 'GCI', 'ULP', 'CIJ', 'IRA', 'BDU', 'GDZ', 'RNN', 'CYZ', 'YHO', 'TEN', 'SHL', 'HRK', 'HRL', 'MSS', 'PPQ', 'ARC', 'MAF', 'OOK', 'PED', 'YFO', 'JUH', 'OGS', 'MBS', 'RSA', 'RYG', 'LAQ', 'XFW', 'TSV', 'HNH', 'YIF', 'YHK', 'KLO', 'SKD', 'NUS', 'ZSJ', 'RDM', 'ANG', 'GLT', 'MUB', 'MDE', 'YFC', 'SOQ', 'AAX', 'YSG', 'JNU', 'CFB', 'BLR', 'PIE', 'MRX', 'URC', 'SHR', 'UDR', 'IDA', 'GPB', 'UPG', 'TUA', 'JCB', 'DYR', 'MKQ', 'HVG', 'MLM', 'MPH', 'DBV', 'SDR', 'DTM', 'HJR', 'YOJ', 'ATQ', 'EBH', 'KOK', 'FRE', 'UKX', 'URG', 'UIP', 'SYM', 'IPI', 'TWB', 'TGI', 'EGM', 'TUP', 'TYN', 'DIG', 'SOY', 'ADF', 'NCE', 'PEU', 'XIC', 'HOB', 'MDK', 'ANV', 'YEG', 'SPB', 'SCQ', 'MSZ', 'VLC', 'FUE', 'LUW', 'PBH', 'URJ', 'HLA', 'TRD', 'BUQ', 'VAW', 'IPC', 'HKK', 'AQP', 'YIE', 'WNZ', 'TLH', 'TBG', 'FAE', 'MVY', 'ZNE', 'MUC', 'MHQ', 'ONJ', 'VVC', 'OMH', 'TUU', 'CSH', 'KET', 'KTW', 'SFA', 'TUK', 'BKQ', 'CMP', 'COK', 'AJL', 'ISP', 'CCM', 'ETZ', 'UBP', 'FIH', 'GMA', 'NOU', 'FKQ', 'MYQ', 'FMA', 'LAP', 'LCA', 'CFR', 'LOD', 'HSG', 'CGO', 'VNX', 'BOD', 'UAK', 'SMR', 'PZH', 'LHW', 'MDQ', 'CGI', 'PAZ', 'SJC', 'KCT', 'CLO', 'PUW', 'KHG', 'BUW', 'SHE', 'PIH', 'ZQW', 'WAT', 'ABM', 'SDU', 'CPO', 'LEI', 'PBL', 'ZAH', 'REU', 'TOG', 'IIL', 'JIM', 'RZR', 'ANR', 'IVL', 'MBT', 'AKJ', 'GOV', 'MCT', 'MTY', 'OGG', 'DUR', 'USN', 'MDL', 'GWD', 'BHB', 'GHA', 'BLK', 'ALO', 'ABY', 'MRD', 'IBE', 'COU', 'KMQ', 'ILG', 'CAH', 'KOV', 'LWB', 'CYO', 'AZO', 'CDB', 'NNT', 'CPH', 'BKS', 'BOS', 'SNU', 'BCD', 'CLL', 'BIS', 'BRN', 'WHK', 'PDP', 'TRK', 'CAN', 'DTW', 'INH', 'PRI', 'LGA', 'BBK', 'YEV', 'SCE', 'SGO', 'MLB', 'SOJ', 'SCL', 'AIU', 'RFD', 'SAW', 'YYR', 'SNA', 'GPI', 'BGO', 'PMR', 'YAG', 'BTK', 'RTM', 'UTT', 'NRK', 'MQJ', 'INZ', 'HNA', 'FEG', 'CMB', 'LCY', 'NRA', 'VGZ', 'CVG', 'LLU', 'APO', 'SMI', 'TIV', 'LJG', 'POZ', 'CFS', 'YTZ', 'GHB', 'CZU', 'KLX', 'ACH', 'ROC', 'UAQ', 'NNM', 'TYS', 'HDS', 'KOT', 'LNB', 'KDO', 'MCV', 'NTX', 'SNN', 'ARN', 'AXM', 'OSW', 'AZA', 'GRW', 'YCU', 'IGU', 'PMY', 'SXO', 'DUJ', 'BZG', 'UNG', 'EMA', 'GES', 'FAV', 'NSH', 'TCO', 'FAR', 'ASF', 'HOF', 'WYA', 'LGP', 'ABA', 'NAT', 'LUQ', 'TOY', 'YNJ', 'DOL', 'SDD', 'VQS', 'KTG', 'YKQ', 'NER', 'LAR', 'MRS', 'TMC', 'OUA', 'KVA', 'MBA', 'LAO', 'YUT', 'BDQ', 'BHY', 'SCZ', 'GRK', 'FMO', 'YGX', 'GIL', 'GOI', 'VDM', 'VPE', 'MZH', 'ADA', 'GSO', 'SIP', 'BEB', 'HEL', 'YWG', 'SIN', 'ZIG', 'CGB', 'MRU', 'JNN', 'EJH', 'OWB', 'PAV', 'JOE', 'EVG', 'WBQ', 'DAU', 'MIG', 'AZR', 'POL', 'BBN', 'WRG', 'RVT', 'MHG', 'AXP', 'SRY', 'CLE', 'OZZ', 'BKW', 'KWM', 'LGL', 'GMO', 'LPB', 'GOM', 'TGK', 'LOK', 'VXE', 'PXO', 'RGI', 'YHD', 'EDI', 'YUD', 'LLI', 'LYS', 'SYD', 'WDH', 'PQC', 'RMI', 'LLK', 'IAG', 'COD', 'TKJ', 'LBA', 'ICI', 'RCY', 'JNG', 'ADQ', 'JHW', 'SDK', 'TMM', 'YKF', 'SVA', 'YYT', 'CVM', 'USH', 'MHK', 'YDQ', 'YXH', 'MQX', 'KSE', 'RAJ', 'YNY', 'PVR', 'LRH', 'LBC', 'LAX', 'PWM', 'BZV', 'HOM', 'CCC', 'HAK', 'ATZ', 'MOB', 'KVC', 'RPR', 'TIR', 'JHB', 'SKT', 'KCZ', 'MSJ', 'BEU', 'YPX', 'XFN', 'ILI', 'TSR', 'CRK', 'LDU', 'TEB', 'KOI', 'ASM', 'PVG', 'VDB', 'LKN', 'MCK', 'MAD', 'SFG', 'CNM', 'JGA', 'CJA', 'LAM', 'JQE', 'ARK', 'VLN', 'AGU', 'LOP', 'DAX', 'RHD', 'YUL', 'KQT', 'SMK', 'ULK', 'MCE', 'DAR', 'ARI', 'YLE', 'ORH', 'AVL', 'TKP', 'CEC', 'KRK', 'LPM', 'YGP', 'KER', 'MRV', 'ANM', 'TMR', 'YIH', 'DCM', 'LAS', 'TBW', 'YPR', 'CYS', 'NNG', 'DYG', 'VKG', 'TSN', 'JST', 'MSA', 'BJF', 'SVQ', 'PAP', 'HSN', 'BHI', 'GIB', 'BUN', 'CFK', 'CED', 'SJZ', 'SXM', 'LUR', 'ATH', 'BRR', 'RRG', 'VPS', 'YSY', 'HTS', 'JUZ', 'CPT', 'CHX', 'TUB', 'SBW', 'TKG', 'OTZ', 'BRL', 'NYM', 'MFR', 'STT', 'WNN', 'ABX', 'EYP', 'JTY', 'MVT', 'JGN', 'SGY', 'TLM', 'WTK', 'GOT', 'DUT', 'BPS', 'KID', 'SGC', 'PAT', 'UIH', 'AAY', 'GRZ', 'CHO', 'CXR', 'UTH', 'KOP', 'SFB', 'BVG', 'HME', 'FUO', 'RAI', 'AZI', 'BAY', 'TKU', 'DRW', 'RUT', 'OPS', 'AOO', 'SCK', 'IXA', 'SOU', 'KAW', 'PWE', 'KFP', 'PLZ', 'OSY', 'LBL', 'YKU', 'RSD', 'TAE', 'CIC', 'KDH', 'FNJ', 'MTS', 'KHS', 'LGK', 'DNH', 'NBC', 'CFE', 'DPS', 'BRD', 'MIA', 'JKR', 'ATL', 'BZR', 'KEM', 'PRG', 'KLW', 'TOE', 'EUX', 'DSA', 'ACR', 'PGU', 'PLW', 'TSA', 'WLK', 'RAH', 'YGH', 'TGH', 'MPN', 'PKR', 'NOV', 'VIX', 'TRF', 'LSP', 'RLK', 'AUK', 'GWL', 'SVB', 'MAR', 'WMI', 'VIN', 'YHU', 'SLX', 'BKZ', 'ABZ', 'FWA', 'ERN', 'TGG', 'ELV', 'FLO', 'MYD', 'YBL', 'DJE', 'PVU', 'RAK', 'AYQ', 'ISB', 'JLN', 'MLO', 'KRY', 'XKS', 'BAX', 'YIN', 'LEA', 'SJD', 'OLC', 'DCY', 'IKI', 'KVX', 'SFT', 'CTL', 'EIN', 'HLD', 'TOH', 'FRO', 'ZYL', 'MXL', 'CZL', 'TSH', 'JDO', 'LSI', 'PUG', 'SGN', 'NIB', 'PIP', 'OGX', 'TCG', 'SNV', 'OPO', 'BNA', 'CIP', 'YPL', 'LBB', 'YYH', 'KDU', 'KUF', 'LUV', 'YYE', 'RVN', 'KKR', 'PUE', 'YGR', 'OSM', 'ACK', 'KGC', 'KTT', 'DGO', 'GEO', 'ATM', 'ATY', 'SUF', 'JER', 'STM', 'KEJ', 'MLX', 'SVX', 'YVM', 'JRO', 'AKB', 'PKN', 'NOZ', 'PFO', 'YQZ', 'SLM', 'MTT', 'BRW', 'MGA', 'NDJ', 'ZRJ', 'GYN', 'JMK', 'AJR', 'VIE', 'QRO', 'BHS', 'YHZ', 'ZOS', 'BVB', 'SJJ', 'IXE', 'DMD', 'NTN', 'OKL', 'IWK', 'ELQ', 'LPQ', 'ZAD', 'VVO', 'NMA', 'POJ', 'BDB', 'AOG', 'IWJ', 'YQC', 'USU', 'HMI', 'MZV', 'IKO', 'ELD', 'RKV', 'BGF', 'CJM', 'IAD', 'BUL', 'DQA', 'YTH', 'KWE', 'EQS', 'VLV', 'PIK', 'WMO', 'MXV', 'PWQ', 'DLI', 'AKV', 'ZCL', 'TYR', 'BGW', 'NPE', 'PHE', 'INU', 'BLQ', 'SZB', 'SEA', 'DEE', 'PAC', 'NKC', 'CYB', 'TRU', 'TST', 'ART', 'GSE', 'CIT', 'DMM', 'KSM', 'HAS', 'LPL', 'LNK', 'XAP', 'TZX', 'AVA', 'DWD', 'RTW', 'ACY', 'KAO', 'LYC', 'SBA', 'EGN', 'KYU', 'ABR', 'MYJ', 'SZZ', 'KIX', 'LTI', 'SBY', 'CHQ', 'WVB', 'UME', 'UTS', 'PIZ', 'WLG', 'BOI', 'BUC', 'HOU', 'BFS', 'LBS', 'ASJ', 'NQY', 'BHX', 'BVE', 'YJT', 'ZRH', 'SBN', 'KLU', 'AOE', 'GOQ', 'MDC', 'YCL', 'OLF', 'PLS', 'ONG', 'ULG', 'FKI', 'NAW', 'SDF', 'RST', 'TGP', 'OTP', 'KRO', 'TPS', 'LBF', 'LBV', 'NVI', 'YWL', 'VUS', 'AOK', 'KVL', 'ANU', 'PDG', 'ITH', 'IGA', 'RDC', 'KYA', 'GCN', 'ROO', 'CUZ', 'NYI', 'KNH', 'SXI', 'IZO', 'PSA', 'SRX', 'ZAL', 'MAJ', 'YZV', 'PJG', 'TNC', 'PMI', 'IKS', 'YNB', 'DYU', 'CJC', 'ZGU', 'FLN', 'BEY', 'ILM', 'PAH', 'GUM', 'LZC', 'ENE', 'TLV', 'IXB', 'IAS', 'XSB', 'ASR', 'MLG', 'MGF', 'KTN', 'RSW', 'SHB', 'OMD', 'THL', 'TGM', 'DHM', 'LRS', 'YPJ', 'ISG', 'AEB', 'NAV', 'ARU', 'KDV', 'UKA', 'LIH', 'PNP', 'TLE', 'WLH', 'FNA', 'BNN', 'MMH', 'MLN', 'JOG', 'GJT'}\n"
          ]
        }
      ],
      "source": [
        "# Replace 'your_file.csv' with the path to your CSV file\n",
        "file_path = 'routes.csv'\n",
        "routes = pd.read_csv(file_path)\n",
        "\n",
        "# Filter rows where stops == 0\n",
        "direct_flights = routes[routes['Stops'] == 0]\n",
        "\n",
        "# just making sure that we are extracting the right data\n",
        "source_airports_set = set(direct_flights['Source Airport'])\n",
        "dest_airports_set = set(direct_flights['Destination Airport'])\n",
        "airports_set = set(airport_city_dict.keys())\n",
        "combined_airports = dest_airports_set.intersection(airports_set)\n",
        "print(len(combined_airports))\n",
        "print(combined_airports)"
      ]
    },
    {
      "cell_type": "code",
      "execution_count": null,
      "metadata": {
        "id": "kyCX4eeQHjKp"
      },
      "outputs": [],
      "source": [
        "# create a graph with attributes such as airline id and airline\n",
        "import networkx as nx\n",
        "\n",
        "G = nx.DiGraph()\n",
        "\n",
        "for index, row in direct_flights.iterrows():\n",
        "   # get airport code\n",
        "   source_airport = row['Source Airport']\n",
        "   destination_airport = row['Destination Airport']\n",
        "   airline = row['Airline']\n",
        "   airline_id = row['Airline ID']\n",
        "\n",
        "   # Check if the airport codes exist in the dictionary\n",
        "   if source_airport in airport_city_dict and destination_airport in airport_city_dict:\n",
        "      # Get city names based on airport codes\n",
        "      source_city = airport_city_dict[source_airport]\n",
        "      destination_city = airport_city_dict[destination_airport]\n",
        "\n",
        "      # Add an edge from Source City to Destination City with airline as an attribute\n",
        "      G.add_edge(source_city, destination_city, Airline=airline, Airline_ID=airline_id)"
      ]
    },
    {
      "cell_type": "markdown",
      "metadata": {
        "id": "-hvfIBTEHjKp"
      },
      "source": [
        "### Saving and loading to pickle to make sure that is is ok"
      ]
    },
    {
      "cell_type": "code",
      "execution_count": null,
      "metadata": {
        "id": "CgCrDx-SHjKq"
      },
      "outputs": [],
      "source": [
        "# save to pickle\n",
        "import pickle\n",
        "\n",
        "# Save the graph to a file using pickle\n",
        "with open('flight_network_graph.pickle', 'wb') as f:\n",
        "   pickle.dump(G, f)"
      ]
    },
    {
      "cell_type": "code",
      "execution_count": null,
      "metadata": {
        "colab": {
          "base_uri": "https://localhost:8080/"
        },
        "id": "H2lDnEeMHjKq",
        "outputId": "69139928-2027-4bab-e09b-3a13b40552aa"
      },
      "outputs": [
        {
          "output_type": "stream",
          "name": "stdout",
          "text": [
            "34614\n"
          ]
        }
      ],
      "source": [
        "# Load the graph from the pickle file\n",
        "with open('flight_network_graph.pickle', 'rb') as f:\n",
        "   G_loaded = pickle.load(f)\n",
        "print(len(G_loaded.edges()))"
      ]
    },
    {
      "cell_type": "markdown",
      "metadata": {
        "id": "2G6x0l8MHjKr"
      },
      "source": [
        "### Scrape the info on cities"
      ]
    },
    {
      "cell_type": "code",
      "execution_count": null,
      "metadata": {
        "colab": {
          "base_uri": "https://localhost:8080/"
        },
        "id": "2pX9CfbyHjKr",
        "outputId": "6c425e21-9e07-47de-ede2-82ff49e8fab9"
      },
      "outputs": [
        {
          "output_type": "stream",
          "name": "stdout",
          "text": [
            "['Sochi', 'Kazan', 'Astrakhan', 'Mineralnye Vody', 'Chelyabinsk', 'Novosibirsk', 'Moscow', 'Nizhnekamsk', 'Taganrog', 'Bugulma', 'Belgorod', 'Kaliningrad', 'Baku', 'St. Petersburg', 'Yekaterinburg', 'Nizhnevartovsk', 'Novy Urengoy', 'Bratsk', 'Irkutsk', 'Chita', 'Kirensk', 'Bodaibo', 'Ust-Kut', 'Lensk', 'Yakutsk', 'Mirnyj', 'Ayacucho', 'Lima', 'Cuzco', 'Puerto Maldonado', 'Huánuco', 'Iquitos', 'Pucallpa', 'Tarapoto', 'Abidjan', 'Bobo-dioulasso', 'Ouagadougou', 'Accra', 'Bamako', 'Dakar', 'Cotonou', 'Lome', 'Niamey', 'Bogota', 'Guayaquil', 'Quito', 'Cali', 'San Cristóbal', 'Coca', 'Brindisi', 'Zurich', 'Bordeaux', 'Bristol', 'Geneva', 'Gran Canaria', 'Larnaca', 'Marsa Alam', 'Tenerife', 'Arvidsjaur', 'Lycksele', 'Stockholm', 'Gallivare', 'Halmstad', 'Joenkoeping', 'Kramfors', 'Karlstad', 'Mariehamn', 'Ornskoldsvik', 'Pori', 'Sandefjord', 'Visby', 'Vilhelmina', 'Vaxjo', 'Hemavan', 'Kruunupyy', 'Turku', 'Oslo', 'Kodiak', 'Larsen Bay', 'Karluk', 'Basco', 'Manila', 'Butuan', 'Cotabato', 'Cagayan de Oro City', 'Catarman', 'Dumaguete', 'Dubai', 'Romblon', 'Kalibo', 'Legazpi', 'Caticlan', 'Ozamis', 'Puerto Princesa', 'Roxas City', 'Sangley Point', 'Tuguegarao', 'Zamboanga', 'Araguaina', 'Palmas', 'Barreiras', 'Brasilia', 'Salvador', 'Sinop', 'Ribeirao Preto', 'Cascavel', 'Sao Paulo', 'Cuiaba', 'Goiania', 'Campo Grande', 'Dourados', 'Rio De Janeiro', 'Uberaba', 'Uberlandia', 'Vitória Da Conquista', 'Belo Horizonte', 'Sao Jose Do Rio Preto', 'Burlington', 'Chicago', 'St. Louis', 'Decatur', 'Jonesboro', 'Ketchikan', 'Metakatla', 'Lagos', 'Monrovia', 'Barcelona', 'Banjul', 'Freetown', 'Conakry', 'Bissau', 'Douala', 'London', 'Akulivik', 'Ivujivik', 'Puvirnituq', 'Kangiqsualujjuaq', 'Quujjuaq', 'La Grande Riviere', 'Kuujjuarapik', 'Montreal', 'Inukjuak', 'Sanikiluaq', 'Umiujaq', 'Rouyn', 'Salluit', 'Kangirsuk', 'Aupaluk', 'Quaqtaq', 'Schefferville', 'Quebec', 'Wabush', 'Sept-iles', 'Tasiujaq', 'Kangiqsujuaq', 'Djibouti', 'Jeddah', 'Mogadishu', 'Nairobi', 'Bangkok', 'Singapore', 'Darwin', 'Haikou', 'Hangzhou', 'Hong Kong', 'Phuket', 'Osaka', 'Taipei', 'Kuala Lumpur', 'Penang', 'Perth', 'Phnom-penh', 'Siem-reap', 'Yangon', 'Ho Chi Minh City', 'Shantou', 'Altenrhein', 'Marina Di Campo', 'Dresden', 'Duesseldorf', 'Friedrichshafen', 'Munich', 'Hamburg', 'Olbia', 'Berlin', 'Zadar', 'Memmingen', 'Naples', 'Graz', 'Salzburg', 'Atlanta', 'Lewisburg', 'Macon', 'Meridian', 'Muscle Shoals', 'Hattiesburg/Laurel', 'Tupelo', 'Alice Town', 'Fort Lauderdale', 'North Eleuthera', 'West Palm Beach', 'Key West', 'Fort Myers', 'Tampa', 'Freeport', 'Great Exuma', \"Governor's Harbor\", 'Orlando', 'Marsh Harbor', 'Treasure Cay', 'Greenville', 'Gainesville', 'Jacksonville', 'Pensacola', 'Tallahassee', 'Amsterdam', 'El Aroui', 'Tanger', 'Casablanca', 'Bergamo', 'Bologna', 'Brussels', 'Cologne', 'Cuneo', 'Lyon', 'Montpellier', 'Istanbul', 'Toulouse', 'Treviso', 'Fes', 'Palma de Mallorca', 'Oranjestad', 'Paraguana', 'Maracaibo', 'Kralendijk', 'Willemstad', 'Bukhara', 'Fergana', 'Khanabad', 'Namangan', 'Navoi', 'Samarkand', 'Tivat', 'Antigua', 'Pointe-a-pitre', 'Cayenne', 'Fort-de-france', 'Santo Domingo', 'Dominica', 'Philipsburg', 'Castries', 'Gustavia', 'St. Martin', 'Beihai', \"Xi'an\", 'Guangzhou', 'Chongqing', 'Chengdu', 'Saipan', 'Zhengzhou', 'Changchun', 'Harbin', 'Kunming', 'Urumqi', 'Nanjing', 'Jinan', 'Tianjin', 'Changcha', 'Changzhou', 'Dalian', 'Dayong', 'Nanchang', 'Lanzhou', 'Lijiang', 'Lhasa', 'Ninbo', 'Nanning', 'Beijing', 'Shanghai', 'Panzhihua', 'Sydney', 'Sanya', 'Shenzhen', 'Taiyuan', 'Wuhan', 'Wuxi', 'Xining', 'Yichang', 'Zhanjiang', 'Fuzhou', 'Shenyang', 'Wenzhou', 'Xiamen', 'Daocheng', 'Dongsheng', 'Handan', 'Hohhot', 'Hefei', 'Seoul', 'Jinghonggasa', 'Qianjiang', 'Jiuzhaigou', 'Ganzhou', 'Guiyang', 'Luxi', 'Nyingchi', 'Melbourne', 'Shijiazhuang', 'Qingdao', 'Wanxian', 'Xichang', 'Xuzhou', 'Yangzhou', 'Zhuhai', 'Datong', 'Dunhuang', 'Xiahe city', 'Manzhouli', 'Jiayuguan', 'Quanzhou', 'Kashi', 'Guilin', 'Mianyang', 'Linyi', 'Zhongwei', 'Vancouver', 'Yibin', 'Yulin', 'Las Vegas', 'Los Angeles', 'Cairo', 'Tel-aviv', 'Mcgrath', 'Nikolai', 'Tatalina', 'Beloyarsky', 'Nukus', 'Tyumen', 'Ufa', 'Nadym', 'Sovetskiy', 'Ukhta', 'Dhaka', 'Barisal', 'Kolkata', 'Chittagong', 'Muscat', \"Cox's Bazar\", 'Jessore', 'Kathmandu', 'Saidpur', 'Sylhet Osmani', 'Rajshahi', 'Grise Fiord', 'Resolute', 'Dallas-Fort Worth', 'Buenos Aires', 'New York', 'Miami', 'Punta Cana', 'Edmonton', 'Whitehorse', 'Kelowna', 'Ottawa', 'Yellowknife', 'Calgary', 'Acapulco', 'Mexico City', 'Toluca', 'Aguascalientes', 'Ciudad Obregon', 'Ciudad Juarez', 'Ciudad Del Carmen', 'Campeche', 'Chetumal', 'Culiacan', 'Cancun', 'Monterrey', 'Chihuahua', 'Cozumel', 'Guadalajara', 'San Antonio', 'San Jose Del Cabo', 'Santa Ana', 'Tijuana', 'Guatemala City', 'Havana', 'Hermosillo', 'Huatulco', 'La Paz', 'Merida', 'Minatitlan', 'Mazatlan', 'Oaxaca', 'Palenque', 'Puerto Vallarta', 'Reynosa', 'San Jose', 'Tampico', 'Tuxtla Gutierrez', 'Torreon', 'Vera Cruz', 'Villahermosa', 'Zacatecas', 'Zihuatanejo', 'Manzanillo', 'Delhi', 'Herat', 'Kabul', 'Islamabad', 'Mazar-i-sharif', 'Antalya', 'Mulhouse', 'Hurghada', 'Pristina', 'Skopje', 'Malaga', 'Stuttgart', 'Algier', 'Ancona', 'Athens', 'Hannover', 'Belgrade', 'Bergen', 'Birmingham', 'Bastia', 'Bilbao', 'Bremen', 'Bari', 'Budapest', 'Cagliari', 'Paris', 'Kerkyra/corfu', 'Calvi', 'Catania', 'Dubrovnik', 'Dublin', 'Edinburgh', 'Faro', 'Rome', 'Heringsdorf', 'Heraklion', 'Ibiza', 'Mykonos', 'Thira', 'Kos', 'Klagenfurt', 'Kavala', 'Leipzig', 'Lisbon', 'Manchester', 'Milano', 'Nice', 'Palermo', 'Prague', 'Pisa', 'Pula', 'Marrakech', 'Rhodos', 'Rijeka', 'Laage', 'Sarajevo', 'Thessaloniki', 'Split', 'Lamezia', 'Tunis', 'Venice', 'Vienna', 'Villafranca', 'Warsaw', 'Jerez', 'Zagreb', 'Cardiff', 'Dortmund', 'Katowice', 'Madrid', 'Newquai', 'Nuernberg', 'Poznan', 'Torino', 'Wroclaw', 'Karlsruhe/Baden-Baden', 'Frankfurt', 'Helsinki', 'Krakow', 'Milan', 'Anaktuvuk Pass', 'Fairbanks', 'Bettles', 'Central', 'Circle', 'Chalkyitsik', 'Fort Yukon', 'Manley Hot Springs', 'Beaver', 'Bethel', 'Eek', 'Kipnuk', 'Quinhagak', 'Kwethluk', 'Marshall', 'Nightmute', 'Napakiak', 'Chefornak', 'Kongiganak', 'Kwigillingok', 'Toksook Bay', 'Napaskiak', 'Port Moller', 'Bocas Del Toro', 'Puntarenas', 'La Fortuna/San Carlos', 'Quepos', 'Golfito', 'Puerto Jimenez', 'Liberia', 'Managua', 'Nosara Beach', 'Nicoya', 'Palmar Sur', 'Roxana', 'Kumasi', 'Eldoret', 'Lodwar', 'Juba', 'Kisumu', 'Lamu', 'Malindi', 'Mombasa', 'Zanzibar', 'Bacolod', 'Cebu', 'Davao', 'Kota Kinabalu', 'Bandar Seri Begawan', 'Camiguin', 'Angeles City', 'Dipolog', 'Siargao', 'Iloilo', 'Pagadian', 'Busan', 'Tacloban', 'Busuanga', 'Jakarta', 'Macau', 'Cauayan', 'Denpasar', 'Hanoi', 'Laoag', 'Nagoya', 'Tokyo', 'Tagbilaran', 'Virac', 'Naga', 'Charlestown', 'Arkhangelsk', 'Solovetsky Islands', 'Murmansk', 'Naryan-Mar', 'Usinsk', 'Syktyvkar', 'Tromso', 'Antofagasta', 'Iquique', 'Concepcion', 'Santiago', 'Montevideo', 'Punta del Este', 'Asuncion', 'Curitiba', 'Porto Alegre', 'Baker Lake', 'Chesterfield Inlet', 'Whale Cove', 'Cambridge Bay', 'Coppermine', 'Spence Bay', 'Rankin Inlet', 'Clyde River', 'Iqaluit', 'Pond Inlet', 'Eskimo Point', 'Churchill', 'Inuvik', 'Norman Wells', 'Igloolik', 'Cape Dorset', 'Hall Beach', 'Pangnirtung', 'Gjoa Haven', 'Repulse Bay', 'Coral Harbour', 'Thompson', 'Broughton Island', 'Winnipeg', 'Belize City', 'Flores', 'San Pedro Sula', 'Tegucigalpa', 'Roatan', 'Cape Town', 'Plettenberg Bay', 'Johannesburg', 'Margate', 'Ahmedabad', 'Bangalore', 'Mumbai', 'Goa', 'Hyderabad', 'Jaipur', 'Madras', 'Pune', 'Bhubaneswar', 'Vishakhapatnam', 'Baroda', 'Kochi', 'Guwahati', 'Lucknow', 'Nagpur', 'Trivandrum', 'Coimbatore', 'Indore', 'Chandigarh', 'Jammu', 'Patina', 'Srinagar', 'Mohanbari', 'Imphal', 'Agartala', 'Baghdogra', 'Ranchi', 'Raipur', 'Varanasi', 'Elat', 'Tbilisi', 'Copenhagen', 'Soenderborg', 'Holman Island', 'Paulatuk', 'Sachs Harbour', 'Tuktoyaktuk', 'Fort Mcpherson', 'Krasnodar', 'Yakutia', 'Krasnoyarsk', 'Sittwe', 'Thandwe', 'Heho', 'Mandalay', 'Kawthoung', 'Myeik', 'Bagan', 'Tachilek', 'Dawei', 'Saratov', 'Yerevan', 'Riga', 'Chongju', 'Cheju', 'Fukuoka', 'Agana', 'Westerland', 'Arctic Bay', 'Kimmirut', 'Fort Simpson', 'Hay River', 'Kitakyushu', 'Ambler', 'Kotzebue', 'Shungnak', 'Anchorage', 'Wainwright', 'Atqasuk', 'Barrow', 'Aniak', 'Cordova', 'Kenai', 'Homer', \"St Mary's\", 'Unalakleet', 'Valdez', 'Chuathbaluk', 'Holy Cross', 'Kalskag', 'Russian Mission', 'Shageluk', 'Anvik', 'Alakanuk', 'Emmonak', 'Hooper Bay', 'Kasigluk', 'Chevak', 'Buckland', 'Deering', 'Nuiqsut', 'Point Lay', 'Barter Island', 'Deadhorse', 'Elim', 'Koyuk', 'Nome', 'Kotlik', 'Galena', 'Ruby', 'Huslia', 'Kaltag', 'Nulato', 'Gambell', 'Savoonga', 'Golovin', 'White Mountain', 'Scammon Bay', 'Koyukuk', 'Kiana', 'Noorvik', 'Shaktoolik', 'Mountain Village', 'Brevig Mission', 'Teller', 'Wales', 'Kivalina', 'Togiak Village', 'Mekoryuk', 'Kobuk', 'Shishmaref', 'Selawik', 'Noatak', 'Sleetmute', 'St. Michael', 'Caracas', 'La Romana', 'Valencia', 'Barquisimeto', 'Charlotte', 'Kingston', 'Rio Negro', 'Zandery', 'Port-of-spain', 'Port-au-prince', 'Dushanbe', 'Alma-ata', 'Khudzhand', 'Bishkek', 'Tehran', 'Surgut', 'Sharjah', 'Panama', 'Changuinola', 'David', 'Jaqué', 'Puerto Obaldia', 'Aktyubinsk', 'Cheboksary', 'Elista', 'Izhevsk', 'Makhachkala', 'Petrozavodsk', 'Penza', 'Saransk', 'Ulyanovsk', 'Vorkuta', 'Voronezh', 'Samara', 'Rostov', 'Volgograd', 'Yaroslavl', 'Kurgan', 'Kirov', 'Magnetiogorsk', 'Uraj', 'Chiang Mai', 'Akhiok', 'Cape Lisburne', 'Tin City', 'Baotou', 'Tengchong', 'Shangri-La', 'Dali', 'Simao', 'Yichun', 'Bella Coola', 'Anahim Lake', 'Campbell River', 'Comox', 'Cranbrook', 'Powell River', 'Williams Lake', 'Victoria', 'Port Hardy', 'Trail', 'Masset', 'Adana', 'Izmir', 'Bodrum', 'Diyabakir', 'Dalaman', 'Nicosia', 'Erzurum', 'Elazig', 'Sanliurfa', 'Alanya', 'Gaziantep', 'Malatya', 'Odessa', 'Trabzon', 'Mar Del Plata', 'Parana', 'Rosario', 'Santa Fe', 'Bahia Blanca', 'Trelew', 'San Carlos De Bariloche', 'Comodoro Rivadavia', 'Esquel', 'Cordoba', 'Mendoza', 'Neuquen', 'Rio Gallegos', 'Rio Grande', 'Ushuaia', 'Wekweeti', 'Whatì', 'Gamètì', \"Lutselk'e\", 'Kufra', 'Benghazi', 'Amman', 'Tripoli', 'Alexandria', 'Sfax', 'Tobruk', 'Allakaket', 'Hughes', 'Arctic Village', 'Venetie', 'Lake Minchumina', 'Changde', 'Luoyang', 'Huai An', 'Saga', 'Ibaraki', 'Kaohsiung', 'Zunyi', 'Takamatsu', \"N'djamena\", 'Kalamazoo', 'Chattanooga', 'Cedar Rapids', 'Charleston', 'Cincinnati', 'Evansville', 'Fort Wayne', 'Greensboro', 'Lansing', 'Lexington KY', 'Saginaw', 'Minneapolis', 'Roanoke VA', 'Syracuse', 'Knoxville', 'Bentonville', 'Detroit', 'New Orleans', 'Grand Forks', 'Thief River Falls', 'Harrisburg', 'Memphis', 'Nantucket', 'Boston', 'New Bedford', 'Barnstable', 'Vineyard Haven MA', 'Albany', 'Massena', 'Ogdensburg', 'Augusta', 'The Valley', 'San Juan', 'Bar Harbor', 'Billings', 'Glendive', 'Glasgow', 'Havre', 'Wolf Point', 'Sidney', 'Lebanon', 'Provincetown', 'Rockland', 'Rutland', 'Saranac Lake', 'Cape Girardeau', 'Culebra Island', 'Tortola', 'St. Thomas', 'White Plains', 'Kirksville', 'Mayaguez', 'Marion', 'Owensboro', 'St. Croix Island', 'Spanish Town', 'Vieques Island', 'Fort Leonardwood', 'Quincy', 'Dawson Creek', 'Fort Nelson', 'High Level', 'Rainbow Lake', 'Fort Saint John', 'Kamloops', 'Prince George', 'Lloydminster', 'Quesnel', 'Terrace', 'Smithers', 'San Pedro', 'Cockburn Town', 'Providenciales', 'Salt Cay', 'Araracuara', 'San Vincente De Caguan', 'San Andres Island', 'Providencia', 'Carepa', 'Medellin', 'Arauca', 'Buenaventura', 'Corozal', 'Florencia', 'Ipiales', 'Mitu', 'Puerto Carreno', 'Puerto Inírida', 'Pasto', 'Puerto Asis', 'Saravena', 'San Jose Del Guaviare', 'Tame', 'Quibdo', 'Villa Garzon', 'Villavicencio', 'Bahia Solano', 'Guapi', 'Nuquí', 'Leticia', 'La Pedrera', 'Puerto Leguízamo', 'Chisinau', 'Beauvais', 'Kiev', 'Bucharest', 'Porlamar', 'Panama City', 'Guayana', 'Barinas', 'Valera', 'Aizwal', 'Abu Dhabi', 'Amritsar', 'Calicut', 'Dammam', 'Kuwait', 'Bahrain', 'Bhuj', 'Bhopal', 'Bhaunagar', 'Mangalore', 'Colombo', 'Diu', 'Doha', 'Aurangabad', 'Jodhpur', 'Rajkot', 'Riyadh', 'Udaipur', 'Newark', 'Toronto', 'Silchar', 'Port Blair', 'Dehra Dun', 'Gorakhpur', 'Leh', 'Porbandar', 'Rajahmundry', 'Madurai', 'Tiruchirappalli', 'Sitia', 'Chios', 'Kalamata', 'Samos', 'Karpathos', 'Kasos', 'Alexandroupolis', 'Chania', 'Keffallinia', 'Ioannina', 'Ikaria', 'Kalymnos', 'Cyclades Islands', 'Skiathos', 'Syros Island', 'Astypalaia', 'Kithira', 'Leros', 'Limnos', 'Mytilini', 'Milos', 'Marseille', 'Nantes', 'Paros', 'Philadelphia', 'Skiros', 'Sofia', 'Tirana', 'Zakynthos', 'Porto', 'Kastelorizo', 'Yacuiba', 'Santa Cruz', 'Tarija', 'Cochabamba', 'Trinidad', 'Cobija', 'Guayaramerín', 'Potosi', 'Oruro', 'Riberalta', 'Agen', 'Castres', 'Ajaccio', 'Brive', 'Poitiers', 'Clermont-Ferrand', 'Strasbourg', 'Aurillac', 'Brest', 'Lille', 'Biarritz-bayonne', 'Caen', 'Metz', 'Florence', 'Figari', 'Gothenborg', 'Lannion', 'Tarbes', 'La Rochelle', 'Lorient', 'Pau', 'Rennes', 'Perpignan', 'Rodez', 'Quimper', 'Entebbe', 'Kasese', 'Batumi', 'Kutaisi', 'Allentown', 'Abilene', 'Albuquerque', 'Phoenix', 'Aberdeen', 'Waco', 'Adelaide', 'Brisbane', 'Bush Field', 'Washington', 'Auckland', 'Papeete', 'Waterloo', 'Amarillo', 'Arequipa', 'Watertown', 'Alice Springs', 'Lahore', 'Austin', 'Asheville', 'Scranton', 'Bermuda', 'Windsor Locks', 'Pittsburgh', 'Bakersfield', 'Bridgetown', 'Binghamton', 'Bangor', 'Belfast', 'Del Bajio', 'Bloomington', 'Nashville', 'Canberra', 'Cairns', 'Townsville', 'Boise', 'Buffalo', 'Portland', 'Richmond', 'Rochester', 'San Diego', 'Seattle', 'Beaumont', 'Brownsville', 'Baton Rouge', 'Burbank', 'Baltimore', 'Columbia', 'Akron', 'Christchurch', 'Charlottesville VA', 'Cleveland', 'College Station', 'Columbus', 'Daytona Beach', 'Dayton', 'Denver', 'Des Moines', 'New Bern', 'Fayetteville', 'Georgetown', 'Gulfport', 'Hilton Head Island', 'Huntsville', 'Huntington', 'Houston', 'Wilmington', 'Indianapolis', 'Jackson', 'Little Rock', 'Lynchburg', 'Montego Bay', 'Kansas City', 'MONTGOMERY', 'Manchester NH', 'Milwaukee', 'Mobile', 'Myrtle Beach', 'Nassau', 'Jacksonville NC', 'Omaha', 'Norfolk', 'Newport News', 'Providence', 'Raleigh-durham', 'Savannah', 'Salisbury', 'Louisville', 'San Francisco', 'Salt Lake City', 'Sacramento', 'Sarasota', 'BRISTOL', 'Hewandorra', 'Valparaiso', 'Champaign', 'Colorado Springs', 'Corpus Christi', 'Sapporo', 'Wassau', 'Dubuque IA', 'Islip', 'Halifax', 'Durango', 'El Paso', 'Fargo', 'Fresno', 'Sioux Falls', 'Fort Smith', 'Garden City', 'Longview', 'Grand Junction', 'Grand Island', 'Killeen', 'Grand Rapids', 'Honolulu', 'Wichita', 'Joplin', 'Lawton', 'Lubbock', 'Lake Charles', 'Lafayette', 'Laredo', 'Midland', 'Mcallen', 'Manhattan', 'Moline', 'Morelia', 'Monroe', 'Madison', 'Kahului', 'Oklahoma City', 'Ontario', 'Puebla', 'Peoria', 'Palm Springs', 'Queretaro', 'Rapid City', 'Reno', 'Roswell', 'San Salvador', 'Springfield', 'Shreveport', 'San Angelo', 'San Luis Potosi', 'Wichita Falls', 'Tulsa', 'Tucson', 'Texarkana', 'Tyler', 'Elmira', 'Erie', 'Eugene', 'Flagstaff', 'Flint', 'Spokane', 'Gibraltar', 'Point Salines', 'Green Bay', 'Oakland', 'New Haven', 'Williamsport', 'Ithaca', 'Juneau', 'Juliaca', 'Kona', 'Langkawi', 'Lihue', 'Medford', 'Mammoth Lakes', 'Monterey', 'Nandi', 'Redmond-Bend', 'Santa Rosa', 'Leeds', 'Long Beach', 'Luxemburg', 'Newcastle', 'Rotterdam', 'Stavanger', 'La Crosse', 'Manaus', 'Puerto Plata', 'Recife', 'Basse Terre', 'Gwinn', 'Sioux City', 'Toledo', 'Traverse City', 'State College Pennsylvania', 'Newburgh', 'Santa Barbara', 'San Luis Obispo', 'Yuma', 'Puerto Montt', 'Punta Arenas', 'Arrecife', 'Fuerteventura', 'Alicante', 'Munster', 'Paderborn', 'Menorca', 'Enfidha', 'Djerba', 'Funchal', 'Guernsey', 'Jersey', 'Ponta Delgada', 'Preveza', 'Santa Cruz De La Palma', 'Varadero', 'Gdansk', 'Linz', 'Innsbruck', 'Almeria', 'Malta', 'Saarbruecken', 'Sevilla', 'Nea Anghialos', 'Guanambi', 'Bom Jesus Da Lapa', 'Addis Ababa', 'Samana', 'Bujumbura', 'Kigali', 'Luanda', 'Cunagua', 'Vilnius', 'Fort Mcmurray', 'Regina', 'Saskatoon', 'Kinshasa', 'Holguin', \"St. John's\", 'Santa Clara', 'Trondheim', 'Sault Sainte Marie', 'Baie Comeau', 'Mont Joli', 'Bagotville', 'Nanaimo', 'Castlegar', 'Deer Lake', 'Goose Bay', 'Grande Prairie', 'Fredericton', 'Gaspe', 'Iles De La Madeleine', 'Moncton', 'Gander', 'St. John', 'Charlottetown', 'Prince Pupert', 'Red Deer Industrial', 'Windsor', 'Lethbridge', 'Thunder Bay', 'Sudbury', 'Timmins', \"Val D'or\", 'Bathurst', 'Penticton', 'Sandspit', 'Medicine Hat', 'North Bay', 'Sarnia', 'Araxa', 'Patos de Minas', 'Alta Floresta', 'Aracaju', 'Maceio', 'Campinas', 'Aracatuba', 'Altamira', 'Belem', 'Santarem', 'Maraba', 'Barcelos', 'Parauapebas', 'Fortaleza', 'Imperatriz', 'Macapa', 'Porto Seguro', 'Boa Vista', 'Vilhena', 'Bointo', 'Campos', 'Criciuma', 'Cabo Frio', 'Ji-Paraná', 'Londrina', 'Maringa', 'Cacoal', 'Porto Velho', 'Rondonopolis', 'Corumba', 'Coari', 'Caldas Novas', 'Campina Grande', 'Ipatinga', 'Juiz de Fora', 'Montes Claros', 'Sao Luis', 'Vitoria', 'Petrolina', 'Caxias Do Sul', 'Foz Do Iguacu', 'Eirunepe', 'Tefe', 'Fernando Do Noronha', 'Natal', 'Florianopolis', 'Joao Pessoa', 'Parnaiba', 'Teresina', 'Ilheus', 'Navegantes', 'Governador Valadares', 'Santa Isabel do Rio Negro', 'Itaituba', 'Juazeiro Do Norte', 'Joinville', 'Bauru', 'Marília', 'Lençóis', 'Tucurui', 'Parintins', 'Tabatinga', 'Macaé', 'Sao Paulo de Olivenca', 'Paulo Alfonso', 'Pelotas', 'Passo Fundo', 'Sao Jose Dos Campos', 'Santa Maria', 'Chapeco', 'President Prudente', 'Rio Branco', 'Rio Verde', 'Sao Gabriel', 'Oriximina', 'Taichung', 'Hualien', 'Kinmen', 'Meixian', 'Makung', 'Okinawa', 'Yancheng', 'Fengnin', 'Abuja', 'Port Hartcourt', 'Liege', 'Harare', 'Kilimanjaro', 'Antwerp', 'Appleton', 'Brunswick', 'Dallas', 'Dothan', 'Columbus Mississippi', 'South Bend', 'Valdosta', 'Southampton', 'Beirut', 'Bangui', 'Yaounde', 'St-Etienne', 'Krabi', 'Luang Prabang', 'Billund', 'Brazzaville', 'Exeter', 'Genoa', 'Libreville', 'Ljubljana', 'Plaisance', 'Nouakschott', 'Pointe-noire', 'Rabat', 'Antananarivo', 'Vigo', 'Dar Es Salaam', 'Malabo', 'Deauville', 'Dzaoudzi', 'Moroni', 'Bergerac', 'Enshi', 'Lusaka', 'Ivalo', 'Kittila', 'Limoges', 'Lilongwe', 'Livingstone', 'St.-denis', 'St.-pierre', 'Baishan', 'Hyeres', 'Babelthuap', 'Annaba', 'Oran', 'Adrar', 'Bejaja', 'Batna', 'Biskra', 'Constantine', 'Djanet', 'El Bayadh', 'Guemar', 'Ghardaia', 'Hassi Messaoud', 'Tilrempt', 'In Salah', 'Ghriss', 'Mecheria', 'Ouargla', 'Setif', 'Tebessa', 'Touggourt', 'Tiaret', 'Tlemcen', 'Bordj Badji Mokhtar', 'Béchar', 'Ech-cheliff', 'Tamanrasset', 'El Golea', 'Zarzaitine', 'Agra', 'Khajuraho', 'Agatti Island', 'Gwalior', 'Allahabad', 'Jamnagar', 'Dimapur', 'Shillong', 'Kangra', 'Jabalpur', 'Kanpur', 'Kulu', 'Ludhiaha', 'Surat', 'Tirupeti', 'Vijayawada', 'Male', 'Alor Setar', 'Bandung', 'Johor Bahru', 'Kota Bahru', 'Kuching', 'Miri', 'Sandakan', 'Tawau', 'Balikpapan', 'Banda Aceh', 'Bintulu', 'Hat Yai', 'Sibu', 'Yogyakarta', 'Labuan', 'Praya', 'Padang', 'Pekanbaru', 'Palembang', 'Solo City', 'Semarang', 'Surabaya', 'Kuala Terengganu', 'Ujung Pandang', 'Surat Thani', 'Vientiane', 'Colima', 'Ciudad Victoria', 'Tapachula', 'Los Mochis', 'Mexicali', 'Jalapa', 'Lazard Cardenas', 'Matamoros', 'Nuevo Laredo', 'Poza Rico', 'Piedras Negras', 'Puerto Escondido', 'Saltillo', 'Tepic', 'San Rafael', 'San Martin Des Andes', 'Catamarca', 'Formosa', 'El Calafate', 'Iguazu Falls', 'La Rioja', 'Jujuy', 'San Luis', 'Posadas', 'Resistencia', 'Rio Hondo', 'Santiago Del Estero', 'Salta', 'Tucuman', 'Viedma', 'Adak Island', 'King Salmon', 'Walla Walla', 'Cold Bay', 'Dillingham', 'Sand Point', 'St. Paul Island', 'Point Barrow', 'Bellingham', 'Lewiston', 'Plattsburgh', 'Presque Isle', 'Bozeman', 'Yakutat', 'Wenatchee', 'Kalispell', 'Great Falls', 'Helena', 'Petersburg', 'Sitka', 'Wrangell', 'Loreto', 'Pullman', 'Missoula', 'Pasco', 'Yakima', 'Agadir', 'El Aaiún', 'Dakhla', 'Al Hociema', 'Praia, Santiago Island', 'Oujda', 'Ouarzazate', 'Tetouan', 'Essadouira', 'Tan Tan', 'Armenia', 'Barranquilla', 'Bucaramanga', 'Cartagena', 'Cucuta', 'Barrancabermeja', 'Yopal', 'Ibague', 'Monteria', 'Manizales', 'Neiva', 'Pereira', 'Popayan', 'Rio Hacha', 'Santa Marta', 'Valledupar', 'Tumaco', 'Tamale', 'Malmoe', 'Umea', 'Joensuu', 'Jyvaskyla', 'Kajaani', 'Kuusamo', 'Keflavik', 'Kemi', 'Kuopio', 'Minsk 2', 'Norrkoeping', 'Oulu', 'Rovaniemi', 'Savonlinna', 'Tartu', 'Tallinn-ulemiste International', 'Tampere', 'Vaasa', 'Aalborg', 'Pamplona', 'Alesund', 'Alghero', 'Humberside', 'Kristiansand', 'Teesside', 'Norwich', 'Karachi', 'Khartoum', 'Mahe', 'Baia Mare', 'Iasi', 'Bolzano', 'Comiso', 'Cluj-napoca', 'Reggio Calabria', 'Podgorica', 'Ronchi De Legionari', 'La Coruna', 'Pescara', 'Oradea', 'Satu Mare', 'Timisoara', 'Tashkent', 'Tirgu Mures', 'Ashkhabad', 'Tselinograd', 'Amboseli National Park', 'Hargeisa', 'Wajir', 'Kitale', 'Lokichoggio', 'Masai Mara', 'Ukunda', 'Aguadilla', 'Worcester', 'Ponce', 'Abadan', 'Mashhad', 'Teheran', 'Ahwaz', 'Esfahan', 'Kish Island', 'Dasht-e-naz', 'Shiraz', 'Yazd', 'Bandar Abbas', 'Bakhtaran', 'Rasht', 'Tabriz', 'Zahedan', 'Aarhus', 'Scarborough', 'Durban', 'Port Elizabeth', 'Granada', 'Isle Of Man', 'Victoria Falls', 'Windhoek', 'Paphos', 'Sendai', 'Kobe', 'Miho', 'Kagoshima', 'Ishigaki', 'Miyako', 'Nagasaki', 'Kirkwall', 'Sumburgh', 'East Midlands', 'Inverness', 'Benbecula', 'Stornoway', 'Connaught', 'Waterford', 'Barra', 'Campbeltown', 'Dongloe', 'Dundee', 'Doncaster, Sheffield', 'Wick', 'Islay', 'Tiree', 'Liverpool', 'Groote Eylandt', 'Mulu', 'Monastir', 'Zhijiang', 'Yongzhou', 'Tongren', 'Yantai', 'Heihe', 'Mohe County', 'Jiagedaqi District', 'Jiamusi', 'Jixi', 'Buonmethuot', 'Vinh', 'Nha Trang', 'Danang', 'Haiphong', 'Phuquoc', 'Esbjerg', 'Kristiansund', 'Harstad/Narvik', 'Kasane', 'Gaberone', 'Maun', 'Francistown', 'Asahikawa', 'Hakodate', 'Kanazawa', 'Okayama', 'Huangshan', 'Palanga', 'Bukavu/kavumu', 'Kindu', 'Kongolo', 'Boende', 'Mbandaka', 'Beni', 'Bunia', 'Goma', 'Isiro', 'Lubumashi', 'Kananga', 'Mbuji-mayi', 'Kisangani', 'Tshikapa', 'Gemena', 'Kalemie', 'Lodja', 'Cayo Largo del Sur', 'Santiago De Cuba', 'Bata', 'Aksu', 'Bangda', 'Dazhou', 'Guangyuan', 'Huangyan', 'Jingdezhen', 'Luzhou', 'Wuyishan', 'Yuncheng', 'Chaoyang', 'Chifeng', 'Changzhi', 'Korla', 'Yining', 'Yiwu', 'Dandong', 'Hiroshima', 'Daqing', 'Pyongyang', 'Fuyang', 'Hailar', 'Ulanhot', 'Hami', 'Zhoushan', 'Hotan', 'Yanji', 'Jian', 'Jiujiang', 'Jinzhou', 'Quzhou', 'Liuzhou', 'Mudanjiang', 'Muan', 'Qiqihar', 'Bayannur', 'Taegu', 'Tongliao', 'Ulan Bator', 'Wuhai', 'Xiangfan', 'Xilinhot', 'Puerto Lempira', 'Avignon', 'Port Moresby', 'Buka Island', 'Tokua', 'Daru', 'Nadzab', 'Kiunga', 'Goroka', 'Mount Hagen', 'Madang', 'Gurney', 'Misima Island', 'Girua', 'Moro', 'Tabubil', 'Tari', 'Wewak', 'Hoskins', 'Kavieng', 'Momote', 'Bulolo', 'Tainan', 'Miyazaki', 'Toyama', 'Camaguey', 'Guantanamo', 'Khabarovsk', 'Ko Samui', 'Vladivostok', 'Altay', 'Xingyi', 'Anshan', 'Anqing', 'Anshun', 'Bijie', 'Baoshan', 'Liping', 'Jining', 'Chizhou', 'Libo', 'Lianyungang', 'Nanchong', 'Nanyang', 'Niigata', 'Yinchun', 'Kuqa', 'Lincang', 'Zhaotong', 'Karamay', 'Xinyuan', 'Osh', 'Tacheng', \"Yan'an\", 'Cherepovets', 'Veliky Ustyug', 'Apatity', 'Ndola', 'Coolangatta', 'Ängelholm', 'Kalkmar', 'Ronneby', 'Sundsvall', 'Trollhattan', 'Buri Ram', 'Chiang Rai', 'Chumphon', 'Udon Thani', 'Nakhon Phanom', 'Loei', 'Tak', 'Nan', 'Nakhon Si Thammarat', 'Phitsanulok', 'Phrae', 'Roi Et', 'Sakon Nakhon', 'Trang', 'Ubon Ratchathani', 'Ranong', 'Alpena', 'Bismarck', 'Bemidji', 'Brainerd', 'International Falls', 'Butte', 'Bratislava', 'Cedar City', 'Sault Ste Marie', 'Moab', 'Cody', 'Casper', 'Dickinson', 'Duluth', 'Escanaba', 'Pellston', 'Elko', 'Gillette', 'Rock Springs', 'Hibbing', 'Idaho Falls', 'Iron Mountain', 'Rhinelander', 'Williston', 'Jacksn Hole', 'Kosice', 'Lincoln', 'Minot', 'Pocatello', 'Saint George', 'Twin Falls', 'Vernal', 'Cap Skiring', 'Ziguinchor', 'Cabinda', 'Soyo', 'Catumbela', 'Ondjiva', 'Luena', 'Malanje', 'Mocamedes', 'Huambo', 'Lubango', 'Menongue', 'Kuito', 'Sao Tome', 'Saurimo', 'Aktau', 'Chimkent', 'Dzhambul', 'Zhezkazgan', 'Karaganda', 'Kokshetau', 'Kostanay', 'Semiplatinsk', 'Petropavlosk', 'Ust Kamenogorsk', 'Atyrau', 'Kzyl-Orda', 'Uralsk', 'Ronne', 'Molde', 'Stord', 'Rygge', 'Alta', 'Kiruna', 'Lulea', 'Bardufoss', 'Bourgas', 'Bodo', 'Karup', 'Haugesund', 'Kirkenes', 'Svalbard', 'Murcia', 'Szczecin', 'Port Gentil', 'Choibalsan', 'Muren', 'Olgii', 'Ulaangom', 'Kurgan Tyube', 'Kulyab', 'Orenburg', 'Cork', 'Shannon', 'Blackpool', 'Bournemouth', 'Kerry', 'Southend', 'Baghdad', 'Blackall', 'Longreach', 'Rockhampton', 'Basrah', 'Gove', 'Erbil', 'Madinah', 'Peshawar', 'Sanaa', 'Sialkot', 'Wellington', 'Queenstown International', 'Donetsk', 'Gassim', 'Taif', 'Tabuk', 'Yenbo', 'Zabol', 'Ardabil', 'Sabzevar', 'Khalije Fars', 'Bandar Lengeh', 'Bojnourd', 'Bushehr', 'Bam', 'Dezful', 'Lamerd', 'Lar', 'Chah Bahar', 'Gorgan', 'Gachsaran', 'Hamadan', 'Ilam', 'Sulaymaniyah', 'Kandahar', 'Kerman', 'Khoy', 'Noshahr', 'Ramsar', 'Uromiyeh', 'Parsabad', 'Sanandaj', 'Yasuj', 'Esmeraldas', 'Cuenca', 'Galapagos', 'La Toma (Catamayo)', 'Latacunga', 'Manta', 'Tena', 'Tulcan', 'Macas', 'Arba Minch', 'Asosa', 'Axum', 'Bahar Dar', 'Dire Dawa', 'Enugu', 'Gondar', 'Gambella', 'Jijiga', 'Jimma', 'Maputo', 'Makale', 'Lalibella', 'Blantyre', 'Gode', 'Mattala', 'Porto Santo', 'Nanyuki', 'Samburu South', \"M'banza-congo\", 'Lampedusa', 'Lugano', 'Pantelleria', 'Trapani', 'Alliance', 'Chadron', 'Alamosa', 'Farmington', 'Trenton', 'Pierre', 'Branson', 'Cheyenne', 'Worland', 'Dodge City', 'Liberal', 'Show Low', 'Huron', 'Page', 'St. Augustine Airport', 'Varna', 'Khon Kaen', 'Narathiwat', 'Ankara', 'Sanford', 'Faleolo', 'Kiritimati', 'Funafuti', 'Nausori', 'Honiara', 'Port-vila', 'Cicia', 'Vunisea', 'Lambasa', 'Lakeba Island', 'Rotuma', 'Savusavu', 'Tongatapu', 'Tarawa', 'Matei', 'Vanua Balavu', 'Harlingen', 'Qinhuangdao', 'Al Ghaidah Intl', 'Aden', 'Abha', 'Sayun Intl', 'Mukalla', 'Ataq', 'Taiz', 'Hodeidah', 'Socotra', 'Charleroi', 'Eindhoven', 'Hahn', 'Weeze', 'Prestwick', 'Santander', 'Zaragoza', 'Vasteras', 'Gerona', 'Parma', 'Kaunas', 'Maastricht', 'Valladolid', 'Luebeck', 'Lappeenranta', 'Bydgoszcz', 'Londonderry', 'Reus', 'Carcassonne', 'Beziers', 'Brno', 'Rzeszow', 'Perugia', 'Nimes', 'Dole', 'Dinard', 'Tours', 'Patras', 'Groningen', 'Skelleftea', 'Plovdiv', 'Lublin', 'Chalons', 'Osijek', 'Ostrava', 'Fukushima', 'Oita', 'Batam', 'Ipoh', 'Kerteh', 'Kuantan', 'Hail', 'Kharkov', 'Multan', 'Najaf', 'Port Sudan', 'Salalah', 'Cruzeiro do Sul', 'Punta Gorda', 'Mesa', 'Ogden', 'Provo', 'Rockford', 'Saint Cloud', 'Belleville', 'Clarksburg', 'Hagerstown', 'Niagara Falls', 'Stockton', 'Youngstown', 'Portsmouth', 'Baise', 'Dongying', 'Wuzhou', 'Asyut', 'Sohag', 'Al-ahsa', 'Ambon', 'Banjarmasin', 'Tanjung Redep-Borneo Island', 'Biak', 'Jayapura', 'Bengkulu', 'Bima', 'Manado', 'Taraken', 'Bandar Lampung-Sumatra Island', 'Jambi', 'Malang', 'Pangkal Pinang', 'Palangkaraya', 'Palu', 'Pontianak', 'Tanjung Pandan', 'Tanjung Pinang', 'Ternate', 'Merauke', 'Manokwari', 'Timika', 'Kupang', 'Labuhan Bajo', 'Waikabubak-Sumba Island', 'Ende', 'Gorontalo', 'Kendari', 'Sorong', 'Kushiro', 'Matsuyama', 'Neerlerit Inaat', 'Ittoqqortoormiit', 'Sondrestrom', 'Godthaab', 'Ilulissat', 'Paamiut', 'Sisimiut', 'Maniitsoq', 'Narssarssuaq', 'Aasiaat', 'Uummannaq', 'Upernavik', 'Qaqortoq', 'Nanortalik', 'Narsaq', 'Alluitsup Paa', 'Eqalugaarsuit', 'Qaanaaq', 'Thule', 'Kastoria', 'Kozani', 'Alderney', 'Bole', 'Erenhot', 'Qingyang', 'Jinchuan', 'Zhangye', 'Atka', 'Unalaska', 'Pilot Point', 'South Naknek', 'False Pass', 'King Cove', 'Nelson Lagoon', 'Nikolski', 'Akutan', 'Egegik', 'Igiugig', 'Perryville', 'Port Heiden', 'Aitutaki', 'Atiu Island', 'Avarua', 'Mangaia Island', 'Mitiaro Island', 'Mauke Island', 'Calama', 'La Serena', 'Arica', 'Balmaceda', 'Valdivia', 'Temuco', 'Copiapo', 'Arua', 'Hilo', 'Lanai', 'Molokai', 'Pago Pago', 'Memanbetsu', 'Obihiro', 'Praslin', 'Longyan', 'Sokcho / Gangneung', 'Ostend', 'Borlange', 'Orebro', 'Östersund', 'Weifang', 'Amilcar Cabral', 'Fort Good Hope', 'Tulita', 'Deline', 'Andizhan', 'Urgench', 'Termez', 'Yuzhno-sakhalinsk', 'Yuzhno-Kurilsk', 'Shakhtyorsk', 'Klawock', 'Bahawalpur', 'Quetta', 'Faisalabad', 'Melilla', 'Aviles', 'San Sebastian', 'Leon', 'Burgos', 'Salamanca', 'Lleida', 'Logroño-Agoncillo', 'Atoifi', 'Choiseul Bay', 'Gizo', 'Sege', 'Ramata', 'Suavanao', 'Fera Island', 'Munda', 'Kirakira', 'Kagau Island', 'Ulawa', 'Rennell Island', 'Marau', 'Santa Cruz/Graciosa Bay/Luova', 'Mostar', 'Sharm El Sheikh', 'Saumlaki', 'Pangkalan Bun', 'Oksibil', 'Wamena', 'Dobo', 'Langgur-Kei Islands', 'Ketapang', 'Abakan', 'Blagoveschensk', 'Omsk', \"ST MARY\\\\'S\", 'Magadan', 'Kyzyl', 'Ulan-ude', \"Land's End\", 'Salekhard', 'Khorram Abad', 'Birjand', 'Al Ain', 'Asmara', 'Haifa', 'Ganja', 'Fort Chipewyan', 'Geneina', 'El Fasher', 'Nyala', 'Elfin Cove', 'Gustavus', 'Hoonah', 'Haines', 'Skagway', 'Angoon', 'Redang', 'Luxor', 'Banja Luka', 'Arxan', 'Bloemfontein', 'George', 'Aomori', 'Matsumoto', 'Yamagata', 'Hanamaki', 'Kumamoto', 'Ciudad del Este', 'Amami', 'Akita', 'Izumo', 'Misawa', 'Nanki-shirahama', 'Tokushima', 'Yamaguchi', 'Dunedin', 'Avalon', 'Uluru', 'Hobart', 'Hamilton Island', 'Launceston', 'Mackay', 'Prosserpine', 'Ballina Byron Bay', 'Maroochydore', 'Fak Fak', 'Nabire', 'Ranai-Natuna Besar Island', 'Bau-Bau', 'Babo', 'Maumere', 'Waingapu', 'Kaimana', 'Kao', 'Luwuk', 'Melonguane', 'Naha', 'Poso', 'Berbera', 'Bosaso', 'Galcaio', 'Fort Frances', 'Kenora', 'Flin Flon', 'The Pas', 'Dryden', 'Red Lake', 'Sioux Lookout', 'Kapuskasing', 'Cap Haitien', 'South Caicos', 'Hydaburg', 'Imperial', 'El Dorado', 'Hot Springs', 'Harrison', 'Salina', 'North Bend', 'Pendleton', 'Sihanoukville', 'Mae Hong Son', 'Pai', 'Thimphu', 'Pavlodar', 'Sacheon', 'Kunsan', 'Kwangju', 'Yeosu', 'Ulsan', 'Wonju', 'Pohang', 'Linkoeping', 'Foshan', 'Iliamna', 'Nampula', 'Pemba', 'Mwanza', 'Cayman Brac', 'Little Cayman', 'La Ceiba', 'Zouerat', 'Nouadhibou', 'Chiclayo', 'Cajamarca', 'Easter Island', 'Piura', 'Tumbes', 'Tacna', 'Trujillo', 'Castro', 'Mount Pleasant', 'Osorno', 'Oyo', 'Angouleme', 'Nizhniy Novgorod', 'Lvov', 'Sibiu', 'Kingstown', 'Eday', 'Sanday', 'North Ronaldsay', 'Papa Westray', 'Stronsay', 'Westray', 'Ghat', \"Al Bayda'\", 'Ghadames', 'Sirt', 'Carlsbad', 'Los Alamos', 'Lancaster', 'Orland', 'Fagernes', 'Aswan', 'Port Angeles', 'Eastsound', 'Friday Harbor', 'Breves', 'Almeirim', 'Zaporozhye', 'Uzhgorod', 'Antalaha', 'Toamasina', 'Maroantsetra', 'Antsiranana', 'Nosy-be', 'Sambava', 'Mahajanga', 'Tolagnaro', 'Toliara', 'Morondava', 'Sainte Marie', 'Mananara', 'Kano', 'Bario', 'Marudi', 'Kudat', 'Lahad Datu', 'Lawas', 'Bakalalan', 'Mukah', 'Long Datih', 'Long Akah', 'Limbang', 'Long Seridan', 'Dili', 'Rodriguez Island', 'East London', 'Gillam', 'Bayankhongor', 'Altai', 'Khovd', 'Dalanzadgad', 'Uliastai', 'Abu Simbel', 'Kangding', 'Golmud', 'Shiquanhe', 'Naypyidaw', 'Zhangjiakou', 'Yushu', 'Lahania-kapalua', 'Hana', 'Kamuela', 'La Isabela', 'Anelghowhat', 'Tanna', 'Aniwa', 'Futuna Island', 'Santo', 'Craig Cove', 'Lamen Bay', 'Norsup', 'Ambryn Island', \"Dillon's Bay\", 'Ipota', 'Sangafa', 'Lonorore', 'Longana', 'Lamap', 'Ablow', 'Sola', 'Loh/Linua', 'Gaua Island', 'Maewo Island', 'Noumea', 'Malekula Island', 'Paama Island', 'Pentecost Island', 'Walaha', 'Tongoa Island', 'Valesdir', 'Nakashibetsu', 'Wakkanai', 'Fukue', 'Tsushima', 'Hachijojima', 'Iwami', 'Iwakuni', 'Monbetsu', 'Wajima', 'Oshima', 'Odate Noshiro', 'Shonai', 'Tottori', 'Iki', 'Cacador', 'Joacaba', 'Guarapuava', 'Erechim', 'Santo Angelo', 'Uruguaiana', 'Atlantic City', 'Latrobe', 'Sukkur', 'La Gomera', 'Hierro', 'Kumejima', 'Akureyri', 'Reykjavik', 'Egilsstadir', 'Isafjordur', 'Woodbourne', 'Gisborne', 'Hamilton', 'Kaitaia', 'Kerikeri', 'NAPIER', 'New Plymouth', 'Nelson', 'Palmerston North', 'Paraparaumu', 'Rotorua', 'Tauranga', 'Taupo', 'Wanganui', 'Whakatane', 'Whangarei', 'Cloncurry', 'Norfolk Island', 'Brusselton', 'Hokitika', 'Invercargill', 'Derby', 'Esperance', 'Geraldton', 'Alofi', 'Kalgoorlie', 'Kununurra', 'Learmonth', 'Paraburdoo', 'Ravensthorpe', 'Port Macquarie', 'Timaru', 'Westport', 'Sunyani', 'Takoradi', 'Sucre', 'Karlovy Vary', 'Perm', 'Nauru', 'Majuro', 'Dnepropetrovsk', 'Brac', 'Puerto Madryn', 'Chipata', 'Kasama', 'Mfuwe', 'Mansa', 'Morristown', 'Manistee', 'Guanaja', 'Utila', 'Bonaventure', 'Havre-Saint-Pierre', 'St. Anthony', 'Lourdes-De-Blanc-Sablon', 'Charlo', 'Nain', 'Natuashish', 'Hopedale', 'Makkovik', 'Stephenville', 'Postville', 'Churchill Falls', 'Van', 'Kayseri', 'Hatay', 'Mardin', 'Sivas', 'Konya', 'Batman', 'Denizli', 'Balikesir Korfez', 'Erzincan', 'Kahramanmaras', 'Mus', 'Merzifon', 'Nevsehir', 'Lampang', 'Trat', 'Sukhothai', 'Pattaya', 'Chokurdah', 'Cherskiy', 'Tiksi', 'Honuu', 'Neryungri', 'Batagay-Alyta', 'Rahim Yar Khan', 'Chitral', 'Dalbandin', 'Dera Ghazi Khan', 'Dera Ismael Khan', 'Zhob', 'Gilgit', 'Gwadar', 'Turbat', 'Skardu', 'Moenjodaro', 'Panjgur', \"Arthur's Town\", \"Dead Man's Cay\", 'Port Nelson', 'Rock Sound', 'Stella Maris', 'Cat Island', 'Calbayog City', 'Jolo', 'Masbate', 'Ivano-Frankivsk', 'Arusha', 'Bukoba', 'Mbeya', 'Mtwara', 'Kundiawa', 'Vanimo', 'Mendi', 'Wapenamanda', 'Gan Island', 'DHARAVANDHOO', 'Haa Dhaalu Atoll', 'Kaadedhdhoo', 'Kooddoo', 'Laamu Atoll', 'Amberley', 'Aurukun', 'Coen', 'Bedourie', 'Boulia', 'Birdsville', 'Roma', 'Toowoomba', 'Mount Isa', 'Burketown', 'Doomadgee', 'Mornington Island', 'Windorah', 'Cunnamulla', 'St George', 'Thargomindah', 'Pormpuraaw', 'Lockhart River', 'Kowanyama', 'Normanton', 'Weipa', 'Charlieville', 'Quilpie', 'Port Menier', 'St-Augustin', 'La Romaine', 'Natashquan', 'Siri Island', 'Garoua', 'Maroua', \"N'gaoundere\", 'Albury', 'Olympic Dam', 'Port Lincoln', 'Armidale', 'Barcaldine', 'Bundaberg', 'Broome', 'Karratha', 'Emerald', 'Gladstone', 'Hervey Bay', 'Lord Howe Island', 'Moranbah', 'Port Hedland', \"Coff's Harbour\", 'Horn Island', 'Dubbo', 'Devonport', 'Mildura', 'Moree', 'Newman', 'Tamworth', 'Wagga Wagga', 'El Vigía', 'Savannakhet', 'Huay Xai', 'Pakse', 'Luang Namtha', 'Muang Xay', 'Phon Savan', 'Orsk', 'Anadyr', 'Nogliki', 'Rimini', 'Pevek', 'Maturin', 'Vagar', 'Fujeirah', 'Sir Bani Yas Island', 'Aqaba', 'Mosul', 'Horta', 'Pico', 'Santa Maria (island)', 'Lajes (terceira Island)', 'Conceicao Do Araguaia', 'Santana do Araguaia', 'Gurupi', 'Minacu', 'Ourilandia do Norte', 'Redencao', 'Santa Terezinha', 'Sao Felix do Araguaia', 'Sao Felix do Xingu', 'Anapa', 'Barnaul', 'Kemorovo', 'Novokuznetsk', 'Norilsk', 'Beslan', 'Gorno-Altaysk', 'Simferopol', 'Stavropol', 'Tomsk', 'Petropavlovsk', 'Beira', 'Bulawayo', 'Hoedspruit', 'Kimberley', 'Mpumalanga', 'Upington', 'Walvis Bay', 'Maseru', 'Manzini', 'Phalaborwa', 'Potgietersrus', 'Pietermaritzburg', \"Richard's Bay\", 'Tete', 'Umtata', 'Vilankulu', 'Wallis', 'Hubli', 'Belgaum', 'Mysore', 'Argyle', 'Burnie', 'King Island', 'Flinders Island', 'Corvo', 'Graciosa Island', 'Sao Jorge Island', 'Augsburg', 'Erfurt', 'Kassel', 'Hawarden', 'Zonguldak', 'Gelendzhik', 'El-baha', 'Al-Jawf', 'Hafr Al-batin', 'Bisha', 'Nejran', 'Gizan', nan, 'Wejh', 'Arar', 'Sharurah', 'Guriat', 'Wadi-al-dawasir', 'Al-Ula', 'Rafha', 'Turaif', 'Mpacha', 'Rundu', 'Ondangwa', 'Luderitz', 'Oranjemund', 'Bern', 'Khanty-Mansiysk', 'Dijon', 'Perigueux', 'Le Havre', 'Ovda', 'Teterboro', 'Adiyaman', 'Agri', 'Eskissehir', 'Bingol', 'Canakkale', 'Constanta', 'Igdir', 'Topel', 'Kars', 'Çorlu', 'Isparta', 'Kastamonu', 'Kutahya', 'Nakhchivan', 'McArthur River Mine', 'Maningrida', 'Elcho Island', 'Milingimbi', 'Lichinga', 'Quelimane', 'Inhambane', 'Chimoio', 'Sao Vicente Island', 'Tozeur', 'Waala', 'Koumac', 'Île des Pins', 'Kone', 'Lifou', 'Mare', 'Tiga', 'Touho', 'Ouvea', 'Qabala', 'Lankaran', 'Gyumri', 'Arcata CA', 'Crescent City', 'Altoona', 'Johnstown', 'Aspen', 'Bradford', 'Jamestown', 'Beckley', 'Weyers Cave', 'Chico', 'Morgantown', 'Du Bois', 'Franklin', 'PARKERSBURG', 'Hancock', 'Vail', 'Gunnison', 'Hayden', 'Laramie', 'Montrose CO', 'Pueblo', 'Eau Claire', 'Topeka', 'Rota', 'Chuuk', 'Yap', 'Hobbs', 'Kosrae', 'Kwajalein', 'Pohnpei', 'Klamath Falls', 'Muskegon', 'Modesto', 'PADUCAH', 'Redding', 'Le Puy', 'Massawa', 'Gabes', 'Gafsa', 'Batticaloa', 'Sigiriya', 'Koggala', 'Trinciomalee', 'Pardubice', 'Spring Point', 'Colonel Hill', 'Matthew Town', 'Mayaguana', 'Nyagan', 'Ust-Tsylma', 'Tambow', 'Kursk', 'Badajoz', 'Canaima', 'Cumana', 'Coro', 'La Fria', 'Puerto Ayacucho', 'San Tome', 'Puerto Cabello', 'Santa Ana De Uairen', 'Angelsey', 'Golouchestershire', 'Cocos Keeling Island', 'Christmas Island', 'Dalat', 'Hue', 'Phucat', 'Ca Mau', 'Pleiku', 'Dienbienphu', 'Tuy Hoa', 'Can Tho', 'Chu Lai', 'Dong Hoi', 'Conson', 'Rach Gia', 'Maio', 'Sao Filipe, Fogo Island', 'Sao Nocolau Island', 'Ahe', 'Manihi', 'Hiva-oa', 'Nuku Hiva', 'Ua Huka', 'Ua Pou', 'Arutua', 'Kaukura Atoll', 'Bora Bora', 'Huahine Island', 'Maupiti', 'Moorea', 'Raiatea Island', 'Rangiroa', 'Tikehau', 'Fakarava', 'Totegegie', 'Hao Island', 'Makemo', 'Mataiva', 'Rimatara', 'Rurutu', 'Raivavae', 'Takaroa', 'Tubuai', 'Takapoto', 'Sveg', 'Hagfors', 'Kristianstad', 'Mora', 'Torsby', 'Pajala', 'Mannheim', 'Kuressaare', 'Vinnitsa', 'Asaba', 'Benin', 'Calabar', 'Gombe', 'Ibadan', 'Ilorin', 'Imo', 'Osubi', 'Sokoto', 'Yola', 'Jos', 'Kaduna', 'Uyo', 'Andahuaylas', 'Anta', 'Jauja', 'Tingo Maria', 'Arad', 'Craiova', 'Debrecen', 'Null', 'Kengtung', 'Kyaukpyu', 'Myitkyina', 'Putao', 'Kamembe', 'Hammerfest', 'Lakselv', 'Sorkjosen', 'Vadsø', 'Andoya', 'Bronnoysund', 'Floro', 'Orsta-Volda', 'Skien', 'Sogndal', 'Batsfjord', 'Berlevag', 'Mehamn', 'Vardø', 'Mo i Rana', 'Sandnessjoen', 'Leknes', 'Mosjoen', 'Narvik', 'Røst', 'Stokmarknes', 'Svolvær', 'Hasvik', 'Honningsvag', 'Namsos', 'Rørvik', 'Roros', 'Sandane', 'Chevery', 'Tête-à-la-Baleine', 'La Tabatière', 'Rigolet', 'Kegaska', 'Saba', 'Brandon', 'Abbotsford', 'Keewaywin', 'Kingfisher Lake', 'Wunnumin Lake', 'Muskrat Dam', 'Bearskin Lake', 'Sachigo Lake', 'Round Lake', 'Summer Beaver', 'Angling Lake', 'Big Trout Lake', 'Kasabonika', 'Cat Lake', 'Fort Severn', 'Fort Hope', 'Lansdowne House', 'Ogoki Post', 'Poplar Hill', 'North Spirit Lake', 'Webequie', 'Pickle Lake', 'Pikangikum', 'Sandy Lake', 'Khasab', 'Zweibruecken', 'Uruapan', 'Igarka', 'Bor', 'Turukhansk', 'Bandar Mahshahr', 'Noyabrsk', 'Kogalym', 'Tarko-Sale', 'Attawapiskat', 'Peawanuck', 'Kashechewan', 'Fort Albany', 'Moosonee', 'Chisasibi', 'Waskaganish', 'Chibougamau', 'Nemiscau', 'Eastmain River', 'Wemindji', 'Grand Canyon', 'Chandragarhi', 'Bharatpur', 'Biratnagar', 'Bhairawa', 'Dhangarhi', 'Janakpur', 'Nepalgunj', 'Pokhara', 'Tumling Tar', 'Sevastopol', 'Rerrenabaque', 'Uyuni', 'Scottsbluff', 'Cortez', 'North Platte', 'McCook', 'Riverton WY', 'Sheridan', 'Merced', 'Prescott', 'Visalia', 'Broken Hill', 'Ceduna', 'Coober Pedy', 'Kingscote', 'Mount Gambier', 'Whyalla', 'Parkes', 'Griffith', 'Narrandera', 'Grafton', 'Taree', 'Julia Creek', 'Winton', 'Lismore', 'Merimbula', 'Moruya', 'Orange']\n"
          ]
        }
      ],
      "source": [
        "print(G.nodes())"
      ]
    },
    {
      "cell_type": "code",
      "execution_count": 38,
      "metadata": {
        "id": "WgOWsO2PHjKs"
      },
      "outputs": [],
      "source": [
        "import urllib\n",
        "import json\n",
        "import re\n",
        "\n",
        "\n",
        "def get_wikivoyage_page(name):\n",
        "\n",
        "   baseurl = \"https://en.wikipedia.org/w/api.php?\"\n",
        "   action = \"action=query\"\n",
        "   urltitle = f\"titles={name}\"\n",
        "   content = \"prop=revisions&rvprop=content&rvslots=main\"\n",
        "   dataformat =\"format=json\"\n",
        "\n",
        "   query = f\"{baseurl}{action}&{urltitle}&{content}&{dataformat}\"\n",
        "\n",
        "   wikiresponse = urllib.request.urlopen(query)\n",
        "   wikidata = wikiresponse.read()\n",
        "   wikitext = wikidata.decode('utf-8')\n",
        "   data = json.loads(wikitext)\n",
        "   return data\n",
        "\n",
        "def get_wikitext_content(data):\n",
        "   if isinstance(data, dict):\n",
        "      for key, value in data.items():\n",
        "         if key == '*':\n",
        "               return value\n",
        "         result = get_wikitext_content(value)\n",
        "         if result:\n",
        "               return result\n",
        "   elif isinstance(data, list):\n",
        "      for item in data:\n",
        "         result = get_wikitext_content(item)\n",
        "         if result:\n",
        "               return result\n",
        "   return None\n",
        "\n",
        "def clean_city_name (city_name):\n",
        "  cleaned_name = str(city_name).replace(\" \", \"_\")\n",
        "  cleaned_name = urllib.parse.quote(cleaned_name)\n",
        "  return cleaned_name\n",
        "\n",
        "def get_content(name):\n",
        "  city = clean_city_name(name)\n",
        "  data = get_wikivoyage_page(city)\n",
        "  content = get_wikitext_content(data)\n",
        "  return content\n",
        "\n",
        "def redirect (content):\n",
        "  \"\"\"\n",
        "  This funciton redirect to the right page in case there is a need\n",
        "  \"\"\"\n",
        "  if content is not None and \"#REDIRECT\" in content.upper():\n",
        "    # get the redirect link\n",
        "    matches = re.findall(r'\\[\\[(.*?)\\]\\]', content)\n",
        "    redirect_name = matches[0]\n",
        "    content = get_content(redirect_name)\n",
        "\n",
        "  return content\n",
        "\n",
        "def may_refer_to_city(content):\n",
        "  \"\"\"\n",
        "  In case there are more pages with the same name\n",
        "  \"\"\"\n",
        "  if content is not None and len(content) < 6000 and (\"may refer to\" in content.lower() or \"refers to\" in content.lower()):\n",
        "    matches = re.findall(r'\\[\\[(.*?)\\]\\](?=.*\\b(capital|city|town)\\b)', content)\n",
        "    if len(matches) > 0:\n",
        "      name = matches[0]\n",
        "      content = get_content(name)\n",
        "      content = redirect(content)\n",
        "  return content"
      ]
    },
    {
      "cell_type": "markdown",
      "metadata": {
        "id": "UEI-cSAUHjKs"
      },
      "source": [
        "### Populate the context of the city in the graph"
      ]
    },
    {
      "cell_type": "code",
      "execution_count": 40,
      "metadata": {
        "colab": {
          "base_uri": "https://localhost:8080/"
        },
        "id": "tX58yg2KHjKs",
        "outputId": "57c0358f-9c6a-4bd9-8bec-7998cb7493c5"
      },
      "outputs": [
        {
          "output_type": "stream",
          "name": "stderr",
          "text": [
            "Processing nodes:  90%|████████▉ | 2820/3136 [10:47<01:17,  4.05node/s]"
          ]
        },
        {
          "output_type": "stream",
          "name": "stdout",
          "text": [
            "Failed to get content for node nan: unsupported operand type(s) for +: 'float' and 'str'\n"
          ]
        },
        {
          "output_type": "stream",
          "name": "stderr",
          "text": [
            "Processing nodes: 100%|██████████| 3136/3136 [11:55<00:00,  4.39node/s]\n"
          ]
        }
      ],
      "source": [
        "from tqdm import tqdm  # Import tqdm\n",
        "import re\n",
        "import os\n",
        "\n",
        "nodes_to_remove = []\n",
        "\n",
        "output_dir = \"./new_cities\"\n",
        "os.makedirs(output_dir, exist_ok=True)  # Ensure the directory exists\n",
        "\n",
        "# Iterate through the nodes with a progress bar\n",
        "for node in tqdm(G.nodes(), desc=\"Processing nodes\", unit=\"node\"):\n",
        "\n",
        "    try:\n",
        "        file_name = node + \".txt\"\n",
        "        output_file = os.path.join(output_dir, file_name)\n",
        "        # Try to fetch the Wikivoyage page and get the content\n",
        "        content = get_content(node)\n",
        "\n",
        "        # chech for redirect\n",
        "        content = redirect(content)\n",
        "\n",
        "        # chech to mey refer to\n",
        "        content = may_refer_to_city(content)\n",
        "\n",
        "        # if content is not None and len(content) < 6000:\n",
        "        #   # in case there are multiple pages with the same name we take the first city/town name\n",
        "        #   if content is not None and (\"may refer to\" in content.lower() or \"refers to\" in content.lower()):\n",
        "        #     if \"capital\" in content.lower():\n",
        "        #         # find the city it refers to by looking at the link that is right before the name city\n",
        "        #         matches = re.findall(r'\\[\\[(.*?)\\]\\](?=.*capital)', content)\n",
        "        #         last_match_before_city = matches[0] if matches else None\n",
        "        #         if last_match_before_city is not None:\n",
        "        #             city = clean_city_name(last_match_before_city)\n",
        "        #             data = get_wikivoyage_page(city)\n",
        "        #             content = get_wikitext_content(data)\n",
        "        #             if content is not None:\n",
        "        #                 start_end_dict[node] = last_match_before_city\n",
        "        #     elif \"city\" in content.lower():\n",
        "        #         # find the city it refers to by looking at the link that is right before the name city\n",
        "        #         matches = re.findall(r'\\[\\[(.*?)\\]\\](?=.*city)', content)\n",
        "        #         last_match_before_city = matches[0] if matches else None\n",
        "        #         if last_match_before_city is not None:\n",
        "        #             city = clean_city_name(last_match_before_city)\n",
        "        #             data = get_wikivoyage_page(city)\n",
        "        #             content = get_wikitext_content(data)\n",
        "        #             if content is not None:\n",
        "        #                 start_end_dict[node] = last_match_before_city\n",
        "        #     # do the same for the town\n",
        "        #     elif \"town\" in content.lower():\n",
        "        #         # find the city it refers to by looking at the link that is right before the name city\n",
        "        #         matches = re.findall(r'\\[\\[(.*?)\\]\\](?=.*town)', content)\n",
        "        #         last_match_before_city = matches[0] if matches else None\n",
        "        #         if last_match_before_city is not None:\n",
        "        #             city = clean_city_name(last_match_before_city)\n",
        "        #             data = get_wikivoyage_page(city)\n",
        "        #             content = get_wikitext_content(data)\n",
        "        #             if content is not None:\n",
        "        #                 start_end_dict[node] = last_match_before_city\n",
        "\n",
        "        #     # chech for redirect\n",
        "        #     content = redirect(content)\n",
        "\n",
        "        if content is None or len(content) < 6000:\n",
        "          nodes_to_remove.append(node)\n",
        "        else:\n",
        "            G.nodes[node]['Content'] = content\n",
        "            with open(output_file, 'w', encoding='utf-8') as file:\n",
        "                file.write(content)\n",
        "\n",
        "    except Exception as e:\n",
        "        nodes_to_remove.append(node)\n",
        "        # If an error occurs, print the error message and the node\n",
        "        print(f\"Failed to get content for node {node}: {e}\")\n",
        "        continue  # Continue to the next node if there's an error\n"
      ]
    },
    {
      "cell_type": "code",
      "source": [
        "print(len(G.nodes))\n",
        "print(len(nodes_to_remove))"
      ],
      "metadata": {
        "colab": {
          "base_uri": "https://localhost:8080/"
        },
        "id": "H0llh6kjOpk-",
        "outputId": "0da13f57-3a47-46e4-b818-af8ed0952589"
      },
      "execution_count": 41,
      "outputs": [
        {
          "output_type": "stream",
          "name": "stdout",
          "text": [
            "3136\n",
            "884\n"
          ]
        }
      ]
    },
    {
      "cell_type": "code",
      "source": [
        "G.remove_nodes_from(nodes_to_remove)"
      ],
      "metadata": {
        "id": "w_mfybe8oyU-"
      },
      "execution_count": 42,
      "outputs": []
    },
    {
      "cell_type": "code",
      "source": [
        "G_undirected = G.to_undirected()\n",
        "print(\"Number of nodes: \", len(G.nodes()))\n",
        "print(\"Number of edges:\", len(G.edges()))\n",
        "print(\"Number of edges of undirected graph: \", len(G_undirected.edges()))"
      ],
      "metadata": {
        "colab": {
          "base_uri": "https://localhost:8080/"
        },
        "id": "OLumYfUvo4Oa",
        "outputId": "7e7a2c94-7821-4076-a789-4be271162583"
      },
      "execution_count": 50,
      "outputs": [
        {
          "output_type": "stream",
          "name": "stdout",
          "text": [
            "Number of nodes:  2252\n",
            "Number of edges: 26808\n",
            "Number of edges of undirected graph:  13650\n"
          ]
        }
      ]
    },
    {
      "cell_type": "code",
      "source": [
        "# save to pickle\n",
        "import pickle\n",
        "\n",
        "# Save the graph to a file using pickle\n",
        "with open('flight_with_content_pretty_good.pickle', 'wb') as f:\n",
        "   pickle.dump(G, f)\n"
      ],
      "metadata": {
        "id": "ikNrY2FfvNij"
      },
      "execution_count": 45,
      "outputs": []
    }
  ],
  "metadata": {
    "kernelspec": {
      "display_name": "sgai_new",
      "language": "python",
      "name": "python3"
    },
    "language_info": {
      "codemirror_mode": {
        "name": "ipython",
        "version": 3
      },
      "file_extension": ".py",
      "mimetype": "text/x-python",
      "name": "python",
      "nbconvert_exporter": "python",
      "pygments_lexer": "ipython3",
      "version": "3.10.15"
    },
    "colab": {
      "provenance": []
    }
  },
  "nbformat": 4,
  "nbformat_minor": 0
}