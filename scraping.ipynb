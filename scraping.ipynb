{
 "cells": [
  {
   "cell_type": "markdown",
   "metadata": {
    "id": "oGy7tLIDHjKg"
   },
   "source": [
    "### Get all the cities that have an airport and create airport_city_dict"
   ]
  },
  {
   "cell_type": "code",
   "execution_count": 1,
   "metadata": {
    "colab": {
     "base_uri": "https://localhost:8080/"
    },
    "id": "JI4hMyg9HjKj",
    "outputId": "3cf84b99-d26d-4173-8fb0-8eacb2e3430e"
   },
   "outputs": [
    {
     "name": "stdout",
     "output_type": "stream",
     "text": [
      "6956\n",
      "6073\n"
     ]
    }
   ],
   "source": [
    "import pandas as pd\n",
    "\n",
    "# Replace 'your_file.csv' with the path to your CSV file\n",
    "file_path = 'airports.csv'\n",
    "data = pd.read_csv(file_path)\n",
    "\n",
    "# Display the first few rows of the data\n",
    "cities = set(data['City'])\n",
    "print(len(cities))\n",
    "\n",
    "# Create dictionary with IATA as key and City as value\n",
    "airport_city_dict = data.set_index('IATA')['City'].to_dict()\n",
    "\n",
    "# Display the dictionary\n",
    "print(len(airport_city_dict.keys()))"
   ]
  },
  {
   "cell_type": "markdown",
   "metadata": {
    "id": "xtXh_zgZHjKm"
   },
   "source": [
    "### Get all the connections, and create a graph"
   ]
  },
  {
   "cell_type": "code",
   "execution_count": 3,
   "metadata": {
    "colab": {
     "base_uri": "https://localhost:8080/"
    },
    "id": "H-oD7a2tHjKm",
    "outputId": "c8260737-06e6-40e5-ede4-c1acd6232ee9"
   },
   "outputs": [
    {
     "name": "stdout",
     "output_type": "stream",
     "text": [
      "3255\n",
      "{'VLD', 'LLK', 'HKD', 'LFR', 'AJI', 'XRY', 'DOH', 'HAS', 'TPA', 'LAN', 'GMO', 'BRA', 'KTN', 'TLV', 'PBZ', 'LFW', 'LMN', 'TBU', 'KKC', 'LCG', 'TET', 'JPA', 'MCZ', 'VUS', 'FRW', 'ALH', 'TGK', 'OMR', 'ZRJ', 'ZGS', 'LGP', 'ROT', 'CJU', 'PSG', 'WRO', 'VST', 'TOG', 'ADA', 'ZAG', 'WWK', 'KUV', 'TKJ', 'BMY', 'UVE', 'BRS', 'SCC', 'IDA', 'SRQ', 'SRY', 'BWK', 'ALB', 'YTH', 'IXB', 'TRG', 'YSO', 'VAN', 'PQM', 'JIC', 'PAP', 'IAR', 'OIT', 'MGH', 'RZR', 'RAS', 'LEN', 'CMP', 'BAV', 'TMR', 'GYE', 'MSS', 'NBE', 'OHE', 'LSP', 'BVS', 'JNZ', 'NOV', 'KYA', 'ERM', 'WRE', 'BPL', 'MUE', 'KSY', 'ZUH', 'SXR', 'PHC', 'YPH', 'NNB', 'PBI', 'TFN', 'RMQ', 'XTG', 'MKG', 'YVR', 'BHI', 'MKK', 'ROS', 'SLA', 'HPN', 'BAH', 'YPO', 'PKN', 'AEX', 'AOE', 'YCO', 'CEI', 'MAQ', 'ETH', 'TVC', 'ABT', 'GIZ', 'SMK', 'KKJ', 'BOS', 'KZI', 'EVG', 'LCH', 'BDS', 'TXK', 'CFB', 'EUX', 'UDJ', 'ZIG', 'YQU', 'GXH', 'INL', 'DOK', 'RVN', 'BXR', 'PNH', 'DAV', 'ABY', 'GYS', 'UIO', 'SHG', 'DJG', 'SLW', 'VEE', 'RJK', 'KBL', 'JNB', 'PMC', 'IBR', 'PAC', 'BSR', 'CRI', 'OVS', 'TCB', 'GBT', 'IAD', 'SMR', 'ALF', 'KHD', 'UAH', 'RNB', 'NVK', 'SCN', 'USN', 'PGU', 'HTN', 'PHE', 'JIJ', 'WGA', 'ABB', 'IDR', 'OBO', 'BIQ', 'KIS', 'KUD', 'HRL', 'YJT', 'PNR', 'YKL', 'ZQW', 'YKU', 'KTT', 'CUL', 'OBU', 'BSC', 'YAM', 'BES', 'DUR', 'NIB', 'CHA', 'SBA', 'AHU', 'GUR', 'CMX', 'KLW', 'UIB', 'FAO', 'BHM', 'VDB', 'HTI', 'DEE', 'PBM', 'MDW', 'SRX', 'TEB', 'GEA', 'CAK', 'GGW', 'BTR', 'GHB', 'IRP', 'EYW', 'GTO', 'HDF', 'SXK', 'SGN', 'YCY', 'AXP', 'BSD', 'EAS', 'TUN', 'AJF', 'ALO', 'RGN', 'RJA', 'YZG', 'IPL', 'JAV', 'MIS', 'FIH', 'XUZ', 'LUZ', 'YGV', 'LDS', 'PEW', 'RHD', 'GAJ', 'SGU', 'SCY', 'YZP', 'TIJ', 'NQY', 'PVK', 'KTA', 'DMD', 'ELM', 'TMU', 'BCI', 'NUL', 'CIK', 'YXT', 'IPI', 'XMS', 'PJG', 'ASP', 'ADQ', 'FOC', 'ULV', 'UVF', 'KLR', 'IXD', 'AOR', 'TBZ', 'KOC', 'YFC', 'PKA', 'HIB', 'ANS', 'RMF', 'CPH', 'NBO', 'TKU', 'CYX', 'YKM', 'ABX', 'FKB', 'MSR', 'TVF', 'PGX', 'JGA', 'URJ', 'JKG', 'LPY', 'GAU', 'LYH', 'YMN', 'YZY', 'ELQ', 'SVJ', 'MTM', 'NAY', 'MKW', 'HUX', 'KOV', 'ORV', 'YUX', 'VAK', 'KVD', 'YXS', 'KSH', 'SNE', 'YKS', 'EDO', 'UBP', 'DAD', 'EAM', 'GAO', 'IRA', 'MNG', 'DEC', 'VLL', 'SDY', 'IVC', 'ZSJ', 'SLZ', 'OPO', 'CSG', 'PYY', 'LAZ', 'HUI', 'MQH', 'RLG', 'VCL', 'BRU', 'PDV', 'ZGU', 'KYP', 'HOV', 'OBY', 'BVC', 'RDM', 'URT', 'HLZ', 'BSG', 'PVU', 'ELC', 'YNY', 'SID', 'COK', 'OKJ', 'CYB', 'SZB', 'OST', 'ADF', 'BYN', 'XKS', 'POM', 'FBM', 'KCH', 'LEH', 'USH', 'NYM', 'MEG', 'DEL', 'KKE', 'LPS', 'HGR', 'VCT', 'YOW', 'BRM', 'BNN', 'RUS', 'UAQ', 'PHF', 'PXO', 'AEY', 'ANX', 'LBB', 'ORX', 'HHH', 'HDY', 'JKR', 'IXU', 'UET', 'AFL', 'COR', 'RAI', 'CEZ', 'CXH', 'LSY', 'UCT', 'ACE', 'LXS', 'KRN', 'KTW', 'WBQ', 'YRA', 'PET', 'CIH', 'NTX', 'HAQ', 'PBU', 'VGZ', 'PVD', 'AYT', 'LPQ', 'ISG', 'SKD', 'LOH', 'LDY', 'GEO', 'WEF', 'BTS', 'SCK', 'MSL', 'SGY', 'QFG', 'GMP', 'CEC', 'AMS', 'EJA', 'NAJ', 'CGN', 'MMB', 'STV', 'MKL', 'JOI', 'HID', 'KUO', 'HSV', 'DMU', 'LPL', 'EIN', 'GPA', 'VHM', 'APW', 'PCR', 'PTP', 'OAK', 'SAV', 'RPR', 'NKM', 'AJL', 'SLC', 'NLK', 'MDK', 'LBJ', 'GSO', 'LIH', 'PEM', 'BRW', 'FMM', 'LMT', 'MLX', 'CAG', 'BKQ', 'BDB', 'OZC', 'PMV', 'YTL', 'VNS', 'BGR', 'AES', 'TRK', 'BKG', 'RES', 'DNR', 'LYS', 'ZYL', 'DIK', 'UST', 'BFS', 'PNK', 'BGG', 'LUM', 'DRS', 'LGG', 'RCH', 'FPO', 'CVM', 'MVD', 'MSU', 'LGI', 'BHD', 'KGA', 'HNH', 'XSC', 'CZL', 'MZT', 'YPR', 'SFA', 'REC', 'PTY', 'KCA', 'FDF', 'SRG', 'RAO', 'RRS', 'YAP', 'BEY', 'PTH', 'BFF', 'BTJ', 'NGS', 'HRI', 'JOE', 'ABE', 'STR', 'YAG', 'MXZ', 'SJT', 'SVP', 'MIM', 'LAX', 'ENY', 'AIU', 'ZCL', 'VLV', 'ROK', 'YUT', 'GIU', 'STL', 'AUS', 'OGL', 'NST', 'YQF', 'BFV', 'MEU', 'BYC', 'MAF', 'SMA', 'YYE', 'LYA', 'STG', 'YZS', 'LOS', 'PMF', 'CNY', 'NTL', 'ONQ', 'CAL', 'MQM', 'SRA', 'KGP', 'CEM', 'RVE', 'LPD', 'JAX', 'ACR', 'JSY', 'ACI', 'KSA', 'AZN', 'YXC', 'JRO', 'PBG', 'ZBR', 'TFS', 'MCX', 'MFM', 'PLO', 'YQX', 'YNJ', 'MQX', 'STN', 'CAE', 'BDP', 'LMP', 'BPS', 'HFE', 'TRO', 'ADD', 'TLC', 'HFT', 'XKH', 'MPL', 'GLK', 'RVV', 'AGH', 'BIL', 'YFJ', 'HIR', 'LKH', 'YGH', 'MUA', 'MMX', 'DLI', 'BUL', 'REG', 'MDQ', 'MMU', 'SOM', 'DGT', 'NOC', 'TOS', 'ELU', 'DLU', 'CMN', 'JTC', 'AQA', 'AKU', 'BBA', 'IMT', 'IAA', 'MAM', 'SJD', 'FKQ', 'ILY', 'NRN', 'SVQ', 'FRD', 'TTE', 'NGB', 'NRT', 'SAL', 'MGQ', 'HMI', 'BLA', 'ADK', 'GRO', 'ILI', 'CGB', 'TLH', 'HVB', 'SUR', 'AEP', 'TUK', 'CWB', 'CMI', 'VIX', 'LZO', 'FMA', 'PIP', 'HMB', 'CDC', 'MQN', 'GYN', 'KND', 'ALG', 'TLN', 'NBS', 'MLO', 'IMP', 'CRA', 'MTR', 'LOP', 'AQJ', 'PRA', 'AGT', 'PIZ', 'YWB', 'CXI', 'LNZ', 'SNN', 'PMO', 'ABL', 'NLD', 'GIS', 'SHX', 'MRY', 'AGN', 'IGU', 'CTM', 'YXE', 'MDC', 'HAC', 'HDG', 'GVA', 'ROB', 'SVA', 'CGH', 'LGW', 'DYR', 'AGR', 'STC', 'GLV', 'CSX', 'NQN', 'INH', 'YCD', 'FEG', 'CPO', 'RUN', 'YZT', 'SNW', 'HEK', 'CIF', 'NIM', 'TRD', 'MLN', 'LYC', 'AOK', 'DBO', 'KWM', 'BSO', 'WKJ', 'URY', 'TBP', 'GOT', 'DUD', 'PLS', 'PZU', 'YGT', 'POS', 'CKH', 'EAT', 'BEU', 'LJU', 'RJL', 'DMM', 'IPH', 'PMW', 'UTS', 'TAM', 'EVN', 'EVV', 'SJE', 'UAS', 'MEA', 'HOR', 'MJF', 'TAC', 'HAA', 'DTW', 'BSL', 'GCM', 'ULO', 'BUZ', 'PKZ', 'VEL', 'AGP', 'SMS', 'AKP', 'DLE', 'GGG', 'MPA', 'NME', 'CYZ', 'GPI', 'DIL', 'AET', 'TAK', 'CLL', 'VIJ', 'ARU', 'CBH', 'YQM', 'DBV', 'YTZ', 'HGA', 'IGD', 'MHQ', 'ZTH', 'TGP', 'NBX', 'NAG', 'HDN', 'UKK', 'KRK', 'MHG', 'MAG', 'KCO', 'IXM', 'MTV', 'SNV', 'AVP', 'GST', 'MKY', 'MAS', 'MDU', 'TBW', 'CZE', 'KDH', 'RGA', 'LOE', 'KPO', 'CLT', 'OIM', 'ONT', 'BOG', 'PLN', 'JUZ', 'KGS', 'CRK', 'SPU', 'DAC', 'SUX', 'ANI', 'KNH', 'XGR', 'KBR', 'PKU', 'JQA', 'JBQ', 'TTA', 'YGW', 'DNZ', 'AVA', 'JAI', 'SUB', 'PAS', 'ULP', 'MJT', 'ZQZ', 'GJA', 'NVA', 'GPS', 'ADE', 'AKF', 'ISU', 'YTQ', 'ILP', 'LMA', 'INN', 'VIE', 'LDB', 'HVN', 'CGD', 'KMI', 'DDC', 'HSN', 'NUE', 'CAN', 'PVR', 'GOA', 'BRL', 'JLN', 'PAD', 'WNZ', 'SDN', 'OLF', 'SVD', 'JGD', 'TVY', 'MQF', 'UBA', 'ULG', 'GAE', 'AAR', 'FAE', 'OGZ', 'ZIH', 'CIA', 'ULH', 'WLH', 'RKS', 'TNR', 'MAH', 'TOE', 'GDT', 'CBQ', 'GDX', 'BTV', 'WGP', 'CNM', 'PXU', 'KGD', 'MWF', 'HOF', 'UAK', 'CFE', 'TUG', 'HPH', 'MQJ', 'KOT', 'NAS', 'PDT', 'NCL', 'OLL', 'LIN', 'IXG', 'UKB', 'OLP', 'GRR', 'GRW', 'MNA', 'SYO', 'PUQ', 'AKX', 'SCU', 'AGU', 'LEJ', 'AXD', 'SOY', 'TGD', 'MZW', 'BJF', 'LVI', 'CVG', 'JIB', 'SDR', 'SDG', 'KYZ', 'PLZ', 'YRB', 'ADU', 'AOG', 'PZO', 'AVN', 'BLK', 'AKB', 'IAH', 'EMK', 'MAD', 'POP', 'JJU', 'CAP', 'TUB', 'RGK', 'CCC', 'JAN', 'YIO', 'VVI', 'YCG', 'BOD', 'YBG', 'JUJ', 'RHI', 'GRX', 'RIW', 'KIX', 'UDR', 'TGM', 'POA', 'JHW', 'JER', 'SJW', 'YCL', 'WVB', 'LRM', 'AKI', 'JMU', 'ALS', 'STM', 'BHO', 'MUX', 'GBB', 'PSA', 'MKE', 'KCM', 'DAU', 'MKP', 'YFH', 'TJM', 'SPR', 'PPN', 'NLT', 'TAH', 'TML', 'BGW', 'BBI', 'PVH', 'DHM', 'MUW', 'CTA', 'ESL', 'MCP', 'SJI', 'BRR', 'JBR', 'HJR', 'HAU', 'PPP', 'GFN', 'JSH', 'LRT', 'PBH', 'YBR', 'YWH', 'PEG', 'LGK', 'SKX', 'IAM', 'SUG', 'PUJ', 'SHA', 'BNS', 'EJH', 'GOM', 'AKV', 'DIR', 'THU', 'JQE', 'KTM', 'PHB', 'TKG', 'PUB', 'BMA', 'ICN', 'POI', 'TBT', 'PAH', 'YHK', 'AWD', 'TWB', 'JSU', 'MMO', 'PBO', 'OUZ', 'CIT', 'HRE', 'TQL', 'PBD', 'CEE', 'OSL', 'JIK', 'ASO', 'BCN', 'PIA', 'XAP', 'MKQ', 'SYY', 'TAI', 'AGA', 'GOH', 'YBL', 'AZI', 'YXP', 'SCL', 'MBS', 'NSK', 'NYA', 'VDS', 'HRG', 'YYR', 'MQP', 'COO', 'VBY', 'AMM', 'MGT', 'GIG', 'WIC', 'UMD', 'GDE', 'YLC', 'YIC', 'THL', 'ICT', 'YYH', 'HNA', 'MGZ', 'CJB', 'ZTB', 'VRA', 'TGJ', 'CPT', 'JKL', 'GXF', 'HUH', 'MTT', 'GAL', 'BNA', 'YRG', 'EVE', 'YPX', 'MOZ', 'ACX', 'HOD', 'SXM', 'RAB', 'BAL', 'MHH', 'SUF', 'FUT', 'JIU', 'CJM', 'CYS', 'BGF', 'USK', 'URE', 'GWL', 'KZR', 'HGU', 'CZM', 'HIJ', 'EAE', 'XMH', 'YAC', 'HOI', 'BXU', 'KVA', 'KMG', 'TLL', 'PDP', 'WDH', 'JXA', 'DUT', 'JOS', 'QRO', 'MPM', 'WBM', 'BUD', 'LIG', 'KEP', 'OMA', 'SHB', 'WYA', 'DHN', 'NNT', 'YSG', 'DIE', 'TGO', 'EBU', 'CUE', 'LKB', 'EEK', 'BOO', 'MLW', 'MYJ', 'SVL', 'KTL', 'BME', 'MYD', 'POG', 'GDL', 'TYR', 'LXG', 'WMO', 'SJU', 'DAT', 'NRK', 'ZCO', 'WAE', 'LAR', 'KEW', 'PPG', 'PIN', 'HBE', 'NYO', 'SHP', 'JTY', 'HMO', 'BUN', 'MZR', 'SPP', 'TUL', 'HUS', 'MRZ', 'BNK', 'KER', 'PRG', 'DLM', 'DUS', 'LTX', 'YZR', 'YOL', 'IPA', 'DND', 'ERL', 'UUA', 'MHT', 'TRR', 'JZH', 'BWN', 'SHM', 'KJA', 'OGG', 'AFZ', 'PHW', 'HKN', 'RST', 'SYX', 'KHG', 'NDG', 'FSM', 'TNJ', 'YYG', 'NGO', 'KHH', 'DLC', 'DPL', 'YPL', 'PIB', 'CTL', 'FRS', 'WSN', 'HCR', 'RUT', 'BQK', 'CCM', 'SLL', 'TRW', 'RBR', 'OOL', 'MYW', 'NJF', 'LTN', 'GAN', 'CFK', 'KVL', 'LOD', 'IRG', 'FAV', 'CBO', 'MLG', 'YWL', 'SIP', 'RNL', 'IGA', 'NMA', 'DIB', 'MJN', 'BFI', 'HLD', 'GUC', 'LRH', 'GKK', 'BAX', 'YEK', 'ANG', 'GES', 'GRZ', 'TZX', 'HRM', 'VXE', 'IQN', 'YWP', 'FRU', 'LRR', 'URC', 'MYU', 'VFA', 'MVR', 'CTC', 'BUW', 'DNK', 'MNS', 'BJM', 'SZA', 'LWB', 'PRI', 'THX', 'HUY', 'TFF', 'MTJ', 'LPT', 'BTT', 'KVX', 'MXV', 'TME', 'CIY', 'TIZ', 'VKT', 'NOP', 'ENH', 'TAB', 'BSK', 'DIY', 'MRV', 'AXM', 'ORB', 'CYP', 'YPM', 'BZL', 'OPS', 'OLB', 'ISA', 'MCN', 'CNX', 'TKD', 'NEV', 'ULN', 'YIK', 'GHA', 'GSE', 'CCJ', 'TUS', 'LRS', 'MHK', 'FLN', 'EGE', 'IEV', 'HEH', 'AVV', 'YGK', 'ESC', 'PLX', 'OKC', 'CGK', 'JIQ', 'AUK', 'SDK', 'BSA', 'CND', 'SWA', 'UYU', 'SVO', 'YNB', 'CNP', 'NAN', 'JPR', 'LYB', 'EOH', 'CIP', 'LXA', 'HVG', 'ZHA', 'BNE', 'SFN', 'XSB', 'LBL', 'VAS', 'THS', 'NUS', 'LMM', 'BDH', 'SPN', 'GGT', 'KEF', 'YES', 'WUZ', 'KTE', 'ELD', 'IKT', 'CGI', 'SBH', 'AOI', 'CHX', 'CNS', 'LET', 'LLF', 'JNS', 'TBS', 'FLS', 'EGO', 'PKB', 'MWX', 'SHD', 'WNA', 'ONJ', 'BRC', 'YIE', 'CXJ', 'AKN', 'BIR', 'BVA', 'IXJ', 'SKP', 'PSO', 'JHS', 'URG', 'DIU', 'LUW', 'BFD', 'DIJ', 'JDO', 'YLH', 'POZ', 'MWA', 'HDS', 'KSQ', 'LWY', 'VPE', 'OKA', 'ODN', 'FTE', 'SVI', 'WLG', 'MUK', 'ERZ', 'CCV', 'CGM', 'PBL', 'ZAL', 'KEJ', 'IFN', 'MPN', 'RUR', 'IAN', 'MRD', 'CLM', 'TSE', 'UPN', 'KOP', 'NLG', 'IPC', 'CAI', 'CIJ', 'YSJ', 'LEC', 'YNO', 'FKL', 'OXB', 'AAT', 'BGY', 'YPJ', 'JAC', 'CAH', 'TVU', 'LSE', 'CFN', 'AAX', 'LBS', 'YYU', 'LPB', 'BWA', 'ARC', 'GNM', 'OAL', 'VBV', 'CFC', 'SDJ', 'YTY', 'ATZ', 'MEI', 'BEL', 'POL', 'RMI', 'SCM', 'VCA', 'JYV', 'YLW', 'ARH', 'PAG', 'YUD', 'HAK', 'VHC', 'ASW', 'MOI', 'BQL', 'TAP', 'PUS', 'EBB', 'NAO', 'CIX', 'DAR', 'OTZ', 'PMY', 'FOR', 'PWE', 'KPN', 'ANF', 'SKZ', 'BTH', 'VLI', 'MOQ', 'NGE', 'MJV', 'SCQ', 'BUX', 'BBN', 'CAJ', 'MII', 'JAU', 'TOL', 'SNO', 'VCP', 'AVL', 'YSB', 'WAW', 'PHX', 'IGG', 'IRJ', 'LNY', 'ARK', 'MED', 'OSM', 'XFW', 'LKL', 'RDN', 'FLA', 'HTS', 'MXL', 'BPT', 'CPC', 'HTA', 'XIL', 'PKC', 'SHV', 'IXC', 'TSR', 'VDC', 'VAA', 'LAD', 'SAH', 'MBE', 'UUD', 'AJR', 'KSJ', 'BRN', 'RRG', 'SOU', 'FSC', 'KKA', 'ULK', 'OSW', 'CHC', 'SVU', 'LGB', 'OSY', 'BJB', 'YYD', 'LPI', 'TIU', 'CKG', 'FTU', 'WUH', 'AIN', 'OKL', 'MYG', 'BHJ', 'VLS', 'JUL', 'FYU', 'AHE', 'NKG', 'RGL', 'ALW', 'ATL', 'MBA', 'NDY', 'LZH', 'YZV', 'PMZ', 'MIG', 'KVG', 'UTN', 'KWA', 'ZEM', 'NVI', 'DED', 'SRE', 'VAR', 'ABR', 'SSG', 'BDQ', 'GRI', 'TOF', 'PJM', 'JDH', 'WLK', 'RKV', 'EYP', 'KZS', 'EBL', 'LOK', 'FRE', 'IKA', 'PNP', 'PBJ', 'SHH', 'SXI', 'SNP', 'MAB', 'YXN', 'NOJ', 'UNN', 'HIN', 'YIF', 'SAN', 'TMS', 'ABD', 'SUK', 'KRS', 'MME', 'YQY', 'LUG', 'VLY', 'PLM', 'ACV', 'SLQ', 'HPB', 'GZO', 'SSA', 'HOG', 'RIA', 'SLM', 'KRF', 'YHR', 'KVC', 'NAH', 'EMD', 'FNC', 'VGA', 'OAJ', 'SPB', 'CUU', 'UFA', 'VVC', 'MDG', 'SZZ', 'TID', 'LIM', 'ALA', 'PLU', 'PDA', 'KQT', 'SGD', 'SOF', 'ADL', 'YHP', 'BDL', 'CYO', 'NOS', 'TIM', 'EDR', 'FUO', 'TKP', 'DJB', 'KGE', 'QOW', 'BEG', 'EFL', 'LIS', 'CHO', 'NAW', 'SDU', 'KRL', 'ETR', 'LAW', 'LLU', 'FAR', 'SBZ', 'CCK', 'RAH', 'AJU', 'WUA', 'LCK', 'DDG', 'YMO', 'JDZ', 'KCK', 'VAI', 'BUC', 'PLQ', 'HOB', 'MDE', 'JGN', 'CDV', 'SYZ', 'OUD', 'FLR', 'LYP', 'PYH', 'FKI', 'ORY', 'MYT', 'HME', 'ATM', 'DLA', 'KID', 'ASR', 'MUN', 'BKS', 'ROV', 'LQM', 'NDU', 'AXK', 'EWR', 'KPV', 'KDO', 'MJZ', 'TMJ', 'LNE', 'IND', 'WSZ', 'YVB', 'ASU', 'IRK', 'IPT', 'CCS', 'GUA', 'PPQ', 'DJE', 'BVB', 'MXH', 'GJT', 'VGO', 'CXR', 'TUU', 'HVR', 'DUB', 'IZO', 'LYI', 'KSD', 'STS', 'WIN', 'NDJ', 'BNB', 'VXC', 'BHU', 'TOH', 'MSA', 'ZAD', 'BMI', 'ASB', 'YFS', 'DRW', 'SUV', 'RSD', 'DWC', 'ABZ', 'ILD', 'AZS', 'FOE', 'YGJ', 'LAE', 'XQP', 'PDX', 'FMO', 'XNN', 'GND', 'FNA', 'PLW', 'UUS', 'TAS', 'CUR', 'AJA', 'LIR', 'CIZ', 'YYT', 'PUY', 'BZG', 'JED', 'KWJ', 'LYR', 'CED', 'HKG', 'WHK', 'ZNZ', 'GCN', 'PER', 'MJM', 'YHM', 'KNU', 'YLL', 'CGQ', 'SGC', 'ROW', 'TST', 'OCC', 'GET', 'LZC', 'HLH', 'NOU', 'BVG', 'IBA', 'KAO', 'YCB', 'YOJ', 'ISB', 'IXR', 'VDH', 'IPN', 'YYB', 'BZN', 'BHX', 'NYU', 'IBE', 'SEZ', 'BKW', 'HJJ', 'TRV', 'TBN', 'LUV', 'BVE', 'BCD', 'TIP', 'BWT', 'YTS', 'NDB', 'YWK', 'USU', 'TPQ', 'LNK', 'CKS', 'LBC', 'LEA', 'VIN', 'KFS', 'ILG', 'KHN', 'IXL', 'BGO', 'ALC', 'ESU', 'CJL', 'YZF', 'WUX', 'PQQ', 'OUA', 'TGR', 'BOY', 'LAM', 'YXU', 'GKA', 'KUN', 'KUH', 'EOI', 'MCK', 'VLC', 'OER', 'NOZ', 'YBX', 'GRK', 'TSN', 'IOS', 'MLI', 'YXJ', 'JGS', 'SHR', 'RHO', 'BRO', 'HSL', 'AXT', 'MSZ', 'KLO', 'KWI', 'AKK', 'YHI', 'KGF', 'PUF', 'HYD', 'BHV', 'RSH', 'TLM', 'PRC', 'MTY', 'MSJ', 'BAQ', 'EYK', 'SJO', 'ISC', 'ACH', 'MVP', 'BLJ', 'KUT', 'MST', 'QBC', 'PUG', 'SPI', 'VOL', 'HYG', 'TUC', 'VLN', 'BTC', 'LUX', 'TAY', 'YPC', 'SWJ', 'BQB', 'IAS', 'EGX', 'NGQ', 'TTJ', 'MEE', 'EGM', 'MFR', 'GMR', 'BKI', 'LXR', 'VCE', 'UPG', 'AUH', 'SLU', 'OGD', 'HOT', 'LLA', 'KSF', 'BLV', 'BQS', 'KIV', 'TKX', 'YWJ', 'TUA', 'ELV', 'KDV', 'FON', 'TGU', 'RDU', 'AYP', 'EGN', 'BDA', 'MIR', 'AOO', 'TOB', 'KAW', 'CEG', 'AZO', 'AXR', 'ELG', 'MOC', 'LHR', 'ROC', 'ABM', 'DRO', 'KRP', 'OTP', 'YQL', 'CFR', 'TXL', 'RNN', 'COU', 'HLA', 'BTK', 'BOC', 'SIT', 'YQC', 'SDD', 'NVT', 'KHI', 'FNJ', 'DZA', 'TGZ', 'IGR', 'ROP', 'MAR', 'LAI', 'SMI', 'VUP', 'MMH', 'LSI', 'KWL', 'SXO', 'SPC', 'MZH', 'JMK', 'MYR', 'GRQ', 'KTG', 'HIA', 'MRU', 'AMQ', 'YYJ', 'RCM', 'NDR', 'RDZ', 'BHE', 'UII', 'YQB', 'BKM', 'HNS', 'ACT', 'YHZ', 'MEB', 'LGA', 'FLL', 'BUS', 'OAG', 'EBH', 'CNJ', 'GEG', 'YYF', 'CTU', 'DLZ', 'ZAM', 'UNK', 'KBV', 'LUK', 'TLS', 'CID', 'SGO', 'MCO', 'YSY', 'HEA', 'AQG', 'ELS', 'JNG', 'DPO', 'LHW', 'TIH', 'WEI', 'YNA', 'BLQ', 'YAB', 'CHQ', 'MBT', 'ARW', 'OGS', 'JEG', 'TNG', 'MCE', 'SAW', 'IKI', 'ANM', 'DOU', 'MAO', 'SJC', 'SFL', 'KIF', 'HND', 'BUQ', 'VKO', 'KAJ', 'UTH', 'YUS', 'SNA', 'GOV', 'SAP', 'SVB', 'DSK', 'SLK', 'NLA', 'LPA', 'YAT', 'MCT', 'PMI', 'LUR', 'BAY', 'WNR', 'ETZ', 'BVI', 'CUC', 'CGY', 'SBY', 'SKT', 'CLD', 'YQT', 'ZFN', 'EMA', 'GWD', 'BHR', 'MLU', 'GYA', 'TRZ', 'ECN', 'BJA', 'LUH', 'PMR', 'SFJ', 'BTU', 'GCH', 'LAO', 'IAG', 'BHH', 'CAW', 'XNA', 'AAE', 'WAG', 'SKU', 'YQK', 'XMN', 'ESM', 'FLW', 'CCF', 'KSC', 'CUF', 'WNP', 'ILM', 'VDZ', 'GOQ', 'LST', 'AUX', 'DAY', 'IRZ', 'SUJ', 'ORD', 'MRX', 'RMT', 'SML', 'CPR', 'ERI', 'VOG', 'YUM', 'NJC', 'MHC', 'BDU', 'LSC', 'RYG', 'WLS', 'KBP', 'RUH', 'SDP', 'CLJ', 'OMS', 'KOS', 'YUY', 'NTE', 'VPY', 'APO', 'SHW', 'MOV', 'KCZ', 'DVO', 'TLE', 'MXP', 'DFW', 'HOM', 'WMI', 'ZAZ', 'SOQ', 'KMS', 'DPS', 'VDE', 'THN', 'STW', 'TTT', 'BIM', 'DCN', 'FEZ', 'AIA', 'PRN', 'TCO', 'GCK', 'MEH', 'CWA', 'NCU', 'PZI', 'TMM', 'SSR', 'YHD', 'PIH', 'TSF', 'EGC', 'MLY', 'IXE', 'PNL', 'SWF', 'MWZ', 'ARM', 'IBZ', 'KGI', 'ZYI', 'SHL', 'MCV', 'MFE', 'ZKE', 'UGC', 'FRO', 'ATD', 'SDV', 'SKB', 'SYQ', 'PPB', 'KME', 'FSD', 'CYF', 'PSM', 'GRJ', 'PKY', 'GVR', 'SSY', 'AMA', 'YHU', 'CJA', 'GPB', 'HKK', 'KSE', 'VPS', 'KLX', 'BDJ', 'TZL', 'RZE', 'ZHY', 'IST', 'SZX', 'MAU', 'YRT', 'CRD', 'AKY', 'QSF', 'YAK', 'MMY', 'YQD', 'DSM', 'FAT', 'CZU', 'BLE', 'KSU', 'UKS', 'LAP', 'CNF', 'ELF', 'VAO', 'BPN', 'YXL', 'CVU', 'KRO', 'CLY', 'TRS', 'WNN', 'TAO', 'OLC', 'DLH', 'TOY', 'RDC', 'CCP', 'VER', 'SJL', 'CJJ', 'SOC', 'ITO', 'KUK', 'LTO', 'ANC', 'KGC', 'BOM', 'TPS', 'CBB', 'BKZ', 'PGF', 'NWI', 'OZH', 'ACA', 'DGO', 'LKN', 'GCC', 'RAR', 'LKG', 'ASJ', 'IRC', 'PPW', 'HAD', 'MEL', 'MXX', 'OTH', 'ICI', 'MEM', 'HKT', 'SYR', 'GOI', 'LKO', 'JSI', 'KOA', 'GAF', 'KKN', 'EKS', 'FAY', 'NYK', 'JOL', 'LJG', 'CWL', 'BON', 'UYL', 'SKE', 'SEN', 'NSI', 'WJR', 'TUP', 'USM', 'BOJ', 'XCR', 'SIN', 'KSN', 'LEB', 'SDE', 'GYD', 'SLH', 'EPR', 'DZN', 'ZSA', 'PVG', 'PEK', 'SXF', 'MYQ', 'NRL', 'CZX', 'CRM', 'GOJ', 'ABQ', 'LZY', 'KKR', 'YYQ', 'BJL', 'CPV', 'GIB', 'SYD', 'MID', 'PQI', 'LLB', 'FDH', 'KYU', 'TSV', 'SMF', 'HBA', 'PAT', 'KRR', 'RTM', 'NNY', 'AXA', 'XIC', 'BJR', 'VIS', 'NTQ', 'TUR', 'TCZ', 'DYU', 'PIX', 'ASV', 'PDG', 'RTB', 'YGL', 'JCK', 'MDT', 'SKK', 'MEC', 'COS', 'KTS', 'JIM', 'AYQ', 'LCX', 'KIN', 'YGR', 'LGL', 'TEN', 'MCG', 'TBI', 'MBJ', 'TUF', 'KKH', 'BIS', 'MMK', 'HFA', 'GBE', 'SOJ', 'KYK', 'BNC', 'BLL', 'MGF', 'SLX', 'ROI', 'RBV', 'FTA', 'ERF', 'DOL', 'GEL', 'DAX', 'LWN', 'VAW', 'REX', 'YIW', 'JHB', 'YIN', 'ZQN', 'UNG', 'LEX', 'YMM', 'JNU', 'ITH', 'BSB', 'RFD', 'RET', 'ORU', 'TRI', 'JUB', 'DAB', 'TRF', 'KMJ', 'JTR', 'SJK', 'MAZ', 'HLN', 'MUB', 'KSO', 'MSO', 'TEE', 'AMH', 'BWI', 'MLE', 'KET', 'IAO', 'TNN', 'PEN', 'PIK', 'MJD', 'YNZ', 'VIL', 'WMN', 'EWN', 'YVZ', 'YYY', 'KOO', 'YYZ', 'ABS', 'BAZ', 'HER', 'SLY', 'CHG', 'BVH', 'MCI', 'TIF', 'TIA', 'ORF', 'WXN', 'MGS', 'TGG', 'YKQ', 'MKM', 'MFU', 'BHY', 'KRY', 'PWM', 'RVD', 'HMA', 'GRB', 'PNZ', 'YBP', 'PEI', 'XBJ', 'HMV', 'YAA', 'JAL', 'YPY', 'BKO', 'BHB', 'YSM', 'CDJ', 'DBA', 'OMO', 'RSA', 'NPE', 'CJS', 'PSE', 'YOP', 'BIO', 'LNB', 'APF', 'TRC', 'FSP', 'LUD', 'AUY', 'YTE', 'RAP', 'XIY', 'AXU', 'RMA', 'SAF', 'ENA', 'CRP', 'NSN', 'TSA', 'EXT', 'LLW', 'GDV', 'KIT', 'TLA', 'ODO', 'JLR', 'YGX', 'INU', 'THR', 'BBO', 'LDU', 'HVD', 'AHB', 'UYN', 'MDL', 'IOA', 'HOE', 'ATA', 'UEL', 'YNT', 'BGM', 'HRK', 'RIB', 'TRN', 'FJR', 'BJV', 'CAC', 'JUV', 'TTU', 'DRG', 'JNN', 'SLP', 'FCO', 'CAY', 'RTW', 'BXB', 'ZOS', 'IQT', 'LCA', 'BEB', 'YEV', 'LBU', 'CSH', 'CBR', 'CJC', 'TMI', 'CUQ', 'PHL', 'WMX', 'YHO', 'HAM', 'CKB', 'TYN', 'VII', 'PNA', 'RAJ', 'OLA', 'HUU', 'HEL', 'PBC', 'PUU', 'HNM', 'PKE', 'AGX', 'WAT', 'CSK', 'ITM', 'DEF', 'YRL', 'NNG', 'CLQ', 'KNG', 'CMU', 'MLM', 'AAN', 'ECP', 'YUB', 'UKA', 'PTU', 'AUC', 'KZO', 'GMZ', 'SAB', 'PJA', 'HAN', 'CZS', 'EDI', 'DIG', 'CTS', 'HUN', 'AOJ', 'DLG', 'FUG', 'NPL', 'ONG', 'OGX', 'GWT', 'CKZ', 'ELH', 'BMU', 'EKO', 'LPP', 'WJU', 'TEQ', 'KUL', 'RKD', 'VRC', 'KDI', 'DCY', 'DHI', 'ACC', 'VDM', 'YQZ', 'BIK', 'CGR', 'COD', 'ATY', 'MDZ', 'LFT', 'ABJ', 'IKS', 'KWN', 'CLE', 'HAV', 'ROA', 'FMN', 'MUR', 'WRL', 'UAP', 'BZE', 'BHK', 'LIF', 'INV', 'LAU', 'RVT', 'YQG', 'SRP', 'RAK', 'NAQ', 'CEB', 'PEZ', 'OMH', 'NRA', 'ELP', 'KWK', 'LNJ', 'LTI', 'KIM', 'IXZ', 'ITB', 'GLF', 'KUU', 'BMW', 'MTS', 'BJZ', 'HOU', 'UDI', 'ZPB', 'PFO', 'LBD', 'YFA', 'LIT', 'CDR', 'KIR', 'ENU', 'MSP', 'DEA', 'PIU', 'BNI', 'BKC', 'PEE', 'ANV', 'BGI', 'TMP', 'CGO', 'GLO', 'DXB', 'MNL', 'DYG', 'AZR', 'BFL', 'BDO', 'GDQ', 'MZG', 'DTM', 'MOD', 'FMI', 'BLR', 'YGP', 'YEG', 'OWB', 'OSI', 'MHD', 'IMF', 'ACK', 'YNP', 'FNT', 'DNH', 'TMW', 'NAP', 'IQQ', 'CME', 'RUA', 'LPM', 'ATQ', 'TTN', 'CCU', 'ORH', 'KAN', 'IWK', 'PNI', 'YFO', 'PSR', 'ATH', 'HZH', 'HON', 'SOW', 'TJQ', 'BOI', 'OZZ', 'GTE', 'SVG', 'VRN', 'BFJ', 'YBK', 'CMH', 'MLA', 'KLU', 'KHS', 'KIH', 'ZAT', 'GZT', 'BRE', 'YKF', 'OSS', 'NER', 'BUR', 'RVK', 'PGD', 'SYM', 'THE', 'NNM', 'EBA', 'DJJ', 'GDZ', 'GDN', 'CPD', 'PHS', 'SPS', 'WIL', 'XBE', 'SSH', 'GRP', 'MQT', 'KWT', 'CFU', 'MOL', 'REU', 'YHY', 'YBC', 'AUR', 'JJN', 'TNW', 'IXS', 'AIT', 'MOB', 'PGK', 'PAZ', 'YVO', 'UEO', 'TUO', 'NYT', 'RSU', 'CLO', 'UKX', 'TPP', 'KSM', 'OND', 'TDX', 'CBT', 'ABV', 'MGM', 'GUW', 'MRE', 'JFR', 'AZA', 'WMR', 'RBA', 'KAT', 'PVA', 'HFS', 'YNS', 'SVX', 'KAZ', 'ERC', 'PZH', 'RFP', 'KZN', 'DSN', 'AER', 'CLV', 'ENE', 'NAT', 'MLL', 'TCG', 'CFS', 'OSR', 'SKO', 'GLT', 'PUE', 'UME', 'DEB', 'SJZ', 'AMD', 'BEJ', 'WUS', 'REL', 'KLG', 'SCO', 'SBW', 'ACY', 'NHV', 'EZE', 'PDL', 'PZB', 'MAN', 'KIJ', 'BZR', 'SEA', 'TIR', 'YQQ', 'INZ', 'PDS', 'CPE', 'YNC', 'BNX', 'GOU', 'RGI', 'MRS', 'ERS', 'JOG', 'GLA', 'KHY', 'STD', 'KAL', 'PNS', 'TTQ', 'APL', 'GRU', 'DCA', 'ROO', 'BIA', 'CHS', 'SRZ', 'AAL', 'EGS', 'TNA', 'LLI', 'DOM', 'ANR', 'ORK', 'GHT', 'CIC', 'LWO', 'ODS', 'REP', 'KNS', 'SKN', 'KWE', 'FWA', 'JSR', 'BMV', 'BJI', 'SFG', 'GUM', 'RTA', 'KRT', 'JFK', 'LHE', 'RLK', 'NTN', 'AHO', 'GOP', 'NSH', 'BOB', 'ZKG', 'MOF', 'CUZ', 'YVP', 'LBA', 'GMA', 'GAM', 'ASM', 'BFN', 'CDG', 'YVM', 'DOY', 'IKO', 'VQS', 'TGI', 'RAE', 'YDP', 'MUC', 'IZA', 'SSJ', 'YVQ', 'AKJ', 'OVD', 'BLZ', 'LAQ', 'PSS', 'ESB', 'ADZ', 'ELI', 'HAH', 'WRG', 'BUA', 'BYO', 'SDL', 'VNX', 'DMK', 'ZAH', 'PGV', 'LRE', 'KGT', 'KOI', 'MLB', 'KDM', 'MVY', 'PIE', 'OUL', 'PSP', 'TMT', 'GCI', 'DMB', 'BPX', 'BHQ', 'UIH', 'PRH', 'TUI', 'DKR', 'GTR', 'ILR', 'DCM', 'MAA', 'PNQ', 'TKS', 'ZFM', 'YSK', 'BET', 'ATW', 'YLE', 'VNO', 'BRD', 'STX', 'PUW', 'GZP', 'VIG', 'FAI', 'CKY', 'AGS', 'HYA', 'PGA', 'YPW', 'TYS', 'AQP', 'BTI', 'HBX', 'PVC', 'FKS', 'BKY', 'NAV', 'SBN', 'BKK', 'SJJ', 'ASF', 'RBY', 'UBJ', 'CMG', 'EUN', 'RGS', 'CRL', 'LUN', 'AUU', 'YFB', 'BEN', 'SCT', 'ZLO', 'BBK', 'BND', 'CUM', 'SBP', 'PYJ', 'SPD', 'PED', 'RIC', 'DIN', 'VVO', 'CHY', 'KEM', 'FUJ', 'VCS', 'MVT', 'VXO', 'LBF', 'VKG', 'NKC', 'ANU', 'NZH', 'IWJ', 'MZV', 'PKR', 'STI', 'DOB', 'YXY', 'CMA', 'STT', 'FNI', 'URS', 'MMJ', 'LED', 'TPE', 'IOM', 'GFK', 'HGN', 'LDE', 'CDB', 'SFB', 'YXX', 'MEX', 'LRD', 'PSC', 'KMQ', 'JHM', 'SZG', 'BLI', 'PTG', 'MOU', 'ULZ', 'JHG', 'IXA', 'GNY', 'CRW', 'NUI', 'TDD', 'KUA', 'QUO', 'FLG', 'PEU', 'TJU', 'RDD', 'TOU', 'YMT', 'BZV', 'MGA', 'EIS', 'RNO', 'RIX', 'ORN', 'GFF', 'CHU', 'ART', 'SMX', 'MCY', 'MIA', 'LIL', 'MZL', 'AUG', 'KCT', 'OMD', 'KVK', 'YER', 'ROR', 'ARI', 'IFO', 'NBC', 'BZO', 'ARN', 'TNC', 'TSJ', 'FUE', 'MAJ', 'BQN', 'NYI', 'POR', 'PFB', 'YCU', 'WAA', 'KQA', 'LNS', 'LUO', 'YGZ', 'AUA', 'ZBF', 'CTG', 'PFQ', 'CAB', 'UIN', 'KNQ', 'MYY', 'JKH', 'SCE', 'IIL', 'LAS', 'BGA', 'POJ', 'URA', 'KNX', 'MBL', 'GSP', 'CEN', 'CMW', 'AQI', 'SCZ', 'YUL', 'RCY', 'YCS', 'AFA', 'DUJ', 'RNS', 'SDF', 'TXN', 'CUN', 'BRQ', 'BEW', 'AAY', 'YWG', 'PCL', 'KOJ', 'CGP', 'KUF', 'TKK', 'VOZ', 'PAV', 'SOG', 'TMC', 'DRK', 'MSN', 'CMB', 'TSH', 'CIU', 'PWQ', 'KAA', 'RYK', 'DLY', 'OIA', 'ZSE', 'DQA', 'MOT', 'AUQ', 'ABA', 'LWS', 'ZUM', 'DBQ', 'LEQ', 'LUQ', 'YDQ', 'JCB', 'SGF', 'PSJ', 'TWU', 'AHN', 'HGH', 'CSY', 'KOW', 'OAX', 'EWB', 'DAL', 'TRE', 'ABI', 'UTP', 'YQR', 'COQ', 'MGW', 'ISP', 'TGH', 'GIL', 'KHZ', 'MQL', 'GEV', 'MYA', 'KHV', 'SKG', 'SAT', 'LFM', 'GNV', 'ILO', 'KLN', 'OVB', 'LEI', 'SXB', 'TWF', 'SCW', 'FUN', 'QRW', 'DEN', 'AGF', 'FEN', 'ISE', 'SON', 'VSA', 'ADB', 'YPN', 'SHJ', 'EAU', 'ULB', 'ESD', 'FRA', 'IVL', 'ZRH', 'LTD', 'RNA', 'LBV', 'ZNE', 'OOK', 'JUH', 'ZLT', 'YKG', 'MGB', 'GTF', 'AWZ', 'TIV', 'MSQ', 'HET', 'YDF', 'BOH', 'XCH', 'PPT', 'AKL', 'TAG', 'LCY', 'EUG', 'HAJ', 'LYG', 'KDU', 'RBQ', 'KOK', 'OSD', 'TYF', 'YAY', 'GLH', 'NCE', 'ZMT', 'NGK', 'AGB', 'KLV', 'HHN', 'SFO', 'FCA', 'SFT', 'JNX', 'RJH', 'YAX', 'HRO', 'YOG', 'AAQ', 'YIH', 'FUK', 'HTY', 'WTK', 'PIR', 'ATK', 'BUF', 'TLJ', 'RXS', 'RIY', 'BRI', 'ZVK', 'PIT', 'TBG', 'LBE', 'TER', 'DWD', 'EZS', 'HRB', 'SVZ', 'ATC', 'SDQ', 'SHE', 'SNU', 'PIS', 'GPT', 'BJX', 'VTZ', 'HYN', 'RCB', 'OME', 'CXB', 'UTT', 'HNL', 'PES', 'NUX', 'EQS', 'LDH', 'JST', 'REN', 'EDL', 'ISN', 'BTM', 'TJA', 'TRU', 'HSG', 'AEB', 'YZZ', 'RSW', 'IJK', 'DSA', 'KOE', 'ERN', 'MSY', 'WRY', 'PQC', 'YNG', 'TBB', 'YYC', 'ASE', 'HDM', 'ACZ', 'SJP', 'TCQ', 'XFN', 'CEK', 'ODY', 'DME', 'YXH', 'CPX', 'SLN', 'NOB', 'KGL', 'LCE', 'NQU', 'PPS', 'FLO', 'KAD', 'VTE', 'AZD', 'KFP', 'EBJ', 'IFJ', 'APN', 'DRV', 'TAE', 'UIP', 'YKA', 'MBI', 'GMB', 'PXM', 'BHS', 'PPK', 'MPH'}\n"
     ]
    }
   ],
   "source": [
    "# Replace 'your_file.csv' with the path to your CSV file\n",
    "file_path = 'routes.csv'\n",
    "routes = pd.read_csv(file_path)\n",
    "\n",
    "# Filter rows where stops == 0\n",
    "direct_flights = routes[routes['Stops'] == 0]\n",
    "\n",
    "# just making sure that we are extracting the right data\n",
    "source_airports_set = set(direct_flights['Source Airport'])\n",
    "dest_airports_set = set(direct_flights['Destination Airport'])\n",
    "airports_set = set(airport_city_dict.keys())\n",
    "combined_airports = dest_airports_set.intersection(airports_set)\n",
    "print(len(combined_airports))\n",
    "print(combined_airports)"
   ]
  },
  {
   "cell_type": "code",
   "execution_count": null,
   "metadata": {
    "id": "kyCX4eeQHjKp"
   },
   "outputs": [
    {
     "name": "stdout",
     "output_type": "stream",
     "text": [
      "3136\n",
      "34614\n"
     ]
    }
   ],
   "source": [
    "# # create a graph with attributes such as airline id and airline\n",
    "# import networkx as nx\n",
    "\n",
    "# G = nx.DiGraph()\n",
    "\n",
    "# for index, row in direct_flights.iterrows():\n",
    "#    # get airport code\n",
    "#    source_airport = row['Source Airport']\n",
    "#    destination_airport = row['Destination Airport']\n",
    "#    airline = row['Airline']\n",
    "#    airline_id = row['Airline ID']\n",
    "\n",
    "#    # Check if the airport codes exist in the dictionary\n",
    "#    if source_airport in airport_city_dict and destination_airport in airport_city_dict:\n",
    "#       # Get city names based on airport codes\n",
    "#       source_city = airport_city_dict[source_airport]\n",
    "#       destination_city = airport_city_dict[destination_airport]\n",
    "\n",
    "#       # Add an edge from Source City to Destination City with airline as an attribute\n",
    "#       G.add_edge(source_city, destination_city, Airline=airline, Airline_ID=airline_id)\n",
    "      \n",
    "# print(len(G.nodes()))\n",
    "# print(len(G.edges()))"
   ]
  },
  {
   "cell_type": "code",
   "execution_count": 5,
   "metadata": {},
   "outputs": [
    {
     "name": "stdout",
     "output_type": "stream",
     "text": [
      "3136\n",
      "34614\n"
     ]
    }
   ],
   "source": [
    "# create a graph with attributes such as airline id and airline\n",
    "import networkx as nx\n",
    "\n",
    "G = nx.DiGraph()\n",
    "\n",
    "for index, row in direct_flights.iterrows():\n",
    "   # get airport code\n",
    "   source_airport = row['Source Airport']\n",
    "   destination_airport = row['Destination Airport']\n",
    "   airline = row['Airline']\n",
    "   airline_id = row['Airline ID']\n",
    "\n",
    "   # Check if the airport codes exist in the dictionary\n",
    "   if source_airport in airport_city_dict and destination_airport in airport_city_dict:\n",
    "      # Get city names based on airport codes\n",
    "      source_city = airport_city_dict[source_airport]\n",
    "      destination_city = airport_city_dict[destination_airport]\n",
    "\n",
    "       # Check if the edge already exists\n",
    "      if G.has_edge(source_city, destination_city):\n",
    "         # Increment the weight attribute\n",
    "         G[source_city][destination_city]['weight'] += 1\n",
    "      else:\n",
    "         # Add a new edge with weight = 1 and other attributes\n",
    "         G.add_edge(source_city, destination_city, weight=1, Airline=airline, Airline_ID=airline_id)\n",
    "      \n",
    "print(len(G.nodes()))\n",
    "print(len(G.edges()))"
   ]
  },
  {
   "cell_type": "code",
   "execution_count": 6,
   "metadata": {},
   "outputs": [
    {
     "name": "stdout",
     "output_type": "stream",
     "text": [
      "Edge Weight Distribution:\n",
      "Weight 1: 18667 edges\n",
      "Weight 2: 8526 edges\n",
      "Weight 6: 470 edges\n",
      "Weight 5: 882 edges\n",
      "Weight 3: 3691 edges\n",
      "Weight 4: 1665 edges\n",
      "Weight 7: 267 edges\n",
      "Weight 8: 171 edges\n",
      "Weight 9: 94 edges\n",
      "Weight 11: 30 edges\n",
      "Weight 14: 13 edges\n",
      "Weight 12: 37 edges\n",
      "Weight 10: 65 edges\n",
      "Weight 13: 13 edges\n",
      "Weight 25: 1 edges\n",
      "Weight 15: 10 edges\n",
      "Weight 17: 6 edges\n",
      "Weight 24: 1 edges\n",
      "Weight 16: 4 edges\n",
      "Weight 18: 1 edges\n"
     ]
    },
    {
     "data": {
      "image/png": "[encoded data removed]",
      "text/plain": [
       "<Figure size 640x480 with 1 Axes>"
      ]
     },
     "metadata": {},
     "output_type": "display_data"
    }
   ],
   "source": [
    "import matplotlib.pyplot as plt\n",
    "from collections import Counter\n",
    "\n",
    "# Extract edge weights from the graph\n",
    "edge_weights = [data['weight'] for _, _, data in G.edges(data=True)]\n",
    "\n",
    "# Count occurrences of each weight\n",
    "weight_distribution = Counter(edge_weights)\n",
    "\n",
    "# Print the distribution\n",
    "print(\"Edge Weight Distribution:\")\n",
    "for weight, count in weight_distribution.items():\n",
    "    print(f\"Weight {weight}: {count} edges\")\n",
    "\n",
    "# Visualize the distribution\n",
    "plt.bar(weight_distribution.keys(), weight_distribution.values())\n",
    "plt.xlabel('Edge Weight')\n",
    "plt.ylabel('Number of Edges')\n",
    "plt.title('Distribution of Edge Weights')\n",
    "plt.show()\n"
   ]
  },
  {
   "cell_type": "markdown",
   "metadata": {
    "id": "-hvfIBTEHjKp"
   },
   "source": [
    "### Saving and loading to pickle to make sure that is is ok"
   ]
  },
  {
   "cell_type": "code",
   "execution_count": null,
   "metadata": {
    "id": "CgCrDx-SHjKq"
   },
   "outputs": [],
   "source": [
    "# save to pickle\n",
    "import pickle\n",
    "\n",
    "# Save the graph to a file using pickle\n",
    "with open('flight_network_graph.pickle', 'wb') as f:\n",
    "   pickle.dump(G, f)"
   ]
  },
  {
   "cell_type": "code",
   "execution_count": null,
   "metadata": {
    "colab": {
     "base_uri": "https://localhost:8080/"
    },
    "id": "H2lDnEeMHjKq",
    "outputId": "69139928-2027-4bab-e09b-3a13b40552aa"
   },
   "outputs": [
    {
     "name": "stdout",
     "output_type": "stream",
     "text": [
      "34614\n"
     ]
    }
   ],
   "source": [
    "# Load the graph from the pickle file\n",
    "with open('flight_network_graph.pickle', 'rb') as f:\n",
    "   G_loaded = pickle.load(f)\n",
    "print(len(G_loaded.edges()))"
   ]
  },
  {
   "cell_type": "markdown",
   "metadata": {
    "id": "2G6x0l8MHjKr"
   },
   "source": [
    "### Scrape the info on cities"
   ]
  },
  {
   "cell_type": "code",
   "execution_count": null,
   "metadata": {
    "colab": {
     "base_uri": "https://localhost:8080/"
    },
    "id": "2pX9CfbyHjKr",
    "outputId": "6c425e21-9e07-47de-ede2-82ff49e8fab9"
   },
   "outputs": [
    {
     "name": "stdout",
     "output_type": "stream",
     "text": [
      "['Sochi', 'Kazan', 'Astrakhan', 'Mineralnye Vody', 'Chelyabinsk', 'Novosibirsk', 'Moscow', 'Nizhnekamsk', 'Taganrog', 'Bugulma', 'Belgorod', 'Kaliningrad', 'Baku', 'St. Petersburg', 'Yekaterinburg', 'Nizhnevartovsk', 'Novy Urengoy', 'Bratsk', 'Irkutsk', 'Chita', 'Kirensk', 'Bodaibo', 'Ust-Kut', 'Lensk', 'Yakutsk', 'Mirnyj', 'Ayacucho', 'Lima', 'Cuzco', 'Puerto Maldonado', 'Huánuco', 'Iquitos', 'Pucallpa', 'Tarapoto', 'Abidjan', 'Bobo-dioulasso', 'Ouagadougou', 'Accra', 'Bamako', 'Dakar', 'Cotonou', 'Lome', 'Niamey', 'Bogota', 'Guayaquil', 'Quito', 'Cali', 'San Cristóbal', 'Coca', 'Brindisi', 'Zurich', 'Bordeaux', 'Bristol', 'Geneva', 'Gran Canaria', 'Larnaca', 'Marsa Alam', 'Tenerife', 'Arvidsjaur', 'Lycksele', 'Stockholm', 'Gallivare', 'Halmstad', 'Joenkoeping', 'Kramfors', 'Karlstad', 'Mariehamn', 'Ornskoldsvik', 'Pori', 'Sandefjord', 'Visby', 'Vilhelmina', 'Vaxjo', 'Hemavan', 'Kruunupyy', 'Turku', 'Oslo', 'Kodiak', 'Larsen Bay', 'Karluk', 'Basco', 'Manila', 'Butuan', 'Cotabato', 'Cagayan de Oro City', 'Catarman', 'Dumaguete', 'Dubai', 'Romblon', 'Kalibo', 'Legazpi', 'Caticlan', 'Ozamis', 'Puerto Princesa', 'Roxas City', 'Sangley Point', 'Tuguegarao', 'Zamboanga', 'Araguaina', 'Palmas', 'Barreiras', 'Brasilia', 'Salvador', 'Sinop', 'Ribeirao Preto', 'Cascavel', 'Sao Paulo', 'Cuiaba', 'Goiania', 'Campo Grande', 'Dourados', 'Rio De Janeiro', 'Uberaba', 'Uberlandia', 'Vitória Da Conquista', 'Belo Horizonte', 'Sao Jose Do Rio Preto', 'Burlington', 'Chicago', 'St. Louis', 'Decatur', 'Jonesboro', 'Ketchikan', 'Metakatla', 'Lagos', 'Monrovia', 'Barcelona', 'Banjul', 'Freetown', 'Conakry', 'Bissau', 'Douala', 'London', 'Akulivik', 'Ivujivik', 'Puvirnituq', 'Kangiqsualujjuaq', 'Quujjuaq', 'La Grande Riviere', 'Kuujjuarapik', 'Montreal', 'Inukjuak', 'Sanikiluaq', 'Umiujaq', 'Rouyn', 'Salluit', 'Kangirsuk', 'Aupaluk', 'Quaqtaq', 'Schefferville', 'Quebec', 'Wabush', 'Sept-iles', 'Tasiujaq', 'Kangiqsujuaq', 'Djibouti', 'Jeddah', 'Mogadishu', 'Nairobi', 'Bangkok', 'Singapore', 'Darwin', 'Haikou', 'Hangzhou', 'Hong Kong', 'Phuket', 'Osaka', 'Taipei', 'Kuala Lumpur', 'Penang', 'Perth', 'Phnom-penh', 'Siem-reap', 'Yangon', 'Ho Chi Minh City', 'Shantou', 'Altenrhein', 'Marina Di Campo', 'Dresden', 'Duesseldorf', 'Friedrichshafen', 'Munich', 'Hamburg', 'Olbia', 'Berlin', 'Zadar', 'Memmingen', 'Naples', 'Graz', 'Salzburg', 'Atlanta', 'Lewisburg', 'Macon', 'Meridian', 'Muscle Shoals', 'Hattiesburg/Laurel', 'Tupelo', 'Alice Town', 'Fort Lauderdale', 'North Eleuthera', 'West Palm Beach', 'Key West', 'Fort Myers', 'Tampa', 'Freeport', 'Great Exuma', \"Governor's Harbor\", 'Orlando', 'Marsh Harbor', 'Treasure Cay', 'Greenville', 'Gainesville', 'Jacksonville', 'Pensacola', 'Tallahassee', 'Amsterdam', 'El Aroui', 'Tanger', 'Casablanca', 'Bergamo', 'Bologna', 'Brussels', 'Cologne', 'Cuneo', 'Lyon', 'Montpellier', 'Istanbul', 'Toulouse', 'Treviso', 'Fes', 'Palma de Mallorca', 'Oranjestad', 'Paraguana', 'Maracaibo', 'Kralendijk', 'Willemstad', 'Bukhara', 'Fergana', 'Khanabad', 'Namangan', 'Navoi', 'Samarkand', 'Tivat', 'Antigua', 'Pointe-a-pitre', 'Cayenne', 'Fort-de-france', 'Santo Domingo', 'Dominica', 'Philipsburg', 'Castries', 'Gustavia', 'St. Martin', 'Beihai', \"Xi'an\", 'Guangzhou', 'Chongqing', 'Chengdu', 'Saipan', 'Zhengzhou', 'Changchun', 'Harbin', 'Kunming', 'Urumqi', 'Nanjing', 'Jinan', 'Tianjin', 'Changcha', 'Changzhou', 'Dalian', 'Dayong', 'Nanchang', 'Lanzhou', 'Lijiang', 'Lhasa', 'Ninbo', 'Nanning', 'Beijing', 'Shanghai', 'Panzhihua', 'Sydney', 'Sanya', 'Shenzhen', 'Taiyuan', 'Wuhan', 'Wuxi', 'Xining', 'Yichang', 'Zhanjiang', 'Fuzhou', 'Shenyang', 'Wenzhou', 'Xiamen', 'Daocheng', 'Dongsheng', 'Handan', 'Hohhot', 'Hefei', 'Seoul', 'Jinghonggasa', 'Qianjiang', 'Jiuzhaigou', 'Ganzhou', 'Guiyang', 'Luxi', 'Nyingchi', 'Melbourne', 'Shijiazhuang', 'Qingdao', 'Wanxian', 'Xichang', 'Xuzhou', 'Yangzhou', 'Zhuhai', 'Datong', 'Dunhuang', 'Xiahe city', 'Manzhouli', 'Jiayuguan', 'Quanzhou', 'Kashi', 'Guilin', 'Mianyang', 'Linyi', 'Zhongwei', 'Vancouver', 'Yibin', 'Yulin', 'Las Vegas', 'Los Angeles', 'Cairo', 'Tel-aviv', 'Mcgrath', 'Nikolai', 'Tatalina', 'Beloyarsky', 'Nukus', 'Tyumen', 'Ufa', 'Nadym', 'Sovetskiy', 'Ukhta', 'Dhaka', 'Barisal', 'Kolkata', 'Chittagong', 'Muscat', \"Cox's Bazar\", 'Jessore', 'Kathmandu', 'Saidpur', 'Sylhet Osmani', 'Rajshahi', 'Grise Fiord', 'Resolute', 'Dallas-Fort Worth', 'Buenos Aires', 'New York', 'Miami', 'Punta Cana', 'Edmonton', 'Whitehorse', 'Kelowna', 'Ottawa', 'Yellowknife', 'Calgary', 'Acapulco', 'Mexico City', 'Toluca', 'Aguascalientes', 'Ciudad Obregon', 'Ciudad Juarez', 'Ciudad Del Carmen', 'Campeche', 'Chetumal', 'Culiacan', 'Cancun', 'Monterrey', 'Chihuahua', 'Cozumel', 'Guadalajara', 'San Antonio', 'San Jose Del Cabo', 'Santa Ana', 'Tijuana', 'Guatemala City', 'Havana', 'Hermosillo', 'Huatulco', 'La Paz', 'Merida', 'Minatitlan', 'Mazatlan', 'Oaxaca', 'Palenque', 'Puerto Vallarta', 'Reynosa', 'San Jose', 'Tampico', 'Tuxtla Gutierrez', 'Torreon', 'Vera Cruz', 'Villahermosa', 'Zacatecas', 'Zihuatanejo', 'Manzanillo', 'Delhi', 'Herat', 'Kabul', 'Islamabad', 'Mazar-i-sharif', 'Antalya', 'Mulhouse', 'Hurghada', 'Pristina', 'Skopje', 'Malaga', 'Stuttgart', 'Algier', 'Ancona', 'Athens', 'Hannover', 'Belgrade', 'Bergen', 'Birmingham', 'Bastia', 'Bilbao', 'Bremen', 'Bari', 'Budapest', 'Cagliari', 'Paris', 'Kerkyra/corfu', 'Calvi', 'Catania', 'Dubrovnik', 'Dublin', 'Edinburgh', 'Faro', 'Rome', 'Heringsdorf', 'Heraklion', 'Ibiza', 'Mykonos', 'Thira', 'Kos', 'Klagenfurt', 'Kavala', 'Leipzig', 'Lisbon', 'Manchester', 'Milano', 'Nice', 'Palermo', 'Prague', 'Pisa', 'Pula', 'Marrakech', 'Rhodos', 'Rijeka', 'Laage', 'Sarajevo', 'Thessaloniki', 'Split', 'Lamezia', 'Tunis', 'Venice', 'Vienna', 'Villafranca', 'Warsaw', 'Jerez', 'Zagreb', 'Cardiff', 'Dortmund', 'Katowice', 'Madrid', 'Newquai', 'Nuernberg', 'Poznan', 'Torino', 'Wroclaw', 'Karlsruhe/Baden-Baden', 'Frankfurt', 'Helsinki', 'Krakow', 'Milan', 'Anaktuvuk Pass', 'Fairbanks', 'Bettles', 'Central', 'Circle', 'Chalkyitsik', 'Fort Yukon', 'Manley Hot Springs', 'Beaver', 'Bethel', 'Eek', 'Kipnuk', 'Quinhagak', 'Kwethluk', 'Marshall', 'Nightmute', 'Napakiak', 'Chefornak', 'Kongiganak', 'Kwigillingok', 'Toksook Bay', 'Napaskiak', 'Port Moller', 'Bocas Del Toro', 'Puntarenas', 'La Fortuna/San Carlos', 'Quepos', 'Golfito', 'Puerto Jimenez', 'Liberia', 'Managua', 'Nosara Beach', 'Nicoya', 'Palmar Sur', 'Roxana', 'Kumasi', 'Eldoret', 'Lodwar', 'Juba', 'Kisumu', 'Lamu', 'Malindi', 'Mombasa', 'Zanzibar', 'Bacolod', 'Cebu', 'Davao', 'Kota Kinabalu', 'Bandar Seri Begawan', 'Camiguin', 'Angeles City', 'Dipolog', 'Siargao', 'Iloilo', 'Pagadian', 'Busan', 'Tacloban', 'Busuanga', 'Jakarta', 'Macau', 'Cauayan', 'Denpasar', 'Hanoi', 'Laoag', 'Nagoya', 'Tokyo', 'Tagbilaran', 'Virac', 'Naga', 'Charlestown', 'Arkhangelsk', 'Solovetsky Islands', 'Murmansk', 'Naryan-Mar', 'Usinsk', 'Syktyvkar', 'Tromso', 'Antofagasta', 'Iquique', 'Concepcion', 'Santiago', 'Montevideo', 'Punta del Este', 'Asuncion', 'Curitiba', 'Porto Alegre', 'Baker Lake', 'Chesterfield Inlet', 'Whale Cove', 'Cambridge Bay', 'Coppermine', 'Spence Bay', 'Rankin Inlet', 'Clyde River', 'Iqaluit', 'Pond Inlet', 'Eskimo Point', 'Churchill', 'Inuvik', 'Norman Wells', 'Igloolik', 'Cape Dorset', 'Hall Beach', 'Pangnirtung', 'Gjoa Haven', 'Repulse Bay', 'Coral Harbour', 'Thompson', 'Broughton Island', 'Winnipeg', 'Belize City', 'Flores', 'San Pedro Sula', 'Tegucigalpa', 'Roatan', 'Cape Town', 'Plettenberg Bay', 'Johannesburg', 'Margate', 'Ahmedabad', 'Bangalore', 'Mumbai', 'Goa', 'Hyderabad', 'Jaipur', 'Madras', 'Pune', 'Bhubaneswar', 'Vishakhapatnam', 'Baroda', 'Kochi', 'Guwahati', 'Lucknow', 'Nagpur', 'Trivandrum', 'Coimbatore', 'Indore', 'Chandigarh', 'Jammu', 'Patina', 'Srinagar', 'Mohanbari', 'Imphal', 'Agartala', 'Baghdogra', 'Ranchi', 'Raipur', 'Varanasi', 'Elat', 'Tbilisi', 'Copenhagen', 'Soenderborg', 'Holman Island', 'Paulatuk', 'Sachs Harbour', 'Tuktoyaktuk', 'Fort Mcpherson', 'Krasnodar', 'Yakutia', 'Krasnoyarsk', 'Sittwe', 'Thandwe', 'Heho', 'Mandalay', 'Kawthoung', 'Myeik', 'Bagan', 'Tachilek', 'Dawei', 'Saratov', 'Yerevan', 'Riga', 'Chongju', 'Cheju', 'Fukuoka', 'Agana', 'Westerland', 'Arctic Bay', 'Kimmirut', 'Fort Simpson', 'Hay River', 'Kitakyushu', 'Ambler', 'Kotzebue', 'Shungnak', 'Anchorage', 'Wainwright', 'Atqasuk', 'Barrow', 'Aniak', 'Cordova', 'Kenai', 'Homer', \"St Mary's\", 'Unalakleet', 'Valdez', 'Chuathbaluk', 'Holy Cross', 'Kalskag', 'Russian Mission', 'Shageluk', 'Anvik', 'Alakanuk', 'Emmonak', 'Hooper Bay', 'Kasigluk', 'Chevak', 'Buckland', 'Deering', 'Nuiqsut', 'Point Lay', 'Barter Island', 'Deadhorse', 'Elim', 'Koyuk', 'Nome', 'Kotlik', 'Galena', 'Ruby', 'Huslia', 'Kaltag', 'Nulato', 'Gambell', 'Savoonga', 'Golovin', 'White Mountain', 'Scammon Bay', 'Koyukuk', 'Kiana', 'Noorvik', 'Shaktoolik', 'Mountain Village', 'Brevig Mission', 'Teller', 'Wales', 'Kivalina', 'Togiak Village', 'Mekoryuk', 'Kobuk', 'Shishmaref', 'Selawik', 'Noatak', 'Sleetmute', 'St. Michael', 'Caracas', 'La Romana', 'Valencia', 'Barquisimeto', 'Charlotte', 'Kingston', 'Rio Negro', 'Zandery', 'Port-of-spain', 'Port-au-prince', 'Dushanbe', 'Alma-ata', 'Khudzhand', 'Bishkek', 'Tehran', 'Surgut', 'Sharjah', 'Panama', 'Changuinola', 'David', 'Jaqué', 'Puerto Obaldia', 'Aktyubinsk', 'Cheboksary', 'Elista', 'Izhevsk', 'Makhachkala', 'Petrozavodsk', 'Penza', 'Saransk', 'Ulyanovsk', 'Vorkuta', 'Voronezh', 'Samara', 'Rostov', 'Volgograd', 'Yaroslavl', 'Kurgan', 'Kirov', 'Magnetiogorsk', 'Uraj', 'Chiang Mai', 'Akhiok', 'Cape Lisburne', 'Tin City', 'Baotou', 'Tengchong', 'Shangri-La', 'Dali', 'Simao', 'Yichun', 'Bella Coola', 'Anahim Lake', 'Campbell River', 'Comox', 'Cranbrook', 'Powell River', 'Williams Lake', 'Victoria', 'Port Hardy', 'Trail', 'Masset', 'Adana', 'Izmir', 'Bodrum', 'Diyabakir', 'Dalaman', 'Nicosia', 'Erzurum', 'Elazig', 'Sanliurfa', 'Alanya', 'Gaziantep', 'Malatya', 'Odessa', 'Trabzon', 'Mar Del Plata', 'Parana', 'Rosario', 'Santa Fe', 'Bahia Blanca', 'Trelew', 'San Carlos De Bariloche', 'Comodoro Rivadavia', 'Esquel', 'Cordoba', 'Mendoza', 'Neuquen', 'Rio Gallegos', 'Rio Grande', 'Ushuaia', 'Wekweeti', 'Whatì', 'Gamètì', \"Lutselk'e\", 'Kufra', 'Benghazi', 'Amman', 'Tripoli', 'Alexandria', 'Sfax', 'Tobruk', 'Allakaket', 'Hughes', 'Arctic Village', 'Venetie', 'Lake Minchumina', 'Changde', 'Luoyang', 'Huai An', 'Saga', 'Ibaraki', 'Kaohsiung', 'Zunyi', 'Takamatsu', \"N'djamena\", 'Kalamazoo', 'Chattanooga', 'Cedar Rapids', 'Charleston', 'Cincinnati', 'Evansville', 'Fort Wayne', 'Greensboro', 'Lansing', 'Lexington KY', 'Saginaw', 'Minneapolis', 'Roanoke VA', 'Syracuse', 'Knoxville', 'Bentonville', 'Detroit', 'New Orleans', 'Grand Forks', 'Thief River Falls', 'Harrisburg', 'Memphis', 'Nantucket', 'Boston', 'New Bedford', 'Barnstable', 'Vineyard Haven MA', 'Albany', 'Massena', 'Ogdensburg', 'Augusta', 'The Valley', 'San Juan', 'Bar Harbor', 'Billings', 'Glendive', 'Glasgow', 'Havre', 'Wolf Point', 'Sidney', 'Lebanon', 'Provincetown', 'Rockland', 'Rutland', 'Saranac Lake', 'Cape Girardeau', 'Culebra Island', 'Tortola', 'St. Thomas', 'White Plains', 'Kirksville', 'Mayaguez', 'Marion', 'Owensboro', 'St. Croix Island', 'Spanish Town', 'Vieques Island', 'Fort Leonardwood', 'Quincy', 'Dawson Creek', 'Fort Nelson', 'High Level', 'Rainbow Lake', 'Fort Saint John', 'Kamloops', 'Prince George', 'Lloydminster', 'Quesnel', 'Terrace', 'Smithers', 'San Pedro', 'Cockburn Town', 'Providenciales', 'Salt Cay', 'Araracuara', 'San Vincente De Caguan', 'San Andres Island', 'Providencia', 'Carepa', 'Medellin', 'Arauca', 'Buenaventura', 'Corozal', 'Florencia', 'Ipiales', 'Mitu', 'Puerto Carreno', 'Puerto Inírida', 'Pasto', 'Puerto Asis', 'Saravena', 'San Jose Del Guaviare', 'Tame', 'Quibdo', 'Villa Garzon', 'Villavicencio', 'Bahia Solano', 'Guapi', 'Nuquí', 'Leticia', 'La Pedrera', 'Puerto Leguízamo', 'Chisinau', 'Beauvais', 'Kiev', 'Bucharest', 'Porlamar', 'Panama City', 'Guayana', 'Barinas', 'Valera', 'Aizwal', 'Abu Dhabi', 'Amritsar', 'Calicut', 'Dammam', 'Kuwait', 'Bahrain', 'Bhuj', 'Bhopal', 'Bhaunagar', 'Mangalore', 'Colombo', 'Diu', 'Doha', 'Aurangabad', 'Jodhpur', 'Rajkot', 'Riyadh', 'Udaipur', 'Newark', 'Toronto', 'Silchar', 'Port Blair', 'Dehra Dun', 'Gorakhpur', 'Leh', 'Porbandar', 'Rajahmundry', 'Madurai', 'Tiruchirappalli', 'Sitia', 'Chios', 'Kalamata', 'Samos', 'Karpathos', 'Kasos', 'Alexandroupolis', 'Chania', 'Keffallinia', 'Ioannina', 'Ikaria', 'Kalymnos', 'Cyclades Islands', 'Skiathos', 'Syros Island', 'Astypalaia', 'Kithira', 'Leros', 'Limnos', 'Mytilini', 'Milos', 'Marseille', 'Nantes', 'Paros', 'Philadelphia', 'Skiros', 'Sofia', 'Tirana', 'Zakynthos', 'Porto', 'Kastelorizo', 'Yacuiba', 'Santa Cruz', 'Tarija', 'Cochabamba', 'Trinidad', 'Cobija', 'Guayaramerín', 'Potosi', 'Oruro', 'Riberalta', 'Agen', 'Castres', 'Ajaccio', 'Brive', 'Poitiers', 'Clermont-Ferrand', 'Strasbourg', 'Aurillac', 'Brest', 'Lille', 'Biarritz-bayonne', 'Caen', 'Metz', 'Florence', 'Figari', 'Gothenborg', 'Lannion', 'Tarbes', 'La Rochelle', 'Lorient', 'Pau', 'Rennes', 'Perpignan', 'Rodez', 'Quimper', 'Entebbe', 'Kasese', 'Batumi', 'Kutaisi', 'Allentown', 'Abilene', 'Albuquerque', 'Phoenix', 'Aberdeen', 'Waco', 'Adelaide', 'Brisbane', 'Bush Field', 'Washington', 'Auckland', 'Papeete', 'Waterloo', 'Amarillo', 'Arequipa', 'Watertown', 'Alice Springs', 'Lahore', 'Austin', 'Asheville', 'Scranton', 'Bermuda', 'Windsor Locks', 'Pittsburgh', 'Bakersfield', 'Bridgetown', 'Binghamton', 'Bangor', 'Belfast', 'Del Bajio', 'Bloomington', 'Nashville', 'Canberra', 'Cairns', 'Townsville', 'Boise', 'Buffalo', 'Portland', 'Richmond', 'Rochester', 'San Diego', 'Seattle', 'Beaumont', 'Brownsville', 'Baton Rouge', 'Burbank', 'Baltimore', 'Columbia', 'Akron', 'Christchurch', 'Charlottesville VA', 'Cleveland', 'College Station', 'Columbus', 'Daytona Beach', 'Dayton', 'Denver', 'Des Moines', 'New Bern', 'Fayetteville', 'Georgetown', 'Gulfport', 'Hilton Head Island', 'Huntsville', 'Huntington', 'Houston', 'Wilmington', 'Indianapolis', 'Jackson', 'Little Rock', 'Lynchburg', 'Montego Bay', 'Kansas City', 'MONTGOMERY', 'Manchester NH', 'Milwaukee', 'Mobile', 'Myrtle Beach', 'Nassau', 'Jacksonville NC', 'Omaha', 'Norfolk', 'Newport News', 'Providence', 'Raleigh-durham', 'Savannah', 'Salisbury', 'Louisville', 'San Francisco', 'Salt Lake City', 'Sacramento', 'Sarasota', 'BRISTOL', 'Hewandorra', 'Valparaiso', 'Champaign', 'Colorado Springs', 'Corpus Christi', 'Sapporo', 'Wassau', 'Dubuque IA', 'Islip', 'Halifax', 'Durango', 'El Paso', 'Fargo', 'Fresno', 'Sioux Falls', 'Fort Smith', 'Garden City', 'Longview', 'Grand Junction', 'Grand Island', 'Killeen', 'Grand Rapids', 'Honolulu', 'Wichita', 'Joplin', 'Lawton', 'Lubbock', 'Lake Charles', 'Lafayette', 'Laredo', 'Midland', 'Mcallen', 'Manhattan', 'Moline', 'Morelia', 'Monroe', 'Madison', 'Kahului', 'Oklahoma City', 'Ontario', 'Puebla', 'Peoria', 'Palm Springs', 'Queretaro', 'Rapid City', 'Reno', 'Roswell', 'San Salvador', 'Springfield', 'Shreveport', 'San Angelo', 'San Luis Potosi', 'Wichita Falls', 'Tulsa', 'Tucson', 'Texarkana', 'Tyler', 'Elmira', 'Erie', 'Eugene', 'Flagstaff', 'Flint', 'Spokane', 'Gibraltar', 'Point Salines', 'Green Bay', 'Oakland', 'New Haven', 'Williamsport', 'Ithaca', 'Juneau', 'Juliaca', 'Kona', 'Langkawi', 'Lihue', 'Medford', 'Mammoth Lakes', 'Monterey', 'Nandi', 'Redmond-Bend', 'Santa Rosa', 'Leeds', 'Long Beach', 'Luxemburg', 'Newcastle', 'Rotterdam', 'Stavanger', 'La Crosse', 'Manaus', 'Puerto Plata', 'Recife', 'Basse Terre', 'Gwinn', 'Sioux City', 'Toledo', 'Traverse City', 'State College Pennsylvania', 'Newburgh', 'Santa Barbara', 'San Luis Obispo', 'Yuma', 'Puerto Montt', 'Punta Arenas', 'Arrecife', 'Fuerteventura', 'Alicante', 'Munster', 'Paderborn', 'Menorca', 'Enfidha', 'Djerba', 'Funchal', 'Guernsey', 'Jersey', 'Ponta Delgada', 'Preveza', 'Santa Cruz De La Palma', 'Varadero', 'Gdansk', 'Linz', 'Innsbruck', 'Almeria', 'Malta', 'Saarbruecken', 'Sevilla', 'Nea Anghialos', 'Guanambi', 'Bom Jesus Da Lapa', 'Addis Ababa', 'Samana', 'Bujumbura', 'Kigali', 'Luanda', 'Cunagua', 'Vilnius', 'Fort Mcmurray', 'Regina', 'Saskatoon', 'Kinshasa', 'Holguin', \"St. John's\", 'Santa Clara', 'Trondheim', 'Sault Sainte Marie', 'Baie Comeau', 'Mont Joli', 'Bagotville', 'Nanaimo', 'Castlegar', 'Deer Lake', 'Goose Bay', 'Grande Prairie', 'Fredericton', 'Gaspe', 'Iles De La Madeleine', 'Moncton', 'Gander', 'St. John', 'Charlottetown', 'Prince Pupert', 'Red Deer Industrial', 'Windsor', 'Lethbridge', 'Thunder Bay', 'Sudbury', 'Timmins', \"Val D'or\", 'Bathurst', 'Penticton', 'Sandspit', 'Medicine Hat', 'North Bay', 'Sarnia', 'Araxa', 'Patos de Minas', 'Alta Floresta', 'Aracaju', 'Maceio', 'Campinas', 'Aracatuba', 'Altamira', 'Belem', 'Santarem', 'Maraba', 'Barcelos', 'Parauapebas', 'Fortaleza', 'Imperatriz', 'Macapa', 'Porto Seguro', 'Boa Vista', 'Vilhena', 'Bointo', 'Campos', 'Criciuma', 'Cabo Frio', 'Ji-Paraná', 'Londrina', 'Maringa', 'Cacoal', 'Porto Velho', 'Rondonopolis', 'Corumba', 'Coari', 'Caldas Novas', 'Campina Grande', 'Ipatinga', 'Juiz de Fora', 'Montes Claros', 'Sao Luis', 'Vitoria', 'Petrolina', 'Caxias Do Sul', 'Foz Do Iguacu', 'Eirunepe', 'Tefe', 'Fernando Do Noronha', 'Natal', 'Florianopolis', 'Joao Pessoa', 'Parnaiba', 'Teresina', 'Ilheus', 'Navegantes', 'Governador Valadares', 'Santa Isabel do Rio Negro', 'Itaituba', 'Juazeiro Do Norte', 'Joinville', 'Bauru', 'Marília', 'Lençóis', 'Tucurui', 'Parintins', 'Tabatinga', 'Macaé', 'Sao Paulo de Olivenca', 'Paulo Alfonso', 'Pelotas', 'Passo Fundo', 'Sao Jose Dos Campos', 'Santa Maria', 'Chapeco', 'President Prudente', 'Rio Branco', 'Rio Verde', 'Sao Gabriel', 'Oriximina', 'Taichung', 'Hualien', 'Kinmen', 'Meixian', 'Makung', 'Okinawa', 'Yancheng', 'Fengnin', 'Abuja', 'Port Hartcourt', 'Liege', 'Harare', 'Kilimanjaro', 'Antwerp', 'Appleton', 'Brunswick', 'Dallas', 'Dothan', 'Columbus Mississippi', 'South Bend', 'Valdosta', 'Southampton', 'Beirut', 'Bangui', 'Yaounde', 'St-Etienne', 'Krabi', 'Luang Prabang', 'Billund', 'Brazzaville', 'Exeter', 'Genoa', 'Libreville', 'Ljubljana', 'Plaisance', 'Nouakschott', 'Pointe-noire', 'Rabat', 'Antananarivo', 'Vigo', 'Dar Es Salaam', 'Malabo', 'Deauville', 'Dzaoudzi', 'Moroni', 'Bergerac', 'Enshi', 'Lusaka', 'Ivalo', 'Kittila', 'Limoges', 'Lilongwe', 'Livingstone', 'St.-denis', 'St.-pierre', 'Baishan', 'Hyeres', 'Babelthuap', 'Annaba', 'Oran', 'Adrar', 'Bejaja', 'Batna', 'Biskra', 'Constantine', 'Djanet', 'El Bayadh', 'Guemar', 'Ghardaia', 'Hassi Messaoud', 'Tilrempt', 'In Salah', 'Ghriss', 'Mecheria', 'Ouargla', 'Setif', 'Tebessa', 'Touggourt', 'Tiaret', 'Tlemcen', 'Bordj Badji Mokhtar', 'Béchar', 'Ech-cheliff', 'Tamanrasset', 'El Golea', 'Zarzaitine', 'Agra', 'Khajuraho', 'Agatti Island', 'Gwalior', 'Allahabad', 'Jamnagar', 'Dimapur', 'Shillong', 'Kangra', 'Jabalpur', 'Kanpur', 'Kulu', 'Ludhiaha', 'Surat', 'Tirupeti', 'Vijayawada', 'Male', 'Alor Setar', 'Bandung', 'Johor Bahru', 'Kota Bahru', 'Kuching', 'Miri', 'Sandakan', 'Tawau', 'Balikpapan', 'Banda Aceh', 'Bintulu', 'Hat Yai', 'Sibu', 'Yogyakarta', 'Labuan', 'Praya', 'Padang', 'Pekanbaru', 'Palembang', 'Solo City', 'Semarang', 'Surabaya', 'Kuala Terengganu', 'Ujung Pandang', 'Surat Thani', 'Vientiane', 'Colima', 'Ciudad Victoria', 'Tapachula', 'Los Mochis', 'Mexicali', 'Jalapa', 'Lazard Cardenas', 'Matamoros', 'Nuevo Laredo', 'Poza Rico', 'Piedras Negras', 'Puerto Escondido', 'Saltillo', 'Tepic', 'San Rafael', 'San Martin Des Andes', 'Catamarca', 'Formosa', 'El Calafate', 'Iguazu Falls', 'La Rioja', 'Jujuy', 'San Luis', 'Posadas', 'Resistencia', 'Rio Hondo', 'Santiago Del Estero', 'Salta', 'Tucuman', 'Viedma', 'Adak Island', 'King Salmon', 'Walla Walla', 'Cold Bay', 'Dillingham', 'Sand Point', 'St. Paul Island', 'Point Barrow', 'Bellingham', 'Lewiston', 'Plattsburgh', 'Presque Isle', 'Bozeman', 'Yakutat', 'Wenatchee', 'Kalispell', 'Great Falls', 'Helena', 'Petersburg', 'Sitka', 'Wrangell', 'Loreto', 'Pullman', 'Missoula', 'Pasco', 'Yakima', 'Agadir', 'El Aaiún', 'Dakhla', 'Al Hociema', 'Praia, Santiago Island', 'Oujda', 'Ouarzazate', 'Tetouan', 'Essadouira', 'Tan Tan', 'Armenia', 'Barranquilla', 'Bucaramanga', 'Cartagena', 'Cucuta', 'Barrancabermeja', 'Yopal', 'Ibague', 'Monteria', 'Manizales', 'Neiva', 'Pereira', 'Popayan', 'Rio Hacha', 'Santa Marta', 'Valledupar', 'Tumaco', 'Tamale', 'Malmoe', 'Umea', 'Joensuu', 'Jyvaskyla', 'Kajaani', 'Kuusamo', 'Keflavik', 'Kemi', 'Kuopio', 'Minsk 2', 'Norrkoeping', 'Oulu', 'Rovaniemi', 'Savonlinna', 'Tartu', 'Tallinn-ulemiste International', 'Tampere', 'Vaasa', 'Aalborg', 'Pamplona', 'Alesund', 'Alghero', 'Humberside', 'Kristiansand', 'Teesside', 'Norwich', 'Karachi', 'Khartoum', 'Mahe', 'Baia Mare', 'Iasi', 'Bolzano', 'Comiso', 'Cluj-napoca', 'Reggio Calabria', 'Podgorica', 'Ronchi De Legionari', 'La Coruna', 'Pescara', 'Oradea', 'Satu Mare', 'Timisoara', 'Tashkent', 'Tirgu Mures', 'Ashkhabad', 'Tselinograd', 'Amboseli National Park', 'Hargeisa', 'Wajir', 'Kitale', 'Lokichoggio', 'Masai Mara', 'Ukunda', 'Aguadilla', 'Worcester', 'Ponce', 'Abadan', 'Mashhad', 'Teheran', 'Ahwaz', 'Esfahan', 'Kish Island', 'Dasht-e-naz', 'Shiraz', 'Yazd', 'Bandar Abbas', 'Bakhtaran', 'Rasht', 'Tabriz', 'Zahedan', 'Aarhus', 'Scarborough', 'Durban', 'Port Elizabeth', 'Granada', 'Isle Of Man', 'Victoria Falls', 'Windhoek', 'Paphos', 'Sendai', 'Kobe', 'Miho', 'Kagoshima', 'Ishigaki', 'Miyako', 'Nagasaki', 'Kirkwall', 'Sumburgh', 'East Midlands', 'Inverness', 'Benbecula', 'Stornoway', 'Connaught', 'Waterford', 'Barra', 'Campbeltown', 'Dongloe', 'Dundee', 'Doncaster, Sheffield', 'Wick', 'Islay', 'Tiree', 'Liverpool', 'Groote Eylandt', 'Mulu', 'Monastir', 'Zhijiang', 'Yongzhou', 'Tongren', 'Yantai', 'Heihe', 'Mohe County', 'Jiagedaqi District', 'Jiamusi', 'Jixi', 'Buonmethuot', 'Vinh', 'Nha Trang', 'Danang', 'Haiphong', 'Phuquoc', 'Esbjerg', 'Kristiansund', 'Harstad/Narvik', 'Kasane', 'Gaberone', 'Maun', 'Francistown', 'Asahikawa', 'Hakodate', 'Kanazawa', 'Okayama', 'Huangshan', 'Palanga', 'Bukavu/kavumu', 'Kindu', 'Kongolo', 'Boende', 'Mbandaka', 'Beni', 'Bunia', 'Goma', 'Isiro', 'Lubumashi', 'Kananga', 'Mbuji-mayi', 'Kisangani', 'Tshikapa', 'Gemena', 'Kalemie', 'Lodja', 'Cayo Largo del Sur', 'Santiago De Cuba', 'Bata', 'Aksu', 'Bangda', 'Dazhou', 'Guangyuan', 'Huangyan', 'Jingdezhen', 'Luzhou', 'Wuyishan', 'Yuncheng', 'Chaoyang', 'Chifeng', 'Changzhi', 'Korla', 'Yining', 'Yiwu', 'Dandong', 'Hiroshima', 'Daqing', 'Pyongyang', 'Fuyang', 'Hailar', 'Ulanhot', 'Hami', 'Zhoushan', 'Hotan', 'Yanji', 'Jian', 'Jiujiang', 'Jinzhou', 'Quzhou', 'Liuzhou', 'Mudanjiang', 'Muan', 'Qiqihar', 'Bayannur', 'Taegu', 'Tongliao', 'Ulan Bator', 'Wuhai', 'Xiangfan', 'Xilinhot', 'Puerto Lempira', 'Avignon', 'Port Moresby', 'Buka Island', 'Tokua', 'Daru', 'Nadzab', 'Kiunga', 'Goroka', 'Mount Hagen', 'Madang', 'Gurney', 'Misima Island', 'Girua', 'Moro', 'Tabubil', 'Tari', 'Wewak', 'Hoskins', 'Kavieng', 'Momote', 'Bulolo', 'Tainan', 'Miyazaki', 'Toyama', 'Camaguey', 'Guantanamo', 'Khabarovsk', 'Ko Samui', 'Vladivostok', 'Altay', 'Xingyi', 'Anshan', 'Anqing', 'Anshun', 'Bijie', 'Baoshan', 'Liping', 'Jining', 'Chizhou', 'Libo', 'Lianyungang', 'Nanchong', 'Nanyang', 'Niigata', 'Yinchun', 'Kuqa', 'Lincang', 'Zhaotong', 'Karamay', 'Xinyuan', 'Osh', 'Tacheng', \"Yan'an\", 'Cherepovets', 'Veliky Ustyug', 'Apatity', 'Ndola', 'Coolangatta', 'Ängelholm', 'Kalkmar', 'Ronneby', 'Sundsvall', 'Trollhattan', 'Buri Ram', 'Chiang Rai', 'Chumphon', 'Udon Thani', 'Nakhon Phanom', 'Loei', 'Tak', 'Nan', 'Nakhon Si Thammarat', 'Phitsanulok', 'Phrae', 'Roi Et', 'Sakon Nakhon', 'Trang', 'Ubon Ratchathani', 'Ranong', 'Alpena', 'Bismarck', 'Bemidji', 'Brainerd', 'International Falls', 'Butte', 'Bratislava', 'Cedar City', 'Sault Ste Marie', 'Moab', 'Cody', 'Casper', 'Dickinson', 'Duluth', 'Escanaba', 'Pellston', 'Elko', 'Gillette', 'Rock Springs', 'Hibbing', 'Idaho Falls', 'Iron Mountain', 'Rhinelander', 'Williston', 'Jacksn Hole', 'Kosice', 'Lincoln', 'Minot', 'Pocatello', 'Saint George', 'Twin Falls', 'Vernal', 'Cap Skiring', 'Ziguinchor', 'Cabinda', 'Soyo', 'Catumbela', 'Ondjiva', 'Luena', 'Malanje', 'Mocamedes', 'Huambo', 'Lubango', 'Menongue', 'Kuito', 'Sao Tome', 'Saurimo', 'Aktau', 'Chimkent', 'Dzhambul', 'Zhezkazgan', 'Karaganda', 'Kokshetau', 'Kostanay', 'Semiplatinsk', 'Petropavlosk', 'Ust Kamenogorsk', 'Atyrau', 'Kzyl-Orda', 'Uralsk', 'Ronne', 'Molde', 'Stord', 'Rygge', 'Alta', 'Kiruna', 'Lulea', 'Bardufoss', 'Bourgas', 'Bodo', 'Karup', 'Haugesund', 'Kirkenes', 'Svalbard', 'Murcia', 'Szczecin', 'Port Gentil', 'Choibalsan', 'Muren', 'Olgii', 'Ulaangom', 'Kurgan Tyube', 'Kulyab', 'Orenburg', 'Cork', 'Shannon', 'Blackpool', 'Bournemouth', 'Kerry', 'Southend', 'Baghdad', 'Blackall', 'Longreach', 'Rockhampton', 'Basrah', 'Gove', 'Erbil', 'Madinah', 'Peshawar', 'Sanaa', 'Sialkot', 'Wellington', 'Queenstown International', 'Donetsk', 'Gassim', 'Taif', 'Tabuk', 'Yenbo', 'Zabol', 'Ardabil', 'Sabzevar', 'Khalije Fars', 'Bandar Lengeh', 'Bojnourd', 'Bushehr', 'Bam', 'Dezful', 'Lamerd', 'Lar', 'Chah Bahar', 'Gorgan', 'Gachsaran', 'Hamadan', 'Ilam', 'Sulaymaniyah', 'Kandahar', 'Kerman', 'Khoy', 'Noshahr', 'Ramsar', 'Uromiyeh', 'Parsabad', 'Sanandaj', 'Yasuj', 'Esmeraldas', 'Cuenca', 'Galapagos', 'La Toma (Catamayo)', 'Latacunga', 'Manta', 'Tena', 'Tulcan', 'Macas', 'Arba Minch', 'Asosa', 'Axum', 'Bahar Dar', 'Dire Dawa', 'Enugu', 'Gondar', 'Gambella', 'Jijiga', 'Jimma', 'Maputo', 'Makale', 'Lalibella', 'Blantyre', 'Gode', 'Mattala', 'Porto Santo', 'Nanyuki', 'Samburu South', \"M'banza-congo\", 'Lampedusa', 'Lugano', 'Pantelleria', 'Trapani', 'Alliance', 'Chadron', 'Alamosa', 'Farmington', 'Trenton', 'Pierre', 'Branson', 'Cheyenne', 'Worland', 'Dodge City', 'Liberal', 'Show Low', 'Huron', 'Page', 'St. Augustine Airport', 'Varna', 'Khon Kaen', 'Narathiwat', 'Ankara', 'Sanford', 'Faleolo', 'Kiritimati', 'Funafuti', 'Nausori', 'Honiara', 'Port-vila', 'Cicia', 'Vunisea', 'Lambasa', 'Lakeba Island', 'Rotuma', 'Savusavu', 'Tongatapu', 'Tarawa', 'Matei', 'Vanua Balavu', 'Harlingen', 'Qinhuangdao', 'Al Ghaidah Intl', 'Aden', 'Abha', 'Sayun Intl', 'Mukalla', 'Ataq', 'Taiz', 'Hodeidah', 'Socotra', 'Charleroi', 'Eindhoven', 'Hahn', 'Weeze', 'Prestwick', 'Santander', 'Zaragoza', 'Vasteras', 'Gerona', 'Parma', 'Kaunas', 'Maastricht', 'Valladolid', 'Luebeck', 'Lappeenranta', 'Bydgoszcz', 'Londonderry', 'Reus', 'Carcassonne', 'Beziers', 'Brno', 'Rzeszow', 'Perugia', 'Nimes', 'Dole', 'Dinard', 'Tours', 'Patras', 'Groningen', 'Skelleftea', 'Plovdiv', 'Lublin', 'Chalons', 'Osijek', 'Ostrava', 'Fukushima', 'Oita', 'Batam', 'Ipoh', 'Kerteh', 'Kuantan', 'Hail', 'Kharkov', 'Multan', 'Najaf', 'Port Sudan', 'Salalah', 'Cruzeiro do Sul', 'Punta Gorda', 'Mesa', 'Ogden', 'Provo', 'Rockford', 'Saint Cloud', 'Belleville', 'Clarksburg', 'Hagerstown', 'Niagara Falls', 'Stockton', 'Youngstown', 'Portsmouth', 'Baise', 'Dongying', 'Wuzhou', 'Asyut', 'Sohag', 'Al-ahsa', 'Ambon', 'Banjarmasin', 'Tanjung Redep-Borneo Island', 'Biak', 'Jayapura', 'Bengkulu', 'Bima', 'Manado', 'Taraken', 'Bandar Lampung-Sumatra Island', 'Jambi', 'Malang', 'Pangkal Pinang', 'Palangkaraya', 'Palu', 'Pontianak', 'Tanjung Pandan', 'Tanjung Pinang', 'Ternate', 'Merauke', 'Manokwari', 'Timika', 'Kupang', 'Labuhan Bajo', 'Waikabubak-Sumba Island', 'Ende', 'Gorontalo', 'Kendari', 'Sorong', 'Kushiro', 'Matsuyama', 'Neerlerit Inaat', 'Ittoqqortoormiit', 'Sondrestrom', 'Godthaab', 'Ilulissat', 'Paamiut', 'Sisimiut', 'Maniitsoq', 'Narssarssuaq', 'Aasiaat', 'Uummannaq', 'Upernavik', 'Qaqortoq', 'Nanortalik', 'Narsaq', 'Alluitsup Paa', 'Eqalugaarsuit', 'Qaanaaq', 'Thule', 'Kastoria', 'Kozani', 'Alderney', 'Bole', 'Erenhot', 'Qingyang', 'Jinchuan', 'Zhangye', 'Atka', 'Unalaska', 'Pilot Point', 'South Naknek', 'False Pass', 'King Cove', 'Nelson Lagoon', 'Nikolski', 'Akutan', 'Egegik', 'Igiugig', 'Perryville', 'Port Heiden', 'Aitutaki', 'Atiu Island', 'Avarua', 'Mangaia Island', 'Mitiaro Island', 'Mauke Island', 'Calama', 'La Serena', 'Arica', 'Balmaceda', 'Valdivia', 'Temuco', 'Copiapo', 'Arua', 'Hilo', 'Lanai', 'Molokai', 'Pago Pago', 'Memanbetsu', 'Obihiro', 'Praslin', 'Longyan', 'Sokcho / Gangneung', 'Ostend', 'Borlange', 'Orebro', 'Östersund', 'Weifang', 'Amilcar Cabral', 'Fort Good Hope', 'Tulita', 'Deline', 'Andizhan', 'Urgench', 'Termez', 'Yuzhno-sakhalinsk', 'Yuzhno-Kurilsk', 'Shakhtyorsk', 'Klawock', 'Bahawalpur', 'Quetta', 'Faisalabad', 'Melilla', 'Aviles', 'San Sebastian', 'Leon', 'Burgos', 'Salamanca', 'Lleida', 'Logroño-Agoncillo', 'Atoifi', 'Choiseul Bay', 'Gizo', 'Sege', 'Ramata', 'Suavanao', 'Fera Island', 'Munda', 'Kirakira', 'Kagau Island', 'Ulawa', 'Rennell Island', 'Marau', 'Santa Cruz/Graciosa Bay/Luova', 'Mostar', 'Sharm El Sheikh', 'Saumlaki', 'Pangkalan Bun', 'Oksibil', 'Wamena', 'Dobo', 'Langgur-Kei Islands', 'Ketapang', 'Abakan', 'Blagoveschensk', 'Omsk', \"ST MARY\\\\'S\", 'Magadan', 'Kyzyl', 'Ulan-ude', \"Land's End\", 'Salekhard', 'Khorram Abad', 'Birjand', 'Al Ain', 'Asmara', 'Haifa', 'Ganja', 'Fort Chipewyan', 'Geneina', 'El Fasher', 'Nyala', 'Elfin Cove', 'Gustavus', 'Hoonah', 'Haines', 'Skagway', 'Angoon', 'Redang', 'Luxor', 'Banja Luka', 'Arxan', 'Bloemfontein', 'George', 'Aomori', 'Matsumoto', 'Yamagata', 'Hanamaki', 'Kumamoto', 'Ciudad del Este', 'Amami', 'Akita', 'Izumo', 'Misawa', 'Nanki-shirahama', 'Tokushima', 'Yamaguchi', 'Dunedin', 'Avalon', 'Uluru', 'Hobart', 'Hamilton Island', 'Launceston', 'Mackay', 'Prosserpine', 'Ballina Byron Bay', 'Maroochydore', 'Fak Fak', 'Nabire', 'Ranai-Natuna Besar Island', 'Bau-Bau', 'Babo', 'Maumere', 'Waingapu', 'Kaimana', 'Kao', 'Luwuk', 'Melonguane', 'Naha', 'Poso', 'Berbera', 'Bosaso', 'Galcaio', 'Fort Frances', 'Kenora', 'Flin Flon', 'The Pas', 'Dryden', 'Red Lake', 'Sioux Lookout', 'Kapuskasing', 'Cap Haitien', 'South Caicos', 'Hydaburg', 'Imperial', 'El Dorado', 'Hot Springs', 'Harrison', 'Salina', 'North Bend', 'Pendleton', 'Sihanoukville', 'Mae Hong Son', 'Pai', 'Thimphu', 'Pavlodar', 'Sacheon', 'Kunsan', 'Kwangju', 'Yeosu', 'Ulsan', 'Wonju', 'Pohang', 'Linkoeping', 'Foshan', 'Iliamna', 'Nampula', 'Pemba', 'Mwanza', 'Cayman Brac', 'Little Cayman', 'La Ceiba', 'Zouerat', 'Nouadhibou', 'Chiclayo', 'Cajamarca', 'Easter Island', 'Piura', 'Tumbes', 'Tacna', 'Trujillo', 'Castro', 'Mount Pleasant', 'Osorno', 'Oyo', 'Angouleme', 'Nizhniy Novgorod', 'Lvov', 'Sibiu', 'Kingstown', 'Eday', 'Sanday', 'North Ronaldsay', 'Papa Westray', 'Stronsay', 'Westray', 'Ghat', \"Al Bayda'\", 'Ghadames', 'Sirt', 'Carlsbad', 'Los Alamos', 'Lancaster', 'Orland', 'Fagernes', 'Aswan', 'Port Angeles', 'Eastsound', 'Friday Harbor', 'Breves', 'Almeirim', 'Zaporozhye', 'Uzhgorod', 'Antalaha', 'Toamasina', 'Maroantsetra', 'Antsiranana', 'Nosy-be', 'Sambava', 'Mahajanga', 'Tolagnaro', 'Toliara', 'Morondava', 'Sainte Marie', 'Mananara', 'Kano', 'Bario', 'Marudi', 'Kudat', 'Lahad Datu', 'Lawas', 'Bakalalan', 'Mukah', 'Long Datih', 'Long Akah', 'Limbang', 'Long Seridan', 'Dili', 'Rodriguez Island', 'East London', 'Gillam', 'Bayankhongor', 'Altai', 'Khovd', 'Dalanzadgad', 'Uliastai', 'Abu Simbel', 'Kangding', 'Golmud', 'Shiquanhe', 'Naypyidaw', 'Zhangjiakou', 'Yushu', 'Lahania-kapalua', 'Hana', 'Kamuela', 'La Isabela', 'Anelghowhat', 'Tanna', 'Aniwa', 'Futuna Island', 'Santo', 'Craig Cove', 'Lamen Bay', 'Norsup', 'Ambryn Island', \"Dillon's Bay\", 'Ipota', 'Sangafa', 'Lonorore', 'Longana', 'Lamap', 'Ablow', 'Sola', 'Loh/Linua', 'Gaua Island', 'Maewo Island', 'Noumea', 'Malekula Island', 'Paama Island', 'Pentecost Island', 'Walaha', 'Tongoa Island', 'Valesdir', 'Nakashibetsu', 'Wakkanai', 'Fukue', 'Tsushima', 'Hachijojima', 'Iwami', 'Iwakuni', 'Monbetsu', 'Wajima', 'Oshima', 'Odate Noshiro', 'Shonai', 'Tottori', 'Iki', 'Cacador', 'Joacaba', 'Guarapuava', 'Erechim', 'Santo Angelo', 'Uruguaiana', 'Atlantic City', 'Latrobe', 'Sukkur', 'La Gomera', 'Hierro', 'Kumejima', 'Akureyri', 'Reykjavik', 'Egilsstadir', 'Isafjordur', 'Woodbourne', 'Gisborne', 'Hamilton', 'Kaitaia', 'Kerikeri', 'NAPIER', 'New Plymouth', 'Nelson', 'Palmerston North', 'Paraparaumu', 'Rotorua', 'Tauranga', 'Taupo', 'Wanganui', 'Whakatane', 'Whangarei', 'Cloncurry', 'Norfolk Island', 'Brusselton', 'Hokitika', 'Invercargill', 'Derby', 'Esperance', 'Geraldton', 'Alofi', 'Kalgoorlie', 'Kununurra', 'Learmonth', 'Paraburdoo', 'Ravensthorpe', 'Port Macquarie', 'Timaru', 'Westport', 'Sunyani', 'Takoradi', 'Sucre', 'Karlovy Vary', 'Perm', 'Nauru', 'Majuro', 'Dnepropetrovsk', 'Brac', 'Puerto Madryn', 'Chipata', 'Kasama', 'Mfuwe', 'Mansa', 'Morristown', 'Manistee', 'Guanaja', 'Utila', 'Bonaventure', 'Havre-Saint-Pierre', 'St. Anthony', 'Lourdes-De-Blanc-Sablon', 'Charlo', 'Nain', 'Natuashish', 'Hopedale', 'Makkovik', 'Stephenville', 'Postville', 'Churchill Falls', 'Van', 'Kayseri', 'Hatay', 'Mardin', 'Sivas', 'Konya', 'Batman', 'Denizli', 'Balikesir Korfez', 'Erzincan', 'Kahramanmaras', 'Mus', 'Merzifon', 'Nevsehir', 'Lampang', 'Trat', 'Sukhothai', 'Pattaya', 'Chokurdah', 'Cherskiy', 'Tiksi', 'Honuu', 'Neryungri', 'Batagay-Alyta', 'Rahim Yar Khan', 'Chitral', 'Dalbandin', 'Dera Ghazi Khan', 'Dera Ismael Khan', 'Zhob', 'Gilgit', 'Gwadar', 'Turbat', 'Skardu', 'Moenjodaro', 'Panjgur', \"Arthur's Town\", \"Dead Man's Cay\", 'Port Nelson', 'Rock Sound', 'Stella Maris', 'Cat Island', 'Calbayog City', 'Jolo', 'Masbate', 'Ivano-Frankivsk', 'Arusha', 'Bukoba', 'Mbeya', 'Mtwara', 'Kundiawa', 'Vanimo', 'Mendi', 'Wapenamanda', 'Gan Island', 'DHARAVANDHOO', 'Haa Dhaalu Atoll', 'Kaadedhdhoo', 'Kooddoo', 'Laamu Atoll', 'Amberley', 'Aurukun', 'Coen', 'Bedourie', 'Boulia', 'Birdsville', 'Roma', 'Toowoomba', 'Mount Isa', 'Burketown', 'Doomadgee', 'Mornington Island', 'Windorah', 'Cunnamulla', 'St George', 'Thargomindah', 'Pormpuraaw', 'Lockhart River', 'Kowanyama', 'Normanton', 'Weipa', 'Charlieville', 'Quilpie', 'Port Menier', 'St-Augustin', 'La Romaine', 'Natashquan', 'Siri Island', 'Garoua', 'Maroua', \"N'gaoundere\", 'Albury', 'Olympic Dam', 'Port Lincoln', 'Armidale', 'Barcaldine', 'Bundaberg', 'Broome', 'Karratha', 'Emerald', 'Gladstone', 'Hervey Bay', 'Lord Howe Island', 'Moranbah', 'Port Hedland', \"Coff's Harbour\", 'Horn Island', 'Dubbo', 'Devonport', 'Mildura', 'Moree', 'Newman', 'Tamworth', 'Wagga Wagga', 'El Vigía', 'Savannakhet', 'Huay Xai', 'Pakse', 'Luang Namtha', 'Muang Xay', 'Phon Savan', 'Orsk', 'Anadyr', 'Nogliki', 'Rimini', 'Pevek', 'Maturin', 'Vagar', 'Fujeirah', 'Sir Bani Yas Island', 'Aqaba', 'Mosul', 'Horta', 'Pico', 'Santa Maria (island)', 'Lajes (terceira Island)', 'Conceicao Do Araguaia', 'Santana do Araguaia', 'Gurupi', 'Minacu', 'Ourilandia do Norte', 'Redencao', 'Santa Terezinha', 'Sao Felix do Araguaia', 'Sao Felix do Xingu', 'Anapa', 'Barnaul', 'Kemorovo', 'Novokuznetsk', 'Norilsk', 'Beslan', 'Gorno-Altaysk', 'Simferopol', 'Stavropol', 'Tomsk', 'Petropavlovsk', 'Beira', 'Bulawayo', 'Hoedspruit', 'Kimberley', 'Mpumalanga', 'Upington', 'Walvis Bay', 'Maseru', 'Manzini', 'Phalaborwa', 'Potgietersrus', 'Pietermaritzburg', \"Richard's Bay\", 'Tete', 'Umtata', 'Vilankulu', 'Wallis', 'Hubli', 'Belgaum', 'Mysore', 'Argyle', 'Burnie', 'King Island', 'Flinders Island', 'Corvo', 'Graciosa Island', 'Sao Jorge Island', 'Augsburg', 'Erfurt', 'Kassel', 'Hawarden', 'Zonguldak', 'Gelendzhik', 'El-baha', 'Al-Jawf', 'Hafr Al-batin', 'Bisha', 'Nejran', 'Gizan', nan, 'Wejh', 'Arar', 'Sharurah', 'Guriat', 'Wadi-al-dawasir', 'Al-Ula', 'Rafha', 'Turaif', 'Mpacha', 'Rundu', 'Ondangwa', 'Luderitz', 'Oranjemund', 'Bern', 'Khanty-Mansiysk', 'Dijon', 'Perigueux', 'Le Havre', 'Ovda', 'Teterboro', 'Adiyaman', 'Agri', 'Eskissehir', 'Bingol', 'Canakkale', 'Constanta', 'Igdir', 'Topel', 'Kars', 'Çorlu', 'Isparta', 'Kastamonu', 'Kutahya', 'Nakhchivan', 'McArthur River Mine', 'Maningrida', 'Elcho Island', 'Milingimbi', 'Lichinga', 'Quelimane', 'Inhambane', 'Chimoio', 'Sao Vicente Island', 'Tozeur', 'Waala', 'Koumac', 'Île des Pins', 'Kone', 'Lifou', 'Mare', 'Tiga', 'Touho', 'Ouvea', 'Qabala', 'Lankaran', 'Gyumri', 'Arcata CA', 'Crescent City', 'Altoona', 'Johnstown', 'Aspen', 'Bradford', 'Jamestown', 'Beckley', 'Weyers Cave', 'Chico', 'Morgantown', 'Du Bois', 'Franklin', 'PARKERSBURG', 'Hancock', 'Vail', 'Gunnison', 'Hayden', 'Laramie', 'Montrose CO', 'Pueblo', 'Eau Claire', 'Topeka', 'Rota', 'Chuuk', 'Yap', 'Hobbs', 'Kosrae', 'Kwajalein', 'Pohnpei', 'Klamath Falls', 'Muskegon', 'Modesto', 'PADUCAH', 'Redding', 'Le Puy', 'Massawa', 'Gabes', 'Gafsa', 'Batticaloa', 'Sigiriya', 'Koggala', 'Trinciomalee', 'Pardubice', 'Spring Point', 'Colonel Hill', 'Matthew Town', 'Mayaguana', 'Nyagan', 'Ust-Tsylma', 'Tambow', 'Kursk', 'Badajoz', 'Canaima', 'Cumana', 'Coro', 'La Fria', 'Puerto Ayacucho', 'San Tome', 'Puerto Cabello', 'Santa Ana De Uairen', 'Angelsey', 'Golouchestershire', 'Cocos Keeling Island', 'Christmas Island', 'Dalat', 'Hue', 'Phucat', 'Ca Mau', 'Pleiku', 'Dienbienphu', 'Tuy Hoa', 'Can Tho', 'Chu Lai', 'Dong Hoi', 'Conson', 'Rach Gia', 'Maio', 'Sao Filipe, Fogo Island', 'Sao Nocolau Island', 'Ahe', 'Manihi', 'Hiva-oa', 'Nuku Hiva', 'Ua Huka', 'Ua Pou', 'Arutua', 'Kaukura Atoll', 'Bora Bora', 'Huahine Island', 'Maupiti', 'Moorea', 'Raiatea Island', 'Rangiroa', 'Tikehau', 'Fakarava', 'Totegegie', 'Hao Island', 'Makemo', 'Mataiva', 'Rimatara', 'Rurutu', 'Raivavae', 'Takaroa', 'Tubuai', 'Takapoto', 'Sveg', 'Hagfors', 'Kristianstad', 'Mora', 'Torsby', 'Pajala', 'Mannheim', 'Kuressaare', 'Vinnitsa', 'Asaba', 'Benin', 'Calabar', 'Gombe', 'Ibadan', 'Ilorin', 'Imo', 'Osubi', 'Sokoto', 'Yola', 'Jos', 'Kaduna', 'Uyo', 'Andahuaylas', 'Anta', 'Jauja', 'Tingo Maria', 'Arad', 'Craiova', 'Debrecen', 'Null', 'Kengtung', 'Kyaukpyu', 'Myitkyina', 'Putao', 'Kamembe', 'Hammerfest', 'Lakselv', 'Sorkjosen', 'Vadsø', 'Andoya', 'Bronnoysund', 'Floro', 'Orsta-Volda', 'Skien', 'Sogndal', 'Batsfjord', 'Berlevag', 'Mehamn', 'Vardø', 'Mo i Rana', 'Sandnessjoen', 'Leknes', 'Mosjoen', 'Narvik', 'Røst', 'Stokmarknes', 'Svolvær', 'Hasvik', 'Honningsvag', 'Namsos', 'Rørvik', 'Roros', 'Sandane', 'Chevery', 'Tête-à-la-Baleine', 'La Tabatière', 'Rigolet', 'Kegaska', 'Saba', 'Brandon', 'Abbotsford', 'Keewaywin', 'Kingfisher Lake', 'Wunnumin Lake', 'Muskrat Dam', 'Bearskin Lake', 'Sachigo Lake', 'Round Lake', 'Summer Beaver', 'Angling Lake', 'Big Trout Lake', 'Kasabonika', 'Cat Lake', 'Fort Severn', 'Fort Hope', 'Lansdowne House', 'Ogoki Post', 'Poplar Hill', 'North Spirit Lake', 'Webequie', 'Pickle Lake', 'Pikangikum', 'Sandy Lake', 'Khasab', 'Zweibruecken', 'Uruapan', 'Igarka', 'Bor', 'Turukhansk', 'Bandar Mahshahr', 'Noyabrsk', 'Kogalym', 'Tarko-Sale', 'Attawapiskat', 'Peawanuck', 'Kashechewan', 'Fort Albany', 'Moosonee', 'Chisasibi', 'Waskaganish', 'Chibougamau', 'Nemiscau', 'Eastmain River', 'Wemindji', 'Grand Canyon', 'Chandragarhi', 'Bharatpur', 'Biratnagar', 'Bhairawa', 'Dhangarhi', 'Janakpur', 'Nepalgunj', 'Pokhara', 'Tumling Tar', 'Sevastopol', 'Rerrenabaque', 'Uyuni', 'Scottsbluff', 'Cortez', 'North Platte', 'McCook', 'Riverton WY', 'Sheridan', 'Merced', 'Prescott', 'Visalia', 'Broken Hill', 'Ceduna', 'Coober Pedy', 'Kingscote', 'Mount Gambier', 'Whyalla', 'Parkes', 'Griffith', 'Narrandera', 'Grafton', 'Taree', 'Julia Creek', 'Winton', 'Lismore', 'Merimbula', 'Moruya', 'Orange']\n"
     ]
    }
   ],
   "source": [
    "print(G.nodes())"
   ]
  },
  {
   "cell_type": "code",
   "execution_count": 38,
   "metadata": {
    "id": "WgOWsO2PHjKs"
   },
   "outputs": [],
   "source": [
    "import urllib\n",
    "import json\n",
    "import re\n",
    "\n",
    "\n",
    "def get_wikivoyage_page(name):\n",
    "\n",
    "   baseurl = \"https://en.wikipedia.org/w/api.php?\"\n",
    "   action = \"action=query\"\n",
    "   urltitle = f\"titles={name}\"\n",
    "   content = \"prop=revisions&rvprop=content&rvslots=main\"\n",
    "   dataformat =\"format=json\"\n",
    "\n",
    "   query = f\"{baseurl}{action}&{urltitle}&{content}&{dataformat}\"\n",
    "\n",
    "   wikiresponse = urllib.request.urlopen(query)\n",
    "   wikidata = wikiresponse.read()\n",
    "   wikitext = wikidata.decode('utf-8')\n",
    "   data = json.loads(wikitext)\n",
    "   return data\n",
    "\n",
    "def get_wikitext_content(data):\n",
    "   if isinstance(data, dict):\n",
    "      for key, value in data.items():\n",
    "         if key == '*':\n",
    "               return value\n",
    "         result = get_wikitext_content(value)\n",
    "         if result:\n",
    "               return result\n",
    "   elif isinstance(data, list):\n",
    "      for item in data:\n",
    "         result = get_wikitext_content(item)\n",
    "         if result:\n",
    "               return result\n",
    "   return None\n",
    "\n",
    "def clean_city_name (city_name):\n",
    "  cleaned_name = str(city_name).replace(\" \", \"_\")\n",
    "  cleaned_name = urllib.parse.quote(cleaned_name)\n",
    "  return cleaned_name\n",
    "\n",
    "def get_content(name):\n",
    "  city = clean_city_name(name)\n",
    "  data = get_wikivoyage_page(city)\n",
    "  content = get_wikitext_content(data)\n",
    "  return content\n",
    "\n",
    "def redirect (content):\n",
    "  \"\"\"\n",
    "  This funciton redirect to the right page in case there is a need\n",
    "  \"\"\"\n",
    "  if content is not None and \"#REDIRECT\" in content.upper():\n",
    "    # get the redirect link\n",
    "    matches = re.findall(r'\\[\\[(.*?)\\]\\]', content)\n",
    "    redirect_name = matches[0]\n",
    "    content = get_content(redirect_name)\n",
    "\n",
    "  return content\n",
    "\n",
    "def may_refer_to_city(content):\n",
    "  \"\"\"\n",
    "  In case there are more pages with the same name\n",
    "  \"\"\"\n",
    "  if content is not None and len(content) < 6000 and (\"may refer to\" in content.lower() or \"refers to\" in content.lower()):\n",
    "    matches = re.findall(r'\\[\\[(.*?)\\]\\](?=.*\\b(capital|city|town)\\b)', content)\n",
    "    if len(matches) > 0:\n",
    "      name = matches[0]\n",
    "      content = get_content(name)\n",
    "      content = redirect(content)\n",
    "  return content"
   ]
  },
  {
   "cell_type": "markdown",
   "metadata": {
    "id": "UEI-cSAUHjKs"
   },
   "source": [
    "### Populate the context of the city in the graph"
   ]
  },
  {
   "cell_type": "code",
   "execution_count": 40,
   "metadata": {
    "colab": {
     "base_uri": "https://localhost:8080/"
    },
    "id": "tX58yg2KHjKs",
    "outputId": "57c0358f-9c6a-4bd9-8bec-7998cb7493c5"
   },
   "outputs": [
    {
     "name": "stderr",
     "output_type": "stream",
     "text": [
      "Processing nodes:  90%|████████▉ | 2820/3136 [10:47<01:17,  4.05node/s]"
     ]
    },
    {
     "name": "stdout",
     "output_type": "stream",
     "text": [
      "Failed to get content for node nan: unsupported operand type(s) for +: 'float' and 'str'\n"
     ]
    },
    {
     "name": "stderr",
     "output_type": "stream",
     "text": [
      "Processing nodes: 100%|██████████| 3136/3136 [11:55<00:00,  4.39node/s]\n"
     ]
    }
   ],
   "source": [
    "from tqdm import tqdm  # Import tqdm\n",
    "import re\n",
    "import os\n",
    "\n",
    "nodes_to_remove = []\n",
    "\n",
    "output_dir = \"./new_cities\"\n",
    "os.makedirs(output_dir, exist_ok=True)  # Ensure the directory exists\n",
    "\n",
    "# Iterate through the nodes with a progress bar\n",
    "for node in tqdm(G.nodes(), desc=\"Processing nodes\", unit=\"node\"):\n",
    "\n",
    "    try:\n",
    "        file_name = node + \".txt\"\n",
    "        output_file = os.path.join(output_dir, file_name)\n",
    "        # Try to fetch the Wikivoyage page and get the content\n",
    "        content = get_content(node)\n",
    "\n",
    "        # chech for redirect\n",
    "        content = redirect(content)\n",
    "\n",
    "        # chech to mey refer to\n",
    "        content = may_refer_to_city(content)\n",
    "\n",
    "        # if content is not None and len(content) < 6000:\n",
    "        #   # in case there are multiple pages with the same name we take the first city/town name\n",
    "        #   if content is not None and (\"may refer to\" in content.lower() or \"refers to\" in content.lower()):\n",
    "        #     if \"capital\" in content.lower():\n",
    "        #         # find the city it refers to by looking at the link that is right before the name city\n",
    "        #         matches = re.findall(r'\\[\\[(.*?)\\]\\](?=.*capital)', content)\n",
    "        #         last_match_before_city = matches[0] if matches else None\n",
    "        #         if last_match_before_city is not None:\n",
    "        #             city = clean_city_name(last_match_before_city)\n",
    "        #             data = get_wikivoyage_page(city)\n",
    "        #             content = get_wikitext_content(data)\n",
    "        #             if content is not None:\n",
    "        #                 start_end_dict[node] = last_match_before_city\n",
    "        #     elif \"city\" in content.lower():\n",
    "        #         # find the city it refers to by looking at the link that is right before the name city\n",
    "        #         matches = re.findall(r'\\[\\[(.*?)\\]\\](?=.*city)', content)\n",
    "        #         last_match_before_city = matches[0] if matches else None\n",
    "        #         if last_match_before_city is not None:\n",
    "        #             city = clean_city_name(last_match_before_city)\n",
    "        #             data = get_wikivoyage_page(city)\n",
    "        #             content = get_wikitext_content(data)\n",
    "        #             if content is not None:\n",
    "        #                 start_end_dict[node] = last_match_before_city\n",
    "        #     # do the same for the town\n",
    "        #     elif \"town\" in content.lower():\n",
    "        #         # find the city it refers to by looking at the link that is right before the name city\n",
    "        #         matches = re.findall(r'\\[\\[(.*?)\\]\\](?=.*town)', content)\n",
    "        #         last_match_before_city = matches[0] if matches else None\n",
    "        #         if last_match_before_city is not None:\n",
    "        #             city = clean_city_name(last_match_before_city)\n",
    "        #             data = get_wikivoyage_page(city)\n",
    "        #             content = get_wikitext_content(data)\n",
    "        #             if content is not None:\n",
    "        #                 start_end_dict[node] = last_match_before_city\n",
    "\n",
    "        #     # chech for redirect\n",
    "        #     content = redirect(content)\n",
    "\n",
    "        if content is None or len(content) < 6000:\n",
    "          nodes_to_remove.append(node)\n",
    "        else:\n",
    "            G.nodes[node]['Content'] = content\n",
    "            with open(output_file, 'w', encoding='utf-8') as file:\n",
    "                file.write(content)\n",
    "\n",
    "    except Exception as e:\n",
    "        nodes_to_remove.append(node)\n",
    "        # If an error occurs, print the error message and the node\n",
    "        print(f\"Failed to get content for node {node}: {e}\")\n",
    "        continue  # Continue to the next node if there's an error\n"
   ]
  },
  {
   "cell_type": "code",
   "execution_count": 41,
   "metadata": {
    "colab": {
     "base_uri": "https://localhost:8080/"
    },
    "id": "H0llh6kjOpk-",
    "outputId": "0da13f57-3a47-46e4-b818-af8ed0952589"
   },
   "outputs": [
    {
     "name": "stdout",
     "output_type": "stream",
     "text": [
      "3136\n",
      "884\n"
     ]
    }
   ],
   "source": [
    "print(len(G.nodes))\n",
    "print(len(nodes_to_remove))"
   ]
  },
  {
   "cell_type": "code",
   "execution_count": 42,
   "metadata": {
    "id": "w_mfybe8oyU-"
   },
   "outputs": [],
   "source": [
    "G.remove_nodes_from(nodes_to_remove)"
   ]
  },
  {
   "cell_type": "code",
   "execution_count": 50,
   "metadata": {
    "colab": {
     "base_uri": "https://localhost:8080/"
    },
    "id": "OLumYfUvo4Oa",
    "outputId": "7e7a2c94-7821-4076-a789-4be271162583"
   },
   "outputs": [
    {
     "name": "stdout",
     "output_type": "stream",
     "text": [
      "Number of nodes:  2252\n",
      "Number of edges: 26808\n",
      "Number of edges of undirected graph:  13650\n"
     ]
    }
   ],
   "source": [
    "G_undirected = G.to_undirected()\n",
    "print(\"Number of nodes: \", len(G.nodes()))\n",
    "print(\"Number of edges:\", len(G.edges()))\n",
    "print(\"Number of edges of undirected graph: \", len(G_undirected.edges()))"
   ]
  },
  {
   "cell_type": "code",
   "execution_count": 45,
   "metadata": {
    "id": "ikNrY2FfvNij"
   },
   "outputs": [],
   "source": [
    "# save to pickle\n",
    "import pickle\n",
    "\n",
    "# Save the graph to a file using pickle\n",
    "with open('flight_with_content_pretty_good.pickle', 'wb') as f:\n",
    "   pickle.dump(G, f)\n"
   ]
  }
 ],
 "metadata": {
  "colab": {
   "provenance": []
  },
  "kernelspec": {
   "display_name": "sgai_new",
   "language": "python",
   "name": "python3"
  },
  "language_info": {
   "codemirror_mode": {
    "name": "ipython",
    "version": 3
   },
   "file_extension": ".py",
   "mimetype": "text/x-python",
   "name": "python",
   "nbconvert_exporter": "python",
   "pygments_lexer": "ipython3",
   "version": "3.10.15"
  }
 },
 "nbformat": 4,
 "nbformat_minor": 0
}
