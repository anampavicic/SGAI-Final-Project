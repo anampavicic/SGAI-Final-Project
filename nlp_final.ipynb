{
  "nbformat": 4,
  "nbformat_minor": 0,
  "metadata": {
    "colab": {
      "provenance": [],
      "authorship_tag": "ABX9TyPJ0D+JduESMEkRqn7GrTLU",
      "include_colab_link": true
    },
    "kernelspec": {
      "name": "python3",
      "display_name": "Python 3"
    },
    "language_info": {
      "name": "python"
    }
  },
  "cells": [
    {
      "cell_type": "markdown",
      "metadata": {
        "id": "view-in-github",
        "colab_type": "text"
      },
      "source": [
        "<a href=\"https://colab.research.google.com/github/anampavicic/SGAI-Final-Project/blob/main/nlp_final.ipynb\" target=\"_parent\"><img src=\"https://colab.research.google.com/assets/colab-badge.svg\" alt=\"Open In Colab\"/></a>"
      ]
    },
    {
      "cell_type": "code",
      "execution_count": 58,
      "metadata": {
        "colab": {
          "base_uri": "https://localhost:8080/"
        },
        "id": "MX6xtM32mL1J",
        "outputId": "3417b67a-5550-4877-a788-d9f5705f393f"
      },
      "outputs": [
        {
          "output_type": "stream",
          "name": "stdout",
          "text": [
            "Drive already mounted at /content/drive; to attempt to forcibly remount, call drive.mount(\"/content/drive\", force_remount=True).\n"
          ]
        }
      ],
      "source": [
        "from google.colab import drive\n",
        "drive.mount('/content/drive')"
      ]
    },
    {
      "cell_type": "code",
      "source": [
        "import pickle\n",
        "with open('/content/drive/MyDrive/graph_with_content.pickle', 'rb') as f:\n",
        "   G_loaded = pickle.load(f)\n",
        "print(len(G_loaded.edges()))"
      ],
      "metadata": {
        "colab": {
          "base_uri": "https://localhost:8080/"
        },
        "id": "jrvg2VGgmvMJ",
        "outputId": "9bb1db66-2a80-4b38-f57b-7a024bf346a1"
      },
      "execution_count": 59,
      "outputs": [
        {
          "output_type": "stream",
          "name": "stdout",
          "text": [
            "26808\n"
          ]
        }
      ]
    },
    {
      "cell_type": "code",
      "source": [
        "from transformers import AutoTokenizer, AutoModel\n",
        "import torch\n",
        "import tensorflow as tf\n",
        "import polars as pl\n",
        "import os\n",
        "import pandas as pd\n",
        "import numpy as np"
      ],
      "metadata": {
        "id": "kUg-aoE6m14h"
      },
      "execution_count": 60,
      "outputs": []
    },
    {
      "cell_type": "code",
      "source": [
        "def get_transformers_word_embeddings(model: AutoModel):\n",
        "    return model.embeddings.word_embeddings.weight.data.to(\"cpu\").numpy()\n",
        "\n",
        "def generate_embeddings_with_transformers(\n",
        "    model: AutoModel,\n",
        "    tokenizer: AutoTokenizer,\n",
        "    text_list: list[str],\n",
        "    batch_size: int = 8,\n",
        "    device: str = None,\n",
        "    disable_tqdm: bool = False,\n",
        ") -> torch.Tensor:\n",
        "    \"\"\"\n",
        "    Generates embeddings for a list of texts using a pre-trained transformer model.\n",
        "\n",
        "    Args:\n",
        "        model_name (str): The name of the pre-trained transformer model to use.\n",
        "        text_list (list of str): A list of texts to generate embeddings for.\n",
        "        batch_size (int): The batch size to use for generating embeddings. Defaults to 8.\n",
        "        device (str): The device to use for generating embeddings (e.g., \"cpu\", \"cuda\").\n",
        "            If None, defaults to the first available GPU or CPU.\n",
        "\n",
        "    Returns:\n",
        "        embeddings (torch.Tensor): A tensor containing the embeddings for the input texts.\n",
        "            The shape of the tensor is (num_texts, embedding_dim), where num_texts is the number\n",
        "            of input texts and embedding_dim is the dimensionality of the embeddings produced by\n",
        "            the pre-trained model.\n",
        "\n",
        "    Examples:\n",
        "    >>> model_name = \"bert-base-uncased\"\n",
        "    >>> text_list = [\"hello world\", \"how are you\"]\n",
        "    >>> batch_size = 2\n",
        "    >>> device = \"cpu\"\n",
        "    >>> model = AutoModel.from_pretrained(model_name)\n",
        "    >>> tokenizer = AutoTokenizer.from_pretrained(model_name)\n",
        "    >>> embeddings_tensor = generate_embeddings_with_transformers(model, tokenizer, text_list, batch_size, device)\n",
        "    >>> print(embeddings_tensor)\n",
        "        tensor([[-0.0243,  0.1144,  0.0830,  ..., -0.2666,  0.1662,  0.1519],\n",
        "                [ 0.0827,  0.0877, -0.0688,  ..., -0.4381,  0.0462, -0.1446]])\n",
        "    >>> print(embeddings_tensor.shape)\n",
        "        torch.Size([2, 768])\n",
        "    \"\"\"\n",
        "    device = get_torch_device(use_gpu=True) if device is None else device\n",
        "    model = model.to(device)\n",
        "\n",
        "    tokenized_text = tokenizer(\n",
        "        text_list, padding=True, truncation=True, return_tensors=\"pt\"\n",
        "    )\n",
        "    feature_names = list(tokenized_text)\n",
        "\n",
        "    dataset = TensorDataset(\n",
        "        tokenized_text[\"input_ids\"], tokenized_text[\"attention_mask\"]\n",
        "    )\n",
        "    dataloader = DataLoader(dataset, batch_size=batch_size)\n",
        "    embeddings = []\n",
        "    with torch.no_grad():\n",
        "        for batch in tqdm(dataloader, desc=\"Encoding\", disable=disable_tqdm):\n",
        "            inputs = {feat: t.to(device) for feat, t in zip(feature_names, batch)}\n",
        "            outputs = model(\n",
        "                **inputs,\n",
        "                output_hidden_states=True,\n",
        "            )\n",
        "            embeddings.append(outputs.last_hidden_state[:, 0, :].squeeze(dim=1))\n",
        "    return torch.vstack(embeddings)\n",
        "\n",
        "\n",
        "def convert_text2encoding_with_transformers(\n",
        "    df: pl.DataFrame,\n",
        "    tokenizer: AutoTokenizer,\n",
        "    column: str,\n",
        "    max_length: int = 512,\n",
        ") -> pl.DataFrame:\n",
        "    \"\"\"Converts text in a specified DataFrame column to tokens using a provided tokenizer.\n",
        "    Args:\n",
        "        df (pl.DataFrame): The input DataFrame containing the text column.\n",
        "        tokenizer (AutoTokenizer): The tokenizer to use for encoding the text. (from transformers import AutoTokenizer)\n",
        "        column (str): The name of the column containing the text.\n",
        "        max_length (int, optional): The maximum length of the encoded tokens. Defaults to None.\n",
        "    Returns:\n",
        "        pl.DataFrame: A new DataFrame with an additional column containing the encoded tokens.\n",
        "    Example:\n",
        "    >>> from transformers import AutoTokenizer\n",
        "    >>> import polars as pl\n",
        "    >>> df = pl.DataFrame({\n",
        "            'text': ['This is a test.', 'Another test string.', 'Yet another one.']\n",
        "        })\n",
        "    >>> tokenizer = AutoTokenizer.from_pretrained('bert-base-uncased')\n",
        "    >>> encoded_df, new_column = convert_text2encoding_with_transformers(df, tokenizer, 'text', max_length=20)\n",
        "    >>> print(encoded_df)\n",
        "        shape: (3, 2)\n",
        "        ┌──────────────────────┬───────────────────────────────┐\n",
        "        │ text                 ┆ text_encode_bert-base-uncased │\n",
        "        │ ---                  ┆ ---                           │\n",
        "        │ str                  ┆ list[i64]                     │\n",
        "        ╞══════════════════════╪═══════════════════════════════╡\n",
        "        │ This is a test.      ┆ [2023, 2003, … 0]             │\n",
        "        │ Another test string. ┆ [2178, 3231, … 0]             │\n",
        "        │ Yet another one.     ┆ [2664, 2178, … 0]             │\n",
        "        └──────────────────────┴───────────────────────────────┘\n",
        "    >>> print(new_column)\n",
        "        text_encode_bert-base-uncased\n",
        "    \"\"\"\n",
        "    text = df[column].to_list()\n",
        "    # set columns\n",
        "    new_column = f\"{column}_encode_{tokenizer.name_or_path}\"\n",
        "    # If 'max_length' is provided then set it, else encode each string its original length\n",
        "    padding = \"max_length\" if max_length else False\n",
        "    encoded_tokens = tokenizer(\n",
        "        text,\n",
        "        add_special_tokens=False,\n",
        "        padding=padding,\n",
        "        max_length=max_length,\n",
        "        truncation=True,\n",
        "    )[\"input_ids\"]\n",
        "    return df.with_columns(pl.Series(new_column, encoded_tokens)), new_column\n",
        "\n",
        "def concat_str_columns(df: pl.DataFrame, columns: list[str]) -> pl.DataFrame:\n",
        "    \"\"\"\n",
        "    >>> df = pl.DataFrame(\n",
        "            {\n",
        "                \"id\": [1, 2, 3],\n",
        "                \"first_name\": [\"John\", \"Jane\", \"Alice\"],\n",
        "                \"last_name\": [\"Doe\", \"Doe\", \"Smith\"],\n",
        "            }\n",
        "        )\n",
        "    >>> concatenated_df, concatenated_column_name = concat_str_columns(df, columns=['first_name', 'last_name'])\n",
        "    >>> concatenated_df\n",
        "        shape: (3, 4)\n",
        "        ┌─────┬────────────┬───────────┬──────────────────────┐\n",
        "        │ id  ┆ first_name ┆ last_name ┆ first_name-last_name │\n",
        "        │ --- ┆ ---        ┆ ---       ┆ ---                  │\n",
        "        │ i64 ┆ str        ┆ str       ┆ str                  │\n",
        "        ╞═════╪════════════╪═══════════╪══════════════════════╡\n",
        "        │ 1   ┆ John       ┆ Doe       ┆ John Doe             │\n",
        "        │ 2   ┆ Jane       ┆ Doe       ┆ Jane Doe             │\n",
        "        │ 3   ┆ Alice      ┆ Smith     ┆ Alice Smith          │\n",
        "        └─────┴────────────┴───────────┴──────────────────────┘\n",
        "    \"\"\"\n",
        "    concat_name = \"-\".join(columns)\n",
        "    concat_columns = df.select(pl.concat_str(columns, separator=\" \").alias(concat_name))\n",
        "    return df.with_columns(concat_columns), concat_name\n"
      ],
      "metadata": {
        "id": "3xXxUKZpm6bm"
      },
      "execution_count": 61,
      "outputs": []
    },
    {
      "cell_type": "code",
      "source": [
        "print(G_loaded.nodes())"
      ],
      "metadata": {
        "colab": {
          "base_uri": "https://localhost:8080/"
        },
        "id": "k2LaOvcHnC4d",
        "outputId": "7748631a-9066-4894-b923-64e23b11a767"
      },
      "execution_count": 62,
      "outputs": [
        {
          "output_type": "stream",
          "name": "stdout",
          "text": [
            "['Sochi', 'Kazan', 'Astrakhan', 'Mineralnye Vody', 'Chelyabinsk', 'Novosibirsk', 'Moscow', 'Taganrog', 'Belgorod', 'Kaliningrad', 'Baku', 'St. Petersburg', 'Yekaterinburg', 'Nizhnevartovsk', 'Novy Urengoy', 'Bratsk', 'Irkutsk', 'Kirensk', 'Bodaibo', 'Ust-Kut', 'Lensk', 'Yakutsk', 'Ayacucho', 'Lima', 'Cuzco', 'Puerto Maldonado', 'Huánuco', 'Iquitos', 'Pucallpa', 'Tarapoto', 'Abidjan', 'Ouagadougou', 'Accra', 'Bamako', 'Dakar', 'Cotonou', 'Lome', 'Niamey', 'Bogota', 'Guayaquil', 'Quito', 'Cali', 'Coca', 'Brindisi', 'Zurich', 'Bordeaux', 'Bristol', 'Geneva', 'Gran Canaria', 'Larnaca', 'Marsa Alam', 'Tenerife', 'Arvidsjaur', 'Lycksele', 'Stockholm', 'Gallivare', 'Halmstad', 'Joenkoeping', 'Karlstad', 'Mariehamn', 'Ornskoldsvik', 'Pori', 'Sandefjord', 'Visby', 'Vilhelmina', 'Vaxjo', 'Hemavan', 'Kruunupyy', 'Turku', 'Oslo', 'Larsen Bay', 'Manila', 'Butuan', 'Cotabato', 'Cagayan de Oro City', 'Dumaguete', 'Dubai', 'Romblon', 'Kalibo', 'Caticlan', 'Ozamis', 'Puerto Princesa', 'Roxas City', 'Sangley Point', 'Tuguegarao', 'Araguaina', 'Barreiras', 'Brasilia', 'Ribeirao Preto', 'Cascavel', 'Sao Paulo', 'Cuiaba', 'Goiania', 'Campo Grande', 'Dourados', 'Rio De Janeiro', 'Uberaba', 'Uberlandia', 'Belo Horizonte', 'Sao Jose Do Rio Preto', 'Chicago', 'St. Louis', 'Ketchikan', 'Lagos', 'Monrovia', 'Barcelona', 'Banjul', 'Freetown', 'Conakry', 'Bissau', 'Douala', 'London', 'Akulivik', 'Ivujivik', 'Puvirnituq', 'Kangiqsualujjuaq', 'La Grande Riviere', 'Kuujjuarapik', 'Montreal', 'Inukjuak', 'Sanikiluaq', 'Umiujaq', 'Rouyn', 'Salluit', 'Kangirsuk', 'Quaqtaq', 'Schefferville', 'Quebec', 'Wabush', 'Tasiujaq', 'Kangiqsujuaq', 'Djibouti', 'Jeddah', 'Mogadishu', 'Nairobi', 'Bangkok', 'Singapore', 'Haikou', 'Hangzhou', 'Hong Kong', 'Phuket', 'Osaka', 'Taipei', 'Kuala Lumpur', 'Penang', 'Perth', 'Siem-reap', 'Yangon', 'Ho Chi Minh City', 'Shantou', 'Altenrhein', 'Dresden', 'Duesseldorf', 'Friedrichshafen', 'Munich', 'Hamburg', 'Olbia', 'Berlin', 'Zadar', 'Memmingen', 'Naples', 'Graz', 'Salzburg', 'Atlanta', 'Meridian', 'Muscle Shoals', 'Fort Lauderdale', 'West Palm Beach', 'Key West', 'Fort Myers', 'Tampa', 'Great Exuma', 'Marsh Harbor', 'Treasure Cay', 'Jacksonville', 'Pensacola', 'Tallahassee', 'Amsterdam', 'Tanger', 'Casablanca', 'Bergamo', 'Bologna', 'Brussels', 'Cologne', 'Cuneo', 'Lyon', 'Montpellier', 'Istanbul', 'Toulouse', 'Treviso', 'Fes', 'Palma de Mallorca', 'Paraguana', 'Maracaibo', 'Kralendijk', 'Willemstad', 'Bukhara', 'Fergana', 'Namangan', 'Navoi', 'Samarkand', 'Tivat', 'Antigua', 'Cayenne', 'Santo Domingo', 'Dominica', 'Castries', 'Beihai', \"Xi'an\", 'Guangzhou', 'Chongqing', 'Chengdu', 'Saipan', 'Zhengzhou', 'Changchun', 'Harbin', 'Kunming', 'Urumqi', 'Nanjing', 'Jinan', 'Tianjin', 'Changzhou', 'Dalian', 'Dayong', 'Nanchang', 'Lanzhou', 'Lijiang', 'Lhasa', 'Ninbo', 'Nanning', 'Beijing', 'Shanghai', 'Panzhihua', 'Sydney', 'Sanya', 'Shenzhen', 'Taiyuan', 'Wuhan', 'Wuxi', 'Xining', 'Yichang', 'Zhanjiang', 'Fuzhou', 'Shenyang', 'Wenzhou', 'Xiamen', 'Daocheng', 'Dongsheng', 'Handan', 'Hohhot', 'Hefei', 'Seoul', 'Jiuzhaigou', 'Ganzhou', 'Guiyang', 'Nyingchi', 'Melbourne', 'Shijiazhuang', 'Qingdao', 'Wanxian', 'Xichang', 'Xuzhou', 'Yangzhou', 'Zhuhai', 'Datong', 'Dunhuang', 'Manzhouli', 'Quanzhou', 'Guilin', 'Mianyang', 'Linyi', 'Zhongwei', 'Vancouver', 'Yibin', 'Las Vegas', 'Los Angeles', 'Cairo', 'Tel-aviv', 'Tatalina', 'Nukus', 'Tyumen', 'Ufa', 'Nadym', 'Ukhta', 'Dhaka', 'Barisal', 'Kolkata', 'Chittagong', 'Muscat', \"Cox's Bazar\", 'Jessore', 'Kathmandu', 'Rajshahi', 'Grise Fiord', 'Dallas-Fort Worth', 'Buenos Aires', 'Miami', 'Punta Cana', 'Edmonton', 'Whitehorse', 'Kelowna', 'Ottawa', 'Yellowknife', 'Calgary', 'Acapulco', 'Mexico City', 'Toluca', 'Aguascalientes', 'Ciudad Obregon', 'Ciudad Juarez', 'Ciudad Del Carmen', 'Campeche', 'Chetumal', 'Culiacan', 'Cancun', 'Monterrey', 'Cozumel', 'Guadalajara', 'San Antonio', 'San Jose Del Cabo', 'Tijuana', 'Guatemala City', 'Havana', 'Hermosillo', 'Huatulco', 'La Paz', 'Mazatlan', 'Oaxaca', 'Palenque', 'Puerto Vallarta', 'Reynosa', 'San Jose', 'Tampico', 'Tuxtla Gutierrez', 'Torreon', 'Villahermosa', 'Zacatecas', 'Zihuatanejo', 'Delhi', 'Herat', 'Kabul', 'Islamabad', 'Antalya', 'Mulhouse', 'Hurghada', 'Pristina', 'Skopje', 'Malaga', 'Stuttgart', 'Ancona', 'Athens', 'Hannover', 'Belgrade', 'Bergen', 'Birmingham', 'Bastia', 'Bilbao', 'Bremen', 'Bari', 'Budapest', 'Cagliari', 'Paris', 'Catania', 'Dubrovnik', 'Dublin', 'Edinburgh', 'Rome', 'Heraklion', 'Ibiza', 'Mykonos', 'Thira', 'Kos', 'Klagenfurt', 'Kavala', 'Leipzig', 'Lisbon', 'Manchester', 'Milano', 'Nice', 'Palermo', 'Prague', 'Pisa', 'Pula', 'Marrakech', 'Rhodos', 'Rijeka', 'Laage', 'Sarajevo', 'Thessaloniki', 'Lamezia', 'Tunis', 'Venice', 'Vienna', 'Warsaw', 'Jerez', 'Zagreb', 'Cardiff', 'Dortmund', 'Katowice', 'Madrid', 'Nuernberg', 'Poznan', 'Torino', 'Wroclaw', 'Frankfurt', 'Helsinki', 'Krakow', 'Milan', 'Fairbanks', 'Central', 'Circle', 'Chalkyitsik', 'Fort Yukon', 'Manley Hot Springs', 'Beaver', 'Bethel', 'Kipnuk', 'Quinhagak', 'Kwethluk', 'Nightmute', 'Napakiak', 'Chefornak', 'Kongiganak', 'Kwigillingok', 'Toksook Bay', 'Napaskiak', 'Bocas Del Toro', 'Puntarenas', 'Quepos', 'Golfito', 'Puerto Jimenez', 'Liberia', 'Managua', 'Nicoya', 'Roxana', 'Kumasi', 'Eldoret', 'Lodwar', 'Juba', 'Kisumu', 'Lamu', 'Malindi', 'Mombasa', 'Zanzibar', 'Bacolod', 'Cebu', 'Kota Kinabalu', 'Bandar Seri Begawan', 'Camiguin', 'Angeles City', 'Dipolog', 'Siargao', 'Iloilo', 'Pagadian', 'Busan', 'Tacloban', 'Busuanga', 'Jakarta', 'Macau', 'Denpasar', 'Hanoi', 'Laoag', 'Nagoya', 'Tokyo', 'Tagbilaran', 'Arkhangelsk', 'Solovetsky Islands', 'Murmansk', 'Naryan-Mar', 'Syktyvkar', 'Tromso', 'Antofagasta', 'Iquique', 'Concepcion', 'Santiago', 'Montevideo', 'Punta del Este', 'Asuncion', 'Curitiba', 'Porto Alegre', 'Cambridge Bay', 'Spence Bay', 'Rankin Inlet', 'Iqaluit', 'Pond Inlet', 'Churchill', 'Inuvik', 'Norman Wells', 'Igloolik', 'Cape Dorset', 'Hall Beach', 'Pangnirtung', 'Gjoa Haven', 'Repulse Bay', 'Coral Harbour', 'Winnipeg', 'Belize City', 'Flores', 'San Pedro Sula', 'Tegucigalpa', 'Roatan', 'Cape Town', 'Plettenberg Bay', 'Johannesburg', 'Margate', 'Ahmedabad', 'Bangalore', 'Mumbai', 'Goa', 'Hyderabad', 'Jaipur', 'Madras', 'Pune', 'Bhubaneswar', 'Vishakhapatnam', 'Baroda', 'Kochi', 'Guwahati', 'Lucknow', 'Nagpur', 'Trivandrum', 'Coimbatore', 'Indore', 'Chandigarh', 'Jammu', 'Patina', 'Srinagar', 'Mohanbari', 'Imphal', 'Agartala', 'Baghdogra', 'Ranchi', 'Raipur', 'Varanasi', 'Elat', 'Tbilisi', 'Copenhagen', 'Soenderborg', 'Holman Island', 'Paulatuk', 'Sachs Harbour', 'Tuktoyaktuk', 'Krasnodar', 'Yakutia', 'Krasnoyarsk', 'Sittwe', 'Thandwe', 'Mandalay', 'Kawthoung', 'Bagan', 'Tachilek', 'Dawei', 'Saratov', 'Yerevan', 'Riga', 'Chongju', 'Fukuoka', 'Agana', 'Arctic Bay', 'Kimmirut', 'Fort Simpson', 'Kitakyushu', 'Kotzebue', 'Shungnak', 'Anchorage', 'Atqasuk', 'Kenai', 'Homer', 'Unalakleet', 'Chuathbaluk', 'Russian Mission', 'Shageluk', 'Anvik', 'Alakanuk', 'Emmonak', 'Hooper Bay', 'Kasigluk', 'Chevak', 'Nuiqsut', 'Point Lay', 'Barter Island', 'Deadhorse', 'Kotlik', 'Galena', 'Ruby', 'Huslia', 'Kaltag', 'Nulato', 'Gambell', 'Savoonga', 'Scammon Bay', 'Noorvik', 'Shaktoolik', 'Brevig Mission', 'Wales', 'Kivalina', 'Mekoryuk', 'Shishmaref', 'Sleetmute', 'St. Michael', 'Caracas', 'Valencia', 'Barquisimeto', 'Port-of-spain', 'Port-au-prince', 'Dushanbe', 'Alma-ata', 'Khudzhand', 'Bishkek', 'Tehran', 'Surgut', 'Sharjah', 'Panama', 'Changuinola', 'David', 'Jaqué', 'Aktyubinsk', 'Cheboksary', 'Elista', 'Izhevsk', 'Makhachkala', 'Petrozavodsk', 'Penza', 'Saransk', 'Ulyanovsk', 'Vorkuta', 'Voronezh', 'Samara', 'Rostov', 'Volgograd', 'Yaroslavl', 'Kurgan', 'Uraj', 'Chiang Mai', 'Akhiok', 'Tin City', 'Baotou', 'Tengchong', 'Shangri-La', 'Anahim Lake', 'Victoria', 'Port Hardy', 'Trail', 'Masset', 'Adana', 'Izmir', 'Bodrum', 'Diyabakir', 'Dalaman', 'Nicosia', 'Erzurum', 'Elazig', 'Sanliurfa', 'Alanya', 'Gaziantep', 'Malatya', 'Odessa', 'Trabzon', 'Mar Del Plata', 'Rosario', 'Bahia Blanca', 'Trelew', 'Comodoro Rivadavia', 'Esquel', 'Neuquen', 'Rio Gallegos', 'Rio Grande', 'Ushuaia', 'Wekweeti', 'Whatì', 'Gamètì', \"Lutselk'e\", 'Kufra', 'Benghazi', 'Amman', 'Alexandria', 'Sfax', 'Tobruk', 'Allakaket', 'Venetie', 'Lake Minchumina', 'Changde', 'Luoyang', 'Saga', 'Kaohsiung', 'Zunyi', 'Takamatsu', \"N'djamena\", 'Kalamazoo', 'Chattanooga', 'Cedar Rapids', 'Cincinnati', 'Evansville', 'Fort Wayne', 'Greensboro', 'Lansing', 'Saginaw', 'Minneapolis', 'Knoxville', 'Detroit', 'New Orleans', 'Grand Forks', 'Thief River Falls', 'Harrisburg', 'Nantucket', 'Boston', 'New Bedford', 'Massena', 'San Juan', 'Bar Harbor', 'Billings', 'Glendive', 'Glasgow', 'Wolf Point', 'Lebanon', 'Provincetown', 'Rutland', 'Cape Girardeau', 'Culebra Island', 'Tortola', 'St. Thomas', 'Kirksville', 'Mayaguez', 'Owensboro', 'Spanish Town', 'Vieques Island', 'Dawson Creek', 'High Level', 'Fort Saint John', 'Kamloops', 'Lloydminster', 'Cockburn Town', 'Providenciales', 'San Andres Island', 'Carepa', 'Medellin', 'Ipiales', 'Mitu', 'Puerto Carreno', 'Puerto Inírida', 'Pasto', 'Puerto Asis', 'Saravena', 'San Jose Del Guaviare', 'Quibdo', 'Villa Garzon', 'Villavicencio', 'Bahia Solano', 'Nuquí', 'Puerto Leguízamo', 'Chisinau', 'Beauvais', 'Kiev', 'Bucharest', 'Porlamar', 'Panama City', 'Valera', 'Aizwal', 'Abu Dhabi', 'Amritsar', 'Calicut', 'Dammam', 'Kuwait', 'Bahrain', 'Bhuj', 'Bhopal', 'Bhaunagar', 'Mangalore', 'Colombo', 'Doha', 'Aurangabad', 'Jodhpur', 'Rajkot', 'Riyadh', 'Udaipur', 'Toronto', 'Silchar', 'Port Blair', 'Dehra Dun', 'Gorakhpur', 'Leh', 'Porbandar', 'Rajahmundry', 'Madurai', 'Tiruchirappalli', 'Sitia', 'Chios', 'Kalamata', 'Samos', 'Karpathos', 'Kasos', 'Alexandroupolis', 'Chania', 'Ioannina', 'Ikaria', 'Kalymnos', 'Cyclades Islands', 'Skiathos', 'Syros Island', 'Astypalaia', 'Kithira', 'Leros', 'Limnos', 'Mytilini', 'Milos', 'Marseille', 'Nantes', 'Paros', 'Philadelphia', 'Skiros', 'Sofia', 'Tirana', 'Zakynthos', 'Porto', 'Kastelorizo', 'Yacuiba', 'Santa Cruz', 'Tarija', 'Cochabamba', 'Trinidad', 'Cobija', 'Guayaramerín', 'Oruro', 'Riberalta', 'Agen', 'Castres', 'Ajaccio', 'Brive', 'Poitiers', 'Clermont-Ferrand', 'Strasbourg', 'Aurillac', 'Lille', 'Caen', 'Metz', 'Florence', 'Figari', 'Gothenborg', 'Lannion', 'Tarbes', 'La Rochelle', 'Lorient', 'Rennes', 'Perpignan', 'Rodez', 'Quimper', 'Entebbe', 'Kasese', 'Batumi', 'Kutaisi', 'Albuquerque', 'Phoenix', 'Aberdeen', 'Waco', 'Adelaide', 'Brisbane', 'Washington', 'Auckland', 'Papeete', 'Arequipa', 'Alice Springs', 'Lahore', 'Asheville', 'Scranton', 'Bermuda', 'Windsor Locks', 'Pittsburgh', 'Bakersfield', 'Bridgetown', 'Binghamton', 'Belfast', 'Nashville', 'Canberra', 'Cairns', 'Townsville', 'Boise', 'Buffalo', 'Portland', 'Richmond', 'San Diego', 'Seattle', 'Baton Rouge', 'Baltimore', 'Columbia', 'Akron', 'Christchurch', 'Cleveland', 'Daytona Beach', 'Dayton', 'Denver', 'Des Moines', 'New Bern', 'Hilton Head Island', 'Huntsville', 'Houston', 'Indianapolis', 'Little Rock', 'Montego Bay', 'Kansas City', 'Milwaukee', 'Myrtle Beach', 'Nassau', 'Omaha', 'Norfolk', 'Newport News', 'Savannah', 'Salisbury', 'Louisville', 'San Francisco', 'Salt Lake City', 'Sacramento', 'Sarasota', 'BRISTOL', 'Valparaiso', 'Champaign', 'Colorado Springs', 'Sapporo', 'Durango', 'El Paso', 'Fresno', 'Sioux Falls', 'Grand Rapids', 'Honolulu', 'Lubbock', 'Mcallen', 'Manhattan', 'Morelia', 'Kahului', 'Oklahoma City', 'Ontario', 'Puebla', 'Palm Springs', 'Queretaro', 'Rapid City', 'Reno', 'San Salvador', 'Springfield', 'Shreveport', 'San Angelo', 'San Luis Potosi', 'Wichita Falls', 'Tulsa', 'Tucson', 'Texarkana', 'Erie', 'Flint', 'Spokane', 'Gibraltar', 'Oakland', 'New Haven', 'Juneau', 'Juliaca', 'Langkawi', 'Lihue', 'Mammoth Lakes', 'Monterey', 'Leeds', 'Long Beach', 'Luxemburg', 'Newcastle', 'Rotterdam', 'Stavanger', 'La Crosse', 'Manaus', 'Recife', 'Sioux City', 'Traverse City', 'San Luis Obispo', 'Puerto Montt', 'Punta Arenas', 'Arrecife', 'Fuerteventura', 'Alicante', 'Munster', 'Paderborn', 'Menorca', 'Enfidha', 'Djerba', 'Funchal', 'Guernsey', 'Jersey', 'Ponta Delgada', 'Preveza', 'Varadero', 'Gdansk', 'Linz', 'Innsbruck', 'Almeria', 'Malta', 'Saarbruecken', 'Sevilla', 'Addis Ababa', 'Bujumbura', 'Kigali', 'Luanda', 'Vilnius', 'Fort Mcmurray', 'Saskatoon', 'Kinshasa', 'Holguin', 'Trondheim', 'Baie Comeau', 'Mont Joli', 'Nanaimo', 'Grande Prairie', 'Fredericton', 'Moncton', 'St. John', 'Charlottetown', 'Windsor', 'Lethbridge', 'Thunder Bay', 'Timmins', \"Val D'or\", 'Penticton', 'Medicine Hat', 'Sarnia', 'Patos de Minas', 'Aracaju', 'Maceio', 'Campinas', 'Aracatuba', 'Belem', 'Parauapebas', 'Fortaleza', 'Imperatriz', 'Macapa', 'Porto Seguro', 'Vilhena', 'Criciuma', 'Ji-Paraná', 'Londrina', 'Cacoal', 'Porto Velho', 'Rondonopolis', 'Corumba', 'Coari', 'Caldas Novas', 'Campina Grande', 'Ipatinga', 'Juiz de Fora', 'Montes Claros', 'Petrolina', 'Foz Do Iguacu', 'Eirunepe', 'Tefe', 'Florianopolis', 'Parnaiba', 'Teresina', 'Ilheus', 'Governador Valadares', 'Itaituba', 'Joinville', 'Bauru', 'Marília', 'Lençóis', 'Tucurui', 'Parintins', 'Tabatinga', 'Macaé', 'Pelotas', 'Passo Fundo', 'Sao Jose Dos Campos', 'Santa Maria', 'Chapeco', 'Taichung', 'Kinmen', 'Makung', 'Yancheng', 'Abuja', 'Liege', 'Harare', 'Kilimanjaro', 'Antwerp', 'Dallas', 'South Bend', 'Valdosta', 'Southampton', 'Beirut', 'Bangui', 'Yaounde', 'St-Etienne', 'Krabi', 'Luang Prabang', 'Brazzaville', 'Exeter', 'Genoa', 'Libreville', 'Ljubljana', 'Rabat', 'Antananarivo', 'Vigo', 'Dar Es Salaam', 'Malabo', 'Deauville', 'Dzaoudzi', 'Lusaka', 'Ivalo', 'Kittila', 'Limoges', 'Lilongwe', 'Baishan', 'Hyeres', 'Babelthuap', 'Annaba', 'Oran', 'Biskra', 'Djanet', 'El Bayadh', 'Ghardaia', 'Hassi Messaoud', 'In Salah', 'Mecheria', 'Ouargla', 'Setif', 'Tebessa', 'Touggourt', 'Tiaret', 'Tlemcen', 'Bordj Badji Mokhtar', 'Béchar', 'Tamanrasset', 'El Golea', 'Zarzaitine', 'Agra', 'Khajuraho', 'Agatti Island', 'Gwalior', 'Allahabad', 'Jamnagar', 'Dimapur', 'Shillong', 'Jabalpur', 'Kanpur', 'Surat', 'Vijayawada', 'Male', 'Alor Setar', 'Bandung', 'Johor Bahru', 'Kota Bahru', 'Kuching', 'Miri', 'Sandakan', 'Tawau', 'Balikpapan', 'Banda Aceh', 'Bintulu', 'Hat Yai', 'Sibu', 'Yogyakarta', 'Labuan', 'Padang', 'Pekanbaru', 'Palembang', 'Solo City', 'Semarang', 'Surabaya', 'Kuala Terengganu', 'Ujung Pandang', 'Surat Thani', 'Vientiane', 'Colima', 'Ciudad Victoria', 'Tapachula', 'Los Mochis', 'Mexicali', 'Jalapa', 'Nuevo Laredo', 'Saltillo', 'Tepic', 'Formosa', 'El Calafate', 'Iguazu Falls', 'La Rioja', 'Jujuy', 'Salta', 'Tucuman', 'Viedma', 'Adak Island', 'Cold Bay', 'Dillingham', 'Point Barrow', 'Plattsburgh', 'Bozeman', 'Wenatchee', 'Kalispell', 'Sitka', 'Missoula', 'Yakima', 'Agadir', 'El Aaiún', 'Oujda', 'Ouarzazate', 'Tetouan', 'Armenia', 'Barranquilla', 'Bucaramanga', 'Cucuta', 'Barrancabermeja', 'Yopal', 'Ibague', 'Monteria', 'Manizales', 'Neiva', 'Popayan', 'Rio Hacha', 'Santa Marta', 'Valledupar', 'Tumaco', 'Tamale', 'Malmoe', 'Umea', 'Joensuu', 'Jyvaskyla', 'Kajaani', 'Kuusamo', 'Keflavik', 'Kemi', 'Kuopio', 'Minsk 2', 'Norrkoeping', 'Oulu', 'Rovaniemi', 'Savonlinna', 'Tartu', 'Tampere', 'Vaasa', 'Aalborg', 'Pamplona', 'Alesund', 'Alghero', 'Humberside', 'Kristiansand', 'Teesside', 'Norwich', 'Karachi', 'Khartoum', 'Baia Mare', 'Iasi', 'Bolzano', 'Comiso', 'Cluj-napoca', 'Reggio Calabria', 'Podgorica', 'La Coruna', 'Pescara', 'Oradea', 'Satu Mare', 'Timisoara', 'Tashkent', 'Tirgu Mures', 'Ashkhabad', 'Tselinograd', 'Hargeisa', 'Wajir', 'Kitale', 'Lokichoggio', 'Masai Mara', 'Ukunda', 'Aguadilla', 'Abadan', 'Mashhad', 'Teheran', 'Ahwaz', 'Esfahan', 'Kish Island', 'Shiraz', 'Yazd', 'Bandar Abbas', 'Bakhtaran', 'Rasht', 'Tabriz', 'Zahedan', 'Aarhus', 'Durban', 'Port Elizabeth', 'Granada', 'Isle Of Man', 'Victoria Falls', 'Windhoek', 'Paphos', 'Sendai', 'Kobe', 'Kagoshima', 'Nagasaki', 'Kirkwall', 'East Midlands', 'Inverness', 'Benbecula', 'Stornoway', 'Connaught', 'Waterford', 'Barra', 'Campbeltown', 'Dundee', 'Islay', 'Tiree', 'Liverpool', 'Groote Eylandt', 'Yongzhou', 'Tongren', 'Yantai', 'Heihe', 'Mohe County', 'Jiagedaqi District', 'Jiamusi', 'Jixi', 'Vinh', 'Nha Trang', 'Danang', 'Haiphong', 'Esbjerg', 'Kristiansund', 'Kasane', 'Gaberone', 'Francistown', 'Asahikawa', 'Hakodate', 'Kanazawa', 'Okayama', 'Huangshan', 'Palanga', 'Kindu', 'Boende', 'Mbandaka', 'Bunia', 'Goma', 'Isiro', 'Kananga', 'Kisangani', 'Tshikapa', 'Gemena', 'Kalemie', 'Lodja', 'Cayo Largo del Sur', 'Dazhou', 'Guangyuan', 'Jingdezhen', 'Luzhou', 'Yuncheng', 'Chifeng', 'Changzhi', 'Korla', 'Yining', 'Yiwu', 'Dandong', 'Hiroshima', 'Daqing', 'Pyongyang', 'Fuyang', 'Hailar', 'Ulanhot', 'Hami', 'Zhoushan', 'Hotan', 'Yanji', 'Jian', 'Jiujiang', 'Jinzhou', 'Quzhou', 'Liuzhou', 'Mudanjiang', 'Muan', 'Qiqihar', 'Bayannur', 'Taegu', 'Tongliao', 'Ulan Bator', 'Wuhai', 'Xiangfan', 'Xilinhot', 'Puerto Lempira', 'Avignon', 'Port Moresby', 'Buka Island', 'Daru', 'Nadzab', 'Goroka', 'Mount Hagen', 'Madang', 'Gurney', 'Misima Island', 'Tabubil', 'Wewak', 'Kavieng', 'Momote', 'Bulolo', 'Tainan', 'Camaguey', 'Guantanamo', 'Khabarovsk', 'Ko Samui', 'Vladivostok', 'Anshan', 'Anqing', 'Anshun', 'Bijie', 'Jining', 'Chizhou', 'Lianyungang', 'Nanchong', 'Kuqa', 'Lincang', 'Zhaotong', 'Karamay', 'Xinyuan', 'Osh', 'Tacheng', \"Yan'an\", 'Cherepovets', 'Veliky Ustyug', 'Apatity', 'Ndola', 'Coolangatta', 'Ängelholm', 'Ronneby', 'Sundsvall', 'Trollhattan', 'Buri Ram', 'Chiang Rai', 'Chumphon', 'Udon Thani', 'Nakhon Phanom', 'Loei', 'Nan', 'Nakhon Si Thammarat', 'Phitsanulok', 'Phrae', 'Roi Et', 'Sakon Nakhon', 'Ubon Ratchathani', 'Ranong', 'Bemidji', 'International Falls', 'Butte', 'Bratislava', 'Cedar City', 'Moab', 'Duluth', 'Escanaba', 'Pellston', 'Gillette', 'Hibbing', 'Idaho Falls', 'Kosice', 'Lincoln', 'Minot', 'Pocatello', 'Saint George', 'Cap Skiring', 'Ziguinchor', 'Soyo', 'Catumbela', 'Ondjiva', 'Malanje', 'Mocamedes', 'Huambo', 'Lubango', 'Kuito', 'Sao Tome', 'Saurimo', 'Aktau', 'Chimkent', 'Dzhambul', 'Zhezkazgan', 'Karaganda', 'Kokshetau', 'Kostanay', 'Ust Kamenogorsk', 'Atyrau', 'Kzyl-Orda', 'Ronne', 'Molde', 'Stord', 'Rygge', 'Kiruna', 'Lulea', 'Bardufoss', 'Bourgas', 'Karup', 'Haugesund', 'Kirkenes', 'Svalbard', 'Murcia', 'Szczecin', 'Port Gentil', 'Ulaangom', 'Kurgan Tyube', 'Kulyab', 'Orenburg', 'Blackpool', 'Bournemouth', 'Southend', 'Baghdad', 'Blackall', 'Longreach', 'Rockhampton', 'Basrah', 'Gove', 'Erbil', 'Madinah', 'Peshawar', 'Sanaa', 'Sialkot', 'Wellington', 'Donetsk', 'Taif', 'Yenbo', 'Zabol', 'Ardabil', 'Sabzevar', 'Bandar Lengeh', 'Bojnourd', 'Bushehr', 'Dezful', 'Lamerd', 'Chah Bahar', 'Gorgan', 'Gachsaran', 'Hamadan', 'Sulaymaniyah', 'Kandahar', 'Kerman', 'Khoy', 'Noshahr', 'Uromiyeh', 'Parsabad', 'Sanandaj', 'Yasuj', 'Galapagos', 'Latacunga', 'Tulcan', 'Arba Minch', 'Asosa', 'Axum', 'Bahar Dar', 'Dire Dawa', 'Enugu', 'Gondar', 'Jijiga', 'Jimma', 'Maputo', 'Lalibella', 'Blantyre', 'Gode', 'Porto Santo', 'Nanyuki', 'Lampedusa', 'Lugano', 'Pantelleria', 'Trapani', 'Alliance', 'Alamosa', 'Pierre', 'Cheyenne', 'Dodge City', 'Show Low', 'St. Augustine Airport', 'Khon Kaen', 'Narathiwat', 'Ankara', 'Kiritimati', 'Funafuti', 'Nausori', 'Honiara', 'Port-vila', 'Rotuma', 'Savusavu', 'Tongatapu', 'Tarawa', 'Vanua Balavu', 'Qinhuangdao', 'Aden', 'Abha', 'Mukalla', 'Ataq', 'Taiz', 'Hodeidah', 'Socotra', 'Charleroi', 'Eindhoven', 'Weeze', 'Prestwick', 'Zaragoza', 'Vasteras', 'Parma', 'Kaunas', 'Maastricht', 'Valladolid', 'Luebeck', 'Lappeenranta', 'Bydgoszcz', 'Londonderry', 'Reus', 'Carcassonne', 'Beziers', 'Brno', 'Rzeszow', 'Perugia', 'Nimes', 'Dinard', 'Tours', 'Patras', 'Groningen', 'Skelleftea', 'Plovdiv', 'Lublin', 'Osijek', 'Ostrava', 'Batam', 'Ipoh', 'Kuantan', 'Hail', 'Kharkov', 'Multan', 'Najaf', 'Port Sudan', 'Salalah', 'Mesa', 'Hagerstown', 'Niagara Falls', 'Youngstown', 'Portsmouth', 'Baise', 'Dongying', 'Wuzhou', 'Asyut', 'Sohag', 'Banjarmasin', 'Biak', 'Jayapura', 'Bengkulu', 'Bima', 'Manado', 'Jambi', 'Malang', 'Pangkal Pinang', 'Palangkaraya', 'Palu', 'Pontianak', 'Tanjung Pandan', 'Tanjung Pinang', 'Ternate', 'Merauke', 'Manokwari', 'Kupang', 'Gorontalo', 'Kendari', 'Sorong', 'Kushiro', 'Matsuyama', 'Ittoqqortoormiit', 'Godthaab', 'Ilulissat', 'Paamiut', 'Sisimiut', 'Maniitsoq', 'Narssarssuaq', 'Aasiaat', 'Uummannaq', 'Upernavik', 'Qaqortoq', 'Nanortalik', 'Narsaq', 'Alluitsup Paa', 'Qaanaaq', 'Thule', 'Kastoria', 'Kozani', 'Alderney', 'Erenhot', 'Zhangye', 'Unalaska', 'South Naknek', 'False Pass', 'King Cove', 'Nelson Lagoon', 'Egegik', 'Igiugig', 'Port Heiden', 'Aitutaki', 'Atiu Island', 'Avarua', 'Mangaia Island', 'Mitiaro Island', 'Arica', 'Valdivia', 'Temuco', 'Copiapo', 'Arua', 'Hilo', 'Lanai', 'Molokai', 'Pago Pago', 'Memanbetsu', 'Obihiro', 'Praslin', 'Longyan', 'Ostend', 'Borlange', 'Orebro', 'Östersund', 'Weifang', 'Amilcar Cabral', 'Fort Good Hope', 'Tulita', 'Deline', 'Andizhan', 'Urgench', 'Termez', 'Yuzhno-Kurilsk', 'Klawock', 'Bahawalpur', 'Quetta', 'Faisalabad', 'Melilla', 'Aviles', 'San Sebastian', 'Leon', 'Burgos', 'Salamanca', 'Lleida', 'Sege', 'Rennell Island', 'Mostar', 'Sharm El Sheikh', 'Saumlaki', 'Pangkalan Bun', 'Oksibil', 'Wamena', 'Ketapang', 'Abakan', 'Blagoveschensk', 'Omsk', 'Magadan', 'Kyzyl', \"Land's End\", 'Salekhard', 'Khorram Abad', 'Birjand', 'Al Ain', 'Asmara', 'Haifa', 'Ganja', 'Fort Chipewyan', 'Geneina', 'El Fasher', 'Nyala', 'Elfin Cove', 'Hoonah', 'Skagway', 'Angoon', 'Redang', 'Luxor', 'Banja Luka', 'Arxan', 'Bloemfontein', 'Aomori', 'Hanamaki', 'Kumamoto', 'Ciudad del Este', 'Amami', 'Tokushima', 'Dunedin', 'Avalon', 'Uluru', 'Hobart', 'Maroochydore', 'Fak Fak', 'Nabire', 'Bau-Bau', 'Maumere', 'Waingapu', 'Kaimana', 'Naha', 'Poso', 'Berbera', 'Bosaso', 'Galcaio', 'Fort Frances', 'Kenora', 'Flin Flon', 'The Pas', 'Dryden', 'Sioux Lookout', 'Kapuskasing', 'Cap Haitien', 'South Caicos', 'Hydaburg', 'Imperial', 'El Dorado', 'Sihanoukville', 'Mae Hong Son', 'Thimphu', 'Pavlodar', 'Sacheon', 'Kunsan', 'Kwangju', 'Yeosu', 'Ulsan', 'Wonju', 'Pohang', 'Linkoeping', 'Foshan', 'Nampula', 'Mwanza', 'Cayman Brac', 'Little Cayman', 'La Ceiba', 'Zouerat', 'Nouadhibou', 'Chiclayo', 'Cajamarca', 'Easter Island', 'Piura', 'Tacna', 'Mount Pleasant', 'Angouleme', 'Nizhniy Novgorod', 'Lvov', 'Sibiu', 'Kingstown', 'Eday', 'North Ronaldsay', 'Papa Westray', 'Stronsay', 'Westray', 'Ghat', 'Ghadames', 'Sirt', 'Fagernes', 'Aswan', 'Port Angeles', 'Eastsound', 'Almeirim', 'Zaporozhye', 'Uzhgorod', 'Antalaha', 'Toamasina', 'Maroantsetra', 'Antsiranana', 'Sambava', 'Mahajanga', 'Tolagnaro', 'Toliara', 'Morondava', 'Bario', 'Marudi', 'Kudat', 'Lahad Datu', 'Lawas', 'Bakalalan', 'Mukah', 'Limbang', 'Dili', 'Rodriguez Island', 'East London', 'Bayankhongor', 'Dalanzadgad', 'Uliastai', 'Abu Simbel', 'Kangding', 'Golmud', 'Shiquanhe', 'Naypyidaw', 'Zhangjiakou', 'Kamuela', 'La Isabela', 'Ablow', 'Gaua Island', 'Noumea', 'Malekula Island', 'Pentecost Island', 'Nakashibetsu', 'Wakkanai', 'Hachijojima', 'Iwakuni', 'Shonai', 'Cacador', 'Guarapuava', 'Erechim', 'Uruguaiana', 'Atlantic City', 'Sukkur', 'La Gomera', 'Hierro', 'Kumejima', 'Akureyri', 'Reykjavik', 'Egilsstadir', 'Isafjordur', 'Hamilton', 'Kaitaia', 'Kerikeri', 'New Plymouth', 'Nelson', 'Palmerston North', 'Paraparaumu', 'Rotorua', 'Tauranga', 'Taupo', 'Wanganui', 'Whakatane', 'Whangarei', 'Cloncurry', 'Norfolk Island', 'Hokitika', 'Invercargill', 'Derby', 'Geraldton', 'Alofi', 'Kalgoorlie', 'Kununurra', 'Paraburdoo', 'Port Macquarie', 'Timaru', 'Sunyani', 'Takoradi', 'Sucre', 'Karlovy Vary', 'Nauru', 'Majuro', 'Dnepropetrovsk', 'Puerto Madryn', 'Chipata', 'Guanaja', 'Utila', 'Bonaventure', 'Havre-Saint-Pierre', 'Natuashish', 'Makkovik', 'Postville', 'Churchill Falls', 'Van', 'Kayseri', 'Hatay', 'Mardin', 'Sivas', 'Konya', 'Batman', 'Denizli', 'Erzincan', 'Kahramanmaras', 'Merzifon', 'Nevsehir', 'Lampang', 'Trat', 'Pattaya', 'Chokurdah', 'Tiksi', 'Neryungri', 'Batagay-Alyta', 'Rahim Yar Khan', 'Chitral', 'Dalbandin', 'Dera Ghazi Khan', 'Zhob', 'Gilgit', 'Gwadar', 'Turbat', 'Skardu', 'Moenjodaro', 'Panjgur', 'Rock Sound', 'Calbayog City', 'Jolo', 'Masbate', 'Ivano-Frankivsk', 'Arusha', 'Bukoba', 'Mbeya', 'Mtwara', 'Kundiawa', 'Vanimo', 'Mendi', 'Gan Island', 'Haa Dhaalu Atoll', 'Laamu Atoll', 'Aurukun', 'Bedourie', 'Boulia', 'Birdsville', 'Roma', 'Toowoomba', 'Mount Isa', 'Burketown', 'Doomadgee', 'Mornington Island', 'Windorah', 'Cunnamulla', 'St George', 'Thargomindah', 'Pormpuraaw', 'Kowanyama', 'Weipa', 'Quilpie', 'Port Menier', 'Natashquan', 'Siri Island', 'Garoua', 'Maroua', 'Albury', 'Port Lincoln', 'Armidale', 'Bundaberg', 'Karratha', 'Emerald', 'Gladstone', 'Hervey Bay', 'Lord Howe Island', 'Moranbah', 'Port Hedland', \"Coff's Harbour\", 'Dubbo', 'Mildura', 'Newman', 'Wagga Wagga', 'El Vigía', 'Savannakhet', 'Huay Xai', 'Pakse', 'Luang Namtha', 'Muang Xay', 'Orsk', 'Nogliki', 'Rimini', 'Pevek', 'Vagar', 'Fujeirah', 'Aqaba', 'Mosul', 'Minacu', 'Sao Felix do Xingu', 'Anapa', 'Barnaul', 'Novokuznetsk', 'Norilsk', 'Beslan', 'Gorno-Altaysk', 'Simferopol', 'Stavropol', 'Tomsk', 'Bulawayo', 'Hoedspruit', 'Mpumalanga', 'Upington', 'Walvis Bay', 'Maseru', 'Manzini', 'Phalaborwa', 'Potgietersrus', 'Pietermaritzburg', \"Richard's Bay\", 'Umtata', 'Hubli', 'Belgaum', 'Mysore', 'Burnie', 'Flinders Island', 'Graciosa Island', 'Sao Jorge Island', 'Augsburg', 'Erfurt', 'Kassel', 'Hawarden', 'Zonguldak', 'Gelendzhik', 'Bisha', 'Nejran', 'Gizan', 'Wejh', 'Al-Ula', 'Rafha', 'Rundu', 'Ondangwa', 'Luderitz', 'Oranjemund', 'Bern', 'Khanty-Mansiysk', 'Dijon', 'Perigueux', 'Le Havre', 'Teterboro', 'Adiyaman', 'Bingol', 'Canakkale', 'Constanta', 'Igdir', 'Kars', 'Çorlu', 'Isparta', 'Kastamonu', 'Kutahya', 'Maningrida', 'Elcho Island', 'Milingimbi', 'Lichinga', 'Quelimane', 'Inhambane', 'Chimoio', 'Tozeur', 'Koumac', 'Île des Pins', 'Kone', 'Lifou', 'Mare', 'Ouvea', 'Qabala', 'Lankaran', 'Gyumri', 'Aspen', 'Bradford', 'Weyers Cave', 'Vail', 'Laramie', 'Pueblo', 'Topeka', 'Yap', 'Kosrae', 'Kwajalein', 'Pohnpei', 'Klamath Falls', 'Muskegon', 'Modesto', 'Massawa', 'Gabes', 'Gafsa', 'Batticaloa', 'Sigiriya', 'Koggala', 'Pardubice', 'Matthew Town', 'Mayaguana', 'Tambow', 'Kursk', 'Badajoz', 'Cumana', 'Puerto Ayacucho', 'Puerto Cabello', 'Angelsey', 'Christmas Island', 'Hue', 'Ca Mau', 'Pleiku', 'Dienbienphu', 'Tuy Hoa', 'Can Tho', 'Dong Hoi', 'Rach Gia', 'Ahe', 'Manihi', 'Nuku Hiva', 'Ua Huka', 'Ua Pou', 'Arutua', 'Bora Bora', 'Moorea', 'Rangiroa', 'Tikehau', 'Fakarava', 'Hao Island', 'Makemo', 'Mataiva', 'Takaroa', 'Tubuai', 'Sveg', 'Hagfors', 'Kristianstad', 'Pajala', 'Mannheim', 'Kuressaare', 'Vinnitsa', 'Asaba', 'Benin', 'Calabar', 'Ibadan', 'Ilorin', 'Sokoto', 'Jos', 'Kaduna', 'Uyo', 'Andahuaylas', 'Jauja', 'Tingo Maria', 'Craiova', 'Debrecen', 'Kengtung', 'Kyaukpyu', 'Myitkyina', 'Hammerfest', 'Bronnoysund', 'Skien', 'Sogndal', 'Mehamn', 'Mo i Rana', 'Leknes', 'Mosjoen', 'Narvik', 'Svolvær', 'Honningsvag', 'Namsos', 'Rørvik', 'Roros', 'Chevery', 'La Tabatière', 'Rigolet', 'Kegaska', 'Muskrat Dam', 'Fort Hope', 'Lansdowne House', 'Ogoki Post', 'Webequie', 'Pickle Lake', 'Pikangikum', 'Khasab', 'Zweibruecken', 'Uruapan', 'Igarka', 'Turukhansk', 'Bandar Mahshahr', 'Noyabrsk', 'Tarko-Sale', 'Peawanuck', 'Kashechewan', 'Moosonee', 'Chisasibi', 'Waskaganish', 'Chibougamau', 'Eastmain River', 'Wemindji', 'Grand Canyon', 'Biratnagar', 'Bhairawa', 'Janakpur', 'Nepalgunj', 'Pokhara', 'Sevastopol', 'Uyuni', 'Scottsbluff', 'North Platte', 'Merced', 'Visalia', 'Broken Hill', 'Coober Pedy', 'Mount Gambier', 'Whyalla', 'Narrandera', 'Taree', 'Merimbula', 'Moruya', 'Orange']\n"
          ]
        }
      ]
    },
    {
      "cell_type": "code",
      "source": [
        "import os\n",
        "import polars as pl\n",
        "\n",
        "# Initialize an empty DataFrame with the required columns and explicit types\n",
        "text_df = pl.DataFrame({\"node\": pl.Series([], dtype=pl.Utf8),\n",
        "                        \"history\": pl.Series([], dtype=pl.Utf8),\n",
        "                        \"demography\": pl.Series([], dtype=pl.Utf8)})\n",
        "\n",
        "# Process files in the `history` folder\n",
        "for filename in os.listdir('/content/drive/MyDrive/history'):\n",
        "    filename_wo_txt = os.path.splitext(filename)[0]\n",
        "    if filename_wo_txt in G_loaded.nodes():\n",
        "        with open(os.path.join('/content/drive/MyDrive/history', filename), 'r', encoding='utf-8') as file:\n",
        "            content = file.read()\n",
        "        new_row = pl.DataFrame({\"node\": [filename_wo_txt], \"history\": [content], \"demography\": [None]})\n",
        "        text_df = pl.concat([text_df, new_row], how=\"vertical\", rechunk=True)\n",
        "\n",
        "# Process files in the `demography` folder\n",
        "for filename in os.listdir('/content/drive/MyDrive/demography'):\n",
        "    filename_wo_txt = os.path.splitext(filename)[0]\n",
        "    if filename_wo_txt in G_loaded.nodes():\n",
        "        with open(os.path.join('/content/drive/MyDrive/demography', filename), 'r', encoding='utf-8') as file:\n",
        "            content = file.read()\n",
        "        new_row = pl.DataFrame({\"node\": [filename_wo_txt], \"history\": [None], \"demography\": [content]})\n",
        "        text_df = pl.concat([text_df, new_row], how=\"vertical\", rechunk=True)\n",
        "\n",
        "# Combine rows for the same `node` manually\n",
        "nodes = text_df[\"node\"].unique()\n",
        "aggregated_data = []\n",
        "\n",
        "for node in nodes:\n",
        "    node_data = text_df.filter(text_df[\"node\"] == node)\n",
        "    history = node_data[\"history\"].drop_nulls().to_list()[0] if not node_data[\"history\"].drop_nulls().is_empty() else None\n",
        "    demography = node_data[\"demography\"].drop_nulls().to_list()[0] if not node_data[\"demography\"].drop_nulls().is_empty() else None\n",
        "    aggregated_data.append({\"node\": node, \"history\": history, \"demography\": demography})\n",
        "\n",
        "text_df = pl.DataFrame(aggregated_data)\n"
      ],
      "metadata": {
        "id": "K7QBR5_WnEG_"
      },
      "execution_count": 63,
      "outputs": []
    },
    {
      "cell_type": "code",
      "source": [
        "text_df"
      ],
      "metadata": {
        "colab": {
          "base_uri": "https://localhost:8080/",
          "height": 443
        },
        "id": "5uV5--DMoOvG",
        "outputId": "1c84e44d-2142-4a82-b089-f89f243a6b4c"
      },
      "execution_count": 64,
      "outputs": [
        {
          "output_type": "execute_result",
          "data": {
            "text/plain": [
              "shape: (2_025, 3)\n",
              "┌───────────┬─────────────────────────────────┬─────────────────────────────────┐\n",
              "│ node      ┆ history                         ┆ demography                      │\n",
              "│ ---       ┆ ---                             ┆ ---                             │\n",
              "│ str       ┆ str                             ┆ str                             │\n",
              "╞═══════════╪═════════════════════════════════╪═════════════════════════════════╡\n",
              "│ Turbat    ┆ In the 12th century, Turbat an… ┆                                 │\n",
              "│ Gurney    ┆ An early stretcher, likely mad… ┆ null                            │\n",
              "│ Umea      ┆ People have lived in the Umeå … ┆ null                            │\n",
              "│ Bagan     ┆ ===9th to 13th centuries===     ┆ The population of Bagan in its… │\n",
              "│           ┆                                 ┆                                 │\n",
              "│           ┆                                 ┆                                 │\n",
              "│           ┆ …                               ┆                                 │\n",
              "│ Toliara   ┆ In the 17th century, French bu… ┆ null                            │\n",
              "│ …         ┆ …                               ┆ …                               │\n",
              "│ Gilgit    ┆ ===Early history===             ┆ null                            │\n",
              "│           ┆ Brokpas tr…                     ┆                                 │\n",
              "│ Rørvik    ┆ This area was early settled, a… ┆ null                            │\n",
              "│ Blantyre  ┆ Blantyre was founded in 1876 t… ┆ ===Population growth===         │\n",
              "│           ┆                                 ┆                                 │\n",
              "│           ┆                                 ┆                                 │\n",
              "│           ┆                                 ┆ ===E…                           │\n",
              "│ La Ceiba  ┆ In 1872 Manuel Hernández built… ┆ null                            │\n",
              "│ Kingstown ┆ The modern capital, Kingstown,… ┆ null                            │\n",
              "└───────────┴─────────────────────────────────┴─────────────────────────────────┘"
            ],
            "text/html": [
              "<div><style>\n",
              ".dataframe > thead > tr,\n",
              ".dataframe > tbody > tr {\n",
              "  text-align: right;\n",
              "  white-space: pre-wrap;\n",
              "}\n",
              "</style>\n",
              "<small>shape: (2_025, 3)</small><table border=\"1\" class=\"dataframe\"><thead><tr><th>node</th><th>history</th><th>demography</th></tr><tr><td>str</td><td>str</td><td>str</td></tr></thead><tbody><tr><td>&quot;Turbat&quot;</td><td>&quot;In the 12th century, Turbat an…</td><td>&quot;&quot;</td></tr><tr><td>&quot;Gurney&quot;</td><td>&quot;An early stretcher, likely mad…</td><td>null</td></tr><tr><td>&quot;Umea&quot;</td><td>&quot;People have lived in the Umeå …</td><td>null</td></tr><tr><td>&quot;Bagan&quot;</td><td>&quot;===9th to 13th centuries===\n",
              "\n",
              "\n",
              "…</td><td>&quot;The population of Bagan in its…</td></tr><tr><td>&quot;Toliara&quot;</td><td>&quot;In the 17th century, French bu…</td><td>null</td></tr><tr><td>&hellip;</td><td>&hellip;</td><td>&hellip;</td></tr><tr><td>&quot;Gilgit&quot;</td><td>&quot;===Early history===\n",
              "Brokpas tr…</td><td>null</td></tr><tr><td>&quot;Rørvik&quot;</td><td>&quot;This area was early settled, a…</td><td>null</td></tr><tr><td>&quot;Blantyre&quot;</td><td>&quot;Blantyre was founded in 1876 t…</td><td>&quot;===Population growth===\n",
              "\n",
              "\n",
              "===E…</td></tr><tr><td>&quot;La Ceiba&quot;</td><td>&quot;In 1872 Manuel Hernández built…</td><td>null</td></tr><tr><td>&quot;Kingstown&quot;</td><td>&quot;The modern capital, Kingstown,…</td><td>null</td></tr></tbody></table></div>"
            ]
          },
          "metadata": {},
          "execution_count": 64
        }
      ]
    },
    {
      "cell_type": "code",
      "source": [
        "demography_df = text_df.select([\"node\", \"demography\"])\n",
        "demography_df = demography_df.with_columns(pl.col(\"demography\").cast(pl.Utf8))\n",
        "demography_df = demography_df.filter(pl.col(\"demography\").is_not_null())\n"
      ],
      "metadata": {
        "id": "9DRl_8QNtOKP"
      },
      "execution_count": 65,
      "outputs": []
    },
    {
      "cell_type": "markdown",
      "source": [
        "## Economy processing"
      ],
      "metadata": {
        "id": "EYF1g81vobSE"
      }
    },
    {
      "cell_type": "code",
      "source": [
        "TRANSFORMER_MODEL_NAME = \"dslim/bert-base-NER\"\n",
        "TEXT_COLUMNS_TO_USE = ['demography']\n",
        "\n",
        "# LOAD HUGGINGFACE:\n",
        "transformer_model = AutoModel.from_pretrained(TRANSFORMER_MODEL_NAME)\n",
        "transformer_tokenizer = AutoTokenizer.from_pretrained(TRANSFORMER_MODEL_NAME)\n",
        "\n",
        "# We'll init the word embeddings using the\n",
        "word2vec_embedding = get_transformers_word_embeddings(transformer_model)\n",
        "#\n",
        "demography_embeddings_df, token_col_title = convert_text2encoding_with_transformers(demography_df, transformer_tokenizer, TEXT_COLUMNS_TO_USE[0])"
      ],
      "metadata": {
        "id": "eWJCliAYm8Aq"
      },
      "execution_count": 66,
      "outputs": []
    },
    {
      "cell_type": "code",
      "source": [
        "demography_embeddings_df.head()"
      ],
      "metadata": {
        "colab": {
          "base_uri": "https://localhost:8080/",
          "height": 255
        },
        "id": "wqB1BBFDsOEf",
        "outputId": "7836a14b-6fd4-4d3e-c0ab-d343a18b95cb"
      },
      "execution_count": 67,
      "outputs": [
        {
          "output_type": "execute_result",
          "data": {
            "text/plain": [
              "shape: (5, 3)\n",
              "┌────────────┬─────────────────────────────────┬─────────────────────────────────┐\n",
              "│ node       ┆ demography                      ┆ demography_encode_dslim/bert-b… │\n",
              "│ ---        ┆ ---                             ┆ ---                             │\n",
              "│ str        ┆ str                             ┆ list[i64]                       │\n",
              "╞════════════╪═════════════════════════════════╪═════════════════════════════════╡\n",
              "│ Turbat     ┆                                 ┆ [0, 0, … 0]                     │\n",
              "│ Bagan      ┆ The population of Bagan in its… ┆ [1109, 1416, … 0]               │\n",
              "│ Balikpapan ┆ During the New Order (Indonesi… ┆ [1507, 1103, … 0]               │\n",
              "│ Kigali     ┆ As of the 2012 Rwandan census,… ┆ [1249, 1104, … 0]               │\n",
              "│ Tianjin    ┆ At the end of 2009, the popula… ┆ [1335, 1103, … 0]               │\n",
              "└────────────┴─────────────────────────────────┴─────────────────────────────────┘"
            ],
            "text/html": [
              "<div><style>\n",
              ".dataframe > thead > tr,\n",
              ".dataframe > tbody > tr {\n",
              "  text-align: right;\n",
              "  white-space: pre-wrap;\n",
              "}\n",
              "</style>\n",
              "<small>shape: (5, 3)</small><table border=\"1\" class=\"dataframe\"><thead><tr><th>node</th><th>demography</th><th>demography_encode_dslim/bert-base-NER</th></tr><tr><td>str</td><td>str</td><td>list[i64]</td></tr></thead><tbody><tr><td>&quot;Turbat&quot;</td><td>&quot;&quot;</td><td>[0, 0, … 0]</td></tr><tr><td>&quot;Bagan&quot;</td><td>&quot;The population of Bagan in its…</td><td>[1109, 1416, … 0]</td></tr><tr><td>&quot;Balikpapan&quot;</td><td>&quot;During the New Order (Indonesi…</td><td>[1507, 1103, … 0]</td></tr><tr><td>&quot;Kigali&quot;</td><td>&quot;As of the 2012 Rwandan census,…</td><td>[1249, 1104, … 0]</td></tr><tr><td>&quot;Tianjin&quot;</td><td>&quot;At the end of 2009, the popula…</td><td>[1335, 1103, … 0]</td></tr></tbody></table></div>"
            ]
          },
          "metadata": {},
          "execution_count": 67
        }
      ]
    },
    {
      "cell_type": "code",
      "source": [
        "from sklearn.metrics.pairwise import cosine_similarity\n",
        "\n",
        "cities = demography_embeddings_df['node'].to_list()\n",
        "embeddings = np.vstack(demography_embeddings_df[token_col_title].to_list())\n",
        "\n",
        "# Compute the cosine similarity matrix\n",
        "cosine_similarities = cosine_similarity(embeddings)\n",
        "\n",
        "# Put in a dataframe\n",
        "cosine_similarities_dslim = pd.DataFrame(cosine_similarities, index=cities, columns=cities)"
      ],
      "metadata": {
        "id": "CA3BuPOjwEmv"
      },
      "execution_count": 68,
      "outputs": []
    },
    {
      "cell_type": "code",
      "source": [
        "import networkx as nx\n",
        "G_demo = nx.Graph()\n",
        "\n",
        "for city1 in cosine_similarities_dslim.index:\n",
        "    for city2 in cosine_similarities_dslim.columns:\n",
        "        if city1 != city2:  # Exclude self-loops\n",
        "            weight = cosine_similarities_dslim.loc[city1, city2]\n",
        "            if weight > 0:  # Optional: Add a threshold to include only significant weights\n",
        "                G_demo.add_edge(city1, city2, weight=weight)"
      ],
      "metadata": {
        "id": "qMfZBddTwAwi"
      },
      "execution_count": 69,
      "outputs": []
    },
    {
      "cell_type": "code",
      "source": [
        "import matplotlib.pyplot as plt\n",
        "\n",
        "# Draw the graph\n",
        "pos = nx.spring_layout(G_demo)  # Position nodes using a spring layout\n",
        "plt.figure(figsize=(10, 8))\n",
        "\n",
        "# Draw nodes and labels\n",
        "nx.draw_networkx_nodes(G_demo, pos, node_size=100)\n",
        "\n",
        "# Draw edges with width proportional to weights\n",
        "edges = G_demo.edges(data=True)\n",
        "nx.draw_networkx_edges(\n",
        "    G_demo,\n",
        "    pos,\n",
        "    edgelist=[(u, v) for u, v, _ in edges],\n",
        "    width=[d['weight'] * 5 for _, _, d in edges]  # Scale weights for better visibility\n",
        ")\n",
        "\n",
        "# Add edge labels (weights)\n",
        "edge_labels = {(u, v): f\"{d['weight']:.2f}\" for u, v, d in edges}\n",
        "nx.draw_networkx_edge_labels(G_demo, pos, edge_labels=edge_labels, font_size=10)\n",
        "\n",
        "plt.title(\"Graph Representation of Cosine Similarities\")\n",
        "plt.axis(\"off\")  # Turn off the axes\n",
        "plt.show()"
      ],
      "metadata": {
        "colab": {
          "base_uri": "https://localhost:8080/",
          "height": 1000
        },
        "id": "2ZunFuO2x2iq",
        "outputId": "bd89ee08-d304-49c9-c253-f3f825ca3f70"
      },
      "execution_count": 70,
      "outputs": [
        {
          "output_type": "error",
          "ename": "KeyboardInterrupt",
          "evalue": "",
          "traceback": [
            "\u001b[0;31m---------------------------------------------------------------------------\u001b[0m",
            "\u001b[0;31mKeyboardInterrupt\u001b[0m                         Traceback (most recent call last)",
            "\u001b[0;32m<ipython-input-70-e0594bf8c50d>\u001b[0m in \u001b[0;36m<cell line: 21>\u001b[0;34m()\u001b[0m\n\u001b[1;32m     19\u001b[0m \u001b[0;31m# Add edge labels (weights)\u001b[0m\u001b[0;34m\u001b[0m\u001b[0;34m\u001b[0m\u001b[0m\n\u001b[1;32m     20\u001b[0m \u001b[0medge_labels\u001b[0m \u001b[0;34m=\u001b[0m \u001b[0;34m{\u001b[0m\u001b[0;34m(\u001b[0m\u001b[0mu\u001b[0m\u001b[0;34m,\u001b[0m \u001b[0mv\u001b[0m\u001b[0;34m)\u001b[0m\u001b[0;34m:\u001b[0m \u001b[0;34mf\"{d['weight']:.2f}\"\u001b[0m \u001b[0;32mfor\u001b[0m \u001b[0mu\u001b[0m\u001b[0;34m,\u001b[0m \u001b[0mv\u001b[0m\u001b[0;34m,\u001b[0m \u001b[0md\u001b[0m \u001b[0;32min\u001b[0m \u001b[0medges\u001b[0m\u001b[0;34m}\u001b[0m\u001b[0;34m\u001b[0m\u001b[0;34m\u001b[0m\u001b[0m\n\u001b[0;32m---> 21\u001b[0;31m \u001b[0mnx\u001b[0m\u001b[0;34m.\u001b[0m\u001b[0mdraw_networkx_edge_labels\u001b[0m\u001b[0;34m(\u001b[0m\u001b[0mG_demo\u001b[0m\u001b[0;34m,\u001b[0m \u001b[0mpos\u001b[0m\u001b[0;34m,\u001b[0m \u001b[0medge_labels\u001b[0m\u001b[0;34m=\u001b[0m\u001b[0medge_labels\u001b[0m\u001b[0;34m,\u001b[0m \u001b[0mfont_size\u001b[0m\u001b[0;34m=\u001b[0m\u001b[0;36m10\u001b[0m\u001b[0;34m)\u001b[0m\u001b[0;34m\u001b[0m\u001b[0;34m\u001b[0m\u001b[0m\n\u001b[0m\u001b[1;32m     22\u001b[0m \u001b[0;34m\u001b[0m\u001b[0m\n\u001b[1;32m     23\u001b[0m \u001b[0mplt\u001b[0m\u001b[0;34m.\u001b[0m\u001b[0mtitle\u001b[0m\u001b[0;34m(\u001b[0m\u001b[0;34m\"Graph Representation of Cosine Similarities\"\u001b[0m\u001b[0;34m)\u001b[0m\u001b[0;34m\u001b[0m\u001b[0;34m\u001b[0m\u001b[0m\n",
            "\u001b[0;32m/usr/local/lib/python3.10/dist-packages/networkx/drawing/nx_pylab.py\u001b[0m in \u001b[0;36mdraw_networkx_edge_labels\u001b[0;34m(G, pos, edge_labels, label_pos, font_size, font_color, font_family, font_weight, alpha, bbox, horizontalalignment, verticalalignment, ax, rotate, clip_on, node_size, nodelist, connectionstyle, hide_ticks)\u001b[0m\n\u001b[1;32m   1555\u001b[0m             )\n\u001b[1;32m   1556\u001b[0m         \u001b[0;32melse\u001b[0m\u001b[0;34m:\u001b[0m\u001b[0;34m\u001b[0m\u001b[0;34m\u001b[0m\u001b[0m\n\u001b[0;32m-> 1557\u001b[0;31m             text_items[edge] = CurvedArrowText(\n\u001b[0m\u001b[1;32m   1558\u001b[0m                 \u001b[0marrow\u001b[0m\u001b[0;34m,\u001b[0m\u001b[0;34m\u001b[0m\u001b[0;34m\u001b[0m\u001b[0m\n\u001b[1;32m   1559\u001b[0m                 \u001b[0mlabel\u001b[0m\u001b[0;34m,\u001b[0m\u001b[0;34m\u001b[0m\u001b[0;34m\u001b[0m\u001b[0m\n",
            "\u001b[0;32m/usr/local/lib/python3.10/dist-packages/networkx/drawing/nx_pylab.py\u001b[0m in \u001b[0;36m__init__\u001b[0;34m(self, arrow, label_pos, labels_horizontal, ax, *args, **kwargs)\u001b[0m\n\u001b[1;32m   1370\u001b[0m                 \u001b[0max\u001b[0m \u001b[0;34m=\u001b[0m \u001b[0mplt\u001b[0m\u001b[0;34m.\u001b[0m\u001b[0mgca\u001b[0m\u001b[0;34m(\u001b[0m\u001b[0;34m)\u001b[0m\u001b[0;34m\u001b[0m\u001b[0;34m\u001b[0m\u001b[0m\n\u001b[1;32m   1371\u001b[0m             \u001b[0mself\u001b[0m\u001b[0;34m.\u001b[0m\u001b[0max\u001b[0m \u001b[0;34m=\u001b[0m \u001b[0max\u001b[0m\u001b[0;34m\u001b[0m\u001b[0;34m\u001b[0m\u001b[0m\n\u001b[0;32m-> 1372\u001b[0;31m             \u001b[0mself\u001b[0m\u001b[0;34m.\u001b[0m\u001b[0mx\u001b[0m\u001b[0;34m,\u001b[0m \u001b[0mself\u001b[0m\u001b[0;34m.\u001b[0m\u001b[0my\u001b[0m\u001b[0;34m,\u001b[0m \u001b[0mself\u001b[0m\u001b[0;34m.\u001b[0m\u001b[0mangle\u001b[0m \u001b[0;34m=\u001b[0m \u001b[0mself\u001b[0m\u001b[0;34m.\u001b[0m\u001b[0m_update_text_pos_angle\u001b[0m\u001b[0;34m(\u001b[0m\u001b[0marrow\u001b[0m\u001b[0;34m)\u001b[0m\u001b[0;34m\u001b[0m\u001b[0;34m\u001b[0m\u001b[0m\n\u001b[0m\u001b[1;32m   1373\u001b[0m \u001b[0;34m\u001b[0m\u001b[0m\n\u001b[1;32m   1374\u001b[0m             \u001b[0;31m# Create text object\u001b[0m\u001b[0;34m\u001b[0m\u001b[0;34m\u001b[0m\u001b[0m\n",
            "\u001b[0;32m/usr/local/lib/python3.10/dist-packages/networkx/drawing/nx_pylab.py\u001b[0m in \u001b[0;36m_update_text_pos_angle\u001b[0;34m(self, arrow)\u001b[0m\n\u001b[1;32m   1407\u001b[0m         \u001b[0;32mdef\u001b[0m \u001b[0m_update_text_pos_angle\u001b[0m\u001b[0;34m(\u001b[0m\u001b[0mself\u001b[0m\u001b[0;34m,\u001b[0m \u001b[0marrow\u001b[0m\u001b[0;34m)\u001b[0m\u001b[0;34m:\u001b[0m\u001b[0;34m\u001b[0m\u001b[0;34m\u001b[0m\u001b[0m\n\u001b[1;32m   1408\u001b[0m             \u001b[0;31m# Fractional label position\u001b[0m\u001b[0;34m\u001b[0m\u001b[0;34m\u001b[0m\u001b[0m\n\u001b[0;32m-> 1409\u001b[0;31m             \u001b[0mpath_disp\u001b[0m \u001b[0;34m=\u001b[0m \u001b[0mself\u001b[0m\u001b[0;34m.\u001b[0m\u001b[0m_get_arrow_path_disp\u001b[0m\u001b[0;34m(\u001b[0m\u001b[0marrow\u001b[0m\u001b[0;34m)\u001b[0m\u001b[0;34m\u001b[0m\u001b[0;34m\u001b[0m\u001b[0m\n\u001b[0m\u001b[1;32m   1410\u001b[0m             \u001b[0;34m(\u001b[0m\u001b[0mx1\u001b[0m\u001b[0;34m,\u001b[0m \u001b[0my1\u001b[0m\u001b[0;34m)\u001b[0m\u001b[0;34m,\u001b[0m \u001b[0;34m(\u001b[0m\u001b[0mcx\u001b[0m\u001b[0;34m,\u001b[0m \u001b[0mcy\u001b[0m\u001b[0;34m)\u001b[0m\u001b[0;34m,\u001b[0m \u001b[0;34m(\u001b[0m\u001b[0mx2\u001b[0m\u001b[0;34m,\u001b[0m \u001b[0my2\u001b[0m\u001b[0;34m)\u001b[0m \u001b[0;34m=\u001b[0m \u001b[0mpath_disp\u001b[0m\u001b[0;34m.\u001b[0m\u001b[0mvertices\u001b[0m\u001b[0;34m\u001b[0m\u001b[0;34m\u001b[0m\u001b[0m\n\u001b[1;32m   1411\u001b[0m             \u001b[0;31m# Text position at a proportion t along the line in display coords\u001b[0m\u001b[0;34m\u001b[0m\u001b[0;34m\u001b[0m\u001b[0m\n",
            "\u001b[0;32m/usr/local/lib/python3.10/dist-packages/networkx/drawing/nx_pylab.py\u001b[0m in \u001b[0;36m_get_arrow_path_disp\u001b[0;34m(self, arrow)\u001b[0m\n\u001b[1;32m   1392\u001b[0m                 \u001b[0mposB\u001b[0m \u001b[0;34m=\u001b[0m \u001b[0marrow\u001b[0m\u001b[0;34m.\u001b[0m\u001b[0m_convert_xy_units\u001b[0m\u001b[0;34m(\u001b[0m\u001b[0marrow\u001b[0m\u001b[0;34m.\u001b[0m\u001b[0m_posA_posB\u001b[0m\u001b[0;34m[\u001b[0m\u001b[0;36m1\u001b[0m\u001b[0;34m]\u001b[0m\u001b[0;34m)\u001b[0m\u001b[0;34m\u001b[0m\u001b[0;34m\u001b[0m\u001b[0m\n\u001b[1;32m   1393\u001b[0m                 \u001b[0;34m(\u001b[0m\u001b[0mposA\u001b[0m\u001b[0;34m,\u001b[0m \u001b[0mposB\u001b[0m\u001b[0;34m)\u001b[0m \u001b[0;34m=\u001b[0m \u001b[0mtrans_data\u001b[0m\u001b[0;34m.\u001b[0m\u001b[0mtransform\u001b[0m\u001b[0;34m(\u001b[0m\u001b[0;34m(\u001b[0m\u001b[0mposA\u001b[0m\u001b[0;34m,\u001b[0m \u001b[0mposB\u001b[0m\u001b[0;34m)\u001b[0m\u001b[0;34m)\u001b[0m\u001b[0;34m\u001b[0m\u001b[0;34m\u001b[0m\u001b[0m\n\u001b[0;32m-> 1394\u001b[0;31m                 _path = arrow.get_connectionstyle()(\n\u001b[0m\u001b[1;32m   1395\u001b[0m                     \u001b[0mposA\u001b[0m\u001b[0;34m,\u001b[0m\u001b[0;34m\u001b[0m\u001b[0;34m\u001b[0m\u001b[0m\n\u001b[1;32m   1396\u001b[0m                     \u001b[0mposB\u001b[0m\u001b[0;34m,\u001b[0m\u001b[0;34m\u001b[0m\u001b[0;34m\u001b[0m\u001b[0m\n",
            "\u001b[0;32m/usr/local/lib/python3.10/dist-packages/matplotlib/patches.py\u001b[0m in \u001b[0;36m__call__\u001b[0;34m(self, posA, posB, shrinkA, shrinkB, patchA, patchB)\u001b[0m\n\u001b[1;32m   2754\u001b[0m                 \u001b[0mself\u001b[0m\u001b[0;34m.\u001b[0m\u001b[0m_in_patch\u001b[0m\u001b[0;34m(\u001b[0m\u001b[0mpatchB\u001b[0m\u001b[0;34m)\u001b[0m \u001b[0;32mif\u001b[0m \u001b[0mpatchB\u001b[0m \u001b[0;32melse\u001b[0m \u001b[0;32mNone\u001b[0m\u001b[0;34m,\u001b[0m\u001b[0;34m\u001b[0m\u001b[0;34m\u001b[0m\u001b[0m\n\u001b[1;32m   2755\u001b[0m             )\n\u001b[0;32m-> 2756\u001b[0;31m             path = self._clip(\n\u001b[0m\u001b[1;32m   2757\u001b[0m                 \u001b[0mpath\u001b[0m\u001b[0;34m,\u001b[0m\u001b[0;34m\u001b[0m\u001b[0;34m\u001b[0m\u001b[0m\n\u001b[1;32m   2758\u001b[0m                 \u001b[0minside_circle\u001b[0m\u001b[0;34m(\u001b[0m\u001b[0;34m*\u001b[0m\u001b[0mpath\u001b[0m\u001b[0;34m.\u001b[0m\u001b[0mvertices\u001b[0m\u001b[0;34m[\u001b[0m\u001b[0;36m0\u001b[0m\u001b[0;34m]\u001b[0m\u001b[0;34m,\u001b[0m \u001b[0mshrinkA\u001b[0m\u001b[0;34m)\u001b[0m \u001b[0;32mif\u001b[0m \u001b[0mshrinkA\u001b[0m \u001b[0;32melse\u001b[0m \u001b[0;32mNone\u001b[0m\u001b[0;34m,\u001b[0m\u001b[0;34m\u001b[0m\u001b[0;34m\u001b[0m\u001b[0m\n",
            "\u001b[0;32m/usr/local/lib/python3.10/dist-packages/matplotlib/patches.py\u001b[0m in \u001b[0;36m_clip\u001b[0;34m(self, path, in_start, in_stop)\u001b[0m\n\u001b[1;32m   2737\u001b[0m             \u001b[0;32mif\u001b[0m \u001b[0min_stop\u001b[0m\u001b[0;34m:\u001b[0m\u001b[0;34m\u001b[0m\u001b[0;34m\u001b[0m\u001b[0m\n\u001b[1;32m   2738\u001b[0m                 \u001b[0;32mtry\u001b[0m\u001b[0;34m:\u001b[0m\u001b[0;34m\u001b[0m\u001b[0;34m\u001b[0m\u001b[0m\n\u001b[0;32m-> 2739\u001b[0;31m                     \u001b[0mpath\u001b[0m\u001b[0;34m,\u001b[0m \u001b[0m_\u001b[0m \u001b[0;34m=\u001b[0m \u001b[0msplit_path_inout\u001b[0m\u001b[0;34m(\u001b[0m\u001b[0mpath\u001b[0m\u001b[0;34m,\u001b[0m \u001b[0min_stop\u001b[0m\u001b[0;34m)\u001b[0m\u001b[0;34m\u001b[0m\u001b[0;34m\u001b[0m\u001b[0m\n\u001b[0m\u001b[1;32m   2740\u001b[0m                 \u001b[0;32mexcept\u001b[0m \u001b[0mValueError\u001b[0m\u001b[0;34m:\u001b[0m\u001b[0;34m\u001b[0m\u001b[0;34m\u001b[0m\u001b[0m\n\u001b[1;32m   2741\u001b[0m                     \u001b[0;32mpass\u001b[0m\u001b[0;34m\u001b[0m\u001b[0;34m\u001b[0m\u001b[0m\n",
            "\u001b[0;32m/usr/local/lib/python3.10/dist-packages/matplotlib/bezier.py\u001b[0m in \u001b[0;36msplit_path_inout\u001b[0;34m(path, inside, tolerance, reorder_inout)\u001b[0m\n\u001b[1;32m    368\u001b[0m \u001b[0;34m\u001b[0m\u001b[0m\n\u001b[1;32m    369\u001b[0m     \u001b[0mbp\u001b[0m \u001b[0;34m=\u001b[0m \u001b[0mbezier_path\u001b[0m\u001b[0;34m.\u001b[0m\u001b[0mreshape\u001b[0m\u001b[0;34m(\u001b[0m\u001b[0;34m(\u001b[0m\u001b[0;34m-\u001b[0m\u001b[0;36m1\u001b[0m\u001b[0;34m,\u001b[0m \u001b[0;36m2\u001b[0m\u001b[0;34m)\u001b[0m\u001b[0;34m)\u001b[0m\u001b[0;34m\u001b[0m\u001b[0;34m\u001b[0m\u001b[0m\n\u001b[0;32m--> 370\u001b[0;31m     left, right = split_bezier_intersecting_with_closedpath(\n\u001b[0m\u001b[1;32m    371\u001b[0m         bp, inside, tolerance)\n\u001b[1;32m    372\u001b[0m     \u001b[0;32mif\u001b[0m \u001b[0mlen\u001b[0m\u001b[0;34m(\u001b[0m\u001b[0mleft\u001b[0m\u001b[0;34m)\u001b[0m \u001b[0;34m==\u001b[0m \u001b[0;36m2\u001b[0m\u001b[0;34m:\u001b[0m\u001b[0;34m\u001b[0m\u001b[0;34m\u001b[0m\u001b[0m\n",
            "\u001b[0;32m/usr/local/lib/python3.10/dist-packages/matplotlib/bezier.py\u001b[0m in \u001b[0;36msplit_bezier_intersecting_with_closedpath\u001b[0;34m(bezier, inside_closedpath, tolerance)\u001b[0m\n\u001b[1;32m    331\u001b[0m     \u001b[0mbezier_point_at_t\u001b[0m \u001b[0;34m=\u001b[0m \u001b[0mbz\u001b[0m\u001b[0;34m.\u001b[0m\u001b[0mpoint_at_t\u001b[0m\u001b[0;34m\u001b[0m\u001b[0;34m\u001b[0m\u001b[0m\n\u001b[1;32m    332\u001b[0m \u001b[0;34m\u001b[0m\u001b[0m\n\u001b[0;32m--> 333\u001b[0;31m     t0, t1 = find_bezier_t_intersecting_with_closedpath(\n\u001b[0m\u001b[1;32m    334\u001b[0m         bezier_point_at_t, inside_closedpath, tolerance=tolerance)\n\u001b[1;32m    335\u001b[0m \u001b[0;34m\u001b[0m\u001b[0m\n",
            "\u001b[0;32m/usr/local/lib/python3.10/dist-packages/matplotlib/bezier.py\u001b[0m in \u001b[0;36mfind_bezier_t_intersecting_with_closedpath\u001b[0;34m(bezier_point_at_t, inside_closedpath, t0, t1, tolerance)\u001b[0m\n\u001b[1;32m    167\u001b[0m         \u001b[0;31m# calculate the middle point\u001b[0m\u001b[0;34m\u001b[0m\u001b[0;34m\u001b[0m\u001b[0m\n\u001b[1;32m    168\u001b[0m         \u001b[0mmiddle_t\u001b[0m \u001b[0;34m=\u001b[0m \u001b[0;36m0.5\u001b[0m \u001b[0;34m*\u001b[0m \u001b[0;34m(\u001b[0m\u001b[0mt0\u001b[0m \u001b[0;34m+\u001b[0m \u001b[0mt1\u001b[0m\u001b[0;34m)\u001b[0m\u001b[0;34m\u001b[0m\u001b[0;34m\u001b[0m\u001b[0m\n\u001b[0;32m--> 169\u001b[0;31m         \u001b[0mmiddle\u001b[0m \u001b[0;34m=\u001b[0m \u001b[0mbezier_point_at_t\u001b[0m\u001b[0;34m(\u001b[0m\u001b[0mmiddle_t\u001b[0m\u001b[0;34m)\u001b[0m\u001b[0;34m\u001b[0m\u001b[0;34m\u001b[0m\u001b[0m\n\u001b[0m\u001b[1;32m    170\u001b[0m         \u001b[0mmiddle_inside\u001b[0m \u001b[0;34m=\u001b[0m \u001b[0minside_closedpath\u001b[0m\u001b[0;34m(\u001b[0m\u001b[0mmiddle\u001b[0m\u001b[0;34m)\u001b[0m\u001b[0;34m\u001b[0m\u001b[0;34m\u001b[0m\u001b[0m\n\u001b[1;32m    171\u001b[0m \u001b[0;34m\u001b[0m\u001b[0m\n",
            "\u001b[0;32m/usr/local/lib/python3.10/dist-packages/matplotlib/bezier.py\u001b[0m in \u001b[0;36mpoint_at_t\u001b[0;34m(self, t)\u001b[0m\n\u001b[1;32m    220\u001b[0m         \u001b[0mEvaluate\u001b[0m \u001b[0mthe\u001b[0m \u001b[0mcurve\u001b[0m \u001b[0mat\u001b[0m \u001b[0ma\u001b[0m \u001b[0msingle\u001b[0m \u001b[0mpoint\u001b[0m\u001b[0;34m,\u001b[0m \u001b[0mreturning\u001b[0m \u001b[0ma\u001b[0m \u001b[0mtuple\u001b[0m \u001b[0mof\u001b[0m \u001b[0;34m*\u001b[0m\u001b[0md\u001b[0m\u001b[0;34m*\u001b[0m \u001b[0mfloats\u001b[0m\u001b[0;34m.\u001b[0m\u001b[0;34m\u001b[0m\u001b[0;34m\u001b[0m\u001b[0m\n\u001b[1;32m    221\u001b[0m         \"\"\"\n\u001b[0;32m--> 222\u001b[0;31m         \u001b[0;32mreturn\u001b[0m \u001b[0mtuple\u001b[0m\u001b[0;34m(\u001b[0m\u001b[0mself\u001b[0m\u001b[0;34m(\u001b[0m\u001b[0mt\u001b[0m\u001b[0;34m)\u001b[0m\u001b[0;34m)\u001b[0m\u001b[0;34m\u001b[0m\u001b[0;34m\u001b[0m\u001b[0m\n\u001b[0m\u001b[1;32m    223\u001b[0m \u001b[0;34m\u001b[0m\u001b[0m\n\u001b[1;32m    224\u001b[0m     \u001b[0;34m@\u001b[0m\u001b[0mproperty\u001b[0m\u001b[0;34m\u001b[0m\u001b[0;34m\u001b[0m\u001b[0m\n",
            "\u001b[0;31mKeyboardInterrupt\u001b[0m: "
          ]
        },
        {
          "output_type": "stream",
          "name": "stdout",
          "text": [
            "Error in callback <function _draw_all_if_interactive at 0x788d4f14a4d0> (for post_execute):\n"
          ]
        },
        {
          "output_type": "error",
          "ename": "KeyboardInterrupt",
          "evalue": "",
          "traceback": [
            "\u001b[0;31m---------------------------------------------------------------------------\u001b[0m",
            "\u001b[0;31mKeyboardInterrupt\u001b[0m                         Traceback (most recent call last)",
            "\u001b[0;32m/usr/local/lib/python3.10/dist-packages/matplotlib/pyplot.py\u001b[0m in \u001b[0;36m_draw_all_if_interactive\u001b[0;34m()\u001b[0m\n\u001b[1;32m    195\u001b[0m \u001b[0;32mdef\u001b[0m \u001b[0m_draw_all_if_interactive\u001b[0m\u001b[0;34m(\u001b[0m\u001b[0;34m)\u001b[0m \u001b[0;34m->\u001b[0m \u001b[0;32mNone\u001b[0m\u001b[0;34m:\u001b[0m\u001b[0;34m\u001b[0m\u001b[0;34m\u001b[0m\u001b[0m\n\u001b[1;32m    196\u001b[0m     \u001b[0;32mif\u001b[0m \u001b[0mmatplotlib\u001b[0m\u001b[0;34m.\u001b[0m\u001b[0mis_interactive\u001b[0m\u001b[0;34m(\u001b[0m\u001b[0;34m)\u001b[0m\u001b[0;34m:\u001b[0m\u001b[0;34m\u001b[0m\u001b[0;34m\u001b[0m\u001b[0m\n\u001b[0;32m--> 197\u001b[0;31m         \u001b[0mdraw_all\u001b[0m\u001b[0;34m(\u001b[0m\u001b[0;34m)\u001b[0m\u001b[0;34m\u001b[0m\u001b[0;34m\u001b[0m\u001b[0m\n\u001b[0m\u001b[1;32m    198\u001b[0m \u001b[0;34m\u001b[0m\u001b[0m\n\u001b[1;32m    199\u001b[0m \u001b[0;34m\u001b[0m\u001b[0m\n",
            "\u001b[0;32m/usr/local/lib/python3.10/dist-packages/matplotlib/_pylab_helpers.py\u001b[0m in \u001b[0;36mdraw_all\u001b[0;34m(cls, force)\u001b[0m\n\u001b[1;32m    130\u001b[0m         \u001b[0;32mfor\u001b[0m \u001b[0mmanager\u001b[0m \u001b[0;32min\u001b[0m \u001b[0mcls\u001b[0m\u001b[0;34m.\u001b[0m\u001b[0mget_all_fig_managers\u001b[0m\u001b[0;34m(\u001b[0m\u001b[0;34m)\u001b[0m\u001b[0;34m:\u001b[0m\u001b[0;34m\u001b[0m\u001b[0;34m\u001b[0m\u001b[0m\n\u001b[1;32m    131\u001b[0m             \u001b[0;32mif\u001b[0m \u001b[0mforce\u001b[0m \u001b[0;32mor\u001b[0m \u001b[0mmanager\u001b[0m\u001b[0;34m.\u001b[0m\u001b[0mcanvas\u001b[0m\u001b[0;34m.\u001b[0m\u001b[0mfigure\u001b[0m\u001b[0;34m.\u001b[0m\u001b[0mstale\u001b[0m\u001b[0;34m:\u001b[0m\u001b[0;34m\u001b[0m\u001b[0;34m\u001b[0m\u001b[0m\n\u001b[0;32m--> 132\u001b[0;31m                 \u001b[0mmanager\u001b[0m\u001b[0;34m.\u001b[0m\u001b[0mcanvas\u001b[0m\u001b[0;34m.\u001b[0m\u001b[0mdraw_idle\u001b[0m\u001b[0;34m(\u001b[0m\u001b[0;34m)\u001b[0m\u001b[0;34m\u001b[0m\u001b[0;34m\u001b[0m\u001b[0m\n\u001b[0m\u001b[1;32m    133\u001b[0m \u001b[0;34m\u001b[0m\u001b[0m\n\u001b[1;32m    134\u001b[0m \u001b[0;34m\u001b[0m\u001b[0m\n",
            "\u001b[0;32m/usr/local/lib/python3.10/dist-packages/matplotlib/backend_bases.py\u001b[0m in \u001b[0;36mdraw_idle\u001b[0;34m(self, *args, **kwargs)\u001b[0m\n\u001b[1;32m   1891\u001b[0m         \u001b[0;32mif\u001b[0m \u001b[0;32mnot\u001b[0m \u001b[0mself\u001b[0m\u001b[0;34m.\u001b[0m\u001b[0m_is_idle_drawing\u001b[0m\u001b[0;34m:\u001b[0m\u001b[0;34m\u001b[0m\u001b[0;34m\u001b[0m\u001b[0m\n\u001b[1;32m   1892\u001b[0m             \u001b[0;32mwith\u001b[0m \u001b[0mself\u001b[0m\u001b[0;34m.\u001b[0m\u001b[0m_idle_draw_cntx\u001b[0m\u001b[0;34m(\u001b[0m\u001b[0;34m)\u001b[0m\u001b[0;34m:\u001b[0m\u001b[0;34m\u001b[0m\u001b[0;34m\u001b[0m\u001b[0m\n\u001b[0;32m-> 1893\u001b[0;31m                 \u001b[0mself\u001b[0m\u001b[0;34m.\u001b[0m\u001b[0mdraw\u001b[0m\u001b[0;34m(\u001b[0m\u001b[0;34m*\u001b[0m\u001b[0margs\u001b[0m\u001b[0;34m,\u001b[0m \u001b[0;34m**\u001b[0m\u001b[0mkwargs\u001b[0m\u001b[0;34m)\u001b[0m\u001b[0;34m\u001b[0m\u001b[0;34m\u001b[0m\u001b[0m\n\u001b[0m\u001b[1;32m   1894\u001b[0m \u001b[0;34m\u001b[0m\u001b[0m\n\u001b[1;32m   1895\u001b[0m     \u001b[0;34m@\u001b[0m\u001b[0mproperty\u001b[0m\u001b[0;34m\u001b[0m\u001b[0;34m\u001b[0m\u001b[0m\n",
            "\u001b[0;32m/usr/local/lib/python3.10/dist-packages/matplotlib/backends/backend_agg.py\u001b[0m in \u001b[0;36mdraw\u001b[0;34m(self)\u001b[0m\n\u001b[1;32m    386\u001b[0m         with (self.toolbar._wait_cursor_for_draw_cm() if self.toolbar\n\u001b[1;32m    387\u001b[0m               else nullcontext()):\n\u001b[0;32m--> 388\u001b[0;31m             \u001b[0mself\u001b[0m\u001b[0;34m.\u001b[0m\u001b[0mfigure\u001b[0m\u001b[0;34m.\u001b[0m\u001b[0mdraw\u001b[0m\u001b[0;34m(\u001b[0m\u001b[0mself\u001b[0m\u001b[0;34m.\u001b[0m\u001b[0mrenderer\u001b[0m\u001b[0;34m)\u001b[0m\u001b[0;34m\u001b[0m\u001b[0;34m\u001b[0m\u001b[0m\n\u001b[0m\u001b[1;32m    389\u001b[0m             \u001b[0;31m# A GUI class may be need to update a window using this draw, so\u001b[0m\u001b[0;34m\u001b[0m\u001b[0;34m\u001b[0m\u001b[0m\n\u001b[1;32m    390\u001b[0m             \u001b[0;31m# don't forget to call the superclass.\u001b[0m\u001b[0;34m\u001b[0m\u001b[0;34m\u001b[0m\u001b[0m\n",
            "\u001b[0;32m/usr/local/lib/python3.10/dist-packages/matplotlib/artist.py\u001b[0m in \u001b[0;36mdraw_wrapper\u001b[0;34m(artist, renderer, *args, **kwargs)\u001b[0m\n\u001b[1;32m     93\u001b[0m     \u001b[0;34m@\u001b[0m\u001b[0mwraps\u001b[0m\u001b[0;34m(\u001b[0m\u001b[0mdraw\u001b[0m\u001b[0;34m)\u001b[0m\u001b[0;34m\u001b[0m\u001b[0;34m\u001b[0m\u001b[0m\n\u001b[1;32m     94\u001b[0m     \u001b[0;32mdef\u001b[0m \u001b[0mdraw_wrapper\u001b[0m\u001b[0;34m(\u001b[0m\u001b[0martist\u001b[0m\u001b[0;34m,\u001b[0m \u001b[0mrenderer\u001b[0m\u001b[0;34m,\u001b[0m \u001b[0;34m*\u001b[0m\u001b[0margs\u001b[0m\u001b[0;34m,\u001b[0m \u001b[0;34m**\u001b[0m\u001b[0mkwargs\u001b[0m\u001b[0;34m)\u001b[0m\u001b[0;34m:\u001b[0m\u001b[0;34m\u001b[0m\u001b[0;34m\u001b[0m\u001b[0m\n\u001b[0;32m---> 95\u001b[0;31m         \u001b[0mresult\u001b[0m \u001b[0;34m=\u001b[0m \u001b[0mdraw\u001b[0m\u001b[0;34m(\u001b[0m\u001b[0martist\u001b[0m\u001b[0;34m,\u001b[0m \u001b[0mrenderer\u001b[0m\u001b[0;34m,\u001b[0m \u001b[0;34m*\u001b[0m\u001b[0margs\u001b[0m\u001b[0;34m,\u001b[0m \u001b[0;34m**\u001b[0m\u001b[0mkwargs\u001b[0m\u001b[0;34m)\u001b[0m\u001b[0;34m\u001b[0m\u001b[0;34m\u001b[0m\u001b[0m\n\u001b[0m\u001b[1;32m     96\u001b[0m         \u001b[0;32mif\u001b[0m \u001b[0mrenderer\u001b[0m\u001b[0;34m.\u001b[0m\u001b[0m_rasterizing\u001b[0m\u001b[0;34m:\u001b[0m\u001b[0;34m\u001b[0m\u001b[0;34m\u001b[0m\u001b[0m\n\u001b[1;32m     97\u001b[0m             \u001b[0mrenderer\u001b[0m\u001b[0;34m.\u001b[0m\u001b[0mstop_rasterizing\u001b[0m\u001b[0;34m(\u001b[0m\u001b[0;34m)\u001b[0m\u001b[0;34m\u001b[0m\u001b[0;34m\u001b[0m\u001b[0m\n",
            "\u001b[0;32m/usr/local/lib/python3.10/dist-packages/matplotlib/artist.py\u001b[0m in \u001b[0;36mdraw_wrapper\u001b[0;34m(artist, renderer)\u001b[0m\n\u001b[1;32m     70\u001b[0m                 \u001b[0mrenderer\u001b[0m\u001b[0;34m.\u001b[0m\u001b[0mstart_filter\u001b[0m\u001b[0;34m(\u001b[0m\u001b[0;34m)\u001b[0m\u001b[0;34m\u001b[0m\u001b[0;34m\u001b[0m\u001b[0m\n\u001b[1;32m     71\u001b[0m \u001b[0;34m\u001b[0m\u001b[0m\n\u001b[0;32m---> 72\u001b[0;31m             \u001b[0;32mreturn\u001b[0m \u001b[0mdraw\u001b[0m\u001b[0;34m(\u001b[0m\u001b[0martist\u001b[0m\u001b[0;34m,\u001b[0m \u001b[0mrenderer\u001b[0m\u001b[0;34m)\u001b[0m\u001b[0;34m\u001b[0m\u001b[0;34m\u001b[0m\u001b[0m\n\u001b[0m\u001b[1;32m     73\u001b[0m         \u001b[0;32mfinally\u001b[0m\u001b[0;34m:\u001b[0m\u001b[0;34m\u001b[0m\u001b[0;34m\u001b[0m\u001b[0m\n\u001b[1;32m     74\u001b[0m             \u001b[0;32mif\u001b[0m \u001b[0martist\u001b[0m\u001b[0;34m.\u001b[0m\u001b[0mget_agg_filter\u001b[0m\u001b[0;34m(\u001b[0m\u001b[0;34m)\u001b[0m \u001b[0;32mis\u001b[0m \u001b[0;32mnot\u001b[0m \u001b[0;32mNone\u001b[0m\u001b[0;34m:\u001b[0m\u001b[0;34m\u001b[0m\u001b[0;34m\u001b[0m\u001b[0m\n",
            "\u001b[0;32m/usr/local/lib/python3.10/dist-packages/matplotlib/figure.py\u001b[0m in \u001b[0;36mdraw\u001b[0;34m(self, renderer)\u001b[0m\n\u001b[1;32m   3152\u001b[0m \u001b[0;34m\u001b[0m\u001b[0m\n\u001b[1;32m   3153\u001b[0m                 \u001b[0mself\u001b[0m\u001b[0;34m.\u001b[0m\u001b[0mpatch\u001b[0m\u001b[0;34m.\u001b[0m\u001b[0mdraw\u001b[0m\u001b[0;34m(\u001b[0m\u001b[0mrenderer\u001b[0m\u001b[0;34m)\u001b[0m\u001b[0;34m\u001b[0m\u001b[0;34m\u001b[0m\u001b[0m\n\u001b[0;32m-> 3154\u001b[0;31m                 mimage._draw_list_compositing_images(\n\u001b[0m\u001b[1;32m   3155\u001b[0m                     renderer, self, artists, self.suppressComposite)\n\u001b[1;32m   3156\u001b[0m \u001b[0;34m\u001b[0m\u001b[0m\n",
            "\u001b[0;32m/usr/local/lib/python3.10/dist-packages/matplotlib/image.py\u001b[0m in \u001b[0;36m_draw_list_compositing_images\u001b[0;34m(renderer, parent, artists, suppress_composite)\u001b[0m\n\u001b[1;32m    130\u001b[0m     \u001b[0;32mif\u001b[0m \u001b[0mnot_composite\u001b[0m \u001b[0;32mor\u001b[0m \u001b[0;32mnot\u001b[0m \u001b[0mhas_images\u001b[0m\u001b[0;34m:\u001b[0m\u001b[0;34m\u001b[0m\u001b[0;34m\u001b[0m\u001b[0m\n\u001b[1;32m    131\u001b[0m         \u001b[0;32mfor\u001b[0m \u001b[0ma\u001b[0m \u001b[0;32min\u001b[0m \u001b[0martists\u001b[0m\u001b[0;34m:\u001b[0m\u001b[0;34m\u001b[0m\u001b[0;34m\u001b[0m\u001b[0m\n\u001b[0;32m--> 132\u001b[0;31m             \u001b[0ma\u001b[0m\u001b[0;34m.\u001b[0m\u001b[0mdraw\u001b[0m\u001b[0;34m(\u001b[0m\u001b[0mrenderer\u001b[0m\u001b[0;34m)\u001b[0m\u001b[0;34m\u001b[0m\u001b[0;34m\u001b[0m\u001b[0m\n\u001b[0m\u001b[1;32m    133\u001b[0m     \u001b[0;32melse\u001b[0m\u001b[0;34m:\u001b[0m\u001b[0;34m\u001b[0m\u001b[0;34m\u001b[0m\u001b[0m\n\u001b[1;32m    134\u001b[0m         \u001b[0;31m# Composite any adjacent images together\u001b[0m\u001b[0;34m\u001b[0m\u001b[0;34m\u001b[0m\u001b[0m\n",
            "\u001b[0;32m/usr/local/lib/python3.10/dist-packages/matplotlib/artist.py\u001b[0m in \u001b[0;36mdraw_wrapper\u001b[0;34m(artist, renderer)\u001b[0m\n\u001b[1;32m     70\u001b[0m                 \u001b[0mrenderer\u001b[0m\u001b[0;34m.\u001b[0m\u001b[0mstart_filter\u001b[0m\u001b[0;34m(\u001b[0m\u001b[0;34m)\u001b[0m\u001b[0;34m\u001b[0m\u001b[0;34m\u001b[0m\u001b[0m\n\u001b[1;32m     71\u001b[0m \u001b[0;34m\u001b[0m\u001b[0m\n\u001b[0;32m---> 72\u001b[0;31m             \u001b[0;32mreturn\u001b[0m \u001b[0mdraw\u001b[0m\u001b[0;34m(\u001b[0m\u001b[0martist\u001b[0m\u001b[0;34m,\u001b[0m \u001b[0mrenderer\u001b[0m\u001b[0;34m)\u001b[0m\u001b[0;34m\u001b[0m\u001b[0;34m\u001b[0m\u001b[0m\n\u001b[0m\u001b[1;32m     73\u001b[0m         \u001b[0;32mfinally\u001b[0m\u001b[0;34m:\u001b[0m\u001b[0;34m\u001b[0m\u001b[0;34m\u001b[0m\u001b[0m\n\u001b[1;32m     74\u001b[0m             \u001b[0;32mif\u001b[0m \u001b[0martist\u001b[0m\u001b[0;34m.\u001b[0m\u001b[0mget_agg_filter\u001b[0m\u001b[0;34m(\u001b[0m\u001b[0;34m)\u001b[0m \u001b[0;32mis\u001b[0m \u001b[0;32mnot\u001b[0m \u001b[0;32mNone\u001b[0m\u001b[0;34m:\u001b[0m\u001b[0;34m\u001b[0m\u001b[0;34m\u001b[0m\u001b[0m\n",
            "\u001b[0;32m/usr/local/lib/python3.10/dist-packages/matplotlib/axes/_base.py\u001b[0m in \u001b[0;36mdraw\u001b[0;34m(self, renderer)\u001b[0m\n\u001b[1;32m   3068\u001b[0m             \u001b[0m_draw_rasterized\u001b[0m\u001b[0;34m(\u001b[0m\u001b[0mself\u001b[0m\u001b[0;34m.\u001b[0m\u001b[0mfigure\u001b[0m\u001b[0;34m,\u001b[0m \u001b[0martists_rasterized\u001b[0m\u001b[0;34m,\u001b[0m \u001b[0mrenderer\u001b[0m\u001b[0;34m)\u001b[0m\u001b[0;34m\u001b[0m\u001b[0;34m\u001b[0m\u001b[0m\n\u001b[1;32m   3069\u001b[0m \u001b[0;34m\u001b[0m\u001b[0m\n\u001b[0;32m-> 3070\u001b[0;31m         mimage._draw_list_compositing_images(\n\u001b[0m\u001b[1;32m   3071\u001b[0m             renderer, self, artists, self.figure.suppressComposite)\n\u001b[1;32m   3072\u001b[0m \u001b[0;34m\u001b[0m\u001b[0m\n",
            "\u001b[0;32m/usr/local/lib/python3.10/dist-packages/matplotlib/image.py\u001b[0m in \u001b[0;36m_draw_list_compositing_images\u001b[0;34m(renderer, parent, artists, suppress_composite)\u001b[0m\n\u001b[1;32m    130\u001b[0m     \u001b[0;32mif\u001b[0m \u001b[0mnot_composite\u001b[0m \u001b[0;32mor\u001b[0m \u001b[0;32mnot\u001b[0m \u001b[0mhas_images\u001b[0m\u001b[0;34m:\u001b[0m\u001b[0;34m\u001b[0m\u001b[0;34m\u001b[0m\u001b[0m\n\u001b[1;32m    131\u001b[0m         \u001b[0;32mfor\u001b[0m \u001b[0ma\u001b[0m \u001b[0;32min\u001b[0m \u001b[0martists\u001b[0m\u001b[0;34m:\u001b[0m\u001b[0;34m\u001b[0m\u001b[0;34m\u001b[0m\u001b[0m\n\u001b[0;32m--> 132\u001b[0;31m             \u001b[0ma\u001b[0m\u001b[0;34m.\u001b[0m\u001b[0mdraw\u001b[0m\u001b[0;34m(\u001b[0m\u001b[0mrenderer\u001b[0m\u001b[0;34m)\u001b[0m\u001b[0;34m\u001b[0m\u001b[0;34m\u001b[0m\u001b[0m\n\u001b[0m\u001b[1;32m    133\u001b[0m     \u001b[0;32melse\u001b[0m\u001b[0;34m:\u001b[0m\u001b[0;34m\u001b[0m\u001b[0;34m\u001b[0m\u001b[0m\n\u001b[1;32m    134\u001b[0m         \u001b[0;31m# Composite any adjacent images together\u001b[0m\u001b[0;34m\u001b[0m\u001b[0;34m\u001b[0m\u001b[0m\n",
            "\u001b[0;32m/usr/local/lib/python3.10/dist-packages/matplotlib/artist.py\u001b[0m in \u001b[0;36mdraw_wrapper\u001b[0;34m(artist, renderer, *args, **kwargs)\u001b[0m\n\u001b[1;32m     37\u001b[0m             \u001b[0mrenderer\u001b[0m\u001b[0;34m.\u001b[0m\u001b[0m_rasterizing\u001b[0m \u001b[0;34m=\u001b[0m \u001b[0;32mFalse\u001b[0m\u001b[0;34m\u001b[0m\u001b[0;34m\u001b[0m\u001b[0m\n\u001b[1;32m     38\u001b[0m \u001b[0;34m\u001b[0m\u001b[0m\n\u001b[0;32m---> 39\u001b[0;31m         \u001b[0;32mreturn\u001b[0m \u001b[0mdraw\u001b[0m\u001b[0;34m(\u001b[0m\u001b[0martist\u001b[0m\u001b[0;34m,\u001b[0m \u001b[0mrenderer\u001b[0m\u001b[0;34m,\u001b[0m \u001b[0;34m*\u001b[0m\u001b[0margs\u001b[0m\u001b[0;34m,\u001b[0m \u001b[0;34m**\u001b[0m\u001b[0mkwargs\u001b[0m\u001b[0;34m)\u001b[0m\u001b[0;34m\u001b[0m\u001b[0;34m\u001b[0m\u001b[0m\n\u001b[0m\u001b[1;32m     40\u001b[0m \u001b[0;34m\u001b[0m\u001b[0m\n\u001b[1;32m     41\u001b[0m     \u001b[0mdraw_wrapper\u001b[0m\u001b[0;34m.\u001b[0m\u001b[0m_supports_rasterization\u001b[0m \u001b[0;34m=\u001b[0m \u001b[0;32mFalse\u001b[0m\u001b[0;34m\u001b[0m\u001b[0;34m\u001b[0m\u001b[0m\n",
            "\u001b[0;32m/usr/local/lib/python3.10/dist-packages/networkx/drawing/nx_pylab.py\u001b[0m in \u001b[0;36mdraw\u001b[0;34m(self, renderer)\u001b[0m\n\u001b[1;32m   1433\u001b[0m         \u001b[0;32mdef\u001b[0m \u001b[0mdraw\u001b[0m\u001b[0;34m(\u001b[0m\u001b[0mself\u001b[0m\u001b[0;34m,\u001b[0m \u001b[0mrenderer\u001b[0m\u001b[0;34m)\u001b[0m\u001b[0;34m:\u001b[0m\u001b[0;34m\u001b[0m\u001b[0;34m\u001b[0m\u001b[0m\n\u001b[1;32m   1434\u001b[0m             \u001b[0;31m# recalculate the text position and angle\u001b[0m\u001b[0;34m\u001b[0m\u001b[0;34m\u001b[0m\u001b[0m\n\u001b[0;32m-> 1435\u001b[0;31m             \u001b[0mself\u001b[0m\u001b[0;34m.\u001b[0m\u001b[0mx\u001b[0m\u001b[0;34m,\u001b[0m \u001b[0mself\u001b[0m\u001b[0;34m.\u001b[0m\u001b[0my\u001b[0m\u001b[0;34m,\u001b[0m \u001b[0mself\u001b[0m\u001b[0;34m.\u001b[0m\u001b[0mangle\u001b[0m \u001b[0;34m=\u001b[0m \u001b[0mself\u001b[0m\u001b[0;34m.\u001b[0m\u001b[0m_update_text_pos_angle\u001b[0m\u001b[0;34m(\u001b[0m\u001b[0mself\u001b[0m\u001b[0;34m.\u001b[0m\u001b[0marrow\u001b[0m\u001b[0;34m)\u001b[0m\u001b[0;34m\u001b[0m\u001b[0;34m\u001b[0m\u001b[0m\n\u001b[0m\u001b[1;32m   1436\u001b[0m             \u001b[0mself\u001b[0m\u001b[0;34m.\u001b[0m\u001b[0mset_position\u001b[0m\u001b[0;34m(\u001b[0m\u001b[0;34m(\u001b[0m\u001b[0mself\u001b[0m\u001b[0;34m.\u001b[0m\u001b[0mx\u001b[0m\u001b[0;34m,\u001b[0m \u001b[0mself\u001b[0m\u001b[0;34m.\u001b[0m\u001b[0my\u001b[0m\u001b[0;34m)\u001b[0m\u001b[0;34m)\u001b[0m\u001b[0;34m\u001b[0m\u001b[0;34m\u001b[0m\u001b[0m\n\u001b[1;32m   1437\u001b[0m             \u001b[0mself\u001b[0m\u001b[0;34m.\u001b[0m\u001b[0mset_rotation\u001b[0m\u001b[0;34m(\u001b[0m\u001b[0mself\u001b[0m\u001b[0;34m.\u001b[0m\u001b[0mangle\u001b[0m\u001b[0;34m)\u001b[0m\u001b[0;34m\u001b[0m\u001b[0;34m\u001b[0m\u001b[0m\n",
            "\u001b[0;32m/usr/local/lib/python3.10/dist-packages/networkx/drawing/nx_pylab.py\u001b[0m in \u001b[0;36m_update_text_pos_angle\u001b[0;34m(self, arrow)\u001b[0m\n\u001b[1;32m   1407\u001b[0m         \u001b[0;32mdef\u001b[0m \u001b[0m_update_text_pos_angle\u001b[0m\u001b[0;34m(\u001b[0m\u001b[0mself\u001b[0m\u001b[0;34m,\u001b[0m \u001b[0marrow\u001b[0m\u001b[0;34m)\u001b[0m\u001b[0;34m:\u001b[0m\u001b[0;34m\u001b[0m\u001b[0;34m\u001b[0m\u001b[0m\n\u001b[1;32m   1408\u001b[0m             \u001b[0;31m# Fractional label position\u001b[0m\u001b[0;34m\u001b[0m\u001b[0;34m\u001b[0m\u001b[0m\n\u001b[0;32m-> 1409\u001b[0;31m             \u001b[0mpath_disp\u001b[0m \u001b[0;34m=\u001b[0m \u001b[0mself\u001b[0m\u001b[0;34m.\u001b[0m\u001b[0m_get_arrow_path_disp\u001b[0m\u001b[0;34m(\u001b[0m\u001b[0marrow\u001b[0m\u001b[0;34m)\u001b[0m\u001b[0;34m\u001b[0m\u001b[0;34m\u001b[0m\u001b[0m\n\u001b[0m\u001b[1;32m   1410\u001b[0m             \u001b[0;34m(\u001b[0m\u001b[0mx1\u001b[0m\u001b[0;34m,\u001b[0m \u001b[0my1\u001b[0m\u001b[0;34m)\u001b[0m\u001b[0;34m,\u001b[0m \u001b[0;34m(\u001b[0m\u001b[0mcx\u001b[0m\u001b[0;34m,\u001b[0m \u001b[0mcy\u001b[0m\u001b[0;34m)\u001b[0m\u001b[0;34m,\u001b[0m \u001b[0;34m(\u001b[0m\u001b[0mx2\u001b[0m\u001b[0;34m,\u001b[0m \u001b[0my2\u001b[0m\u001b[0;34m)\u001b[0m \u001b[0;34m=\u001b[0m \u001b[0mpath_disp\u001b[0m\u001b[0;34m.\u001b[0m\u001b[0mvertices\u001b[0m\u001b[0;34m\u001b[0m\u001b[0;34m\u001b[0m\u001b[0m\n\u001b[1;32m   1411\u001b[0m             \u001b[0;31m# Text position at a proportion t along the line in display coords\u001b[0m\u001b[0;34m\u001b[0m\u001b[0;34m\u001b[0m\u001b[0m\n",
            "\u001b[0;32m/usr/local/lib/python3.10/dist-packages/networkx/drawing/nx_pylab.py\u001b[0m in \u001b[0;36m_get_arrow_path_disp\u001b[0;34m(self, arrow)\u001b[0m\n\u001b[1;32m   1392\u001b[0m                 \u001b[0mposB\u001b[0m \u001b[0;34m=\u001b[0m \u001b[0marrow\u001b[0m\u001b[0;34m.\u001b[0m\u001b[0m_convert_xy_units\u001b[0m\u001b[0;34m(\u001b[0m\u001b[0marrow\u001b[0m\u001b[0;34m.\u001b[0m\u001b[0m_posA_posB\u001b[0m\u001b[0;34m[\u001b[0m\u001b[0;36m1\u001b[0m\u001b[0;34m]\u001b[0m\u001b[0;34m)\u001b[0m\u001b[0;34m\u001b[0m\u001b[0;34m\u001b[0m\u001b[0m\n\u001b[1;32m   1393\u001b[0m                 \u001b[0;34m(\u001b[0m\u001b[0mposA\u001b[0m\u001b[0;34m,\u001b[0m \u001b[0mposB\u001b[0m\u001b[0;34m)\u001b[0m \u001b[0;34m=\u001b[0m \u001b[0mtrans_data\u001b[0m\u001b[0;34m.\u001b[0m\u001b[0mtransform\u001b[0m\u001b[0;34m(\u001b[0m\u001b[0;34m(\u001b[0m\u001b[0mposA\u001b[0m\u001b[0;34m,\u001b[0m \u001b[0mposB\u001b[0m\u001b[0;34m)\u001b[0m\u001b[0;34m)\u001b[0m\u001b[0;34m\u001b[0m\u001b[0;34m\u001b[0m\u001b[0m\n\u001b[0;32m-> 1394\u001b[0;31m                 _path = arrow.get_connectionstyle()(\n\u001b[0m\u001b[1;32m   1395\u001b[0m                     \u001b[0mposA\u001b[0m\u001b[0;34m,\u001b[0m\u001b[0;34m\u001b[0m\u001b[0;34m\u001b[0m\u001b[0m\n\u001b[1;32m   1396\u001b[0m                     \u001b[0mposB\u001b[0m\u001b[0;34m,\u001b[0m\u001b[0;34m\u001b[0m\u001b[0;34m\u001b[0m\u001b[0m\n",
            "\u001b[0;32m/usr/local/lib/python3.10/dist-packages/matplotlib/patches.py\u001b[0m in \u001b[0;36m__call__\u001b[0;34m(self, posA, posB, shrinkA, shrinkB, patchA, patchB)\u001b[0m\n\u001b[1;32m   2754\u001b[0m                 \u001b[0mself\u001b[0m\u001b[0;34m.\u001b[0m\u001b[0m_in_patch\u001b[0m\u001b[0;34m(\u001b[0m\u001b[0mpatchB\u001b[0m\u001b[0;34m)\u001b[0m \u001b[0;32mif\u001b[0m \u001b[0mpatchB\u001b[0m \u001b[0;32melse\u001b[0m \u001b[0;32mNone\u001b[0m\u001b[0;34m,\u001b[0m\u001b[0;34m\u001b[0m\u001b[0;34m\u001b[0m\u001b[0m\n\u001b[1;32m   2755\u001b[0m             )\n\u001b[0;32m-> 2756\u001b[0;31m             path = self._clip(\n\u001b[0m\u001b[1;32m   2757\u001b[0m                 \u001b[0mpath\u001b[0m\u001b[0;34m,\u001b[0m\u001b[0;34m\u001b[0m\u001b[0;34m\u001b[0m\u001b[0m\n\u001b[1;32m   2758\u001b[0m                 \u001b[0minside_circle\u001b[0m\u001b[0;34m(\u001b[0m\u001b[0;34m*\u001b[0m\u001b[0mpath\u001b[0m\u001b[0;34m.\u001b[0m\u001b[0mvertices\u001b[0m\u001b[0;34m[\u001b[0m\u001b[0;36m0\u001b[0m\u001b[0;34m]\u001b[0m\u001b[0;34m,\u001b[0m \u001b[0mshrinkA\u001b[0m\u001b[0;34m)\u001b[0m \u001b[0;32mif\u001b[0m \u001b[0mshrinkA\u001b[0m \u001b[0;32melse\u001b[0m \u001b[0;32mNone\u001b[0m\u001b[0;34m,\u001b[0m\u001b[0;34m\u001b[0m\u001b[0;34m\u001b[0m\u001b[0m\n",
            "\u001b[0;32m/usr/local/lib/python3.10/dist-packages/matplotlib/patches.py\u001b[0m in \u001b[0;36m_clip\u001b[0;34m(self, path, in_start, in_stop)\u001b[0m\n\u001b[1;32m   2732\u001b[0m             \u001b[0;32mif\u001b[0m \u001b[0min_start\u001b[0m\u001b[0;34m:\u001b[0m\u001b[0;34m\u001b[0m\u001b[0;34m\u001b[0m\u001b[0m\n\u001b[1;32m   2733\u001b[0m                 \u001b[0;32mtry\u001b[0m\u001b[0;34m:\u001b[0m\u001b[0;34m\u001b[0m\u001b[0;34m\u001b[0m\u001b[0m\n\u001b[0;32m-> 2734\u001b[0;31m                     \u001b[0m_\u001b[0m\u001b[0;34m,\u001b[0m \u001b[0mpath\u001b[0m \u001b[0;34m=\u001b[0m \u001b[0msplit_path_inout\u001b[0m\u001b[0;34m(\u001b[0m\u001b[0mpath\u001b[0m\u001b[0;34m,\u001b[0m \u001b[0min_start\u001b[0m\u001b[0;34m)\u001b[0m\u001b[0;34m\u001b[0m\u001b[0;34m\u001b[0m\u001b[0m\n\u001b[0m\u001b[1;32m   2735\u001b[0m                 \u001b[0;32mexcept\u001b[0m \u001b[0mValueError\u001b[0m\u001b[0;34m:\u001b[0m\u001b[0;34m\u001b[0m\u001b[0;34m\u001b[0m\u001b[0m\n\u001b[1;32m   2736\u001b[0m                     \u001b[0;32mpass\u001b[0m\u001b[0;34m\u001b[0m\u001b[0;34m\u001b[0m\u001b[0m\n",
            "\u001b[0;32m/usr/local/lib/python3.10/dist-packages/matplotlib/bezier.py\u001b[0m in \u001b[0;36msplit_path_inout\u001b[0;34m(path, inside, tolerance, reorder_inout)\u001b[0m\n\u001b[1;32m    368\u001b[0m \u001b[0;34m\u001b[0m\u001b[0m\n\u001b[1;32m    369\u001b[0m     \u001b[0mbp\u001b[0m \u001b[0;34m=\u001b[0m \u001b[0mbezier_path\u001b[0m\u001b[0;34m.\u001b[0m\u001b[0mreshape\u001b[0m\u001b[0;34m(\u001b[0m\u001b[0;34m(\u001b[0m\u001b[0;34m-\u001b[0m\u001b[0;36m1\u001b[0m\u001b[0;34m,\u001b[0m \u001b[0;36m2\u001b[0m\u001b[0;34m)\u001b[0m\u001b[0;34m)\u001b[0m\u001b[0;34m\u001b[0m\u001b[0;34m\u001b[0m\u001b[0m\n\u001b[0;32m--> 370\u001b[0;31m     left, right = split_bezier_intersecting_with_closedpath(\n\u001b[0m\u001b[1;32m    371\u001b[0m         bp, inside, tolerance)\n\u001b[1;32m    372\u001b[0m     \u001b[0;32mif\u001b[0m \u001b[0mlen\u001b[0m\u001b[0;34m(\u001b[0m\u001b[0mleft\u001b[0m\u001b[0;34m)\u001b[0m \u001b[0;34m==\u001b[0m \u001b[0;36m2\u001b[0m\u001b[0;34m:\u001b[0m\u001b[0;34m\u001b[0m\u001b[0;34m\u001b[0m\u001b[0m\n",
            "\u001b[0;32m/usr/local/lib/python3.10/dist-packages/matplotlib/bezier.py\u001b[0m in \u001b[0;36msplit_bezier_intersecting_with_closedpath\u001b[0;34m(bezier, inside_closedpath, tolerance)\u001b[0m\n\u001b[1;32m    331\u001b[0m     \u001b[0mbezier_point_at_t\u001b[0m \u001b[0;34m=\u001b[0m \u001b[0mbz\u001b[0m\u001b[0;34m.\u001b[0m\u001b[0mpoint_at_t\u001b[0m\u001b[0;34m\u001b[0m\u001b[0;34m\u001b[0m\u001b[0m\n\u001b[1;32m    332\u001b[0m \u001b[0;34m\u001b[0m\u001b[0m\n\u001b[0;32m--> 333\u001b[0;31m     t0, t1 = find_bezier_t_intersecting_with_closedpath(\n\u001b[0m\u001b[1;32m    334\u001b[0m         bezier_point_at_t, inside_closedpath, tolerance=tolerance)\n\u001b[1;32m    335\u001b[0m \u001b[0;34m\u001b[0m\u001b[0m\n",
            "\u001b[0;32m/usr/local/lib/python3.10/dist-packages/matplotlib/bezier.py\u001b[0m in \u001b[0;36mfind_bezier_t_intersecting_with_closedpath\u001b[0;34m(bezier_point_at_t, inside_closedpath, t0, t1, tolerance)\u001b[0m\n\u001b[1;32m    167\u001b[0m         \u001b[0;31m# calculate the middle point\u001b[0m\u001b[0;34m\u001b[0m\u001b[0;34m\u001b[0m\u001b[0m\n\u001b[1;32m    168\u001b[0m         \u001b[0mmiddle_t\u001b[0m \u001b[0;34m=\u001b[0m \u001b[0;36m0.5\u001b[0m \u001b[0;34m*\u001b[0m \u001b[0;34m(\u001b[0m\u001b[0mt0\u001b[0m \u001b[0;34m+\u001b[0m \u001b[0mt1\u001b[0m\u001b[0;34m)\u001b[0m\u001b[0;34m\u001b[0m\u001b[0;34m\u001b[0m\u001b[0m\n\u001b[0;32m--> 169\u001b[0;31m         \u001b[0mmiddle\u001b[0m \u001b[0;34m=\u001b[0m \u001b[0mbezier_point_at_t\u001b[0m\u001b[0;34m(\u001b[0m\u001b[0mmiddle_t\u001b[0m\u001b[0;34m)\u001b[0m\u001b[0;34m\u001b[0m\u001b[0;34m\u001b[0m\u001b[0m\n\u001b[0m\u001b[1;32m    170\u001b[0m         \u001b[0mmiddle_inside\u001b[0m \u001b[0;34m=\u001b[0m \u001b[0minside_closedpath\u001b[0m\u001b[0;34m(\u001b[0m\u001b[0mmiddle\u001b[0m\u001b[0;34m)\u001b[0m\u001b[0;34m\u001b[0m\u001b[0;34m\u001b[0m\u001b[0m\n\u001b[1;32m    171\u001b[0m \u001b[0;34m\u001b[0m\u001b[0m\n",
            "\u001b[0;32m/usr/local/lib/python3.10/dist-packages/matplotlib/bezier.py\u001b[0m in \u001b[0;36mpoint_at_t\u001b[0;34m(self, t)\u001b[0m\n\u001b[1;32m    220\u001b[0m         \u001b[0mEvaluate\u001b[0m \u001b[0mthe\u001b[0m \u001b[0mcurve\u001b[0m \u001b[0mat\u001b[0m \u001b[0ma\u001b[0m \u001b[0msingle\u001b[0m \u001b[0mpoint\u001b[0m\u001b[0;34m,\u001b[0m \u001b[0mreturning\u001b[0m \u001b[0ma\u001b[0m \u001b[0mtuple\u001b[0m \u001b[0mof\u001b[0m \u001b[0;34m*\u001b[0m\u001b[0md\u001b[0m\u001b[0;34m*\u001b[0m \u001b[0mfloats\u001b[0m\u001b[0;34m.\u001b[0m\u001b[0;34m\u001b[0m\u001b[0;34m\u001b[0m\u001b[0m\n\u001b[1;32m    221\u001b[0m         \"\"\"\n\u001b[0;32m--> 222\u001b[0;31m         \u001b[0;32mreturn\u001b[0m \u001b[0mtuple\u001b[0m\u001b[0;34m(\u001b[0m\u001b[0mself\u001b[0m\u001b[0;34m(\u001b[0m\u001b[0mt\u001b[0m\u001b[0;34m)\u001b[0m\u001b[0;34m)\u001b[0m\u001b[0;34m\u001b[0m\u001b[0;34m\u001b[0m\u001b[0m\n\u001b[0m\u001b[1;32m    223\u001b[0m \u001b[0;34m\u001b[0m\u001b[0m\n\u001b[1;32m    224\u001b[0m     \u001b[0;34m@\u001b[0m\u001b[0mproperty\u001b[0m\u001b[0;34m\u001b[0m\u001b[0;34m\u001b[0m\u001b[0m\n",
            "\u001b[0;32m/usr/local/lib/python3.10/dist-packages/matplotlib/bezier.py\u001b[0m in \u001b[0;36m__call__\u001b[0;34m(self, t)\u001b[0m\n\u001b[1;32m    213\u001b[0m         \"\"\"\n\u001b[1;32m    214\u001b[0m         \u001b[0mt\u001b[0m \u001b[0;34m=\u001b[0m \u001b[0mnp\u001b[0m\u001b[0;34m.\u001b[0m\u001b[0masarray\u001b[0m\u001b[0;34m(\u001b[0m\u001b[0mt\u001b[0m\u001b[0;34m)\u001b[0m\u001b[0;34m\u001b[0m\u001b[0;34m\u001b[0m\u001b[0m\n\u001b[0;32m--> 215\u001b[0;31m         return (np.power.outer(1 - t, self._orders[::-1])\n\u001b[0m\u001b[1;32m    216\u001b[0m                 * np.power.outer(t, self._orders)) @ self._px\n\u001b[1;32m    217\u001b[0m \u001b[0;34m\u001b[0m\u001b[0m\n",
            "\u001b[0;31mKeyboardInterrupt\u001b[0m: "
          ]
        },
        {
          "output_type": "stream",
          "name": "stdout",
          "text": [
            "Error in callback <function flush_figures at 0x788d4f1491b0> (for post_execute):\n"
          ]
        },
        {
          "output_type": "error",
          "ename": "KeyboardInterrupt",
          "evalue": "",
          "traceback": [
            "\u001b[0;31m---------------------------------------------------------------------------\u001b[0m",
            "\u001b[0;31mKeyboardInterrupt\u001b[0m                         Traceback (most recent call last)",
            "\u001b[0;32m/usr/local/lib/python3.10/dist-packages/matplotlib_inline/backend_inline.py\u001b[0m in \u001b[0;36mflush_figures\u001b[0;34m()\u001b[0m\n\u001b[1;32m    124\u001b[0m             \u001b[0;31m# ignore the tracking, just draw and close all figures\u001b[0m\u001b[0;34m\u001b[0m\u001b[0;34m\u001b[0m\u001b[0m\n\u001b[1;32m    125\u001b[0m             \u001b[0;32mtry\u001b[0m\u001b[0;34m:\u001b[0m\u001b[0;34m\u001b[0m\u001b[0;34m\u001b[0m\u001b[0m\n\u001b[0;32m--> 126\u001b[0;31m                 \u001b[0;32mreturn\u001b[0m \u001b[0mshow\u001b[0m\u001b[0;34m(\u001b[0m\u001b[0;32mTrue\u001b[0m\u001b[0;34m)\u001b[0m\u001b[0;34m\u001b[0m\u001b[0;34m\u001b[0m\u001b[0m\n\u001b[0m\u001b[1;32m    127\u001b[0m             \u001b[0;32mexcept\u001b[0m \u001b[0mException\u001b[0m \u001b[0;32mas\u001b[0m \u001b[0me\u001b[0m\u001b[0;34m:\u001b[0m\u001b[0;34m\u001b[0m\u001b[0;34m\u001b[0m\u001b[0m\n\u001b[1;32m    128\u001b[0m                 \u001b[0;31m# safely show traceback if in IPython, else raise\u001b[0m\u001b[0;34m\u001b[0m\u001b[0;34m\u001b[0m\u001b[0m\n",
            "\u001b[0;32m/usr/local/lib/python3.10/dist-packages/matplotlib_inline/backend_inline.py\u001b[0m in \u001b[0;36mshow\u001b[0;34m(close, block)\u001b[0m\n\u001b[1;32m     88\u001b[0m     \u001b[0;32mtry\u001b[0m\u001b[0;34m:\u001b[0m\u001b[0;34m\u001b[0m\u001b[0;34m\u001b[0m\u001b[0m\n\u001b[1;32m     89\u001b[0m         \u001b[0;32mfor\u001b[0m \u001b[0mfigure_manager\u001b[0m \u001b[0;32min\u001b[0m \u001b[0mGcf\u001b[0m\u001b[0;34m.\u001b[0m\u001b[0mget_all_fig_managers\u001b[0m\u001b[0;34m(\u001b[0m\u001b[0;34m)\u001b[0m\u001b[0;34m:\u001b[0m\u001b[0;34m\u001b[0m\u001b[0;34m\u001b[0m\u001b[0m\n\u001b[0;32m---> 90\u001b[0;31m             display(\n\u001b[0m\u001b[1;32m     91\u001b[0m                 \u001b[0mfigure_manager\u001b[0m\u001b[0;34m.\u001b[0m\u001b[0mcanvas\u001b[0m\u001b[0;34m.\u001b[0m\u001b[0mfigure\u001b[0m\u001b[0;34m,\u001b[0m\u001b[0;34m\u001b[0m\u001b[0;34m\u001b[0m\u001b[0m\n\u001b[1;32m     92\u001b[0m                 \u001b[0mmetadata\u001b[0m\u001b[0;34m=\u001b[0m\u001b[0m_fetch_figure_metadata\u001b[0m\u001b[0;34m(\u001b[0m\u001b[0mfigure_manager\u001b[0m\u001b[0;34m.\u001b[0m\u001b[0mcanvas\u001b[0m\u001b[0;34m.\u001b[0m\u001b[0mfigure\u001b[0m\u001b[0;34m)\u001b[0m\u001b[0;34m\u001b[0m\u001b[0;34m\u001b[0m\u001b[0m\n",
            "\u001b[0;32m/usr/local/lib/python3.10/dist-packages/IPython/core/display.py\u001b[0m in \u001b[0;36mdisplay\u001b[0;34m(include, exclude, metadata, transient, display_id, *objs, **kwargs)\u001b[0m\n\u001b[1;32m    318\u001b[0m             \u001b[0mpublish_display_data\u001b[0m\u001b[0;34m(\u001b[0m\u001b[0mdata\u001b[0m\u001b[0;34m=\u001b[0m\u001b[0mobj\u001b[0m\u001b[0;34m,\u001b[0m \u001b[0mmetadata\u001b[0m\u001b[0;34m=\u001b[0m\u001b[0mmetadata\u001b[0m\u001b[0;34m,\u001b[0m \u001b[0;34m**\u001b[0m\u001b[0mkwargs\u001b[0m\u001b[0;34m)\u001b[0m\u001b[0;34m\u001b[0m\u001b[0;34m\u001b[0m\u001b[0m\n\u001b[1;32m    319\u001b[0m         \u001b[0;32melse\u001b[0m\u001b[0;34m:\u001b[0m\u001b[0;34m\u001b[0m\u001b[0;34m\u001b[0m\u001b[0m\n\u001b[0;32m--> 320\u001b[0;31m             \u001b[0mformat_dict\u001b[0m\u001b[0;34m,\u001b[0m \u001b[0mmd_dict\u001b[0m \u001b[0;34m=\u001b[0m \u001b[0mformat\u001b[0m\u001b[0;34m(\u001b[0m\u001b[0mobj\u001b[0m\u001b[0;34m,\u001b[0m \u001b[0minclude\u001b[0m\u001b[0;34m=\u001b[0m\u001b[0minclude\u001b[0m\u001b[0;34m,\u001b[0m \u001b[0mexclude\u001b[0m\u001b[0;34m=\u001b[0m\u001b[0mexclude\u001b[0m\u001b[0;34m)\u001b[0m\u001b[0;34m\u001b[0m\u001b[0;34m\u001b[0m\u001b[0m\n\u001b[0m\u001b[1;32m    321\u001b[0m             \u001b[0;32mif\u001b[0m \u001b[0;32mnot\u001b[0m \u001b[0mformat_dict\u001b[0m\u001b[0;34m:\u001b[0m\u001b[0;34m\u001b[0m\u001b[0;34m\u001b[0m\u001b[0m\n\u001b[1;32m    322\u001b[0m                 \u001b[0;31m# nothing to display (e.g. _ipython_display_ took over)\u001b[0m\u001b[0;34m\u001b[0m\u001b[0;34m\u001b[0m\u001b[0m\n",
            "\u001b[0;32m/usr/local/lib/python3.10/dist-packages/IPython/core/formatters.py\u001b[0m in \u001b[0;36mformat\u001b[0;34m(self, obj, include, exclude)\u001b[0m\n\u001b[1;32m    178\u001b[0m             \u001b[0mmd\u001b[0m \u001b[0;34m=\u001b[0m \u001b[0;32mNone\u001b[0m\u001b[0;34m\u001b[0m\u001b[0;34m\u001b[0m\u001b[0m\n\u001b[1;32m    179\u001b[0m             \u001b[0;32mtry\u001b[0m\u001b[0;34m:\u001b[0m\u001b[0;34m\u001b[0m\u001b[0;34m\u001b[0m\u001b[0m\n\u001b[0;32m--> 180\u001b[0;31m                 \u001b[0mdata\u001b[0m \u001b[0;34m=\u001b[0m \u001b[0mformatter\u001b[0m\u001b[0;34m(\u001b[0m\u001b[0mobj\u001b[0m\u001b[0;34m)\u001b[0m\u001b[0;34m\u001b[0m\u001b[0;34m\u001b[0m\u001b[0m\n\u001b[0m\u001b[1;32m    181\u001b[0m             \u001b[0;32mexcept\u001b[0m\u001b[0;34m:\u001b[0m\u001b[0;34m\u001b[0m\u001b[0;34m\u001b[0m\u001b[0m\n\u001b[1;32m    182\u001b[0m                 \u001b[0;31m# FIXME: log the exception\u001b[0m\u001b[0;34m\u001b[0m\u001b[0;34m\u001b[0m\u001b[0m\n",
            "\u001b[0;32m<decorator-gen-2>\u001b[0m in \u001b[0;36m__call__\u001b[0;34m(self, obj)\u001b[0m\n",
            "\u001b[0;32m/usr/local/lib/python3.10/dist-packages/IPython/core/formatters.py\u001b[0m in \u001b[0;36mcatch_format_error\u001b[0;34m(method, self, *args, **kwargs)\u001b[0m\n\u001b[1;32m    222\u001b[0m     \u001b[0;34m\"\"\"show traceback on failed format call\"\"\"\u001b[0m\u001b[0;34m\u001b[0m\u001b[0;34m\u001b[0m\u001b[0m\n\u001b[1;32m    223\u001b[0m     \u001b[0;32mtry\u001b[0m\u001b[0;34m:\u001b[0m\u001b[0;34m\u001b[0m\u001b[0;34m\u001b[0m\u001b[0m\n\u001b[0;32m--> 224\u001b[0;31m         \u001b[0mr\u001b[0m \u001b[0;34m=\u001b[0m \u001b[0mmethod\u001b[0m\u001b[0;34m(\u001b[0m\u001b[0mself\u001b[0m\u001b[0;34m,\u001b[0m \u001b[0;34m*\u001b[0m\u001b[0margs\u001b[0m\u001b[0;34m,\u001b[0m \u001b[0;34m**\u001b[0m\u001b[0mkwargs\u001b[0m\u001b[0;34m)\u001b[0m\u001b[0;34m\u001b[0m\u001b[0;34m\u001b[0m\u001b[0m\n\u001b[0m\u001b[1;32m    225\u001b[0m     \u001b[0;32mexcept\u001b[0m \u001b[0mNotImplementedError\u001b[0m\u001b[0;34m:\u001b[0m\u001b[0;34m\u001b[0m\u001b[0;34m\u001b[0m\u001b[0m\n\u001b[1;32m    226\u001b[0m         \u001b[0;31m# don't warn on NotImplementedErrors\u001b[0m\u001b[0;34m\u001b[0m\u001b[0;34m\u001b[0m\u001b[0m\n",
            "\u001b[0;32m/usr/local/lib/python3.10/dist-packages/IPython/core/formatters.py\u001b[0m in \u001b[0;36m__call__\u001b[0;34m(self, obj)\u001b[0m\n\u001b[1;32m    339\u001b[0m                 \u001b[0;32mpass\u001b[0m\u001b[0;34m\u001b[0m\u001b[0;34m\u001b[0m\u001b[0m\n\u001b[1;32m    340\u001b[0m             \u001b[0;32melse\u001b[0m\u001b[0;34m:\u001b[0m\u001b[0;34m\u001b[0m\u001b[0;34m\u001b[0m\u001b[0m\n\u001b[0;32m--> 341\u001b[0;31m                 \u001b[0;32mreturn\u001b[0m \u001b[0mprinter\u001b[0m\u001b[0;34m(\u001b[0m\u001b[0mobj\u001b[0m\u001b[0;34m)\u001b[0m\u001b[0;34m\u001b[0m\u001b[0;34m\u001b[0m\u001b[0m\n\u001b[0m\u001b[1;32m    342\u001b[0m             \u001b[0;31m# Finally look for special method names\u001b[0m\u001b[0;34m\u001b[0m\u001b[0;34m\u001b[0m\u001b[0m\n\u001b[1;32m    343\u001b[0m             \u001b[0mmethod\u001b[0m \u001b[0;34m=\u001b[0m \u001b[0mget_real_method\u001b[0m\u001b[0;34m(\u001b[0m\u001b[0mobj\u001b[0m\u001b[0;34m,\u001b[0m \u001b[0mself\u001b[0m\u001b[0;34m.\u001b[0m\u001b[0mprint_method\u001b[0m\u001b[0;34m)\u001b[0m\u001b[0;34m\u001b[0m\u001b[0;34m\u001b[0m\u001b[0m\n",
            "\u001b[0;32m/usr/local/lib/python3.10/dist-packages/IPython/core/pylabtools.py\u001b[0m in \u001b[0;36mprint_figure\u001b[0;34m(fig, fmt, bbox_inches, base64, **kwargs)\u001b[0m\n\u001b[1;32m    149\u001b[0m         \u001b[0mFigureCanvasBase\u001b[0m\u001b[0;34m(\u001b[0m\u001b[0mfig\u001b[0m\u001b[0;34m)\u001b[0m\u001b[0;34m\u001b[0m\u001b[0;34m\u001b[0m\u001b[0m\n\u001b[1;32m    150\u001b[0m \u001b[0;34m\u001b[0m\u001b[0m\n\u001b[0;32m--> 151\u001b[0;31m     \u001b[0mfig\u001b[0m\u001b[0;34m.\u001b[0m\u001b[0mcanvas\u001b[0m\u001b[0;34m.\u001b[0m\u001b[0mprint_figure\u001b[0m\u001b[0;34m(\u001b[0m\u001b[0mbytes_io\u001b[0m\u001b[0;34m,\u001b[0m \u001b[0;34m**\u001b[0m\u001b[0mkw\u001b[0m\u001b[0;34m)\u001b[0m\u001b[0;34m\u001b[0m\u001b[0;34m\u001b[0m\u001b[0m\n\u001b[0m\u001b[1;32m    152\u001b[0m     \u001b[0mdata\u001b[0m \u001b[0;34m=\u001b[0m \u001b[0mbytes_io\u001b[0m\u001b[0;34m.\u001b[0m\u001b[0mgetvalue\u001b[0m\u001b[0;34m(\u001b[0m\u001b[0;34m)\u001b[0m\u001b[0;34m\u001b[0m\u001b[0;34m\u001b[0m\u001b[0m\n\u001b[1;32m    153\u001b[0m     \u001b[0;32mif\u001b[0m \u001b[0mfmt\u001b[0m \u001b[0;34m==\u001b[0m \u001b[0;34m'svg'\u001b[0m\u001b[0;34m:\u001b[0m\u001b[0;34m\u001b[0m\u001b[0;34m\u001b[0m\u001b[0m\n",
            "\u001b[0;32m/usr/local/lib/python3.10/dist-packages/matplotlib/backend_bases.py\u001b[0m in \u001b[0;36mprint_figure\u001b[0;34m(self, filename, dpi, facecolor, edgecolor, orientation, format, bbox_inches, pad_inches, bbox_extra_artists, backend, **kwargs)\u001b[0m\n\u001b[1;32m   2156\u001b[0m                 \u001b[0;31m# so that we can inject the orientation\u001b[0m\u001b[0;34m\u001b[0m\u001b[0;34m\u001b[0m\u001b[0m\n\u001b[1;32m   2157\u001b[0m                 \u001b[0;32mwith\u001b[0m \u001b[0mgetattr\u001b[0m\u001b[0;34m(\u001b[0m\u001b[0mrenderer\u001b[0m\u001b[0;34m,\u001b[0m \u001b[0;34m\"_draw_disabled\"\u001b[0m\u001b[0;34m,\u001b[0m \u001b[0mnullcontext\u001b[0m\u001b[0;34m)\u001b[0m\u001b[0;34m(\u001b[0m\u001b[0;34m)\u001b[0m\u001b[0;34m:\u001b[0m\u001b[0;34m\u001b[0m\u001b[0;34m\u001b[0m\u001b[0m\n\u001b[0;32m-> 2158\u001b[0;31m                     \u001b[0mself\u001b[0m\u001b[0;34m.\u001b[0m\u001b[0mfigure\u001b[0m\u001b[0;34m.\u001b[0m\u001b[0mdraw\u001b[0m\u001b[0;34m(\u001b[0m\u001b[0mrenderer\u001b[0m\u001b[0;34m)\u001b[0m\u001b[0;34m\u001b[0m\u001b[0;34m\u001b[0m\u001b[0m\n\u001b[0m\u001b[1;32m   2159\u001b[0m             \u001b[0;32mif\u001b[0m \u001b[0mbbox_inches\u001b[0m\u001b[0;34m:\u001b[0m\u001b[0;34m\u001b[0m\u001b[0;34m\u001b[0m\u001b[0m\n\u001b[1;32m   2160\u001b[0m                 \u001b[0;32mif\u001b[0m \u001b[0mbbox_inches\u001b[0m \u001b[0;34m==\u001b[0m \u001b[0;34m\"tight\"\u001b[0m\u001b[0;34m:\u001b[0m\u001b[0;34m\u001b[0m\u001b[0;34m\u001b[0m\u001b[0m\n",
            "\u001b[0;32m/usr/local/lib/python3.10/dist-packages/matplotlib/artist.py\u001b[0m in \u001b[0;36mdraw_wrapper\u001b[0;34m(artist, renderer, *args, **kwargs)\u001b[0m\n\u001b[1;32m     93\u001b[0m     \u001b[0;34m@\u001b[0m\u001b[0mwraps\u001b[0m\u001b[0;34m(\u001b[0m\u001b[0mdraw\u001b[0m\u001b[0;34m)\u001b[0m\u001b[0;34m\u001b[0m\u001b[0;34m\u001b[0m\u001b[0m\n\u001b[1;32m     94\u001b[0m     \u001b[0;32mdef\u001b[0m \u001b[0mdraw_wrapper\u001b[0m\u001b[0;34m(\u001b[0m\u001b[0martist\u001b[0m\u001b[0;34m,\u001b[0m \u001b[0mrenderer\u001b[0m\u001b[0;34m,\u001b[0m \u001b[0;34m*\u001b[0m\u001b[0margs\u001b[0m\u001b[0;34m,\u001b[0m \u001b[0;34m**\u001b[0m\u001b[0mkwargs\u001b[0m\u001b[0;34m)\u001b[0m\u001b[0;34m:\u001b[0m\u001b[0;34m\u001b[0m\u001b[0;34m\u001b[0m\u001b[0m\n\u001b[0;32m---> 95\u001b[0;31m         \u001b[0mresult\u001b[0m \u001b[0;34m=\u001b[0m \u001b[0mdraw\u001b[0m\u001b[0;34m(\u001b[0m\u001b[0martist\u001b[0m\u001b[0;34m,\u001b[0m \u001b[0mrenderer\u001b[0m\u001b[0;34m,\u001b[0m \u001b[0;34m*\u001b[0m\u001b[0margs\u001b[0m\u001b[0;34m,\u001b[0m \u001b[0;34m**\u001b[0m\u001b[0mkwargs\u001b[0m\u001b[0;34m)\u001b[0m\u001b[0;34m\u001b[0m\u001b[0;34m\u001b[0m\u001b[0m\n\u001b[0m\u001b[1;32m     96\u001b[0m         \u001b[0;32mif\u001b[0m \u001b[0mrenderer\u001b[0m\u001b[0;34m.\u001b[0m\u001b[0m_rasterizing\u001b[0m\u001b[0;34m:\u001b[0m\u001b[0;34m\u001b[0m\u001b[0;34m\u001b[0m\u001b[0m\n\u001b[1;32m     97\u001b[0m             \u001b[0mrenderer\u001b[0m\u001b[0;34m.\u001b[0m\u001b[0mstop_rasterizing\u001b[0m\u001b[0;34m(\u001b[0m\u001b[0;34m)\u001b[0m\u001b[0;34m\u001b[0m\u001b[0;34m\u001b[0m\u001b[0m\n",
            "\u001b[0;32m/usr/local/lib/python3.10/dist-packages/matplotlib/artist.py\u001b[0m in \u001b[0;36mdraw_wrapper\u001b[0;34m(artist, renderer)\u001b[0m\n\u001b[1;32m     70\u001b[0m                 \u001b[0mrenderer\u001b[0m\u001b[0;34m.\u001b[0m\u001b[0mstart_filter\u001b[0m\u001b[0;34m(\u001b[0m\u001b[0;34m)\u001b[0m\u001b[0;34m\u001b[0m\u001b[0;34m\u001b[0m\u001b[0m\n\u001b[1;32m     71\u001b[0m \u001b[0;34m\u001b[0m\u001b[0m\n\u001b[0;32m---> 72\u001b[0;31m             \u001b[0;32mreturn\u001b[0m \u001b[0mdraw\u001b[0m\u001b[0;34m(\u001b[0m\u001b[0martist\u001b[0m\u001b[0;34m,\u001b[0m \u001b[0mrenderer\u001b[0m\u001b[0;34m)\u001b[0m\u001b[0;34m\u001b[0m\u001b[0;34m\u001b[0m\u001b[0m\n\u001b[0m\u001b[1;32m     73\u001b[0m         \u001b[0;32mfinally\u001b[0m\u001b[0;34m:\u001b[0m\u001b[0;34m\u001b[0m\u001b[0;34m\u001b[0m\u001b[0m\n\u001b[1;32m     74\u001b[0m             \u001b[0;32mif\u001b[0m \u001b[0martist\u001b[0m\u001b[0;34m.\u001b[0m\u001b[0mget_agg_filter\u001b[0m\u001b[0;34m(\u001b[0m\u001b[0;34m)\u001b[0m \u001b[0;32mis\u001b[0m \u001b[0;32mnot\u001b[0m \u001b[0;32mNone\u001b[0m\u001b[0;34m:\u001b[0m\u001b[0;34m\u001b[0m\u001b[0;34m\u001b[0m\u001b[0m\n",
            "\u001b[0;32m/usr/local/lib/python3.10/dist-packages/matplotlib/figure.py\u001b[0m in \u001b[0;36mdraw\u001b[0;34m(self, renderer)\u001b[0m\n\u001b[1;32m   3152\u001b[0m \u001b[0;34m\u001b[0m\u001b[0m\n\u001b[1;32m   3153\u001b[0m                 \u001b[0mself\u001b[0m\u001b[0;34m.\u001b[0m\u001b[0mpatch\u001b[0m\u001b[0;34m.\u001b[0m\u001b[0mdraw\u001b[0m\u001b[0;34m(\u001b[0m\u001b[0mrenderer\u001b[0m\u001b[0;34m)\u001b[0m\u001b[0;34m\u001b[0m\u001b[0;34m\u001b[0m\u001b[0m\n\u001b[0;32m-> 3154\u001b[0;31m                 mimage._draw_list_compositing_images(\n\u001b[0m\u001b[1;32m   3155\u001b[0m                     renderer, self, artists, self.suppressComposite)\n\u001b[1;32m   3156\u001b[0m \u001b[0;34m\u001b[0m\u001b[0m\n",
            "\u001b[0;32m/usr/local/lib/python3.10/dist-packages/matplotlib/image.py\u001b[0m in \u001b[0;36m_draw_list_compositing_images\u001b[0;34m(renderer, parent, artists, suppress_composite)\u001b[0m\n\u001b[1;32m    130\u001b[0m     \u001b[0;32mif\u001b[0m \u001b[0mnot_composite\u001b[0m \u001b[0;32mor\u001b[0m \u001b[0;32mnot\u001b[0m \u001b[0mhas_images\u001b[0m\u001b[0;34m:\u001b[0m\u001b[0;34m\u001b[0m\u001b[0;34m\u001b[0m\u001b[0m\n\u001b[1;32m    131\u001b[0m         \u001b[0;32mfor\u001b[0m \u001b[0ma\u001b[0m \u001b[0;32min\u001b[0m \u001b[0martists\u001b[0m\u001b[0;34m:\u001b[0m\u001b[0;34m\u001b[0m\u001b[0;34m\u001b[0m\u001b[0m\n\u001b[0;32m--> 132\u001b[0;31m             \u001b[0ma\u001b[0m\u001b[0;34m.\u001b[0m\u001b[0mdraw\u001b[0m\u001b[0;34m(\u001b[0m\u001b[0mrenderer\u001b[0m\u001b[0;34m)\u001b[0m\u001b[0;34m\u001b[0m\u001b[0;34m\u001b[0m\u001b[0m\n\u001b[0m\u001b[1;32m    133\u001b[0m     \u001b[0;32melse\u001b[0m\u001b[0;34m:\u001b[0m\u001b[0;34m\u001b[0m\u001b[0;34m\u001b[0m\u001b[0m\n\u001b[1;32m    134\u001b[0m         \u001b[0;31m# Composite any adjacent images together\u001b[0m\u001b[0;34m\u001b[0m\u001b[0;34m\u001b[0m\u001b[0m\n",
            "\u001b[0;32m/usr/local/lib/python3.10/dist-packages/matplotlib/artist.py\u001b[0m in \u001b[0;36mdraw_wrapper\u001b[0;34m(artist, renderer)\u001b[0m\n\u001b[1;32m     70\u001b[0m                 \u001b[0mrenderer\u001b[0m\u001b[0;34m.\u001b[0m\u001b[0mstart_filter\u001b[0m\u001b[0;34m(\u001b[0m\u001b[0;34m)\u001b[0m\u001b[0;34m\u001b[0m\u001b[0;34m\u001b[0m\u001b[0m\n\u001b[1;32m     71\u001b[0m \u001b[0;34m\u001b[0m\u001b[0m\n\u001b[0;32m---> 72\u001b[0;31m             \u001b[0;32mreturn\u001b[0m \u001b[0mdraw\u001b[0m\u001b[0;34m(\u001b[0m\u001b[0martist\u001b[0m\u001b[0;34m,\u001b[0m \u001b[0mrenderer\u001b[0m\u001b[0;34m)\u001b[0m\u001b[0;34m\u001b[0m\u001b[0;34m\u001b[0m\u001b[0m\n\u001b[0m\u001b[1;32m     73\u001b[0m         \u001b[0;32mfinally\u001b[0m\u001b[0;34m:\u001b[0m\u001b[0;34m\u001b[0m\u001b[0;34m\u001b[0m\u001b[0m\n\u001b[1;32m     74\u001b[0m             \u001b[0;32mif\u001b[0m \u001b[0martist\u001b[0m\u001b[0;34m.\u001b[0m\u001b[0mget_agg_filter\u001b[0m\u001b[0;34m(\u001b[0m\u001b[0;34m)\u001b[0m \u001b[0;32mis\u001b[0m \u001b[0;32mnot\u001b[0m \u001b[0;32mNone\u001b[0m\u001b[0;34m:\u001b[0m\u001b[0;34m\u001b[0m\u001b[0;34m\u001b[0m\u001b[0m\n",
            "\u001b[0;32m/usr/local/lib/python3.10/dist-packages/matplotlib/axes/_base.py\u001b[0m in \u001b[0;36mdraw\u001b[0;34m(self, renderer)\u001b[0m\n\u001b[1;32m   3068\u001b[0m             \u001b[0m_draw_rasterized\u001b[0m\u001b[0;34m(\u001b[0m\u001b[0mself\u001b[0m\u001b[0;34m.\u001b[0m\u001b[0mfigure\u001b[0m\u001b[0;34m,\u001b[0m \u001b[0martists_rasterized\u001b[0m\u001b[0;34m,\u001b[0m \u001b[0mrenderer\u001b[0m\u001b[0;34m)\u001b[0m\u001b[0;34m\u001b[0m\u001b[0;34m\u001b[0m\u001b[0m\n\u001b[1;32m   3069\u001b[0m \u001b[0;34m\u001b[0m\u001b[0m\n\u001b[0;32m-> 3070\u001b[0;31m         mimage._draw_list_compositing_images(\n\u001b[0m\u001b[1;32m   3071\u001b[0m             renderer, self, artists, self.figure.suppressComposite)\n\u001b[1;32m   3072\u001b[0m \u001b[0;34m\u001b[0m\u001b[0m\n",
            "\u001b[0;32m/usr/local/lib/python3.10/dist-packages/matplotlib/image.py\u001b[0m in \u001b[0;36m_draw_list_compositing_images\u001b[0;34m(renderer, parent, artists, suppress_composite)\u001b[0m\n\u001b[1;32m    130\u001b[0m     \u001b[0;32mif\u001b[0m \u001b[0mnot_composite\u001b[0m \u001b[0;32mor\u001b[0m \u001b[0;32mnot\u001b[0m \u001b[0mhas_images\u001b[0m\u001b[0;34m:\u001b[0m\u001b[0;34m\u001b[0m\u001b[0;34m\u001b[0m\u001b[0m\n\u001b[1;32m    131\u001b[0m         \u001b[0;32mfor\u001b[0m \u001b[0ma\u001b[0m \u001b[0;32min\u001b[0m \u001b[0martists\u001b[0m\u001b[0;34m:\u001b[0m\u001b[0;34m\u001b[0m\u001b[0;34m\u001b[0m\u001b[0m\n\u001b[0;32m--> 132\u001b[0;31m             \u001b[0ma\u001b[0m\u001b[0;34m.\u001b[0m\u001b[0mdraw\u001b[0m\u001b[0;34m(\u001b[0m\u001b[0mrenderer\u001b[0m\u001b[0;34m)\u001b[0m\u001b[0;34m\u001b[0m\u001b[0;34m\u001b[0m\u001b[0m\n\u001b[0m\u001b[1;32m    133\u001b[0m     \u001b[0;32melse\u001b[0m\u001b[0;34m:\u001b[0m\u001b[0;34m\u001b[0m\u001b[0;34m\u001b[0m\u001b[0m\n\u001b[1;32m    134\u001b[0m         \u001b[0;31m# Composite any adjacent images together\u001b[0m\u001b[0;34m\u001b[0m\u001b[0;34m\u001b[0m\u001b[0m\n",
            "\u001b[0;32m/usr/local/lib/python3.10/dist-packages/matplotlib/artist.py\u001b[0m in \u001b[0;36mdraw_wrapper\u001b[0;34m(artist, renderer, *args, **kwargs)\u001b[0m\n\u001b[1;32m     37\u001b[0m             \u001b[0mrenderer\u001b[0m\u001b[0;34m.\u001b[0m\u001b[0m_rasterizing\u001b[0m \u001b[0;34m=\u001b[0m \u001b[0;32mFalse\u001b[0m\u001b[0;34m\u001b[0m\u001b[0;34m\u001b[0m\u001b[0m\n\u001b[1;32m     38\u001b[0m \u001b[0;34m\u001b[0m\u001b[0m\n\u001b[0;32m---> 39\u001b[0;31m         \u001b[0;32mreturn\u001b[0m \u001b[0mdraw\u001b[0m\u001b[0;34m(\u001b[0m\u001b[0martist\u001b[0m\u001b[0;34m,\u001b[0m \u001b[0mrenderer\u001b[0m\u001b[0;34m,\u001b[0m \u001b[0;34m*\u001b[0m\u001b[0margs\u001b[0m\u001b[0;34m,\u001b[0m \u001b[0;34m**\u001b[0m\u001b[0mkwargs\u001b[0m\u001b[0;34m)\u001b[0m\u001b[0;34m\u001b[0m\u001b[0;34m\u001b[0m\u001b[0m\n\u001b[0m\u001b[1;32m     40\u001b[0m \u001b[0;34m\u001b[0m\u001b[0m\n\u001b[1;32m     41\u001b[0m     \u001b[0mdraw_wrapper\u001b[0m\u001b[0;34m.\u001b[0m\u001b[0m_supports_rasterization\u001b[0m \u001b[0;34m=\u001b[0m \u001b[0;32mFalse\u001b[0m\u001b[0;34m\u001b[0m\u001b[0;34m\u001b[0m\u001b[0m\n",
            "\u001b[0;32m/usr/local/lib/python3.10/dist-packages/networkx/drawing/nx_pylab.py\u001b[0m in \u001b[0;36mdraw\u001b[0;34m(self, renderer)\u001b[0m\n\u001b[1;32m   1433\u001b[0m         \u001b[0;32mdef\u001b[0m \u001b[0mdraw\u001b[0m\u001b[0;34m(\u001b[0m\u001b[0mself\u001b[0m\u001b[0;34m,\u001b[0m \u001b[0mrenderer\u001b[0m\u001b[0;34m)\u001b[0m\u001b[0;34m:\u001b[0m\u001b[0;34m\u001b[0m\u001b[0;34m\u001b[0m\u001b[0m\n\u001b[1;32m   1434\u001b[0m             \u001b[0;31m# recalculate the text position and angle\u001b[0m\u001b[0;34m\u001b[0m\u001b[0;34m\u001b[0m\u001b[0m\n\u001b[0;32m-> 1435\u001b[0;31m             \u001b[0mself\u001b[0m\u001b[0;34m.\u001b[0m\u001b[0mx\u001b[0m\u001b[0;34m,\u001b[0m \u001b[0mself\u001b[0m\u001b[0;34m.\u001b[0m\u001b[0my\u001b[0m\u001b[0;34m,\u001b[0m \u001b[0mself\u001b[0m\u001b[0;34m.\u001b[0m\u001b[0mangle\u001b[0m \u001b[0;34m=\u001b[0m \u001b[0mself\u001b[0m\u001b[0;34m.\u001b[0m\u001b[0m_update_text_pos_angle\u001b[0m\u001b[0;34m(\u001b[0m\u001b[0mself\u001b[0m\u001b[0;34m.\u001b[0m\u001b[0marrow\u001b[0m\u001b[0;34m)\u001b[0m\u001b[0;34m\u001b[0m\u001b[0;34m\u001b[0m\u001b[0m\n\u001b[0m\u001b[1;32m   1436\u001b[0m             \u001b[0mself\u001b[0m\u001b[0;34m.\u001b[0m\u001b[0mset_position\u001b[0m\u001b[0;34m(\u001b[0m\u001b[0;34m(\u001b[0m\u001b[0mself\u001b[0m\u001b[0;34m.\u001b[0m\u001b[0mx\u001b[0m\u001b[0;34m,\u001b[0m \u001b[0mself\u001b[0m\u001b[0;34m.\u001b[0m\u001b[0my\u001b[0m\u001b[0;34m)\u001b[0m\u001b[0;34m)\u001b[0m\u001b[0;34m\u001b[0m\u001b[0;34m\u001b[0m\u001b[0m\n\u001b[1;32m   1437\u001b[0m             \u001b[0mself\u001b[0m\u001b[0;34m.\u001b[0m\u001b[0mset_rotation\u001b[0m\u001b[0;34m(\u001b[0m\u001b[0mself\u001b[0m\u001b[0;34m.\u001b[0m\u001b[0mangle\u001b[0m\u001b[0;34m)\u001b[0m\u001b[0;34m\u001b[0m\u001b[0;34m\u001b[0m\u001b[0m\n",
            "\u001b[0;32m/usr/local/lib/python3.10/dist-packages/networkx/drawing/nx_pylab.py\u001b[0m in \u001b[0;36m_update_text_pos_angle\u001b[0;34m(self, arrow)\u001b[0m\n\u001b[1;32m   1407\u001b[0m         \u001b[0;32mdef\u001b[0m \u001b[0m_update_text_pos_angle\u001b[0m\u001b[0;34m(\u001b[0m\u001b[0mself\u001b[0m\u001b[0;34m,\u001b[0m \u001b[0marrow\u001b[0m\u001b[0;34m)\u001b[0m\u001b[0;34m:\u001b[0m\u001b[0;34m\u001b[0m\u001b[0;34m\u001b[0m\u001b[0m\n\u001b[1;32m   1408\u001b[0m             \u001b[0;31m# Fractional label position\u001b[0m\u001b[0;34m\u001b[0m\u001b[0;34m\u001b[0m\u001b[0m\n\u001b[0;32m-> 1409\u001b[0;31m             \u001b[0mpath_disp\u001b[0m \u001b[0;34m=\u001b[0m \u001b[0mself\u001b[0m\u001b[0;34m.\u001b[0m\u001b[0m_get_arrow_path_disp\u001b[0m\u001b[0;34m(\u001b[0m\u001b[0marrow\u001b[0m\u001b[0;34m)\u001b[0m\u001b[0;34m\u001b[0m\u001b[0;34m\u001b[0m\u001b[0m\n\u001b[0m\u001b[1;32m   1410\u001b[0m             \u001b[0;34m(\u001b[0m\u001b[0mx1\u001b[0m\u001b[0;34m,\u001b[0m \u001b[0my1\u001b[0m\u001b[0;34m)\u001b[0m\u001b[0;34m,\u001b[0m \u001b[0;34m(\u001b[0m\u001b[0mcx\u001b[0m\u001b[0;34m,\u001b[0m \u001b[0mcy\u001b[0m\u001b[0;34m)\u001b[0m\u001b[0;34m,\u001b[0m \u001b[0;34m(\u001b[0m\u001b[0mx2\u001b[0m\u001b[0;34m,\u001b[0m \u001b[0my2\u001b[0m\u001b[0;34m)\u001b[0m \u001b[0;34m=\u001b[0m \u001b[0mpath_disp\u001b[0m\u001b[0;34m.\u001b[0m\u001b[0mvertices\u001b[0m\u001b[0;34m\u001b[0m\u001b[0;34m\u001b[0m\u001b[0m\n\u001b[1;32m   1411\u001b[0m             \u001b[0;31m# Text position at a proportion t along the line in display coords\u001b[0m\u001b[0;34m\u001b[0m\u001b[0;34m\u001b[0m\u001b[0m\n",
            "\u001b[0;32m/usr/local/lib/python3.10/dist-packages/networkx/drawing/nx_pylab.py\u001b[0m in \u001b[0;36m_get_arrow_path_disp\u001b[0;34m(self, arrow)\u001b[0m\n\u001b[1;32m   1392\u001b[0m                 \u001b[0mposB\u001b[0m \u001b[0;34m=\u001b[0m \u001b[0marrow\u001b[0m\u001b[0;34m.\u001b[0m\u001b[0m_convert_xy_units\u001b[0m\u001b[0;34m(\u001b[0m\u001b[0marrow\u001b[0m\u001b[0;34m.\u001b[0m\u001b[0m_posA_posB\u001b[0m\u001b[0;34m[\u001b[0m\u001b[0;36m1\u001b[0m\u001b[0;34m]\u001b[0m\u001b[0;34m)\u001b[0m\u001b[0;34m\u001b[0m\u001b[0;34m\u001b[0m\u001b[0m\n\u001b[1;32m   1393\u001b[0m                 \u001b[0;34m(\u001b[0m\u001b[0mposA\u001b[0m\u001b[0;34m,\u001b[0m \u001b[0mposB\u001b[0m\u001b[0;34m)\u001b[0m \u001b[0;34m=\u001b[0m \u001b[0mtrans_data\u001b[0m\u001b[0;34m.\u001b[0m\u001b[0mtransform\u001b[0m\u001b[0;34m(\u001b[0m\u001b[0;34m(\u001b[0m\u001b[0mposA\u001b[0m\u001b[0;34m,\u001b[0m \u001b[0mposB\u001b[0m\u001b[0;34m)\u001b[0m\u001b[0;34m)\u001b[0m\u001b[0;34m\u001b[0m\u001b[0;34m\u001b[0m\u001b[0m\n\u001b[0;32m-> 1394\u001b[0;31m                 _path = arrow.get_connectionstyle()(\n\u001b[0m\u001b[1;32m   1395\u001b[0m                     \u001b[0mposA\u001b[0m\u001b[0;34m,\u001b[0m\u001b[0;34m\u001b[0m\u001b[0;34m\u001b[0m\u001b[0m\n\u001b[1;32m   1396\u001b[0m                     \u001b[0mposB\u001b[0m\u001b[0;34m,\u001b[0m\u001b[0;34m\u001b[0m\u001b[0;34m\u001b[0m\u001b[0m\n",
            "\u001b[0;32m/usr/local/lib/python3.10/dist-packages/matplotlib/patches.py\u001b[0m in \u001b[0;36m__call__\u001b[0;34m(self, posA, posB, shrinkA, shrinkB, patchA, patchB)\u001b[0m\n\u001b[1;32m   2754\u001b[0m                 \u001b[0mself\u001b[0m\u001b[0;34m.\u001b[0m\u001b[0m_in_patch\u001b[0m\u001b[0;34m(\u001b[0m\u001b[0mpatchB\u001b[0m\u001b[0;34m)\u001b[0m \u001b[0;32mif\u001b[0m \u001b[0mpatchB\u001b[0m \u001b[0;32melse\u001b[0m \u001b[0;32mNone\u001b[0m\u001b[0;34m,\u001b[0m\u001b[0;34m\u001b[0m\u001b[0;34m\u001b[0m\u001b[0m\n\u001b[1;32m   2755\u001b[0m             )\n\u001b[0;32m-> 2756\u001b[0;31m             path = self._clip(\n\u001b[0m\u001b[1;32m   2757\u001b[0m                 \u001b[0mpath\u001b[0m\u001b[0;34m,\u001b[0m\u001b[0;34m\u001b[0m\u001b[0;34m\u001b[0m\u001b[0m\n\u001b[1;32m   2758\u001b[0m                 \u001b[0minside_circle\u001b[0m\u001b[0;34m(\u001b[0m\u001b[0;34m*\u001b[0m\u001b[0mpath\u001b[0m\u001b[0;34m.\u001b[0m\u001b[0mvertices\u001b[0m\u001b[0;34m[\u001b[0m\u001b[0;36m0\u001b[0m\u001b[0;34m]\u001b[0m\u001b[0;34m,\u001b[0m \u001b[0mshrinkA\u001b[0m\u001b[0;34m)\u001b[0m \u001b[0;32mif\u001b[0m \u001b[0mshrinkA\u001b[0m \u001b[0;32melse\u001b[0m \u001b[0;32mNone\u001b[0m\u001b[0;34m,\u001b[0m\u001b[0;34m\u001b[0m\u001b[0;34m\u001b[0m\u001b[0m\n",
            "\u001b[0;32m/usr/local/lib/python3.10/dist-packages/matplotlib/patches.py\u001b[0m in \u001b[0;36m_clip\u001b[0;34m(self, path, in_start, in_stop)\u001b[0m\n\u001b[1;32m   2732\u001b[0m             \u001b[0;32mif\u001b[0m \u001b[0min_start\u001b[0m\u001b[0;34m:\u001b[0m\u001b[0;34m\u001b[0m\u001b[0;34m\u001b[0m\u001b[0m\n\u001b[1;32m   2733\u001b[0m                 \u001b[0;32mtry\u001b[0m\u001b[0;34m:\u001b[0m\u001b[0;34m\u001b[0m\u001b[0;34m\u001b[0m\u001b[0m\n\u001b[0;32m-> 2734\u001b[0;31m                     \u001b[0m_\u001b[0m\u001b[0;34m,\u001b[0m \u001b[0mpath\u001b[0m \u001b[0;34m=\u001b[0m \u001b[0msplit_path_inout\u001b[0m\u001b[0;34m(\u001b[0m\u001b[0mpath\u001b[0m\u001b[0;34m,\u001b[0m \u001b[0min_start\u001b[0m\u001b[0;34m)\u001b[0m\u001b[0;34m\u001b[0m\u001b[0;34m\u001b[0m\u001b[0m\n\u001b[0m\u001b[1;32m   2735\u001b[0m                 \u001b[0;32mexcept\u001b[0m \u001b[0mValueError\u001b[0m\u001b[0;34m:\u001b[0m\u001b[0;34m\u001b[0m\u001b[0;34m\u001b[0m\u001b[0m\n\u001b[1;32m   2736\u001b[0m                     \u001b[0;32mpass\u001b[0m\u001b[0;34m\u001b[0m\u001b[0;34m\u001b[0m\u001b[0m\n",
            "\u001b[0;32m/usr/local/lib/python3.10/dist-packages/matplotlib/bezier.py\u001b[0m in \u001b[0;36msplit_path_inout\u001b[0;34m(path, inside, tolerance, reorder_inout)\u001b[0m\n\u001b[1;32m    368\u001b[0m \u001b[0;34m\u001b[0m\u001b[0m\n\u001b[1;32m    369\u001b[0m     \u001b[0mbp\u001b[0m \u001b[0;34m=\u001b[0m \u001b[0mbezier_path\u001b[0m\u001b[0;34m.\u001b[0m\u001b[0mreshape\u001b[0m\u001b[0;34m(\u001b[0m\u001b[0;34m(\u001b[0m\u001b[0;34m-\u001b[0m\u001b[0;36m1\u001b[0m\u001b[0;34m,\u001b[0m \u001b[0;36m2\u001b[0m\u001b[0;34m)\u001b[0m\u001b[0;34m)\u001b[0m\u001b[0;34m\u001b[0m\u001b[0;34m\u001b[0m\u001b[0m\n\u001b[0;32m--> 370\u001b[0;31m     left, right = split_bezier_intersecting_with_closedpath(\n\u001b[0m\u001b[1;32m    371\u001b[0m         bp, inside, tolerance)\n\u001b[1;32m    372\u001b[0m     \u001b[0;32mif\u001b[0m \u001b[0mlen\u001b[0m\u001b[0;34m(\u001b[0m\u001b[0mleft\u001b[0m\u001b[0;34m)\u001b[0m \u001b[0;34m==\u001b[0m \u001b[0;36m2\u001b[0m\u001b[0;34m:\u001b[0m\u001b[0;34m\u001b[0m\u001b[0;34m\u001b[0m\u001b[0m\n",
            "\u001b[0;32m/usr/local/lib/python3.10/dist-packages/matplotlib/bezier.py\u001b[0m in \u001b[0;36msplit_bezier_intersecting_with_closedpath\u001b[0;34m(bezier, inside_closedpath, tolerance)\u001b[0m\n\u001b[1;32m    331\u001b[0m     \u001b[0mbezier_point_at_t\u001b[0m \u001b[0;34m=\u001b[0m \u001b[0mbz\u001b[0m\u001b[0;34m.\u001b[0m\u001b[0mpoint_at_t\u001b[0m\u001b[0;34m\u001b[0m\u001b[0;34m\u001b[0m\u001b[0m\n\u001b[1;32m    332\u001b[0m \u001b[0;34m\u001b[0m\u001b[0m\n\u001b[0;32m--> 333\u001b[0;31m     t0, t1 = find_bezier_t_intersecting_with_closedpath(\n\u001b[0m\u001b[1;32m    334\u001b[0m         bezier_point_at_t, inside_closedpath, tolerance=tolerance)\n\u001b[1;32m    335\u001b[0m \u001b[0;34m\u001b[0m\u001b[0m\n",
            "\u001b[0;32m/usr/local/lib/python3.10/dist-packages/matplotlib/bezier.py\u001b[0m in \u001b[0;36mfind_bezier_t_intersecting_with_closedpath\u001b[0;34m(bezier_point_at_t, inside_closedpath, t0, t1, tolerance)\u001b[0m\n\u001b[1;32m    162\u001b[0m \u001b[0;34m\u001b[0m\u001b[0m\n\u001b[1;32m    163\u001b[0m         \u001b[0;31m# return if the distance is smaller than the tolerance\u001b[0m\u001b[0;34m\u001b[0m\u001b[0;34m\u001b[0m\u001b[0m\n\u001b[0;32m--> 164\u001b[0;31m         \u001b[0;32mif\u001b[0m \u001b[0mnp\u001b[0m\u001b[0;34m.\u001b[0m\u001b[0mhypot\u001b[0m\u001b[0;34m(\u001b[0m\u001b[0mstart\u001b[0m\u001b[0;34m[\u001b[0m\u001b[0;36m0\u001b[0m\u001b[0;34m]\u001b[0m \u001b[0;34m-\u001b[0m \u001b[0mend\u001b[0m\u001b[0;34m[\u001b[0m\u001b[0;36m0\u001b[0m\u001b[0;34m]\u001b[0m\u001b[0;34m,\u001b[0m \u001b[0mstart\u001b[0m\u001b[0;34m[\u001b[0m\u001b[0;36m1\u001b[0m\u001b[0;34m]\u001b[0m \u001b[0;34m-\u001b[0m \u001b[0mend\u001b[0m\u001b[0;34m[\u001b[0m\u001b[0;36m1\u001b[0m\u001b[0;34m]\u001b[0m\u001b[0;34m)\u001b[0m \u001b[0;34m<\u001b[0m \u001b[0mtolerance\u001b[0m\u001b[0;34m:\u001b[0m\u001b[0;34m\u001b[0m\u001b[0;34m\u001b[0m\u001b[0m\n\u001b[0m\u001b[1;32m    165\u001b[0m             \u001b[0;32mreturn\u001b[0m \u001b[0mt0\u001b[0m\u001b[0;34m,\u001b[0m \u001b[0mt1\u001b[0m\u001b[0;34m\u001b[0m\u001b[0;34m\u001b[0m\u001b[0m\n\u001b[1;32m    166\u001b[0m \u001b[0;34m\u001b[0m\u001b[0m\n",
            "\u001b[0;31mKeyboardInterrupt\u001b[0m: "
          ]
        }
      ]
    },
    {
      "cell_type": "code",
      "source": [
        "#Save as pickle\n",
        "import pickle\n",
        "with open('/content/drive/MyDrive/graph_with_demography.pickle', 'wb') as f:\n",
        "   pickle.dump(G_demo, f)"
      ],
      "metadata": {
        "id": "gfjQ-NACxkvc"
      },
      "execution_count": 80,
      "outputs": []
    },
    {
      "cell_type": "markdown",
      "source": [
        "## History Processing"
      ],
      "metadata": {
        "id": "-UcIM8MUqhIb"
      }
    },
    {
      "cell_type": "code",
      "source": [
        "history_df = text_df.select([\"node\", \"history\"])\n",
        "history_df = history_df.with_columns(pl.col(\"history\").cast(pl.Utf8))\n",
        "history_df = history_df.filter(pl.col(\"history\").is_not_null())"
      ],
      "metadata": {
        "id": "X4Y69YULyGeU"
      },
      "execution_count": 72,
      "outputs": []
    },
    {
      "cell_type": "code",
      "source": [
        "import nltk\n",
        "from nltk.tokenize import word_tokenize\n",
        "from nltk.stem import WordNetLemmatizer\n",
        "from nltk.corpus import stopwords\n",
        "\n",
        "\n",
        "nltk.download('punkt')\n",
        "nltk.download('stopwords')\n",
        "nltk.download('wordnet')\n",
        "nltk.download('punkt_tab')\n",
        "\n",
        "# get all the tokens that refer to the same genre\n",
        "lemmatizer = WordNetLemmatizer()\n",
        "stop_words = set(stopwords.words('english'))\n",
        "#stop_words.update(['http','title', 'short', 'description', ' ', 'wa'])\n",
        "\n",
        "city_history_dict = {}\n",
        "for row in history_df.iter_rows(named=True):\n",
        "    city = row[\"node\"]\n",
        "    city_text = row[\"history\"]\n",
        "\n",
        "    # Tokenize text\n",
        "    tokens = word_tokenize(city_text)\n",
        "    # Convert to lowercase and remove punctuation\n",
        "    tokens = [word.lower() for word in tokens if word.isalnum()]\n",
        "    # Lemmatize tokens\n",
        "    tokens = [lemmatizer.lemmatize(word) for word in tokens]\n",
        "    # Remove stopwords\n",
        "    tokens = [word for word in tokens if word not in stop_words]\n",
        "    # remove single characters\n",
        "    tokens = [word for word in tokens if len(word) > 1]\n",
        "\n",
        "    content = \" \".join(tokens)\n",
        "    city_history_dict[city] = content\n"
      ],
      "metadata": {
        "colab": {
          "base_uri": "https://localhost:8080/"
        },
        "id": "mX39qYWIqjCa",
        "outputId": "fba00fa0-bf30-4359-a2ad-a62a0121e6e0"
      },
      "execution_count": 73,
      "outputs": [
        {
          "output_type": "stream",
          "name": "stderr",
          "text": [
            "[nltk_data] Downloading package punkt to /root/nltk_data...\n",
            "[nltk_data]   Unzipping tokenizers/punkt.zip.\n",
            "[nltk_data] Downloading package stopwords to /root/nltk_data...\n",
            "[nltk_data]   Unzipping corpora/stopwords.zip.\n",
            "[nltk_data] Downloading package wordnet to /root/nltk_data...\n",
            "[nltk_data] Downloading package punkt_tab to /root/nltk_data...\n",
            "[nltk_data]   Unzipping tokenizers/punkt_tab.zip.\n"
          ]
        }
      ]
    },
    {
      "cell_type": "code",
      "source": [
        "from sklearn.feature_extraction.text import TfidfVectorizer\n",
        "\n",
        "# Calculate TF-IDF for each genre\n",
        "tfidf_vectorizer = TfidfVectorizer(max_df=0.8, min_df=2, stop_words=\"english\")\n",
        "tfidf_matrix = tfidf_vectorizer.fit_transform(city_history_dict.values())\n",
        "feature_names = tfidf_vectorizer.get_feature_names_out()"
      ],
      "metadata": {
        "id": "x39jPEV7qmMe"
      },
      "execution_count": 74,
      "outputs": []
    },
    {
      "cell_type": "code",
      "source": [
        "cities = history_df['node'].to_list()\n",
        "cosine_sim_matrix = cosine_similarity(tfidf_matrix)\n",
        "\n",
        "cosine_similarities_tfidf = pd.DataFrame(cosine_sim_matrix, index=cities, columns=cities)"
      ],
      "metadata": {
        "id": "82HF-sZfqn_v"
      },
      "execution_count": 76,
      "outputs": []
    },
    {
      "cell_type": "code",
      "source": [
        "G_hist = nx.Graph()\n",
        "\n",
        "for city1 in cosine_similarities_tfidf.index:\n",
        "    for city2 in cosine_similarities_tfidf.columns:\n",
        "        if city1 != city2:  # Exclude self-loops\n",
        "            weight = cosine_similarities_tfidf.loc[city1, city2]\n",
        "            if weight > 0:  # Optional: Add a threshold to include only significant weights\n",
        "                G_hist.add_edge(city1, city2, weight=weight)"
      ],
      "metadata": {
        "id": "dxQT-YsEymhi"
      },
      "execution_count": 79,
      "outputs": []
    },
    {
      "cell_type": "code",
      "source": [
        "#Save as pickle\n",
        "import pickle\n",
        "with open('/content/drive/MyDrive/graph_with_history.pickle', 'wb') as f:\n",
        "   pickle.dump(G_hist, f)"
      ],
      "metadata": {
        "id": "-5HaKqp-36oJ"
      },
      "execution_count": 81,
      "outputs": []
    },
    {
      "cell_type": "code",
      "source": [],
      "metadata": {
        "id": "MYWpTzjt4Ubl"
      },
      "execution_count": null,
      "outputs": []
    }
  ]
}